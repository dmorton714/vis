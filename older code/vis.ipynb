{
 "cells": [
  {
   "cell_type": "code",
   "execution_count": 133,
   "metadata": {},
   "outputs": [],
   "source": [
    "import pandas as pd\n",
    "import matplotlib.pyplot as plt\n",
    "import matplotlib.dates as mdates\n",
    "import datetime\n",
    "import csv\n",
    "import numpy as np\n",
    "import seaborn as sns\n",
    "import matplotlib.ticker as ticker"
   ]
  },
  {
   "cell_type": "markdown",
   "metadata": {},
   "source": [
    "key: \n",
    "df0 - 370\n",
    "df1 - 372\n",
    "df2 - 373\n",
    "df3 - 374\n",
    "df4 - 375\n",
    "df5 - 376\n",
    "df99 - All stores "
   ]
  },
  {
   "cell_type": "code",
   "execution_count": 134,
   "metadata": {},
   "outputs": [
    {
     "name": "stderr",
     "output_type": "stream",
     "text": [
      "/opt/anaconda3/lib/python3.9/site-packages/openpyxl/styles/stylesheet.py:226: UserWarning: Workbook contains no default style, apply openpyxl's default\n",
      "  warn(\"Workbook contains no default style, apply openpyxl's default\")\n"
     ]
    }
   ],
   "source": [
    "df0 = pd.read_excel (r'input/370.xlsx',header=[3])\n",
    "df0.drop(columns=['Transaction Type', 'Reference Number', 'Customer Vendor #','Inventory Balance', 'Transaction Date.1','Reference Number.1', 'Created By', 'Created Date', 'Inventory Quantity','Transaction Type.1', 'Created Time', 'Last Changed By', 'Last Changed Date','Receiving PO Number', 'Last Changed Time' ], inplace=True)\n",
    "df0.rename(columns={'Customer/Vendor Name' : 'Customer','Non-Inventory Quantity': 'Qty'}, inplace=True)\n",
    "df0 = df0[df0.Customer != \"TRANSFERS TO #372 J'VILLE\"]\n",
    "df0 = df0[df0.Customer != \"TRANSFERS TO #374 SEYMOUR\"]\n",
    "df0 = df0[df0.Customer != \"TRANSFERS TO #373 E-TOWN\"]\n",
    "df0 = df0[df0.Customer != \"TRANSFERS TO #375 S'VILLE\"]\n",
    "df0 = df0[df0.Customer != \"*** STORE TRANSFERS ***\"]\n",
    "df0 = df0[df0.Customer != \"Beginning Balance\"]\n",
    "df0 = df0[df0.Customer != 'Net Activity']\n",
    "df0 = df0[df0.Customer != 'Ending Balance']\n",
    "df0 = df0[df0.Customer != 'VOID']\n",
    "df0 = df0.dropna(how=\"all\")\n",
    "\n",
    "Gross = df0.Qty * df0.Price\n",
    "df0['Gross'] = Gross.where(df0.Price == 'Qty', other=Gross)\n",
    "\n",
    "Net = df0.Qty * df0.Cost \n",
    "df0['Net'] = Net.where(df0.Cost == 'Qty', other=Net)\n",
    "\n",
    "Net = df0.Gross - df0.Net \n",
    "df0['Net'] = Net.where(df0.Gross == \"Net\", other=Net)"
   ]
  },
  {
   "cell_type": "code",
   "execution_count": 135,
   "metadata": {},
   "outputs": [
    {
     "data": {
      "text/html": [
       "<div>\n",
       "<style scoped>\n",
       "    .dataframe tbody tr th:only-of-type {\n",
       "        vertical-align: middle;\n",
       "    }\n",
       "\n",
       "    .dataframe tbody tr th {\n",
       "        vertical-align: top;\n",
       "    }\n",
       "\n",
       "    .dataframe thead th {\n",
       "        text-align: right;\n",
       "    }\n",
       "</style>\n",
       "<table border=\"1\" class=\"dataframe\">\n",
       "  <thead>\n",
       "    <tr style=\"text-align: right;\">\n",
       "      <th></th>\n",
       "      <th>Transaction Date</th>\n",
       "      <th>Customer</th>\n",
       "      <th>Qty</th>\n",
       "      <th>Price</th>\n",
       "      <th>Cost</th>\n",
       "      <th>Gross</th>\n",
       "      <th>Net</th>\n",
       "    </tr>\n",
       "  </thead>\n",
       "  <tbody>\n",
       "  </tbody>\n",
       "</table>\n",
       "</div>"
      ],
      "text/plain": [
       "Empty DataFrame\n",
       "Columns: [Transaction Date, Customer, Qty, Price, Cost, Gross, Net]\n",
       "Index: []"
      ]
     },
     "execution_count": 135,
     "metadata": {},
     "output_type": "execute_result"
    }
   ],
   "source": [
    "df0.head()"
   ]
  },
  {
   "cell_type": "code",
   "execution_count": 136,
   "metadata": {},
   "outputs": [
    {
     "name": "stdout",
     "output_type": "stream",
     "text": [
      "Total Gross: 0.0\n",
      "Total Net: 0.0\n"
     ]
    },
    {
     "data": {
      "image/png": "[encoded data removed]",
      "text/plain": [
       "<Figure size 432x288 with 1 Axes>"
      ]
     },
     "metadata": {
      "needs_background": "light"
     },
     "output_type": "display_data"
    }
   ],
   "source": [
    "Net_Gross270 = {\n",
    "    'Gross' : df0['Gross'].sum(),\n",
    "    'Net' : df0['Net'].sum()\n",
    "}\n",
    "\n",
    "\n",
    "data = Net_Gross270\n",
    "names = list(data.keys())\n",
    "values = list(data.values())\n",
    "\n",
    "plt.bar(range(len(data)), values, tick_label=names)\n",
    "plt.xticks(range(len(names)), names, rotation='vertical')\n",
    "# plt.show()\n",
    "\n",
    "Total_Gross = df0['Gross'].sum()\n",
    "Total_net = df0['Net'].sum() \n",
    "\n",
    "print('Total Gross:',(Total_Gross))\n",
    "print('Total Net:',(Total_net))"
   ]
  },
  {
   "cell_type": "code",
   "execution_count": 137,
   "metadata": {},
   "outputs": [
    {
     "name": "stderr",
     "output_type": "stream",
     "text": [
      "/opt/anaconda3/lib/python3.9/site-packages/openpyxl/styles/stylesheet.py:226: UserWarning: Workbook contains no default style, apply openpyxl's default\n",
      "  warn(\"Workbook contains no default style, apply openpyxl's default\")\n"
     ]
    },
    {
     "data": {
      "image/png": "[encoded data removed]",
      "text/plain": [
       "<Figure size 432x288 with 1 Axes>"
      ]
     },
     "metadata": {
      "needs_background": "light"
     },
     "output_type": "display_data"
    },
    {
     "name": "stdout",
     "output_type": "stream",
     "text": [
      "Total Gross: 0.0\n",
      "Total Net: 0.0\n"
     ]
    }
   ],
   "source": [
    "df0 = pd.read_excel (r'input/370.xlsx',header=[3])\n",
    "df0.drop(columns=['Transaction Type', 'Reference Number', 'Customer Vendor #','Inventory Balance', 'Transaction Date.1','Reference Number.1', 'Created By', 'Created Date', 'Inventory Quantity','Transaction Type.1', 'Created Time', 'Last Changed By', 'Last Changed Date','Receiving PO Number', 'Last Changed Time' ], inplace=True)\n",
    "df0.rename(columns={'Customer/Vendor Name' : 'Customer','Non-Inventory Quantity': 'Qty', 'Transaction Date' : 'Date'}, inplace=True)\n",
    "df0 = df0[df0.Customer != \"TRANSFERS TO #372 J'VILLE\"]\n",
    "df0 = df0[df0.Customer != \"TRANSFERS TO #374 SEYMOUR\"]\n",
    "df0 = df0[df0.Customer != \"TRANSFERS TO #373 E-TOWN\"]\n",
    "df0 = df0[df0.Customer != \"TRANSFERS TO #375 S'VILLE\"]\n",
    "df0 = df0[df0.Customer != \"*** STORE TRANSFERS ***\"]\n",
    "df0 = df0[df0.Customer != \"Beginning Balance\"]\n",
    "df0 = df0[df0.Customer != 'Net Activity']\n",
    "df0 = df0[df0.Customer != 'Ending Balance']\n",
    "df0 = df0[df0.Customer != 'VOID']\n",
    "df0 = df0[df0.Customer != \"TRANSFERS TO #376 L'VILLE\"]\n",
    "df0 = df0.dropna(how=\"all\")\n",
    "Gross = df0.Qty * df0.Price\n",
    "df0['Gross'] = Gross.where(df0.Price == 'Qty', other=Gross)\n",
    "\n",
    "Net = df0.Qty * df0.Cost \n",
    "df0['Net'] = Net.where(df0.Cost == 'Qty', other=Net)\n",
    "\n",
    "Net = df0.Gross - df0.Net \n",
    "df0['Net'] = Net.where(df0.Gross == \"Net\", other=Net)\n",
    "\n",
    "# Graph for total time span imported\n",
    "\n",
    "Net_Gross270 = {\n",
    "    'Gross' : df0['Gross'].sum(),\n",
    "    'Net' : df0['Net'].sum()\n",
    "}\n",
    "\n",
    "data = Net_Gross270\n",
    "names = list(data.keys())\n",
    "values = list(data.values())\n",
    "\n",
    "plt.title(\"370 Total Net and Gross\")\n",
    "plt.bar(range(len(data)), values, tick_label=names)\n",
    "plt.xticks(range(len(names)), names, rotation='vertical')\n",
    "plt.show()\n",
    "\n",
    "Total_Gross = df0['Gross'].sum()\n",
    "Total_net = df0['Net'].sum() \n",
    "\n",
    "print('Total Gross:',(Total_Gross))\n",
    "print('Total Net:',(Total_net))"
   ]
  },
  {
   "cell_type": "code",
   "execution_count": null,
   "metadata": {},
   "outputs": [],
   "source": [
    "df1['Date'] = pd.to_datetime(df1['Date'])\n",
    "df1['Date'] = df1['Date'].dt.strftime('%Y-%m')\n",
    "\n",
    "# #define how to aggregate various fields\n",
    "agg_functions = {'Date': 'first', 'Gross': 'sum', 'Net': 'sum'}\n",
    "\n",
    "# #create new DataFrame by combining rows with same id values\n",
    "df1 = df1.groupby(df1['Date']).aggregate(agg_functions)\n",
    "print(df1)\n",
    "\n",
    "# df_new.to_csv(r'df5.csv', index=False)"
   ]
  },
  {
   "cell_type": "code",
   "execution_count": 140,
   "metadata": {},
   "outputs": [
    {
     "name": "stdout",
     "output_type": "stream",
     "text": [
      "    Transaction Date Transaction Type  Reference Number  Customer Vendor #  \\\n",
      "0         2022-11-18             INVC      3.760034e+09          9821021.0   \n",
      "1         2022-11-18             INVC      3.760034e+09          9821021.0   \n",
      "2         2022-11-16             INVC      3.760034e+09          9821021.0   \n",
      "3         2022-11-16             INVC      3.760034e+09          2857412.0   \n",
      "4         2022-11-16             INVC      3.760034e+09          2854962.0   \n",
      "..               ...              ...               ...                ...   \n",
      "402       2021-08-10             INVC      3.760011e+09          2857412.0   \n",
      "403              NaT              NaN               NaN                NaN   \n",
      "404              NaT              NaN               NaN                NaN   \n",
      "405              NaT              NaN               NaN                NaN   \n",
      "406              NaT              NaN               NaN                NaN   \n",
      "\n",
      "          Customer/Vendor Name  Receiving PO Number  Inventory Quantity  \\\n",
      "0    TRANSFERS TO #372 J'VILLE                  NaN                 0.0   \n",
      "1    TRANSFERS TO #372 J'VILLE                  NaN                 0.0   \n",
      "2    TRANSFERS TO #372 J'VILLE                  NaN                 0.0   \n",
      "3     PENSKE #5471 - JEFFVILLE                  NaN                 0.0   \n",
      "4    PENSKE #0456 - LOUISVILLE                  NaN                 0.0   \n",
      "..                         ...                  ...                 ...   \n",
      "402   PENSKE #5471 - JEFFVILLE                  NaN                 0.0   \n",
      "403                        NaN                  NaN                 NaN   \n",
      "404          Beginning Balance                  0.0                 NaN   \n",
      "405               Net Activity                  0.0                 NaN   \n",
      "406             Ending Balance                  0.0                 NaN   \n",
      "\n",
      "     Non-Inventory Quantity  Price  Cost  Inventory Balance  \\\n",
      "0                       2.0   50.0  50.0                0.0   \n",
      "1                       1.0   50.0  50.0                0.0   \n",
      "2                       2.0   50.0  50.0                0.0   \n",
      "3                       2.0   75.0  50.0                0.0   \n",
      "4                       3.0   75.0  50.0                0.0   \n",
      "..                      ...    ...   ...                ...   \n",
      "402                     1.0   75.0  50.0                0.0   \n",
      "403                     NaN    NaN   NaN                NaN   \n",
      "404                     NaN    NaN   NaN                NaN   \n",
      "405                     NaN    NaN   NaN                NaN   \n",
      "406                     NaN    NaN   NaN                NaN   \n",
      "\n",
      "    Transaction Date.1 Transaction Type.1  Reference Number.1  Created By  \\\n",
      "0           2022-11-18               INVC        3.760034e+09  U651KAW      \n",
      "1           2022-11-18               INVC        3.760034e+09  U651KAW      \n",
      "2           2022-11-16               INVC        3.760034e+09  U651RLW      \n",
      "3           2022-11-16               INVC        3.760034e+09  U651RLW      \n",
      "4           2022-11-16               INVC        3.760034e+09  U651RLW      \n",
      "..                 ...                ...                 ...         ...   \n",
      "402         2021-08-10               INVC        3.760011e+09  U651RLW      \n",
      "403                NaT                NaN                 NaN         NaN   \n",
      "404                NaT                NaN                 NaN         NaN   \n",
      "405                NaT                NaN                 NaN         NaN   \n",
      "406                NaT                NaN                 NaN         NaN   \n",
      "\n",
      "    Created Date Created Time Last Changed By Last Changed Date  \\\n",
      "0     2022-11-18     07:24:46      U651KAW           2022-11-18   \n",
      "1     2022-11-18     07:23:25      U651KAW           2022-11-18   \n",
      "2     2022-11-16     12:20:34      U651RLW           2022-11-16   \n",
      "3     2022-11-15     07:51:48      U651RLW           2022-11-15   \n",
      "4     2022-11-14     10:25:19      U651RLW           2022-11-14   \n",
      "..           ...          ...             ...               ...   \n",
      "402   2021-08-06     09:35:55      U651RLW           2021-08-06   \n",
      "403          NaT          NaN             NaN               NaT   \n",
      "404          NaT          NaN             NaN               NaT   \n",
      "405          NaT          NaN             NaN               NaT   \n",
      "406          NaT          NaN             NaN               NaT   \n",
      "\n",
      "    Last Changed Time  \n",
      "0            07:24:46  \n",
      "1            07:23:25  \n",
      "2            12:20:34  \n",
      "3            07:51:48  \n",
      "4            10:25:19  \n",
      "..                ...  \n",
      "402          09:36:44  \n",
      "403               NaN  \n",
      "404               NaN  \n",
      "405               NaN  \n",
      "406               NaN  \n",
      "\n",
      "[407 rows x 20 columns]\n"
     ]
    },
    {
     "name": "stderr",
     "output_type": "stream",
     "text": [
      "/opt/anaconda3/lib/python3.9/site-packages/openpyxl/styles/stylesheet.py:226: UserWarning: Workbook contains no default style, apply openpyxl's default\n",
      "  warn(\"Workbook contains no default style, apply openpyxl's default\")\n",
      "/opt/anaconda3/lib/python3.9/site-packages/pandas/core/frame.py:4906: SettingWithCopyWarning: \n",
      "A value is trying to be set on a copy of a slice from a DataFrame\n",
      "\n",
      "See the caveats in the documentation: https://pandas.pydata.org/pandas-docs/stable/user_guide/indexing.html#returning-a-view-versus-a-copy\n",
      "  return super().drop(\n"
     ]
    }
   ],
   "source": [
    "df0 = pd.read_excel (r'input/370.xlsx',header=[3]) \n",
    "df1 = pd.read_excel (r'input/372.xlsx',header=[3]) \n",
    "df2 = pd.read_excel (r'input/373.xlsx',header=[3]) \n",
    "df3 = pd.read_excel (r'input/374.xlsx',header=[3]) \n",
    "df4 = pd.read_excel (r'input/375.xlsx',header=[3]) \n",
    "df5 = pd.read_excel (r'input/376.xlsx',header=[3])  \n",
    "\n",
    "dfs = [df0, df2, df3, df4, df5]\n",
    "\n",
    "# dfs.drop(columns=['Transaction Type', 'Reference Number', 'Customer Vendor #','Inventory Balance', 'Transaction Date.1','Reference Number.1', 'Created By', 'Created Date', 'Inventory Quantity','Transaction Type.1', 'Created Time', 'Last Changed By', 'Last Changed Date','Receiving PO Number', 'Last Changed Time' ], inplace=True)\n",
    "# dfs.rename(columns={'Customer/Vendor Name' : 'Customer','Non-Inventory Quantity': 'Qty', 'Transaction Date' : 'Date'}, inplace=True)\n",
    "# dfs = dfs[df0.Customer != \"TRANSFERS TO #372 J'VILLE\"]\n",
    "# dfs = dfs[df0.Customer != \"TRANSFERS TO #374 SEYMOUR\"]\n",
    "# dfs = dfs[df0.Customer != \"TRANSFERS TO #373 E-TOWN\"]\n",
    "# dfs = dfs[df0.Customer != \"TRANSFERS TO #375 S'VILLE\"]\n",
    "# dfs = dfs[df0.Customer != \"*** STORE TRANSFERS ***\"]\n",
    "# dfs = dfs[df0.Customer != \"Beginning Balance\"]\n",
    "# dfs = dfs[df0.Customer != 'Net Activity']\n",
    "# dfs = dfs[df0.Customer != 'Ending Balance']\n",
    "# dfs = dfs[df0.Customer != 'VOID']\n",
    "# dfs = dfs[df0.Customer != \"TRANSFERS TO #376 L'VILLE\"]\n",
    "# dfs = dfs.dropna(how=\"all\")\n",
    "# Gross = df0.Qty * df0.Price\n",
    "# dfs['Gross'] = Gross.where(dfs.Price == 'Qty', other=Gross)\n",
    "\n",
    "# Net = dfs.Qty * dfs.Cost \n",
    "# dfs['Net'] = Net.where(df0.Cost == 'Qty', other=Net)\n",
    "\n",
    "# Net = dfs.Gross - dfs.Net \n",
    "# dfs['Net'] = Net.where(df0.Gross == \"Net\", other=Net)\n",
    "cut = ['Transaction Type', 'Reference Number', 'Customer Vendor #','Inventory Balance', 'Transaction Date.1','Reference Number.1', 'Created By', 'Created Date', 'Inventory Quantity','Transaction Type.1', 'Created Time', 'Last Changed By', 'Last Changed Date','Receiving PO Number', 'Last Changed Time']\n",
    "\n",
    "for dfs in dfs:\n",
    "    dfs[0:4].drop('Reference Number' , axis= 1, inplace=True)\n",
    "\n",
    "print(df5)\n"
   ]
  }
 ],
 "metadata": {
  "kernelspec": {
   "display_name": "Python 3.9.7 ('base')",
   "language": "python",
   "name": "python3"
  },
  "language_info": {
   "codemirror_mode": {
    "name": "ipython",
    "version": 3
   },
   "file_extension": ".py",
   "mimetype": "text/x-python",
   "name": "python",
   "nbconvert_exporter": "python",
   "pygments_lexer": "ipython3",
   "version": "3.9.7 (default, Sep 16 2021, 08:50:36) \n[Clang 10.0.0 ]"
  },
  "orig_nbformat": 4,
  "vscode": {
   "interpreter": {
    "hash": "40d3a090f54c6569ab1632332b64b2c03c39dcf918b08424e98f38b5ae0af88f"
   }
  }
 },
 "nbformat": 4,
 "nbformat_minor": 2
}
