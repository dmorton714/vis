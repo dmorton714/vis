{
 "cells": [
  {
   "cell_type": "code",
   "execution_count": 2,
   "metadata": {},
   "outputs": [],
   "source": [
    "import pandas as pd\n",
    "import matplotlib.pyplot as plt\n",
    "import matplotlib.dates as mdates\n",
    "import datetime\n",
    "import csv\n",
    "import numpy as np\n",
    "import seaborn as sns\n",
    "import matplotlib.ticker as ticker"
   ]
  },
  {
   "cell_type": "code",
   "execution_count": 3,
   "metadata": {},
   "outputs": [
    {
     "name": "stderr",
     "output_type": "stream",
     "text": [
      "/Users/dannymorton/Desktop/vis/.venv/lib/python3.12/site-packages/openpyxl/styles/stylesheet.py:237: UserWarning: Workbook contains no default style, apply openpyxl's default\n",
      "  warn(\"Workbook contains no default style, apply openpyxl's default\")\n"
     ]
    },
    {
     "data": {
      "text/html": [
       "<div>\n",
       "<style scoped>\n",
       "    .dataframe tbody tr th:only-of-type {\n",
       "        vertical-align: middle;\n",
       "    }\n",
       "\n",
       "    .dataframe tbody tr th {\n",
       "        vertical-align: top;\n",
       "    }\n",
       "\n",
       "    .dataframe thead th {\n",
       "        text-align: right;\n",
       "    }\n",
       "</style>\n",
       "<table border=\"1\" class=\"dataframe\">\n",
       "  <thead>\n",
       "    <tr style=\"text-align: right;\">\n",
       "      <th></th>\n",
       "      <th>Transaction Date</th>\n",
       "      <th>Transaction Type</th>\n",
       "      <th>Reference Number</th>\n",
       "      <th>Customer Vendor #</th>\n",
       "      <th>Customer/Vendor Name</th>\n",
       "      <th>Receiving PO Number</th>\n",
       "      <th>Inventory Quantity</th>\n",
       "      <th>Non-Inventory Quantity</th>\n",
       "      <th>Price</th>\n",
       "      <th>Cost</th>\n",
       "      <th>Inventory Balance</th>\n",
       "      <th>Transaction Date.1</th>\n",
       "      <th>Transaction Type.1</th>\n",
       "      <th>Reference Number.1</th>\n",
       "      <th>Created By</th>\n",
       "      <th>Created Date</th>\n",
       "      <th>Created Time</th>\n",
       "      <th>Last Changed By</th>\n",
       "      <th>Last Changed Date</th>\n",
       "      <th>Last Changed Time</th>\n",
       "    </tr>\n",
       "  </thead>\n",
       "  <tbody>\n",
       "    <tr>\n",
       "      <th>0</th>\n",
       "      <td>2023-05-08</td>\n",
       "      <td>INVC</td>\n",
       "      <td>3.760041e+09</td>\n",
       "      <td>2852610.0</td>\n",
       "      <td>GEORGE E. FERN COMPANY</td>\n",
       "      <td>NaN</td>\n",
       "      <td>0.0</td>\n",
       "      <td>1.0</td>\n",
       "      <td>45.0</td>\n",
       "      <td>37.5</td>\n",
       "      <td>0.0</td>\n",
       "      <td>2023-05-08</td>\n",
       "      <td>INVC</td>\n",
       "      <td>3.760041e+09</td>\n",
       "      <td>U651RLW</td>\n",
       "      <td>2023-05-08</td>\n",
       "      <td>14:59:54</td>\n",
       "      <td>U651RLW</td>\n",
       "      <td>2023-05-08</td>\n",
       "      <td>14:59:54</td>\n",
       "    </tr>\n",
       "    <tr>\n",
       "      <th>1</th>\n",
       "      <td>2023-05-08</td>\n",
       "      <td>INVC</td>\n",
       "      <td>3.760041e+09</td>\n",
       "      <td>2851944.0</td>\n",
       "      <td>DAVIS H. ELLIOT CO., INC.</td>\n",
       "      <td>NaN</td>\n",
       "      <td>0.0</td>\n",
       "      <td>4.0</td>\n",
       "      <td>45.0</td>\n",
       "      <td>37.5</td>\n",
       "      <td>0.0</td>\n",
       "      <td>2023-05-08</td>\n",
       "      <td>INVC</td>\n",
       "      <td>3.760041e+09</td>\n",
       "      <td>U651KAW</td>\n",
       "      <td>2023-05-08</td>\n",
       "      <td>13:56:48</td>\n",
       "      <td>U651KAW</td>\n",
       "      <td>2023-05-08</td>\n",
       "      <td>13:56:48</td>\n",
       "    </tr>\n",
       "    <tr>\n",
       "      <th>2</th>\n",
       "      <td>2023-05-08</td>\n",
       "      <td>INVC</td>\n",
       "      <td>3.760041e+09</td>\n",
       "      <td>2851944.0</td>\n",
       "      <td>DAVIS H. ELLIOT CO., INC.</td>\n",
       "      <td>NaN</td>\n",
       "      <td>0.0</td>\n",
       "      <td>2.0</td>\n",
       "      <td>45.0</td>\n",
       "      <td>37.5</td>\n",
       "      <td>0.0</td>\n",
       "      <td>2023-05-08</td>\n",
       "      <td>INVC</td>\n",
       "      <td>3.760041e+09</td>\n",
       "      <td>U651KAW</td>\n",
       "      <td>2023-05-08</td>\n",
       "      <td>13:56:48</td>\n",
       "      <td>U651KAW</td>\n",
       "      <td>2023-05-08</td>\n",
       "      <td>13:56:48</td>\n",
       "    </tr>\n",
       "    <tr>\n",
       "      <th>3</th>\n",
       "      <td>2023-05-08</td>\n",
       "      <td>INVC</td>\n",
       "      <td>3.760041e+09</td>\n",
       "      <td>2851944.0</td>\n",
       "      <td>DAVIS H. ELLIOT CO., INC.</td>\n",
       "      <td>NaN</td>\n",
       "      <td>0.0</td>\n",
       "      <td>0.0</td>\n",
       "      <td>45.0</td>\n",
       "      <td>37.5</td>\n",
       "      <td>0.0</td>\n",
       "      <td>2023-05-08</td>\n",
       "      <td>INVC</td>\n",
       "      <td>3.760041e+09</td>\n",
       "      <td>U651KAW</td>\n",
       "      <td>2023-05-08</td>\n",
       "      <td>13:54:43</td>\n",
       "      <td>U651KAW</td>\n",
       "      <td>2023-05-08</td>\n",
       "      <td>13:56:48</td>\n",
       "    </tr>\n",
       "    <tr>\n",
       "      <th>4</th>\n",
       "      <td>2023-05-08</td>\n",
       "      <td>INVC</td>\n",
       "      <td>3.760041e+09</td>\n",
       "      <td>2857787.0</td>\n",
       "      <td>COBB TRUCKING</td>\n",
       "      <td>NaN</td>\n",
       "      <td>0.0</td>\n",
       "      <td>1.5</td>\n",
       "      <td>45.0</td>\n",
       "      <td>37.5</td>\n",
       "      <td>0.0</td>\n",
       "      <td>2023-05-08</td>\n",
       "      <td>INVC</td>\n",
       "      <td>3.760041e+09</td>\n",
       "      <td>U651KAW</td>\n",
       "      <td>2023-05-08</td>\n",
       "      <td>13:46:58</td>\n",
       "      <td>U651KAW</td>\n",
       "      <td>2023-05-08</td>\n",
       "      <td>13:46:58</td>\n",
       "    </tr>\n",
       "  </tbody>\n",
       "</table>\n",
       "</div>"
      ],
      "text/plain": [
       "  Transaction Date Transaction Type  Reference Number  Customer Vendor #  \\\n",
       "0       2023-05-08             INVC      3.760041e+09          2852610.0   \n",
       "1       2023-05-08             INVC      3.760041e+09          2851944.0   \n",
       "2       2023-05-08             INVC      3.760041e+09          2851944.0   \n",
       "3       2023-05-08             INVC      3.760041e+09          2851944.0   \n",
       "4       2023-05-08             INVC      3.760041e+09          2857787.0   \n",
       "\n",
       "        Customer/Vendor Name  Receiving PO Number  Inventory Quantity  \\\n",
       "0     GEORGE E. FERN COMPANY                  NaN                 0.0   \n",
       "1  DAVIS H. ELLIOT CO., INC.                  NaN                 0.0   \n",
       "2  DAVIS H. ELLIOT CO., INC.                  NaN                 0.0   \n",
       "3  DAVIS H. ELLIOT CO., INC.                  NaN                 0.0   \n",
       "4              COBB TRUCKING                  NaN                 0.0   \n",
       "\n",
       "   Non-Inventory Quantity  Price  Cost  Inventory Balance Transaction Date.1  \\\n",
       "0                     1.0   45.0  37.5                0.0         2023-05-08   \n",
       "1                     4.0   45.0  37.5                0.0         2023-05-08   \n",
       "2                     2.0   45.0  37.5                0.0         2023-05-08   \n",
       "3                     0.0   45.0  37.5                0.0         2023-05-08   \n",
       "4                     1.5   45.0  37.5                0.0         2023-05-08   \n",
       "\n",
       "  Transaction Type.1  Reference Number.1  Created By Created Date  \\\n",
       "0               INVC        3.760041e+09  U651RLW      2023-05-08   \n",
       "1               INVC        3.760041e+09  U651KAW      2023-05-08   \n",
       "2               INVC        3.760041e+09  U651KAW      2023-05-08   \n",
       "3               INVC        3.760041e+09  U651KAW      2023-05-08   \n",
       "4               INVC        3.760041e+09  U651KAW      2023-05-08   \n",
       "\n",
       "  Created Time Last Changed By Last Changed Date Last Changed Time  \n",
       "0     14:59:54      U651RLW           2023-05-08          14:59:54  \n",
       "1     13:56:48      U651KAW           2023-05-08          13:56:48  \n",
       "2     13:56:48      U651KAW           2023-05-08          13:56:48  \n",
       "3     13:54:43      U651KAW           2023-05-08          13:56:48  \n",
       "4     13:46:58      U651KAW           2023-05-08          13:46:58  "
      ]
     },
     "execution_count": 3,
     "metadata": {},
     "output_type": "execute_result"
    }
   ],
   "source": [
    "df = pd.read_excel (r'input/376.xlsx',header=[3])\n",
    "df.head()"
   ]
  },
  {
   "cell_type": "code",
   "execution_count": 5,
   "metadata": {},
   "outputs": [
    {
     "data": {
      "text/plain": [
       "['Transaction Date',\n",
       " 'Transaction Type',\n",
       " 'Reference Number',\n",
       " 'Customer Vendor #',\n",
       " 'Customer/Vendor Name',\n",
       " 'Receiving PO Number',\n",
       " 'Inventory Quantity',\n",
       " 'Non-Inventory Quantity',\n",
       " 'Price',\n",
       " 'Cost',\n",
       " 'Inventory Balance',\n",
       " 'Transaction Date.1',\n",
       " 'Transaction Type.1',\n",
       " 'Reference Number.1',\n",
       " 'Created By',\n",
       " 'Created Date',\n",
       " 'Created Time',\n",
       " 'Last Changed By',\n",
       " 'Last Changed Date',\n",
       " 'Last Changed Time']"
      ]
     },
     "execution_count": 5,
     "metadata": {},
     "output_type": "execute_result"
    }
   ],
   "source": [
    "df.columns.to_list()"
   ]
  },
  {
   "attachments": {},
   "cell_type": "markdown",
   "metadata": {},
   "source": [
    "Defined function to clean all the imported data "
   ]
  },
  {
   "cell_type": "code",
   "execution_count": 390,
   "metadata": {},
   "outputs": [],
   "source": [
    "def process_data(df):\n",
    "    df.drop(columns=['Transaction Type', 'Reference Number', 'Customer Vendor #','Inventory Balance', 'Transaction Date.1','Reference Number.1', 'Created By', 'Created Date', 'Inventory Quantity','Transaction Type.1', 'Created Time', 'Last Changed By', 'Last Changed Date','Receiving PO Number', 'Last Changed Time' ], inplace=True)\n",
    "    df.rename(columns={'Customer/Vendor Name' : 'Customer','Non-Inventory Quantity': 'Qty', 'Transaction Date' : 'Date'}, inplace=True)\n",
    "    df = df[df.Customer != \"TRANSFERS TO #372 J'VILLE\"]\n",
    "    df = df[df.Customer != \"TRANSFERS TO #374 SEYMOUR\"]\n",
    "    df = df[df.Customer != \"TRANSFERS TO #373 E-TOWN\"]\n",
    "    df = df[df.Customer != \"TRANSFERS TO #375 S'VILLE\"]\n",
    "    df = df[df.Customer != \"*** STORE TRANSFERS ***\"]\n",
    "    df = df[df.Customer != \"Beginning Balance\"]\n",
    "    df = df[df.Customer != 'Net Activity']\n",
    "    df = df[df.Customer != 'Ending Balance']\n",
    "    df = df[df.Customer != 'VOID']\n",
    "    df = df[df.Customer != \"TRANSFERS TO #376 L'VILLE\"]\n",
    "    df = df.dropna(how=\"all\")\n",
    "    Gross = df.Qty * df.Price\n",
    "    df['Gross'] = Gross.where(df.Price == 'Qty', other=Gross)\n",
    "    Net = df.Qty * df.Cost \n",
    "    df['Net'] = Net.where(df.Cost == 'Qty', other=Net)\n",
    "    Net = df.Gross - df.Net \n",
    "    df['Net'] = Net.where(df.Gross == \"Net\", other=Net)\n",
    "    return df\n"
   ]
  },
  {
   "attachments": {},
   "cell_type": "markdown",
   "metadata": {},
   "source": [
    "Running the process_data function to clean the raw store data."
   ]
  },
  {
   "cell_type": "code",
   "execution_count": 391,
   "metadata": {},
   "outputs": [
    {
     "name": "stderr",
     "output_type": "stream",
     "text": [
      "/home/dannymorton714/.local/lib/python3.9/site-packages/openpyxl/styles/stylesheet.py:226: UserWarning: Workbook contains no default style, apply openpyxl's default\n",
      "  warn(\"Workbook contains no default style, apply openpyxl's default\")\n",
      "/home/dannymorton714/.local/lib/python3.9/site-packages/openpyxl/styles/stylesheet.py:226: UserWarning: Workbook contains no default style, apply openpyxl's default\n",
      "  warn(\"Workbook contains no default style, apply openpyxl's default\")\n",
      "/home/dannymorton714/.local/lib/python3.9/site-packages/openpyxl/styles/stylesheet.py:226: UserWarning: Workbook contains no default style, apply openpyxl's default\n",
      "  warn(\"Workbook contains no default style, apply openpyxl's default\")\n",
      "/home/dannymorton714/.local/lib/python3.9/site-packages/openpyxl/styles/stylesheet.py:226: UserWarning: Workbook contains no default style, apply openpyxl's default\n",
      "  warn(\"Workbook contains no default style, apply openpyxl's default\")\n",
      "/home/dannymorton714/.local/lib/python3.9/site-packages/openpyxl/styles/stylesheet.py:226: UserWarning: Workbook contains no default style, apply openpyxl's default\n",
      "  warn(\"Workbook contains no default style, apply openpyxl's default\")\n",
      "/home/dannymorton714/.local/lib/python3.9/site-packages/openpyxl/styles/stylesheet.py:226: UserWarning: Workbook contains no default style, apply openpyxl's default\n",
      "  warn(\"Workbook contains no default style, apply openpyxl's default\")\n"
     ]
    }
   ],
   "source": [
    "df0 = pd.read_excel (r'input/370.xlsx',header=[3])\n",
    "df0 = process_data(df0)\n",
    "\n",
    "df1 = pd.read_excel (r'input/372.xlsx',header=[3])\n",
    "df1 = process_data(df1)\n",
    "\n",
    "df2 = pd.read_excel (r'input/373.xlsx',header=[3])\n",
    "df2 = process_data(df2)\n",
    "\n",
    "df3 = pd.read_excel (r'input/374.xlsx',header=[3])\n",
    "df3 = process_data(df3)\n",
    "\n",
    "df4 = pd.read_excel (r'input/375.xlsx',header=[3])\n",
    "df4 = process_data(df4)\n",
    "\n",
    "df5 = pd.read_excel (r'input/376.xlsx',header=[3])\n",
    "df5 = process_data(df5)"
   ]
  },
  {
   "attachments": {},
   "cell_type": "markdown",
   "metadata": {},
   "source": [
    "This is a set of dictionaries of gross and net profits per store. This will be used in the graphing portions below.  "
   ]
  },
  {
   "cell_type": "code",
   "execution_count": 392,
   "metadata": {},
   "outputs": [],
   "source": [
    "Net_Gross270 = {\n",
    "    'Gross' : df0['Gross'].sum(),\n",
    "    'Net' : df0['Net'].sum()\n",
    "}\n",
    "\n",
    "Net_Gross272 = {\n",
    "    'Gross' : df1['Gross'].sum(),\n",
    "    'Net' : df1['Net'].sum()\n",
    "}\n",
    "Net_Gross273 = {\n",
    "    'Gross' : df2['Gross'].sum(),\n",
    "    'Net' : df2['Net'].sum()\n",
    "}\n",
    "\n",
    "Net_Gross274 = {\n",
    "    'Gross' : df3['Gross'].sum(),\n",
    "    'Net' : df3['Net'].sum()\n",
    "}\n",
    "\n",
    "Net_Gross275 = {\n",
    "    'Gross' : df4['Gross'].sum(),\n",
    "    'Net' : df4['Net'].sum()\n",
    "}\n",
    "\n",
    "Net_Gross276 = {\n",
    "    'Gross' : df5['Gross'].sum(),\n",
    "    'Net' : df5['Net'].sum()\n",
    "}\n"
   ]
  },
  {
   "attachments": {},
   "cell_type": "markdown",
   "metadata": {},
   "source": [
    "Defined function to do qty count to determine top customers by line items. "
   ]
  },
  {
   "cell_type": "code",
   "execution_count": 393,
   "metadata": {},
   "outputs": [],
   "source": [
    "def top_customers(df):\n",
    "    agg_functions = {'Customer': 'first', 'Qty': 'sum'}\n",
    "    df_customer = df.groupby(df['Customer']).aggregate(agg_functions)\n",
    "    df_customer = df_customer.sort_values(['Qty'],ascending=False)\n",
    "    df_customer = pd.DataFrame(df_customer)\n",
    "    return df_customer"
   ]
  },
  {
   "attachments": {},
   "cell_type": "markdown",
   "metadata": {},
   "source": [
    "This runs the top_customers function and saves a CSV to the output folder."
   ]
  },
  {
   "cell_type": "code",
   "execution_count": 394,
   "metadata": {},
   "outputs": [],
   "source": [
    "df0_customer = df0\n",
    "df0_customer = top_customers(df0)\n",
    "# print(df0_customer)\n",
    "df0_customer.to_csv(r'output/customer_by_qty/370_customers_qty.csv', index=False)\n",
    "# df0_customer.plot.bar()\n",
    "\n",
    "df1_customer = df1\n",
    "df1_customer = top_customers(df1)\n",
    "# print(df1_customer)\n",
    "df1_customer.to_csv(r'output/customer_by_qty/372_customers_qty.csv', index=False)\n",
    "\n",
    "\n",
    "df2_customer = df2\n",
    "df2_customer = top_customers(df2)\n",
    "# df2_customer \n",
    "df2_customer.to_csv(r'output/customer_by_qty/373_customers_qty.csv', index=False)\n",
    "\n",
    "\n",
    "df3_customer = df3\n",
    "df3_customer = top_customers(df3)\n",
    "# df3_customer\n",
    "df3_customer.to_csv(r'output/customer_by_qty/374_customers_qty.csv', index=False)\n",
    "\n",
    "df4_customer = df4\n",
    "df4_customer = top_customers(df4)\n",
    "# df4_customer\n",
    "df4_customer.to_csv(r'output/customer_by_qty/375_customers_qty.csv', index=False)\n",
    "\n",
    "df5_customer = df5\n",
    "df5_customer = top_customers(df5)\n",
    "# df5_customer\n",
    "df5_customer.to_csv(r'output/customer_by_qty/376_customers_qty.csv', index=False)\n"
   ]
  },
  {
   "attachments": {},
   "cell_type": "markdown",
   "metadata": {},
   "source": [
    "Function to calculate sales by month. This converts the dates to a datetime format then aggrigates and groups the data for graphing."
   ]
  },
  {
   "cell_type": "code",
   "execution_count": 395,
   "metadata": {},
   "outputs": [],
   "source": [
    "def graph(df):\n",
    "    df['Date'] = pd.to_datetime(df['Date'])\n",
    "    df['Date'] = df['Date'].dt.strftime('%Y-%m')\n",
    "    # #define how to aggregate various fields\n",
    "    agg_functions = {'Date': 'first', 'Gross': 'sum', 'Net': 'sum'}\n",
    "    # #create new DataFrame by combining rows with same id values\n",
    "    df = df.groupby(df['Date']).aggregate(agg_functions)\n",
    "    return df"
   ]
  },
  {
   "attachments": {},
   "cell_type": "markdown",
   "metadata": {},
   "source": [
    "This runs the graph function to ready the data for graphing below. "
   ]
  },
  {
   "cell_type": "code",
   "execution_count": 396,
   "metadata": {},
   "outputs": [],
   "source": [
    "dfg0 = graph(df0)\n",
    "# dfg0.plot.bar()\n",
    "\n",
    "dfg1 = graph(df1)\n",
    "# dfg1.plot.bar()\n",
    "\n",
    "dfg2 = graph(df2)\n",
    "# dfg2.plot.bar()\n",
    "\n",
    "dfg3 = graph(df3)\n",
    "# dfg3.plot.bar()\n",
    "\n",
    "dfg4 = graph(df4)\n",
    "# dfg4.plot.bar()\n",
    "\n",
    "dfg5 = graph(df5)\n",
    "# dfg5.plot.bar()\n"
   ]
  },
  {
   "cell_type": "code",
   "execution_count": 397,
   "metadata": {},
   "outputs": [],
   "source": [
    "# def cust_visits(df):\n",
    "#     # df = df.drop(columns=['Date', 'Price', 'Cost', 'Gross', 'Net'], inplace=True)\n",
    "#     by_cust =(df['Customer']).value_counts().sort_index()\n",
    "#     df_cust = df.drop(columns=['Date', 'Price', 'Cost', 'Gross', 'Net'], inplace=True)\n",
    "#     df_cust = by_cust.rename_axis('Customer').reset_index(name='counts')\n",
    "#     df_cust.sort_values(by=['Customer'], ascending=False, inplace=True)\n",
    "#     df_cust = df0_customer.reset_index(drop=True)\n",
    "#     df_cust =  pd.DataFrame(df_cust)\n",
    "#     return df "
   ]
  },
  {
   "cell_type": "code",
   "execution_count": 398,
   "metadata": {},
   "outputs": [],
   "source": [
    "# df0_cust = cust_visits(df0)\n",
    "# print(df0_cust)\n",
    "# df0_cust.info()"
   ]
  },
  {
   "attachments": {},
   "cell_type": "markdown",
   "metadata": {},
   "source": [
    "This needs to be made into a defined function. It calculates the number of invoices percustomer in the datas time span. \n",
    "Visits per customer in the data range. "
   ]
  },
  {
   "cell_type": "code",
   "execution_count": 399,
   "metadata": {},
   "outputs": [
    {
     "data": {
      "text/html": [
       "<div>\n",
       "<style scoped>\n",
       "    .dataframe tbody tr th:only-of-type {\n",
       "        vertical-align: middle;\n",
       "    }\n",
       "\n",
       "    .dataframe tbody tr th {\n",
       "        vertical-align: top;\n",
       "    }\n",
       "\n",
       "    .dataframe thead th {\n",
       "        text-align: right;\n",
       "    }\n",
       "</style>\n",
       "<table border=\"1\" class=\"dataframe\">\n",
       "  <thead>\n",
       "    <tr style=\"text-align: right;\">\n",
       "      <th></th>\n",
       "      <th>Customer</th>\n",
       "      <th>counts</th>\n",
       "    </tr>\n",
       "  </thead>\n",
       "  <tbody>\n",
       "    <tr>\n",
       "      <th>0</th>\n",
       "      <td>ROGERS GROUP (KY)</td>\n",
       "      <td>4</td>\n",
       "    </tr>\n",
       "    <tr>\n",
       "      <th>1</th>\n",
       "      <td>HILLTOP BIG BEND QUARRY</td>\n",
       "      <td>1</td>\n",
       "    </tr>\n",
       "    <tr>\n",
       "      <th>2</th>\n",
       "      <td>LEHIGH HANSON-CEMENT</td>\n",
       "      <td>1</td>\n",
       "    </tr>\n",
       "    <tr>\n",
       "      <th>3</th>\n",
       "      <td>MILLERS AUTO BODY</td>\n",
       "      <td>1</td>\n",
       "    </tr>\n",
       "    <tr>\n",
       "      <th>4</th>\n",
       "      <td>RIVER METALS REC - NEWPOR</td>\n",
       "      <td>1</td>\n",
       "    </tr>\n",
       "    <tr>\n",
       "      <th>5</th>\n",
       "      <td>RIVER METALS REC LOU STL</td>\n",
       "      <td>1</td>\n",
       "    </tr>\n",
       "    <tr>\n",
       "      <th>6</th>\n",
       "      <td>SOUTHERN INDIANA SCALE CO</td>\n",
       "      <td>1</td>\n",
       "    </tr>\n",
       "  </tbody>\n",
       "</table>\n",
       "</div>"
      ],
      "text/plain": [
       "                    Customer  counts\n",
       "0          ROGERS GROUP (KY)       4\n",
       "1    HILLTOP BIG BEND QUARRY       1\n",
       "2       LEHIGH HANSON-CEMENT       1\n",
       "3          MILLERS AUTO BODY       1\n",
       "4  RIVER METALS REC - NEWPOR       1\n",
       "5   RIVER METALS REC LOU STL       1\n",
       "6  SOUTHERN INDIANA SCALE CO       1"
      ]
     },
     "execution_count": 399,
     "metadata": {},
     "output_type": "execute_result"
    }
   ],
   "source": [
    "by_cust =(df0['Customer']).value_counts().sort_index()\n",
    "df0_customer = by_cust.rename_axis('Customer').reset_index(name='counts')\n",
    "df0_customer.sort_values(by=['counts'], ascending=False, inplace=True)\n",
    "df0_customer = df0_customer.reset_index(drop=True)\n",
    "df0_customer =  pd.DataFrame(df0_customer)\n",
    "df0_customer\n",
    "# df0_customer.to_csv(r'output/customer_visits/370_customers.csv', index=False)"
   ]
  },
  {
   "cell_type": "code",
   "execution_count": 400,
   "metadata": {},
   "outputs": [
    {
     "data": {
      "image/png": "[encoded data removed]",
      "text/plain": [
       "<Figure size 640x480 with 1 Axes>"
      ]
     },
     "metadata": {},
     "output_type": "display_data"
    }
   ],
   "source": [
    "# x-coordinates of left sides of bars \n",
    "left = dfg0['Date']\n",
    "  \n",
    "# heights of bars\n",
    "Gross = dfg0['Gross']\n",
    "Net = dfg0['Net']\n",
    "  \n",
    "# labels for bars\n",
    "tick_label = dfg0['Date']\n",
    "  \n",
    "# plotting a bar chart\n",
    "plt.bar(left, Gross, tick_label = tick_label, width = 0.8, color = ['blue'], label = 'Gross')\n",
    "plt.bar(left, Net, tick_label = tick_label, width = 0.8, color = ['green'], label = 'Net' )\n",
    "plt.xticks(rotation='vertical')\n",
    "  \n",
    "# naming the x-axis\n",
    "plt.xlabel('Month')\n",
    "# naming the y-axis\n",
    "plt.ylabel('Profit')\n",
    "# plot title\n",
    "plt.title('370 Net and Gross Profit')\n",
    "plt.legend(loc=\"best\")\n",
    "# function to show the plot\n",
    "plt.savefig('output/370_gnp.jpg', dpi=100, bbox_inches = 'tight')\n",
    "# plt.show()"
   ]
  },
  {
   "cell_type": "markdown",
   "metadata": {},
   "source": [
    "Store 372 Import and Clean "
   ]
  },
  {
   "cell_type": "code",
   "execution_count": 401,
   "metadata": {},
   "outputs": [],
   "source": [
    "by_cust =(df1['Customer']).value_counts().sort_index()\n",
    "df1_customer = by_cust.rename_axis('Customer').reset_index(name='counts')\n",
    "df1_customer.sort_values(by=['counts'], ascending=False, inplace=True)\n",
    "df1_customer = df1_customer.reset_index(drop=True)\n",
    "df1_customer\n",
    "df1_customer.to_csv(r'output/customer_visits/372_customers.csv', index=False)"
   ]
  },
  {
   "cell_type": "code",
   "execution_count": 402,
   "metadata": {},
   "outputs": [
    {
     "data": {
      "image/png": "[encoded data removed]",
      "text/plain": [
       "<Figure size 640x480 with 1 Axes>"
      ]
     },
     "metadata": {},
     "output_type": "display_data"
    }
   ],
   "source": [
    "# x-coordinates of left sides of bars \n",
    "left = dfg1['Date']\n",
    "  \n",
    "# heights of bars\n",
    "Gross = dfg1['Gross']\n",
    "Net = dfg1['Net']\n",
    "  \n",
    "# labels for bars\n",
    "tick_label = dfg1['Date']\n",
    "  \n",
    "# plotting a bar chart\n",
    "plt.bar(left, Gross, tick_label = tick_label, width = 0.8, color = ['blue'], label = 'Gross')\n",
    "plt.bar(left, Net, tick_label = tick_label, width = 0.8, color = ['green'], label = 'Net' )\n",
    "plt.xticks(rotation='vertical')\n",
    "  \n",
    "# naming the x-axis\n",
    "plt.xlabel('Month')\n",
    "# naming the y-axis\n",
    "plt.ylabel('Profit')\n",
    "# plot title\n",
    "plt.title('372 Net and Gross Profit')\n",
    "plt.legend(loc=\"best\")\n",
    "# function to show the plot\n",
    "plt.savefig('output/372_gnp.jpg', dpi=100, bbox_inches = 'tight')\n",
    "# plt.show()"
   ]
  },
  {
   "cell_type": "markdown",
   "metadata": {},
   "source": [
    "Store 373 Import and Clean "
   ]
  },
  {
   "cell_type": "code",
   "execution_count": 403,
   "metadata": {},
   "outputs": [],
   "source": [
    "by_cust =(df2['Customer']).value_counts().sort_index()\n",
    "df2_customer = by_cust.rename_axis('Customer').reset_index(name='counts')\n",
    "df2_customer.sort_values(by=['counts'], ascending=False, inplace=True)\n",
    "df2_customer = df2_customer.reset_index(drop=True)\n",
    "df2_customer\n",
    "df2_customer.to_csv(r'output/customer_visits/373_customers.csv', index=False)"
   ]
  },
  {
   "cell_type": "code",
   "execution_count": 404,
   "metadata": {},
   "outputs": [
    {
     "data": {
      "image/png": "[encoded data removed]",
      "text/plain": [
       "<Figure size 640x480 with 1 Axes>"
      ]
     },
     "metadata": {},
     "output_type": "display_data"
    }
   ],
   "source": [
    "# x-coordinates of left sides of bars \n",
    "left = dfg2['Date']\n",
    "  \n",
    "# heights of bars\n",
    "Gross = dfg2['Gross']\n",
    "Net = dfg2['Net']\n",
    "  \n",
    "# labels for bars\n",
    "tick_label = dfg2['Date']\n",
    "  \n",
    "# plotting a bar chart\n",
    "plt.bar(left, Gross, tick_label = tick_label, width = 0.8, color = ['blue'], label = 'Gross')\n",
    "plt.bar(left, Net, tick_label = tick_label, width = 0.8, color = ['green'], label = 'Net' )\n",
    "plt.xticks(rotation='vertical')\n",
    "  \n",
    "# naming the x-axis\n",
    "plt.xlabel('Month')\n",
    "# naming the y-axis\n",
    "plt.ylabel('Profit')\n",
    "# plot title\n",
    "plt.title('373 Net and Gross Profit')\n",
    "plt.legend(loc=\"best\")\n",
    "# function to show the plot\n",
    "plt.savefig('output/373_gnp.jpg', dpi=100, bbox_inches = 'tight')\n",
    "# plt.show()"
   ]
  },
  {
   "cell_type": "markdown",
   "metadata": {},
   "source": [
    "Store 374 Import and Clean "
   ]
  },
  {
   "cell_type": "code",
   "execution_count": 405,
   "metadata": {},
   "outputs": [],
   "source": [
    "by_cust =(df3['Customer']).value_counts().sort_index()\n",
    "df3_customer = by_cust.rename_axis('Customer').reset_index(name='counts')\n",
    "df3_customer.sort_values(by=['counts'], ascending=False, inplace=True)\n",
    "df3_customer = df3_customer.reset_index(drop=True)\n",
    "df3_customer\n",
    "df3_customer.to_csv(r'output/customer_visits/374_customers.csv', index=False)"
   ]
  },
  {
   "cell_type": "code",
   "execution_count": 406,
   "metadata": {},
   "outputs": [
    {
     "data": {
      "image/png": "[encoded data removed]",
      "text/plain": [
       "<Figure size 640x480 with 1 Axes>"
      ]
     },
     "metadata": {},
     "output_type": "display_data"
    }
   ],
   "source": [
    "# x-coordinates of left sides of bars \n",
    "left = dfg3['Date']\n",
    "  \n",
    "# heights of bars\n",
    "Gross = dfg3['Gross']\n",
    "Net = dfg3['Net']\n",
    "  \n",
    "# labels for bars\n",
    "tick_label = dfg3['Date']\n",
    "  \n",
    "# plotting a bar chart\n",
    "plt.bar(left, Gross, tick_label = tick_label, width = 0.8, color = ['blue'], label = 'Gross')\n",
    "plt.bar(left, Net, tick_label = tick_label, width = 0.8, color = ['green'], label = 'Net' )\n",
    "plt.xticks(rotation='vertical')\n",
    "  \n",
    "# naming the x-axis\n",
    "plt.xlabel('Month')\n",
    "# naming the y-axis\n",
    "plt.ylabel('Profit')\n",
    "# plot title\n",
    "plt.title('374 Net and Gross Profit')\n",
    "plt.legend(loc=\"best\")\n",
    "# function to show the plot\n",
    "plt.savefig('output/374_gnp.jpg', dpi=100, bbox_inches = 'tight')\n",
    "# plt.show()"
   ]
  },
  {
   "cell_type": "markdown",
   "metadata": {},
   "source": [
    "Store 375 Import and Clean "
   ]
  },
  {
   "cell_type": "code",
   "execution_count": 407,
   "metadata": {},
   "outputs": [],
   "source": [
    "by_cust =(df4['Customer']).value_counts().sort_index()\n",
    "df4_customer = by_cust.rename_axis('Customer').reset_index(name='counts')\n",
    "df4_customer.sort_values(by=['counts'], ascending=False, inplace=True)\n",
    "df4_customer = df4_customer.reset_index(drop=True)\n",
    "df4_customer\n",
    "df4_customer.to_csv(r'output/customer_visits/375_customers.csv', index=False)\n"
   ]
  },
  {
   "cell_type": "code",
   "execution_count": 408,
   "metadata": {},
   "outputs": [
    {
     "data": {
      "image/png": "[encoded data removed]",
      "text/plain": [
       "<Figure size 640x480 with 1 Axes>"
      ]
     },
     "metadata": {},
     "output_type": "display_data"
    }
   ],
   "source": [
    "# x-coordinates of left sides of bars \n",
    "left = dfg4['Date']\n",
    "  \n",
    "# heights of bars\n",
    "Gross = dfg4['Gross']\n",
    "Net = dfg4['Net']\n",
    "  \n",
    "# labels for bars\n",
    "tick_label = dfg4['Date']\n",
    "  \n",
    "# plotting a bar chart\n",
    "plt.bar(left, Gross, tick_label = tick_label, width = 0.8, color = ['blue'], label = 'Gross')\n",
    "plt.bar(left, Net, tick_label = tick_label, width = 0.8, color = ['green'], label = 'Net' )\n",
    "plt.xticks(rotation='vertical')\n",
    "  \n",
    "# naming the x-axis\n",
    "plt.xlabel('Month')\n",
    "# naming the y-axis\n",
    "plt.ylabel('Profit')\n",
    "# plot title\n",
    "plt.title('375 Net and Gross Profit')\n",
    "plt.legend(loc=\"best\")\n",
    "# function to show the plot\n",
    "plt.savefig('output/375_gnp.jpg', dpi=100, bbox_inches = 'tight')\n",
    "# plt.show()"
   ]
  },
  {
   "cell_type": "markdown",
   "metadata": {},
   "source": []
  },
  {
   "cell_type": "code",
   "execution_count": 409,
   "metadata": {},
   "outputs": [],
   "source": [
    "by_cust =(df5['Customer']).value_counts().sort_index()\n",
    "df5_customer = by_cust.rename_axis('Customer').reset_index(name='counts')\n",
    "df5_customer.sort_values(by=['counts'], ascending=False, inplace=True)\n",
    "df5_customer = df5_customer.reset_index(drop=True)\n",
    "df5_customer.head(20)\n",
    "df5_customer.to_csv(r'output/customer_visits/376_customers.csv', index=False)"
   ]
  },
  {
   "cell_type": "code",
   "execution_count": 410,
   "metadata": {},
   "outputs": [
    {
     "data": {
      "image/png": "[encoded data removed]",
      "text/plain": [
       "<Figure size 640x480 with 1 Axes>"
      ]
     },
     "metadata": {},
     "output_type": "display_data"
    }
   ],
   "source": [
    "# x-coordinates of left sides of bars \n",
    "left = dfg5['Date']\n",
    "  \n",
    "# heights of bars\n",
    "Gross = dfg5['Gross']\n",
    "Net = dfg5['Net']\n",
    "  \n",
    "# labels for bars\n",
    "tick_label = dfg5['Date']\n",
    "  \n",
    "# plotting a bar chart\n",
    "plt.bar(left, Gross, tick_label = tick_label, width = 0.8, color = ['blue'], label = 'Gross')\n",
    "plt.bar(left, Net, tick_label = tick_label, width = 0.8, color = ['green'], label = 'Net' )\n",
    "plt.xticks(rotation='vertical')\n",
    "  \n",
    "# naming the x-axis\n",
    "plt.xlabel('Month')\n",
    "# naming the y-axis\n",
    "plt.ylabel('Profit')\n",
    "# plot title\n",
    "plt.title('376 Net and Gross Profit')\n",
    "plt.legend(loc=\"best\")\n",
    "# function to show the plot\n",
    "plt.savefig('output/376_gnp.jpg', dpi=100, bbox_inches = 'tight')\n",
    "# plt.show()"
   ]
  },
  {
   "attachments": {},
   "cell_type": "markdown",
   "metadata": {},
   "source": [
    "The below cells combine all the stores together graphs the gross & net profit."
   ]
  },
  {
   "cell_type": "code",
   "execution_count": 411,
   "metadata": {},
   "outputs": [],
   "source": [
    "frames = [df0, df1, df2, df3, df4, df5]\n",
    "df99 = pd.concat(frames)"
   ]
  },
  {
   "cell_type": "code",
   "execution_count": 412,
   "metadata": {},
   "outputs": [],
   "source": [
    "frames = [df0, df1, df2, df3, df4, df5]\n",
    "\n",
    "df99 = pd.concat(frames)\n",
    "df99.head()\n",
    "\n",
    "# print(df99['Net'].sum())\n",
    "# print(df99['Gross'].sum())\n",
    "\n",
    "\n",
    "Net_Gross = {\n",
    "    '370_Gross' : df0['Gross'].sum(),\n",
    "    '370_net' : df0['Net'].sum(),\n",
    "    '372_Gross' : df1['Gross'].sum(),\n",
    "    '372_net' : df1['Net'].sum(),\n",
    "    '373_Gross' : df2['Gross'].sum(),\n",
    "    '373_net' : df2['Net'].sum(),\n",
    "    '374_Gross' : df3['Gross'].sum(),\n",
    "    '374_net' : df3['Net'].sum(),\n",
    "    '375_Gross' : df4['Gross'].sum(),\n",
    "    '375_net' : df4['Net'].sum(),\n",
    "    '376_Gross' : df5['Gross'].sum(),\n",
    "    '376_net' : df5['Net'].sum(),\n",
    "}\n",
    "\n",
    "data = Net_Gross\n",
    "names = list(data.keys())\n",
    "values = list(data.values())\n",
    "\n",
    "# print('Total Gross:',(Total_Gross))\n",
    "# print('Total Net:',(Total_net))"
   ]
  },
  {
   "cell_type": "code",
   "execution_count": 413,
   "metadata": {},
   "outputs": [],
   "source": [
    "df99['Date'] = pd.to_datetime(df99['Date'])\n",
    "df99['Date'] = df99['Date'].dt.strftime('%Y-%m')\n",
    "\n",
    "# #define how to aggregate various fields\n",
    "agg_functions = {'Date': 'first', 'Gross': 'sum', 'Net': 'sum'}\n",
    "\n",
    "# #create new DataFrame by combining rows with same id values\n",
    "df99 = df99.groupby(df99['Date']).aggregate(agg_functions)\n",
    "\n",
    "# print(df99)"
   ]
  },
  {
   "cell_type": "code",
   "execution_count": 414,
   "metadata": {},
   "outputs": [
    {
     "data": {
      "image/png": "[encoded data removed]",
      "text/plain": [
       "<Figure size 640x480 with 1 Axes>"
      ]
     },
     "metadata": {},
     "output_type": "display_data"
    }
   ],
   "source": [
    "# x-coordinates of left sides of bars \n",
    "left = df99['Date']\n",
    "  \n",
    "# heights of bars\n",
    "Gross = df99['Gross']\n",
    "Net = df99['Net']\n",
    "  \n",
    "# labels for bars\n",
    "tick_label = df99['Date']\n",
    "  \n",
    "# plotting a bar chart\n",
    "plt.bar(left, Gross, tick_label = tick_label, width = 0.8, color = ['blue'], label = 'Gross')\n",
    "plt.bar(left, Net, tick_label = tick_label, width = 0.8, color = ['green'], label = 'Net' )\n",
    "plt.xticks(rotation='vertical')\n",
    "  \n",
    "# naming the x-axis\n",
    "plt.xlabel('Month')\n",
    "# naming the y-axis\n",
    "plt.ylabel('Profit')\n",
    "# plot title\n",
    "plt.title('All Stores Net and Gross Profit')\n",
    "plt.legend(loc=\"best\")\n",
    "# function to show the plot\n",
    "plt.savefig('output/all_stores_gnp.jpg', dpi=100, bbox_inches = 'tight')\n",
    "# plt.show()\n"
   ]
  },
  {
   "attachments": {},
   "cell_type": "markdown",
   "metadata": {},
   "source": [
    "End of code\n",
    "below is code being worked on. \n",
    "This determines the top customers and displays the qty of the part they purchased."
   ]
  },
  {
   "cell_type": "code",
   "execution_count": 415,
   "metadata": {},
   "outputs": [],
   "source": [
    "# df0_customer = df0\n",
    "# df0_customer = top_customers(df0)\n",
    "# print(df0_customer)\n",
    "# df0_customer.to_csv(r'output/customer_by_qty/370_customers_qty.csv', index=False)\n",
    "# # df0_customer.plot.bar()\n",
    "\n",
    "# df1_customer = df1\n",
    "# df1_customer = top_customers(df1)\n",
    "# # print(df1_customer)\n",
    "\n",
    "# df2_customer = df2\n",
    "# df2_customer = top_customers(df2)\n",
    "# # df2_customer \n",
    "\n",
    "# df3_customer = df3\n",
    "# df3_customer = top_customers(df3)\n",
    "# # df3_customer\n",
    "\n",
    "# df4_customer = df4\n",
    "# df4_customer = top_customers(df4)\n",
    "# # df4_customer\n",
    "\n",
    "# df5_customer = df5\n",
    "# df5_customer = top_customers(df5)\n",
    "# # df5_customer"
   ]
  }
 ],
 "metadata": {
  "kernelspec": {
   "display_name": ".venv",
   "language": "python",
   "name": "python3"
  },
  "language_info": {
   "codemirror_mode": {
    "name": "ipython",
    "version": 3
   },
   "file_extension": ".py",
   "mimetype": "text/x-python",
   "name": "python",
   "nbconvert_exporter": "python",
   "pygments_lexer": "ipython3",
   "version": "3.12.4"
  },
  "orig_nbformat": 4
 },
 "nbformat": 4,
 "nbformat_minor": 2
}
