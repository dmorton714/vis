{
 "cells": [
  {
   "cell_type": "code",
   "execution_count": 1567,
   "metadata": {},
   "outputs": [],
   "source": [
    "import pandas as pd\n",
    "import matplotlib.pyplot as plt\n",
    "import matplotlib.dates as mdates\n",
    "import datetime\n",
    "import csv\n",
    "import numpy as np\n",
    "import seaborn as sns\n",
    "import matplotlib.ticker as ticker"
   ]
  },
  {
   "cell_type": "markdown",
   "metadata": {},
   "source": [
    "store 370 import and clean"
   ]
  },
  {
   "cell_type": "code",
   "execution_count": 1568,
   "metadata": {},
   "outputs": [
    {
     "name": "stderr",
     "output_type": "stream",
     "text": [
      "/opt/anaconda3/lib/python3.9/site-packages/openpyxl/styles/stylesheet.py:226: UserWarning: Workbook contains no default style, apply openpyxl's default\n",
      "  warn(\"Workbook contains no default style, apply openpyxl's default\")\n"
     ]
    },
    {
     "data": {
      "image/png": "[encoded data removed]",
      "text/plain": [
       "<Figure size 432x288 with 1 Axes>"
      ]
     },
     "metadata": {
      "needs_background": "light"
     },
     "output_type": "display_data"
    },
    {
     "name": "stdout",
     "output_type": "stream",
     "text": [
      "Total Gross: 0.0\n",
      "Total Net: 0.0\n"
     ]
    }
   ],
   "source": [
    "df0 = pd.read_excel (r'370.xlsx',header=[3])\n",
    "df0.drop(columns=['Transaction Type', 'Reference Number', 'Customer Vendor #','Inventory Balance', 'Transaction Date.1','Reference Number.1', 'Created By', 'Created Date', 'Inventory Quantity','Transaction Type.1', 'Created Time', 'Last Changed By', 'Last Changed Date','Receiving PO Number', 'Last Changed Time' ], inplace=True)\n",
    "df0.rename(columns={'Customer/Vendor Name' : 'Customer','Non-Inventory Quantity': 'Qty', 'Transaction Date' : 'Date'}, inplace=True)\n",
    "df0 = df0[df0.Customer != \"TRANSFERS TO #372 J'VILLE\"]\n",
    "df0 = df0[df0.Customer != \"TRANSFERS TO #374 SEYMOUR\"]\n",
    "df0 = df0[df0.Customer != \"TRANSFERS TO #373 E-TOWN\"]\n",
    "df0 = df0[df0.Customer != \"TRANSFERS TO #375 S'VILLE\"]\n",
    "df0 = df0[df0.Customer != \"*** STORE TRANSFERS ***\"]\n",
    "df0 = df0[df0.Customer != \"Beginning Balance\"]\n",
    "df0 = df0[df0.Customer != 'Net Activity']\n",
    "df0 = df0[df0.Customer != 'Ending Balance']\n",
    "df0 = df0[df0.Customer != 'VOID']\n",
    "df0 = df0[df0.Customer != \"TRANSFERS TO #376 L'VILLE\"]\n",
    "df0 = df0.dropna(how=\"all\")\n",
    "Gross = df0.Qty * df0.Price\n",
    "df0['Gross'] = Gross.where(df0.Price == 'Qty', other=Gross)\n",
    "\n",
    "Net = df0.Qty * df0.Cost \n",
    "df0['Net'] = Net.where(df0.Cost == 'Qty', other=Net)\n",
    "\n",
    "Net = df0.Gross - df0.Net \n",
    "df0['Net'] = Net.where(df0.Gross == \"Net\", other=Net)\n",
    "\n",
    "# Graph for total time span imported\n",
    "\n",
    "Net_Gross270 = {\n",
    "    'Gross' : df0['Gross'].sum(),\n",
    "    'Net' : df0['Net'].sum()\n",
    "}\n",
    "\n",
    "data = Net_Gross270\n",
    "names = list(data.keys())\n",
    "values = list(data.values())\n",
    "\n",
    "plt.title(\"370 Total Net and Gross\")\n",
    "plt.bar(range(len(data)), values, tick_label=names)\n",
    "plt.xticks(range(len(names)), names, rotation='vertical')\n",
    "plt.show()\n",
    "\n",
    "Total_Gross = df0['Gross'].sum()\n",
    "Total_net = df0['Net'].sum() \n",
    "\n",
    "print('Total Gross:',(Total_Gross))\n",
    "print('Total Net:',(Total_net))"
   ]
  },
  {
   "cell_type": "code",
   "execution_count": 1569,
   "metadata": {},
   "outputs": [
    {
     "name": "stdout",
     "output_type": "stream",
     "text": [
      "Empty DataFrame\n",
      "Columns: [Date, Gross, Net]\n",
      "Index: []\n"
     ]
    }
   ],
   "source": [
    "df0['Date'] = pd.to_datetime(df0['Date'])\n",
    "df0['Date'] = df0['Date'].dt.strftime('%Y-%m')\n",
    "\n",
    "# #define how to aggregate various fields\n",
    "agg_functions = {'Date': 'first', 'Gross': 'sum', 'Net': 'sum'}\n",
    "\n",
    "# #create new DataFrame by combining rows with same id values\n",
    "df0 = df0.groupby(df0['Date']).aggregate(agg_functions)\n",
    "\n",
    "print(df0)\n",
    "\n",
    "# df_new.to_csv(r'df5.csv', index=False)"
   ]
  },
  {
   "cell_type": "markdown",
   "metadata": {},
   "source": [
    "Store 372 Import and Clean "
   ]
  },
  {
   "cell_type": "code",
   "execution_count": 1570,
   "metadata": {},
   "outputs": [
    {
     "name": "stderr",
     "output_type": "stream",
     "text": [
      "/opt/anaconda3/lib/python3.9/site-packages/openpyxl/styles/stylesheet.py:226: UserWarning: Workbook contains no default style, apply openpyxl's default\n",
      "  warn(\"Workbook contains no default style, apply openpyxl's default\")\n"
     ]
    },
    {
     "data": {
      "image/png": "[encoded data removed]",
      "text/plain": [
       "<Figure size 432x288 with 1 Axes>"
      ]
     },
     "metadata": {
      "needs_background": "light"
     },
     "output_type": "display_data"
    },
    {
     "name": "stdout",
     "output_type": "stream",
     "text": [
      "Total Gross: 14195.0\n",
      "Total Net: 4845.0\n"
     ]
    }
   ],
   "source": [
    "df1 = pd.read_excel (r'372.xlsx',header=[3])\n",
    "df1.drop(columns=['Transaction Type', 'Reference Number', 'Customer Vendor #','Inventory Balance', 'Transaction Date.1','Reference Number.1', 'Created By', 'Created Date', 'Inventory Quantity','Transaction Type.1', 'Created Time', 'Last Changed By', 'Last Changed Date','Receiving PO Number', 'Last Changed Time' ], inplace=True)\n",
    "df1.rename(columns={'Customer/Vendor Name' : 'Customer','Non-Inventory Quantity': 'Qty', 'Transaction Date' : 'Date'}, inplace=True)\n",
    "df1 = df1[df1.Customer != \"TRANSFERS TO #372 J'VILLE\"]\n",
    "df1 = df1[df1.Customer != \"TRANSFERS TO #374 SEYMOUR\"]\n",
    "df1 = df1[df1.Customer != \"TRANSFERS TO #373 E-TOWN\"]\n",
    "df1 = df1[df1.Customer != \"TRANSFERS TO #375 S'VILLE\"]\n",
    "df1 = df1[df1.Customer != \"*** STORE TRANSFERS ***\"]\n",
    "df1 = df1[df1.Customer != \"Beginning Balance\"]\n",
    "df1 = df1[df1.Customer != 'Net Activity']\n",
    "df1 = df1[df1.Customer != 'Ending Balance']\n",
    "df1 = df1[df1.Customer != 'VOID']\n",
    "df1 = df1[df1.Customer != \"TRANSFERS TO #376 L'VILLE\"]\n",
    "df1 = df1.dropna(how=\"all\")\n",
    "\n",
    "Gross = df1.Qty * df1.Price\n",
    "df1['Gross'] = Gross.where(df1.Price == 'Qty', other=Gross)\n",
    "\n",
    "Net = df1.Qty * df1.Cost \n",
    "df1['Net'] = Net.where(df1.Cost == 'Qty', other=Net)\n",
    "\n",
    "Net = df1.Gross - df1.Net \n",
    "df1['Net'] = Net.where(df1.Gross == \"Net\", other=Net)\n",
    "\n",
    "# Graph for total time span imported\n",
    "\n",
    "Net_Gross272 = {\n",
    "    'Gross' : df1['Gross'].sum(),\n",
    "    'Net' : df1['Net'].sum()\n",
    "}\n",
    "\n",
    "plt.title(\"372 Total Net and Gross\")\n",
    "data = Net_Gross272\n",
    "names = list(data.keys())\n",
    "values = list(data.values())\n",
    "\n",
    "plt.bar(range(len(data)), values, tick_label=names)\n",
    "plt.xticks(range(len(names)), names, rotation='vertical')\n",
    "plt.show()\n",
    "\n",
    "Total_Gross = df1['Gross'].sum()\n",
    "Total_net = df1['Net'].sum() \n",
    "\n",
    "print('Total Gross:',(Total_Gross))\n",
    "print('Total Net:',(Total_net))"
   ]
  },
  {
   "cell_type": "code",
   "execution_count": 1571,
   "metadata": {},
   "outputs": [
    {
     "data": {
      "text/html": [
       "<div>\n",
       "<style scoped>\n",
       "    .dataframe tbody tr th:only-of-type {\n",
       "        vertical-align: middle;\n",
       "    }\n",
       "\n",
       "    .dataframe tbody tr th {\n",
       "        vertical-align: top;\n",
       "    }\n",
       "\n",
       "    .dataframe thead th {\n",
       "        text-align: right;\n",
       "    }\n",
       "</style>\n",
       "<table border=\"1\" class=\"dataframe\">\n",
       "  <thead>\n",
       "    <tr style=\"text-align: right;\">\n",
       "      <th></th>\n",
       "      <th>Customer</th>\n",
       "      <th>counts</th>\n",
       "    </tr>\n",
       "  </thead>\n",
       "  <tbody>\n",
       "    <tr>\n",
       "      <th>5</th>\n",
       "      <td>GOTTA GO, INC.</td>\n",
       "      <td>14</td>\n",
       "    </tr>\n",
       "    <tr>\n",
       "      <th>0</th>\n",
       "      <td>A &amp; R LOGISTICS INC</td>\n",
       "      <td>13</td>\n",
       "    </tr>\n",
       "    <tr>\n",
       "      <th>3</th>\n",
       "      <td>DUBOIS COUNTY TIRE &amp; SUPP</td>\n",
       "      <td>6</td>\n",
       "    </tr>\n",
       "    <tr>\n",
       "      <th>6</th>\n",
       "      <td>GOTTA GO, INC. - TRACKING</td>\n",
       "      <td>5</td>\n",
       "    </tr>\n",
       "    <tr>\n",
       "      <th>8</th>\n",
       "      <td>MISTER P EXPRESS INC.</td>\n",
       "      <td>3</td>\n",
       "    </tr>\n",
       "    <tr>\n",
       "      <th>4</th>\n",
       "      <td>ERNST CONCRETE KENTUCKIAN</td>\n",
       "      <td>2</td>\n",
       "    </tr>\n",
       "    <tr>\n",
       "      <th>7</th>\n",
       "      <td>MILLER TRANSPORTATION/ IN</td>\n",
       "      <td>2</td>\n",
       "    </tr>\n",
       "    <tr>\n",
       "      <th>9</th>\n",
       "      <td>RAY-LEE TRANSPORT</td>\n",
       "      <td>2</td>\n",
       "    </tr>\n",
       "    <tr>\n",
       "      <th>1</th>\n",
       "      <td>A&amp;S TRUCK RD SERVICE LLC</td>\n",
       "      <td>1</td>\n",
       "    </tr>\n",
       "    <tr>\n",
       "      <th>2</th>\n",
       "      <td>C-JAMS</td>\n",
       "      <td>1</td>\n",
       "    </tr>\n",
       "  </tbody>\n",
       "</table>\n",
       "</div>"
      ],
      "text/plain": [
       "                    Customer  counts\n",
       "5             GOTTA GO, INC.      14\n",
       "0        A & R LOGISTICS INC      13\n",
       "3  DUBOIS COUNTY TIRE & SUPP       6\n",
       "6  GOTTA GO, INC. - TRACKING       5\n",
       "8      MISTER P EXPRESS INC.       3\n",
       "4  ERNST CONCRETE KENTUCKIAN       2\n",
       "7  MILLER TRANSPORTATION/ IN       2\n",
       "9          RAY-LEE TRANSPORT       2\n",
       "1   A&S TRUCK RD SERVICE LLC       1\n",
       "2                     C-JAMS       1"
      ]
     },
     "execution_count": 1571,
     "metadata": {},
     "output_type": "execute_result"
    }
   ],
   "source": [
    "by_cust =(df1['Customer']).value_counts().sort_index()\n",
    "df1_customer = by_cust.rename_axis('Customer').reset_index(name='counts')\n",
    "df1_customer.sort_values(by=['counts'], ascending=False, inplace=True)\n",
    "df1_customer"
   ]
  },
  {
   "cell_type": "code",
   "execution_count": 1572,
   "metadata": {},
   "outputs": [
    {
     "name": "stdout",
     "output_type": "stream",
     "text": [
      "Empty DataFrame\n",
      "Columns: [Date, Gross, Net]\n",
      "Index: []\n"
     ]
    }
   ],
   "source": [
    "df1['Date'] = pd.to_datetime(df1['Date'])\n",
    "df1['Date'] = df1['Date'].dt.strftime('%Y-%m')\n",
    "\n",
    "# #define how to aggregate various fields\n",
    "agg_functions = {'Date': 'first', 'Gross': 'sum', 'Net': 'sum'}\n",
    "\n",
    "# #create new DataFrame by combining rows with same id values\n",
    "df1 = df1.groupby(df5['Date']).aggregate(agg_functions)\n",
    "\n",
    "print(df1)\n",
    "\n",
    "# df_new.to_csv(r'df5.csv', index=False)"
   ]
  },
  {
   "cell_type": "markdown",
   "metadata": {},
   "source": [
    "Store 373 Import and Clean "
   ]
  },
  {
   "cell_type": "code",
   "execution_count": 1573,
   "metadata": {},
   "outputs": [
    {
     "name": "stderr",
     "output_type": "stream",
     "text": [
      "/opt/anaconda3/lib/python3.9/site-packages/openpyxl/styles/stylesheet.py:226: UserWarning: Workbook contains no default style, apply openpyxl's default\n",
      "  warn(\"Workbook contains no default style, apply openpyxl's default\")\n"
     ]
    },
    {
     "data": {
      "image/png": "[encoded data removed]",
      "text/plain": [
       "<Figure size 432x288 with 1 Axes>"
      ]
     },
     "metadata": {
      "needs_background": "light"
     },
     "output_type": "display_data"
    },
    {
     "name": "stdout",
     "output_type": "stream",
     "text": [
      "Total Gross: 3260.0\n",
      "Total Net: 1110.0\n"
     ]
    }
   ],
   "source": [
    "df2 = pd.read_excel (r'373.xlsx',header=[3])\n",
    "df2.drop(columns=['Transaction Type', 'Reference Number', 'Customer Vendor #','Inventory Balance', 'Transaction Date.1','Reference Number.1', 'Created By', 'Created Date', 'Inventory Quantity','Transaction Type.1', 'Created Time', 'Last Changed By', 'Last Changed Date','Receiving PO Number', 'Last Changed Time' ], inplace=True)\n",
    "df2.rename(columns={'Customer/Vendor Name' : 'Customer', \"Transaction Date\" : 'Date', 'Non-Inventory Quantity' : 'Qty','Transaction Date' : 'Date'}, inplace=True)\n",
    "df2 = df2[df2.Customer != \"TRANSFERS TO #372 J'VILLE\"]\n",
    "df2 = df2[df2.Customer != \"TRANSFERS TO #374 SEYMOUR\"]\n",
    "df2 = df2[df2.Customer != \"TRANSFERS TO #373 E-TOWN\"]\n",
    "df2 = df2[df2.Customer != \"TRANSFERS TO #375 S'VILLE\"]\n",
    "df2 = df2[df2.Customer != \"*** STORE TRANSFERS ***\"]\n",
    "df2 = df2[df2.Customer != \"Beginning Balance\"]\n",
    "df2 = df2[df2.Customer != 'Net Activity']\n",
    "df2 = df2[df2.Customer != 'Ending Balance']\n",
    "df2 = df2[df2.Customer != 'VOID']\n",
    "df2 = df2[df2.Customer != \"TRANSFERS TO #376 L'VILLE\"]\n",
    "df2 = df2.dropna(how=\"all\")\n",
    "\n",
    "Gross = df2.Qty * df2.Price\n",
    "df2['Gross'] = Gross.where(df2.Price == 'Qty', other=Gross)\n",
    "\n",
    "Net = df2.Qty * df2.Cost \n",
    "df2['Net'] = Net.where(df2.Cost == 'Qty', other=Net)\n",
    "\n",
    "Net = df2.Gross - df2.Net \n",
    "df2['Net'] = Net.where(df2.Gross == \"Net\", other=Net)\n",
    "\n",
    "# Graph for total time span imported\n",
    "\n",
    "Net_Gross273 = {\n",
    "    'Gross' : df2['Gross'].sum(),\n",
    "    'Net' : df2['Net'].sum()\n",
    "}\n",
    "\n",
    "plt.title(\"373 Total Net and Gross\")\n",
    "data = Net_Gross273\n",
    "names = list(data.keys())\n",
    "values = list(data.values())\n",
    "\n",
    "plt.bar(range(len(data)), values, tick_label=names)\n",
    "plt.xticks(range(len(names)), names, rotation='vertical')\n",
    "plt.show()\n",
    "\n",
    "Total_Gross = df2['Gross'].sum()\n",
    "Total_net = df2['Net'].sum() \n",
    "\n",
    "print('Total Gross:',(Total_Gross))\n",
    "print('Total Net:',(Total_net))\n"
   ]
  },
  {
   "cell_type": "code",
   "execution_count": 1574,
   "metadata": {},
   "outputs": [
    {
     "data": {
      "text/html": [
       "<div>\n",
       "<style scoped>\n",
       "    .dataframe tbody tr th:only-of-type {\n",
       "        vertical-align: middle;\n",
       "    }\n",
       "\n",
       "    .dataframe tbody tr th {\n",
       "        vertical-align: top;\n",
       "    }\n",
       "\n",
       "    .dataframe thead th {\n",
       "        text-align: right;\n",
       "    }\n",
       "</style>\n",
       "<table border=\"1\" class=\"dataframe\">\n",
       "  <thead>\n",
       "    <tr style=\"text-align: right;\">\n",
       "      <th></th>\n",
       "      <th>Customer</th>\n",
       "      <th>counts</th>\n",
       "    </tr>\n",
       "  </thead>\n",
       "  <tbody>\n",
       "    <tr>\n",
       "      <th>0</th>\n",
       "      <td>BROTHERS FARMS</td>\n",
       "      <td>4</td>\n",
       "    </tr>\n",
       "    <tr>\n",
       "      <th>1</th>\n",
       "      <td>REPUBLIC SERVICES, INC. 3058</td>\n",
       "      <td>2</td>\n",
       "    </tr>\n",
       "    <tr>\n",
       "      <th>2</th>\n",
       "      <td>SMITH GRAIN</td>\n",
       "      <td>1</td>\n",
       "    </tr>\n",
       "  </tbody>\n",
       "</table>\n",
       "</div>"
      ],
      "text/plain": [
       "                       Customer  counts\n",
       "0                BROTHERS FARMS       4\n",
       "1  REPUBLIC SERVICES, INC. 3058       2\n",
       "2                   SMITH GRAIN       1"
      ]
     },
     "execution_count": 1574,
     "metadata": {},
     "output_type": "execute_result"
    }
   ],
   "source": [
    "by_cust =(df2['Customer']).value_counts().sort_index()\n",
    "df2_customer = by_cust.rename_axis('Customer').reset_index(name='counts')\n",
    "df2_customer.sort_values(by=['counts'], ascending=False, inplace=True)\n",
    "df2_customer"
   ]
  },
  {
   "cell_type": "code",
   "execution_count": 1575,
   "metadata": {},
   "outputs": [
    {
     "name": "stdout",
     "output_type": "stream",
     "text": [
      "            Date    Gross      Net\n",
      "Date                              \n",
      "2021-08  2021-08  4351.50  1351.50\n",
      "2021-09  2021-09  6835.00  2035.00\n",
      "2021-10  2021-10  4828.00  1628.00\n",
      "2021-11  2021-11  5258.50  1608.50\n",
      "2021-12  2021-12  4618.00  1418.00\n",
      "2022-01  2022-01  6515.50  2015.50\n",
      "2022-02  2022-02  4092.00  1292.00\n",
      "2022-03  2022-03  5690.00  1790.00\n",
      "2022-04  2022-04  5220.00  1670.00\n",
      "2022-05  2022-05  2765.00   915.00\n",
      "2022-06  2022-06  5468.50  1768.50\n",
      "2022-07  2022-07  4211.00   961.00\n",
      "2022-08  2022-08  5667.00  1817.00\n",
      "2022-09  2022-09  6610.00  1610.00\n",
      "2022-10  2022-10  6682.49  1882.49\n",
      "2022-11  2022-11  4837.87  1687.87\n"
     ]
    }
   ],
   "source": [
    "df2['Date'] = pd.to_datetime(df2['Date'])\n",
    "df2['Date'] = df2['Date'].dt.strftime('%Y-%m')\n",
    "\n",
    "# #define how to aggregate various fields\n",
    "agg_functions = {'Date': 'first', 'Gross': 'sum', 'Net': 'sum'}\n",
    "\n",
    "# #create new DataFrame by combining rows with same id values\n",
    "df2 = df5.groupby(df5['Date']).aggregate(agg_functions)\n",
    "\n",
    "print(df2)\n",
    "\n",
    "# df_new.to_csv(r'df5.csv', index=False)"
   ]
  },
  {
   "cell_type": "markdown",
   "metadata": {},
   "source": [
    "Store 374 Import and Clean "
   ]
  },
  {
   "cell_type": "code",
   "execution_count": 1576,
   "metadata": {},
   "outputs": [
    {
     "name": "stderr",
     "output_type": "stream",
     "text": [
      "/opt/anaconda3/lib/python3.9/site-packages/openpyxl/styles/stylesheet.py:226: UserWarning: Workbook contains no default style, apply openpyxl's default\n",
      "  warn(\"Workbook contains no default style, apply openpyxl's default\")\n"
     ]
    },
    {
     "data": {
      "image/png": "[encoded data removed]",
      "text/plain": [
       "<Figure size 432x288 with 1 Axes>"
      ]
     },
     "metadata": {
      "needs_background": "light"
     },
     "output_type": "display_data"
    },
    {
     "name": "stdout",
     "output_type": "stream",
     "text": [
      "Total Gross: 3765.0\n",
      "Total Net: 1415.0\n"
     ]
    }
   ],
   "source": [
    "df3 = pd.read_excel (r'374.xlsx',header=[3])\n",
    "df3.drop(columns=['Transaction Type', 'Reference Number', 'Customer Vendor #','Inventory Balance', 'Transaction Date.1','Reference Number.1', 'Created By', 'Created Date', 'Inventory Quantity','Transaction Type.1', 'Created Time', 'Last Changed By', 'Last Changed Date','Receiving PO Number', 'Last Changed Time' ], inplace=True)\n",
    "df3.rename(columns={'Customer/Vendor Name' : 'Customer','Non-Inventory Quantity': 'Qty', 'Transaction Date' : 'Date'}, inplace=True)\n",
    "df3 = df3[df3.Customer != \"TRANSFERS TO #372 J'VILLE\"]\n",
    "df3 = df3[df3.Customer != \"TRANSFERS TO #374 SEYMOUR\"]\n",
    "df3 = df3[df3.Customer != \"TRANSFERS TO #373 E-TOWN\"]\n",
    "df3 = df3[df3.Customer != \"TRANSFERS TO #375 S'VILLE\"]\n",
    "df3 = df3[df3.Customer != \"*** STORE TRANSFERS ***\"]\n",
    "df3 = df3[df3.Customer != \"Beginning Balance\"]\n",
    "df3 = df3[df3.Customer != 'Net Activity']\n",
    "df3 = df3[df3.Customer != 'Ending Balance']\n",
    "df3 = df3[df3.Customer != 'VOID']\n",
    "df3 = df3[df3.Customer != \"TRANSFERS TO #376 L'VILLE\"]\n",
    "df3 = df3.dropna(how=\"all\")\n",
    "\n",
    "Gross = df3.Qty * df3.Price\n",
    "df3['Gross'] = Gross.where(df3.Price == 'Qty', other=Gross)\n",
    "\n",
    "Net = df3.Qty * df3.Cost \n",
    "df3['Net'] = Net.where(df3.Cost == 'Qty', other=Net)\n",
    "\n",
    "Net = df3.Gross - df3.Net \n",
    "df3['Net'] = Net.where(df3.Gross == \"Net\", other=Net)\n",
    "\n",
    "# Graph for total time span imported\n",
    "\n",
    "Net_Gross274 = {\n",
    "    'Gross' : df3['Gross'].sum(),\n",
    "    'Net' : df3['Net'].sum()\n",
    "}\n",
    "\n",
    "plt.title(\"374 Total Net and Gross\")\n",
    "data = Net_Gross274\n",
    "names = list(data.keys())\n",
    "values = list(data.values())\n",
    "\n",
    "plt.bar(range(len(data)), values, tick_label=names)\n",
    "plt.xticks(range(len(names)), names, rotation='vertical')\n",
    "plt.show()\n",
    "\n",
    "Total_Gross = df3['Gross'].sum()\n",
    "Total_net = df3['Net'].sum() \n",
    "\n",
    "print('Total Gross:',(Total_Gross))\n",
    "print('Total Net:',(Total_net))\n"
   ]
  },
  {
   "cell_type": "code",
   "execution_count": 1577,
   "metadata": {},
   "outputs": [
    {
     "data": {
      "text/html": [
       "<div>\n",
       "<style scoped>\n",
       "    .dataframe tbody tr th:only-of-type {\n",
       "        vertical-align: middle;\n",
       "    }\n",
       "\n",
       "    .dataframe tbody tr th {\n",
       "        vertical-align: top;\n",
       "    }\n",
       "\n",
       "    .dataframe thead th {\n",
       "        text-align: right;\n",
       "    }\n",
       "</style>\n",
       "<table border=\"1\" class=\"dataframe\">\n",
       "  <thead>\n",
       "    <tr style=\"text-align: right;\">\n",
       "      <th></th>\n",
       "      <th>Customer</th>\n",
       "      <th>counts</th>\n",
       "    </tr>\n",
       "  </thead>\n",
       "  <tbody>\n",
       "    <tr>\n",
       "      <th>7</th>\n",
       "      <td>UHL IDEALEASE - AUSTIN</td>\n",
       "      <td>3</td>\n",
       "    </tr>\n",
       "    <tr>\n",
       "      <th>1</th>\n",
       "      <td>MIDNIGHT FLYER &amp; CO. INC.</td>\n",
       "      <td>2</td>\n",
       "    </tr>\n",
       "    <tr>\n",
       "      <th>5</th>\n",
       "      <td>R W TRANSPORT, INC</td>\n",
       "      <td>2</td>\n",
       "    </tr>\n",
       "    <tr>\n",
       "      <th>0</th>\n",
       "      <td>FOX FARMS</td>\n",
       "      <td>1</td>\n",
       "    </tr>\n",
       "    <tr>\n",
       "      <th>2</th>\n",
       "      <td>NEW WAY TRANSPORTATION</td>\n",
       "      <td>1</td>\n",
       "    </tr>\n",
       "    <tr>\n",
       "      <th>3</th>\n",
       "      <td>NORTH VERNON BEVERAGE</td>\n",
       "      <td>1</td>\n",
       "    </tr>\n",
       "    <tr>\n",
       "      <th>4</th>\n",
       "      <td>PADGETT TRUCKING INC/OMARA</td>\n",
       "      <td>1</td>\n",
       "    </tr>\n",
       "    <tr>\n",
       "      <th>6</th>\n",
       "      <td>SCHROER TRUCKING</td>\n",
       "      <td>1</td>\n",
       "    </tr>\n",
       "  </tbody>\n",
       "</table>\n",
       "</div>"
      ],
      "text/plain": [
       "                     Customer  counts\n",
       "7      UHL IDEALEASE - AUSTIN       3\n",
       "1   MIDNIGHT FLYER & CO. INC.       2\n",
       "5          R W TRANSPORT, INC       2\n",
       "0                   FOX FARMS       1\n",
       "2      NEW WAY TRANSPORTATION       1\n",
       "3       NORTH VERNON BEVERAGE       1\n",
       "4  PADGETT TRUCKING INC/OMARA       1\n",
       "6            SCHROER TRUCKING       1"
      ]
     },
     "execution_count": 1577,
     "metadata": {},
     "output_type": "execute_result"
    }
   ],
   "source": [
    "by_cust =(df3['Customer']).value_counts().sort_index()\n",
    "df3_customer = by_cust.rename_axis('Customer').reset_index(name='counts')\n",
    "df3_customer.sort_values(by=['counts'], ascending=False, inplace=True)\n",
    "df3_customer"
   ]
  },
  {
   "cell_type": "code",
   "execution_count": 1578,
   "metadata": {},
   "outputs": [
    {
     "name": "stdout",
     "output_type": "stream",
     "text": [
      "            Date   Gross    Net\n",
      "Date                           \n",
      "2021-08  2021-08   300.0  100.0\n",
      "2021-09  2021-09    75.0   25.0\n",
      "2022-02  2022-02   600.0  200.0\n",
      "2022-03  2022-03  1050.0  550.0\n",
      "2022-04  2022-04  1140.0  340.0\n",
      "2022-05  2022-05   375.0  125.0\n",
      "2022-09  2022-09   225.0   75.0\n"
     ]
    }
   ],
   "source": [
    "df3['Date'] = pd.to_datetime(df3['Date'])\n",
    "df3['Date'] = df3['Date'].dt.strftime('%Y-%m')\n",
    "\n",
    "# #define how to aggregate various fields\n",
    "agg_functions = {'Date': 'first', 'Gross': 'sum', 'Net': 'sum'}\n",
    "\n",
    "# #create new DataFrame by combining rows with same id values\n",
    "df3 = df3.groupby(df3['Date']).aggregate(agg_functions)\n",
    "\n",
    "print(df3)\n",
    "\n",
    "# df_new.to_csv(r'df5.csv', index=False)"
   ]
  },
  {
   "cell_type": "markdown",
   "metadata": {},
   "source": [
    "Store 375 Import and Clean "
   ]
  },
  {
   "cell_type": "code",
   "execution_count": 1579,
   "metadata": {},
   "outputs": [
    {
     "name": "stderr",
     "output_type": "stream",
     "text": [
      "/opt/anaconda3/lib/python3.9/site-packages/openpyxl/styles/stylesheet.py:226: UserWarning: Workbook contains no default style, apply openpyxl's default\n",
      "  warn(\"Workbook contains no default style, apply openpyxl's default\")\n"
     ]
    },
    {
     "data": {
      "image/png": "[encoded data removed]",
      "text/plain": [
       "<Figure size 432x288 with 1 Axes>"
      ]
     },
     "metadata": {
      "needs_background": "light"
     },
     "output_type": "display_data"
    },
    {
     "name": "stdout",
     "output_type": "stream",
     "text": [
      "Total Gross: 300.0\n",
      "Total Net: 100.0\n"
     ]
    }
   ],
   "source": [
    "df4 = pd.read_excel (r'375.xlsx',header=[3])\n",
    "df4.drop(columns=['Transaction Type', 'Reference Number', 'Customer Vendor #','Inventory Balance', 'Transaction Date.1','Reference Number.1', 'Created By', 'Created Date', 'Inventory Quantity','Transaction Type.1', 'Created Time', 'Last Changed By', 'Last Changed Date','Receiving PO Number', 'Last Changed Time' ], inplace=True)\n",
    "df4.rename(columns={'Customer/Vendor Name' : 'Customer', 'Non-Inventory Quantity': 'Qty', 'Transaction Date' : 'Date'}, inplace=True)\n",
    "df4 = df4[df4.Customer != \"TRANSFERS TO #372 J'VILLE\"]\n",
    "df4 = df4[df4.Customer != \"TRANSFERS TO #374 SEYMOUR\"]\n",
    "df4 = df4[df4.Customer != \"TRANSFERS TO #373 E-TOWN\"]\n",
    "df4 = df4[df4.Customer != \"TRANSFERS TO #375 S'VILLE\"]\n",
    "df4 = df4[df4.Customer != \"*** STORE TRANSFERS ***\"]\n",
    "df4 = df4[df4.Customer != \"Beginning Balance\"]\n",
    "df4 = df4[df4.Customer != 'Net Activity']\n",
    "df4 = df4[df4.Customer != 'Ending Balance']\n",
    "df4 = df4[df4.Customer != 'VOID']\n",
    "df4 = df4[df4.Customer != \"TRANSFERS TO #376 L'VILLE\"]\n",
    "df4 = df4.dropna(how=\"all\")\n",
    "\n",
    "Gross = df4.Qty * df4.Price\n",
    "df4['Gross'] = Gross.where(df4.Price == 'Qty', other=Gross)\n",
    "\n",
    "Net = df4.Qty * df4.Cost \n",
    "df4['Net'] = Net.where(df4.Cost == 'Qty', other=Net)\n",
    "\n",
    "Net = df4.Gross - df4.Net \n",
    "df4['Net'] = Net.where(df4.Gross == \"Net\", other=Net)\n",
    "\n",
    "# Graph for total time span imported\n",
    "\n",
    "Net_Gross275 = {\n",
    "    'Gross' : df4['Gross'].sum(),\n",
    "    'Net' : df4['Net'].sum()\n",
    "}\n",
    "\n",
    "plt.title(\"375 Total Net and Gross\")\n",
    "data = Net_Gross275\n",
    "names = list(data.keys())\n",
    "values = list(data.values())\n",
    "\n",
    "plt.bar(range(len(data)), values, tick_label=names)\n",
    "plt.xticks(range(len(names)), names, rotation='vertical')\n",
    "plt.show()\n",
    "\n",
    "Total_Gross = df4['Gross'].sum()\n",
    "Total_net = df4['Net'].sum() \n",
    "\n",
    "print('Total Gross:',(Total_Gross))\n",
    "print('Total Net:',(Total_net))\n"
   ]
  },
  {
   "cell_type": "code",
   "execution_count": 1580,
   "metadata": {},
   "outputs": [
    {
     "data": {
      "text/html": [
       "<div>\n",
       "<style scoped>\n",
       "    .dataframe tbody tr th:only-of-type {\n",
       "        vertical-align: middle;\n",
       "    }\n",
       "\n",
       "    .dataframe tbody tr th {\n",
       "        vertical-align: top;\n",
       "    }\n",
       "\n",
       "    .dataframe thead th {\n",
       "        text-align: right;\n",
       "    }\n",
       "</style>\n",
       "<table border=\"1\" class=\"dataframe\">\n",
       "  <thead>\n",
       "    <tr style=\"text-align: right;\">\n",
       "      <th></th>\n",
       "      <th>Customer</th>\n",
       "      <th>counts</th>\n",
       "    </tr>\n",
       "  </thead>\n",
       "  <tbody>\n",
       "    <tr>\n",
       "      <th>0</th>\n",
       "      <td>HARROD TRANSPORT</td>\n",
       "      <td>1</td>\n",
       "    </tr>\n",
       "  </tbody>\n",
       "</table>\n",
       "</div>"
      ],
      "text/plain": [
       "           Customer  counts\n",
       "0  HARROD TRANSPORT       1"
      ]
     },
     "execution_count": 1580,
     "metadata": {},
     "output_type": "execute_result"
    }
   ],
   "source": [
    "by_cust =(df4['Customer']).value_counts().sort_index()\n",
    "df4_customer = by_cust.rename_axis('Customer').reset_index(name='counts')\n",
    "df4_customer.sort_values(by=['counts'], ascending=False, inplace=True)\n",
    "df4_customer"
   ]
  },
  {
   "cell_type": "code",
   "execution_count": 1581,
   "metadata": {},
   "outputs": [
    {
     "name": "stdout",
     "output_type": "stream",
     "text": [
      "            Date  Gross    Net\n",
      "Date                          \n",
      "2022-11  2022-11  300.0  100.0\n"
     ]
    }
   ],
   "source": [
    "df4['Date'] = pd.to_datetime(df4['Date'])\n",
    "df4['Date'] = df4['Date'].dt.strftime('%Y-%m')\n",
    "\n",
    "# #define how to aggregate various fields\n",
    "agg_functions = {'Date': 'first', 'Gross': 'sum', 'Net': 'sum'}\n",
    "\n",
    "# #create new DataFrame by combining rows with same id values\n",
    "df4 = df4.groupby(df4['Date']).aggregate(agg_functions)\n",
    "\n",
    "print(df4)\n",
    "\n",
    "# df_new.to_csv(r'df5.csv', index=False)"
   ]
  },
  {
   "cell_type": "markdown",
   "metadata": {},
   "source": []
  },
  {
   "cell_type": "code",
   "execution_count": 1582,
   "metadata": {},
   "outputs": [
    {
     "name": "stderr",
     "output_type": "stream",
     "text": [
      "/opt/anaconda3/lib/python3.9/site-packages/openpyxl/styles/stylesheet.py:226: UserWarning: Workbook contains no default style, apply openpyxl's default\n",
      "  warn(\"Workbook contains no default style, apply openpyxl's default\")\n"
     ]
    },
    {
     "data": {
      "image/png": "[encoded data removed]",
      "text/plain": [
       "<Figure size 432x288 with 1 Axes>"
      ]
     },
     "metadata": {
      "needs_background": "light"
     },
     "output_type": "display_data"
    },
    {
     "name": "stdout",
     "output_type": "stream",
     "text": [
      "Total Gross: 83650.36\n",
      "Total Net: 25450.36\n"
     ]
    }
   ],
   "source": [
    "df5 = pd.read_excel (r'376.xlsx',header=[3])\n",
    "\n",
    "df5.drop(columns=['Transaction Type', 'Reference Number', 'Customer Vendor #','Inventory Balance', 'Transaction Date.1','Reference Number.1', 'Created By', 'Created Date', 'Inventory Quantity','Transaction Type.1', 'Created Time', 'Last Changed By', 'Last Changed Date','Receiving PO Number', 'Last Changed Time' ], inplace=True)\n",
    "\n",
    "df5.rename(columns={'Customer/Vendor Name' : 'Customer', 'Non-Inventory Quantity': 'Qty', 'Transaction Date' : 'Date'}, inplace=True)\n",
    "\n",
    "df5 = df5[df5.Customer != \"TRANSFERS TO #372 J'VILLE\"]\n",
    "df5 = df5[df5.Customer != \"TRANSFERS TO #374 SEYMOUR\"]\n",
    "df5 = df5[df5.Customer != \"TRANSFERS TO #373 E-TOWN\"]\n",
    "df5 = df5[df5.Customer != \"TRANSFERS TO #375 S'VILLE\"]\n",
    "df5 = df5[df5.Customer != \"*** STORE TRANSFERS ***\"]\n",
    "df5 = df5[df5.Customer != \"Beginning Balance\"]\n",
    "df5 = df5[df5.Customer != 'Net Activity']\n",
    "df5 = df5[df5.Customer != 'Ending Balance']\n",
    "df5 = df5[df5.Customer != 'VOID']\n",
    "df5 = df5[df5.Customer != \"TRANSFERS TO #376 L'VILLE\"]\n",
    "df5 = df5.dropna(how=\"all\")\n",
    "\n",
    "Gross = df5.Qty * df5.Price\n",
    "df5['Gross'] = Gross.where(df5.Price == 'Qty', other=Gross)\n",
    "\n",
    "Net = df5.Qty * df5.Cost \n",
    "df5['Net'] = Net.where(df5.Cost == 'Qty', other=Net)\n",
    "\n",
    "Net = df5.Gross - df5.Net \n",
    "df5['Net'] = Net.where(df5.Gross == \"Net\", other=Net)\n",
    "\n",
    "# Graph for total time span imported\n",
    "\n",
    "Net_Gross276 = {\n",
    "    'Gross' : df5['Gross'].sum(),\n",
    "    'Net' : df5['Net'].sum()\n",
    "}\n",
    "\n",
    "plt.title(\"376 Total Net and Gross\")\n",
    "data = Net_Gross276\n",
    "names = list(data.keys())\n",
    "values = list(data.values())\n",
    "\n",
    "plt.bar(range(len(data)), values, tick_label=names)\n",
    "plt.xticks(range(len(names)), names, rotation='vertical')\n",
    "plt.show()\n",
    "\n",
    "Total_Gross = df5['Gross'].sum()\n",
    "Total_net = df5['Net'].sum() \n",
    "\n",
    "print('Total Gross:',(Total_Gross))\n",
    "print('Total Net:',(Total_net))\n"
   ]
  },
  {
   "cell_type": "code",
   "execution_count": 1583,
   "metadata": {},
   "outputs": [
    {
     "data": {
      "text/html": [
       "<div>\n",
       "<style scoped>\n",
       "    .dataframe tbody tr th:only-of-type {\n",
       "        vertical-align: middle;\n",
       "    }\n",
       "\n",
       "    .dataframe tbody tr th {\n",
       "        vertical-align: top;\n",
       "    }\n",
       "\n",
       "    .dataframe thead th {\n",
       "        text-align: right;\n",
       "    }\n",
       "</style>\n",
       "<table border=\"1\" class=\"dataframe\">\n",
       "  <thead>\n",
       "    <tr style=\"text-align: right;\">\n",
       "      <th></th>\n",
       "      <th>Customer</th>\n",
       "      <th>counts</th>\n",
       "    </tr>\n",
       "  </thead>\n",
       "  <tbody>\n",
       "    <tr>\n",
       "      <th>13</th>\n",
       "      <td>PENSKE #0470 - E. LVILLE</td>\n",
       "      <td>88</td>\n",
       "    </tr>\n",
       "    <tr>\n",
       "      <th>12</th>\n",
       "      <td>PENSKE #0456 - LOUISVILLE</td>\n",
       "      <td>78</td>\n",
       "    </tr>\n",
       "    <tr>\n",
       "      <th>11</th>\n",
       "      <td>M &amp; M CARTAGE CO., INC.</td>\n",
       "      <td>37</td>\n",
       "    </tr>\n",
       "    <tr>\n",
       "      <th>14</th>\n",
       "      <td>PENSKE #5471 - JEFFVILLE</td>\n",
       "      <td>29</td>\n",
       "    </tr>\n",
       "    <tr>\n",
       "      <th>20</th>\n",
       "      <td>WASTE MANAGEMENT,INC</td>\n",
       "      <td>17</td>\n",
       "    </tr>\n",
       "    <tr>\n",
       "      <th>16</th>\n",
       "      <td>REPUBLIC SERVICES, INC. 3077</td>\n",
       "      <td>7</td>\n",
       "    </tr>\n",
       "    <tr>\n",
       "      <th>1</th>\n",
       "      <td>BEST-ONE BOWLING GREEN</td>\n",
       "      <td>7</td>\n",
       "    </tr>\n",
       "    <tr>\n",
       "      <th>4</th>\n",
       "      <td>ERNST CONCRETE KENTUCKIAN</td>\n",
       "      <td>6</td>\n",
       "    </tr>\n",
       "    <tr>\n",
       "      <th>9</th>\n",
       "      <td>HILL TRANSPORTATION INC.</td>\n",
       "      <td>3</td>\n",
       "    </tr>\n",
       "    <tr>\n",
       "      <th>0</th>\n",
       "      <td>A&amp;S TRUCK RD SERVICE LLC</td>\n",
       "      <td>3</td>\n",
       "    </tr>\n",
       "    <tr>\n",
       "      <th>6</th>\n",
       "      <td>FOUR SOLUTIONS LLC</td>\n",
       "      <td>3</td>\n",
       "    </tr>\n",
       "    <tr>\n",
       "      <th>15</th>\n",
       "      <td>PENSKE #6409-10 - DERBY CITY</td>\n",
       "      <td>2</td>\n",
       "    </tr>\n",
       "    <tr>\n",
       "      <th>8</th>\n",
       "      <td>GENTRY COACH</td>\n",
       "      <td>1</td>\n",
       "    </tr>\n",
       "    <tr>\n",
       "      <th>7</th>\n",
       "      <td>GARY JOHNSON TRUCKING, IN</td>\n",
       "      <td>1</td>\n",
       "    </tr>\n",
       "    <tr>\n",
       "      <th>5</th>\n",
       "      <td>EXIE MAY FARMS</td>\n",
       "      <td>1</td>\n",
       "    </tr>\n",
       "    <tr>\n",
       "      <th>3</th>\n",
       "      <td>ELLIS LLC</td>\n",
       "      <td>1</td>\n",
       "    </tr>\n",
       "    <tr>\n",
       "      <th>2</th>\n",
       "      <td>CUNDIFF STEEL ERECTORS IN</td>\n",
       "      <td>1</td>\n",
       "    </tr>\n",
       "    <tr>\n",
       "      <th>17</th>\n",
       "      <td>SMITH CREEK LOGISTICS</td>\n",
       "      <td>1</td>\n",
       "    </tr>\n",
       "    <tr>\n",
       "      <th>18</th>\n",
       "      <td>US LINE</td>\n",
       "      <td>1</td>\n",
       "    </tr>\n",
       "    <tr>\n",
       "      <th>19</th>\n",
       "      <td>VITCO INC</td>\n",
       "      <td>1</td>\n",
       "    </tr>\n",
       "    <tr>\n",
       "      <th>10</th>\n",
       "      <td>LEWIS TRANSPORT</td>\n",
       "      <td>1</td>\n",
       "    </tr>\n",
       "  </tbody>\n",
       "</table>\n",
       "</div>"
      ],
      "text/plain": [
       "                        Customer  counts\n",
       "13      PENSKE #0470 - E. LVILLE      88\n",
       "12     PENSKE #0456 - LOUISVILLE      78\n",
       "11       M & M CARTAGE CO., INC.      37\n",
       "14      PENSKE #5471 - JEFFVILLE      29\n",
       "20          WASTE MANAGEMENT,INC      17\n",
       "16  REPUBLIC SERVICES, INC. 3077       7\n",
       "1         BEST-ONE BOWLING GREEN       7\n",
       "4      ERNST CONCRETE KENTUCKIAN       6\n",
       "9       HILL TRANSPORTATION INC.       3\n",
       "0       A&S TRUCK RD SERVICE LLC       3\n",
       "6             FOUR SOLUTIONS LLC       3\n",
       "15  PENSKE #6409-10 - DERBY CITY       2\n",
       "8                   GENTRY COACH       1\n",
       "7      GARY JOHNSON TRUCKING, IN       1\n",
       "5                 EXIE MAY FARMS       1\n",
       "3                      ELLIS LLC       1\n",
       "2      CUNDIFF STEEL ERECTORS IN       1\n",
       "17         SMITH CREEK LOGISTICS       1\n",
       "18                       US LINE       1\n",
       "19                     VITCO INC       1\n",
       "10               LEWIS TRANSPORT       1"
      ]
     },
     "execution_count": 1583,
     "metadata": {},
     "output_type": "execute_result"
    }
   ],
   "source": [
    "by_cust =(df5['Customer']).value_counts().sort_index()\n",
    "df5_customer = by_cust.rename_axis('Customer').reset_index(name='counts')\n",
    "df5_customer.sort_values(by=['counts'], ascending=False, inplace=True)\n",
    "df5_customer"
   ]
  },
  {
   "cell_type": "code",
   "execution_count": 1584,
   "metadata": {},
   "outputs": [
    {
     "name": "stdout",
     "output_type": "stream",
     "text": [
      "            Date    Gross      Net\n",
      "Date                              \n",
      "2021-08  2021-08  4351.50  1351.50\n",
      "2021-09  2021-09  6835.00  2035.00\n",
      "2021-10  2021-10  4828.00  1628.00\n",
      "2021-11  2021-11  5258.50  1608.50\n",
      "2021-12  2021-12  4618.00  1418.00\n",
      "2022-01  2022-01  6515.50  2015.50\n",
      "2022-02  2022-02  4092.00  1292.00\n",
      "2022-03  2022-03  5690.00  1790.00\n",
      "2022-04  2022-04  5220.00  1670.00\n",
      "2022-05  2022-05  2765.00   915.00\n",
      "2022-06  2022-06  5468.50  1768.50\n",
      "2022-07  2022-07  4211.00   961.00\n",
      "2022-08  2022-08  5667.00  1817.00\n",
      "2022-09  2022-09  6610.00  1610.00\n",
      "2022-10  2022-10  6682.49  1882.49\n",
      "2022-11  2022-11  4837.87  1687.87\n"
     ]
    }
   ],
   "source": [
    "df5['Date'] = pd.to_datetime(df5['Date'])\n",
    "df5['Date'] = df5['Date'].dt.strftime('%Y-%m')\n",
    "\n",
    "# #define how to aggregate various fields\n",
    "agg_functions = {'Date': 'first', 'Gross': 'sum', 'Net': 'sum'}\n",
    "\n",
    "# #create new DataFrame by combining rows with same id values\n",
    "df5 = df5.groupby(df5['Date']).aggregate(agg_functions)\n",
    "\n",
    "print(df5)\n",
    "\n",
    "# df_new.to_csv(r'df5.csv', index=False)"
   ]
  },
  {
   "cell_type": "code",
   "execution_count": 1586,
   "metadata": {},
   "outputs": [
    {
     "data": {
      "text/html": [
       "<div>\n",
       "<style scoped>\n",
       "    .dataframe tbody tr th:only-of-type {\n",
       "        vertical-align: middle;\n",
       "    }\n",
       "\n",
       "    .dataframe tbody tr th {\n",
       "        vertical-align: top;\n",
       "    }\n",
       "\n",
       "    .dataframe thead th {\n",
       "        text-align: right;\n",
       "    }\n",
       "</style>\n",
       "<table border=\"1\" class=\"dataframe\">\n",
       "  <thead>\n",
       "    <tr style=\"text-align: right;\">\n",
       "      <th></th>\n",
       "      <th>Date</th>\n",
       "      <th>Gross</th>\n",
       "      <th>Net</th>\n",
       "    </tr>\n",
       "    <tr>\n",
       "      <th>Date</th>\n",
       "      <th></th>\n",
       "      <th></th>\n",
       "      <th></th>\n",
       "    </tr>\n",
       "  </thead>\n",
       "  <tbody>\n",
       "    <tr>\n",
       "      <th>2021-08</th>\n",
       "      <td>2021-08</td>\n",
       "      <td>4351.50</td>\n",
       "      <td>1351.50</td>\n",
       "    </tr>\n",
       "    <tr>\n",
       "      <th>2021-09</th>\n",
       "      <td>2021-09</td>\n",
       "      <td>6835.00</td>\n",
       "      <td>2035.00</td>\n",
       "    </tr>\n",
       "    <tr>\n",
       "      <th>2021-10</th>\n",
       "      <td>2021-10</td>\n",
       "      <td>4828.00</td>\n",
       "      <td>1628.00</td>\n",
       "    </tr>\n",
       "    <tr>\n",
       "      <th>2021-11</th>\n",
       "      <td>2021-11</td>\n",
       "      <td>5258.50</td>\n",
       "      <td>1608.50</td>\n",
       "    </tr>\n",
       "    <tr>\n",
       "      <th>2021-12</th>\n",
       "      <td>2021-12</td>\n",
       "      <td>4618.00</td>\n",
       "      <td>1418.00</td>\n",
       "    </tr>\n",
       "    <tr>\n",
       "      <th>2022-01</th>\n",
       "      <td>2022-01</td>\n",
       "      <td>6515.50</td>\n",
       "      <td>2015.50</td>\n",
       "    </tr>\n",
       "    <tr>\n",
       "      <th>2022-02</th>\n",
       "      <td>2022-02</td>\n",
       "      <td>4092.00</td>\n",
       "      <td>1292.00</td>\n",
       "    </tr>\n",
       "    <tr>\n",
       "      <th>2022-03</th>\n",
       "      <td>2022-03</td>\n",
       "      <td>5690.00</td>\n",
       "      <td>1790.00</td>\n",
       "    </tr>\n",
       "    <tr>\n",
       "      <th>2022-04</th>\n",
       "      <td>2022-04</td>\n",
       "      <td>5220.00</td>\n",
       "      <td>1670.00</td>\n",
       "    </tr>\n",
       "    <tr>\n",
       "      <th>2022-05</th>\n",
       "      <td>2022-05</td>\n",
       "      <td>2765.00</td>\n",
       "      <td>915.00</td>\n",
       "    </tr>\n",
       "    <tr>\n",
       "      <th>2022-06</th>\n",
       "      <td>2022-06</td>\n",
       "      <td>5468.50</td>\n",
       "      <td>1768.50</td>\n",
       "    </tr>\n",
       "    <tr>\n",
       "      <th>2022-07</th>\n",
       "      <td>2022-07</td>\n",
       "      <td>4211.00</td>\n",
       "      <td>961.00</td>\n",
       "    </tr>\n",
       "    <tr>\n",
       "      <th>2022-08</th>\n",
       "      <td>2022-08</td>\n",
       "      <td>5667.00</td>\n",
       "      <td>1817.00</td>\n",
       "    </tr>\n",
       "    <tr>\n",
       "      <th>2022-09</th>\n",
       "      <td>2022-09</td>\n",
       "      <td>6610.00</td>\n",
       "      <td>1610.00</td>\n",
       "    </tr>\n",
       "    <tr>\n",
       "      <th>2022-10</th>\n",
       "      <td>2022-10</td>\n",
       "      <td>6682.49</td>\n",
       "      <td>1882.49</td>\n",
       "    </tr>\n",
       "    <tr>\n",
       "      <th>2022-11</th>\n",
       "      <td>2022-11</td>\n",
       "      <td>4837.87</td>\n",
       "      <td>1687.87</td>\n",
       "    </tr>\n",
       "    <tr>\n",
       "      <th>2021-08</th>\n",
       "      <td>2021-08</td>\n",
       "      <td>300.00</td>\n",
       "      <td>100.00</td>\n",
       "    </tr>\n",
       "    <tr>\n",
       "      <th>2021-09</th>\n",
       "      <td>2021-09</td>\n",
       "      <td>75.00</td>\n",
       "      <td>25.00</td>\n",
       "    </tr>\n",
       "    <tr>\n",
       "      <th>2022-02</th>\n",
       "      <td>2022-02</td>\n",
       "      <td>600.00</td>\n",
       "      <td>200.00</td>\n",
       "    </tr>\n",
       "    <tr>\n",
       "      <th>2022-03</th>\n",
       "      <td>2022-03</td>\n",
       "      <td>1050.00</td>\n",
       "      <td>550.00</td>\n",
       "    </tr>\n",
       "    <tr>\n",
       "      <th>2022-04</th>\n",
       "      <td>2022-04</td>\n",
       "      <td>1140.00</td>\n",
       "      <td>340.00</td>\n",
       "    </tr>\n",
       "    <tr>\n",
       "      <th>2022-05</th>\n",
       "      <td>2022-05</td>\n",
       "      <td>375.00</td>\n",
       "      <td>125.00</td>\n",
       "    </tr>\n",
       "    <tr>\n",
       "      <th>2022-09</th>\n",
       "      <td>2022-09</td>\n",
       "      <td>225.00</td>\n",
       "      <td>75.00</td>\n",
       "    </tr>\n",
       "    <tr>\n",
       "      <th>2022-11</th>\n",
       "      <td>2022-11</td>\n",
       "      <td>300.00</td>\n",
       "      <td>100.00</td>\n",
       "    </tr>\n",
       "    <tr>\n",
       "      <th>2021-08</th>\n",
       "      <td>2021-08</td>\n",
       "      <td>4351.50</td>\n",
       "      <td>1351.50</td>\n",
       "    </tr>\n",
       "    <tr>\n",
       "      <th>2021-09</th>\n",
       "      <td>2021-09</td>\n",
       "      <td>6835.00</td>\n",
       "      <td>2035.00</td>\n",
       "    </tr>\n",
       "    <tr>\n",
       "      <th>2021-10</th>\n",
       "      <td>2021-10</td>\n",
       "      <td>4828.00</td>\n",
       "      <td>1628.00</td>\n",
       "    </tr>\n",
       "    <tr>\n",
       "      <th>2021-11</th>\n",
       "      <td>2021-11</td>\n",
       "      <td>5258.50</td>\n",
       "      <td>1608.50</td>\n",
       "    </tr>\n",
       "    <tr>\n",
       "      <th>2021-12</th>\n",
       "      <td>2021-12</td>\n",
       "      <td>4618.00</td>\n",
       "      <td>1418.00</td>\n",
       "    </tr>\n",
       "    <tr>\n",
       "      <th>2022-01</th>\n",
       "      <td>2022-01</td>\n",
       "      <td>6515.50</td>\n",
       "      <td>2015.50</td>\n",
       "    </tr>\n",
       "  </tbody>\n",
       "</table>\n",
       "</div>"
      ],
      "text/plain": [
       "            Date    Gross      Net\n",
       "Date                              \n",
       "2021-08  2021-08  4351.50  1351.50\n",
       "2021-09  2021-09  6835.00  2035.00\n",
       "2021-10  2021-10  4828.00  1628.00\n",
       "2021-11  2021-11  5258.50  1608.50\n",
       "2021-12  2021-12  4618.00  1418.00\n",
       "2022-01  2022-01  6515.50  2015.50\n",
       "2022-02  2022-02  4092.00  1292.00\n",
       "2022-03  2022-03  5690.00  1790.00\n",
       "2022-04  2022-04  5220.00  1670.00\n",
       "2022-05  2022-05  2765.00   915.00\n",
       "2022-06  2022-06  5468.50  1768.50\n",
       "2022-07  2022-07  4211.00   961.00\n",
       "2022-08  2022-08  5667.00  1817.00\n",
       "2022-09  2022-09  6610.00  1610.00\n",
       "2022-10  2022-10  6682.49  1882.49\n",
       "2022-11  2022-11  4837.87  1687.87\n",
       "2021-08  2021-08   300.00   100.00\n",
       "2021-09  2021-09    75.00    25.00\n",
       "2022-02  2022-02   600.00   200.00\n",
       "2022-03  2022-03  1050.00   550.00\n",
       "2022-04  2022-04  1140.00   340.00\n",
       "2022-05  2022-05   375.00   125.00\n",
       "2022-09  2022-09   225.00    75.00\n",
       "2022-11  2022-11   300.00   100.00\n",
       "2021-08  2021-08  4351.50  1351.50\n",
       "2021-09  2021-09  6835.00  2035.00\n",
       "2021-10  2021-10  4828.00  1628.00\n",
       "2021-11  2021-11  5258.50  1608.50\n",
       "2021-12  2021-12  4618.00  1418.00\n",
       "2022-01  2022-01  6515.50  2015.50"
      ]
     },
     "execution_count": 1586,
     "metadata": {},
     "output_type": "execute_result"
    }
   ],
   "source": [
    "frames = [df0, df1, df2, df3, df4, df5]\n",
    "\n",
    "df99 = pd.concat(frames)\n",
    "# df99.drop(columns=['Date'], inplace=True)\n",
    "df99.head(30)\n",
    "\n",
    "# print(df99['Net'].sum())\n",
    "# print(df99['Gross'].sum())"
   ]
  },
  {
   "cell_type": "code",
   "execution_count": 1587,
   "metadata": {},
   "outputs": [
    {
     "data": {
      "image/png": "[encoded data removed]",
      "text/plain": [
       "<Figure size 432x288 with 1 Axes>"
      ]
     },
     "metadata": {
      "needs_background": "light"
     },
     "output_type": "display_data"
    },
    {
     "name": "stdout",
     "output_type": "stream",
     "text": [
      "Total Gross: 171365.72\n",
      "Total Net: 52415.72\n"
     ]
    }
   ],
   "source": [
    "frames = [df0, df1, df2, df3, df4, df5]\n",
    "\n",
    "df99 = pd.concat(frames)\n",
    "df99.head()\n",
    "\n",
    "# print(df99['Net'].sum())\n",
    "# print(df99['Gross'].sum())\n",
    "\n",
    "\n",
    "Net_Gross = {\n",
    "    '370_Gross' : df0['Gross'].sum(),\n",
    "    '370_net' : df0['Net'].sum(),\n",
    "    '372_Gross' : df1['Gross'].sum(),\n",
    "    '372_net' : df1['Net'].sum(),\n",
    "    '373_Gross' : df2['Gross'].sum(),\n",
    "    '373_net' : df2['Net'].sum(),\n",
    "    '374_Gross' : df3['Gross'].sum(),\n",
    "    '374_net' : df3['Net'].sum(),\n",
    "    '375_Gross' : df4['Gross'].sum(),\n",
    "    '375_net' : df4['Net'].sum(),\n",
    "    '376_Gross' : df5['Gross'].sum(),\n",
    "    '376_net' : df5['Net'].sum(),\n",
    "}\n",
    "\n",
    "data = Net_Gross\n",
    "names = list(data.keys())\n",
    "values = list(data.values())\n",
    "\n",
    "plt.bar(range(len(data)), values, tick_label=names)\n",
    "plt.xticks(range(len(names)), names, rotation='vertical')\n",
    "plt.show()\n",
    "\n",
    "Total_Gross = df0['Gross'].sum() + df1['Gross'].sum() + df2['Gross'].sum() + df3['Gross'].sum() + df4['Gross'].sum() + df5['Gross'].sum()\n",
    "Total_net = df0['Net'].sum() + df1['Net'].sum() + df2['Net'].sum() + df3['Net'].sum() + df4['Net'].sum() + df5['Net'].sum()\n",
    "\n",
    "print('Total Gross:',(Total_Gross))\n",
    "print('Total Net:',(Total_net))\n"
   ]
  },
  {
   "cell_type": "code",
   "execution_count": 1588,
   "metadata": {},
   "outputs": [
    {
     "data": {
      "image/png": "[encoded data removed]",
      "text/plain": [
       "<Figure size 432x288 with 1 Axes>"
      ]
     },
     "metadata": {
      "needs_background": "light"
     },
     "output_type": "display_data"
    },
    {
     "name": "stdout",
     "output_type": "stream",
     "text": [
      "Total Gross: 171365.72\n",
      "Total Net: 52415.72\n"
     ]
    }
   ],
   "source": [
    "# Graph for total time span imported\n",
    "\n",
    "Net_Gross_all = {\n",
    "    'Gross' : df99['Gross'].sum(),\n",
    "    'Net' : df99['Net'].sum()\n",
    "}\n",
    "\n",
    "data = Net_Gross_all\n",
    "names = list(data.keys())\n",
    "values = list(data.values())\n",
    "\n",
    "plt.bar(range(len(data)), values, tick_label=names)\n",
    "plt.xticks(range(len(names)), names, rotation='vertical')\n",
    "plt.show()\n",
    "\n",
    "Total_Gross = df99['Gross'].sum()\n",
    "Total_net = df99['Net'].sum() \n",
    "\n",
    "print('Total Gross:',(Total_Gross))\n",
    "print('Total Net:',(Total_net))"
   ]
  },
  {
   "cell_type": "code",
   "execution_count": 1589,
   "metadata": {},
   "outputs": [
    {
     "data": {
      "text/html": [
       "<div>\n",
       "<style scoped>\n",
       "    .dataframe tbody tr th:only-of-type {\n",
       "        vertical-align: middle;\n",
       "    }\n",
       "\n",
       "    .dataframe tbody tr th {\n",
       "        vertical-align: top;\n",
       "    }\n",
       "\n",
       "    .dataframe thead th {\n",
       "        text-align: right;\n",
       "    }\n",
       "</style>\n",
       "<table border=\"1\" class=\"dataframe\">\n",
       "  <thead>\n",
       "    <tr style=\"text-align: right;\">\n",
       "      <th></th>\n",
       "      <th>Date</th>\n",
       "      <th>Gross</th>\n",
       "      <th>Net</th>\n",
       "    </tr>\n",
       "    <tr>\n",
       "      <th>Date</th>\n",
       "      <th></th>\n",
       "      <th></th>\n",
       "      <th></th>\n",
       "    </tr>\n",
       "  </thead>\n",
       "  <tbody>\n",
       "    <tr>\n",
       "      <th>2021-08</th>\n",
       "      <td>2021-08</td>\n",
       "      <td>4351.5</td>\n",
       "      <td>1351.5</td>\n",
       "    </tr>\n",
       "    <tr>\n",
       "      <th>2021-09</th>\n",
       "      <td>2021-09</td>\n",
       "      <td>6835.0</td>\n",
       "      <td>2035.0</td>\n",
       "    </tr>\n",
       "    <tr>\n",
       "      <th>2021-10</th>\n",
       "      <td>2021-10</td>\n",
       "      <td>4828.0</td>\n",
       "      <td>1628.0</td>\n",
       "    </tr>\n",
       "    <tr>\n",
       "      <th>2021-11</th>\n",
       "      <td>2021-11</td>\n",
       "      <td>5258.5</td>\n",
       "      <td>1608.5</td>\n",
       "    </tr>\n",
       "    <tr>\n",
       "      <th>2021-12</th>\n",
       "      <td>2021-12</td>\n",
       "      <td>4618.0</td>\n",
       "      <td>1418.0</td>\n",
       "    </tr>\n",
       "  </tbody>\n",
       "</table>\n",
       "</div>"
      ],
      "text/plain": [
       "            Date   Gross     Net\n",
       "Date                            \n",
       "2021-08  2021-08  4351.5  1351.5\n",
       "2021-09  2021-09  6835.0  2035.0\n",
       "2021-10  2021-10  4828.0  1628.0\n",
       "2021-11  2021-11  5258.5  1608.5\n",
       "2021-12  2021-12  4618.0  1418.0"
      ]
     },
     "execution_count": 1589,
     "metadata": {},
     "output_type": "execute_result"
    }
   ],
   "source": [
    "df99.head()"
   ]
  }
 ],
 "metadata": {
  "kernelspec": {
   "display_name": "Python 3.9.7 ('base')",
   "language": "python",
   "name": "python3"
  },
  "language_info": {
   "codemirror_mode": {
    "name": "ipython",
    "version": 3
   },
   "file_extension": ".py",
   "mimetype": "text/x-python",
   "name": "python",
   "nbconvert_exporter": "python",
   "pygments_lexer": "ipython3",
   "version": "3.9.7"
  },
  "orig_nbformat": 4,
  "vscode": {
   "interpreter": {
    "hash": "40d3a090f54c6569ab1632332b64b2c03c39dcf918b08424e98f38b5ae0af88f"
   }
  }
 },
 "nbformat": 4,
 "nbformat_minor": 2
}
