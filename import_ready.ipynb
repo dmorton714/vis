{
 "cells": [
  {
   "cell_type": "code",
   "execution_count": 1,
   "metadata": {},
   "outputs": [],
   "source": [
    "import pandas as pd\n",
    "import matplotlib.pyplot as plt\n",
    "import matplotlib.dates as mdates\n",
    "import datetime\n",
    "import csv\n",
    "import numpy as np\n",
    "import seaborn as sns\n",
    "import matplotlib.ticker as ticker"
   ]
  },
  {
   "cell_type": "code",
   "execution_count": 2,
   "metadata": {},
   "outputs": [
    {
     "name": "stderr",
     "output_type": "stream",
     "text": [
      "/opt/anaconda3/lib/python3.9/site-packages/openpyxl/styles/stylesheet.py:226: UserWarning: Workbook contains no default style, apply openpyxl's default\n",
      "  warn(\"Workbook contains no default style, apply openpyxl's default\")\n"
     ]
    }
   ],
   "source": [
    "df0 = pd.read_excel (r'input/370.xlsx',header=[3])\n",
    "df0.drop(columns=['Transaction Type', 'Reference Number', 'Customer Vendor #','Inventory Balance', 'Transaction Date.1','Reference Number.1', 'Created By', 'Created Date', 'Inventory Quantity','Transaction Type.1', 'Created Time', 'Last Changed By', 'Last Changed Date','Receiving PO Number', 'Last Changed Time' ], inplace=True)\n",
    "df0.rename(columns={'Customer/Vendor Name' : 'Customer','Non-Inventory Quantity': 'Qty', 'Transaction Date' : 'Date'}, inplace=True)\n",
    "df0 = df0[df0.Customer != \"TRANSFERS TO #372 J'VILLE\"]\n",
    "df0 = df0[df0.Customer != \"TRANSFERS TO #374 SEYMOUR\"]\n",
    "df0 = df0[df0.Customer != \"TRANSFERS TO #373 E-TOWN\"]\n",
    "df0 = df0[df0.Customer != \"TRANSFERS TO #375 S'VILLE\"]\n",
    "df0 = df0[df0.Customer != \"*** STORE TRANSFERS ***\"]\n",
    "df0 = df0[df0.Customer != \"Beginning Balance\"]\n",
    "df0 = df0[df0.Customer != 'Net Activity']\n",
    "df0 = df0[df0.Customer != 'Ending Balance']\n",
    "df0 = df0[df0.Customer != 'VOID']\n",
    "df0 = df0[df0.Customer != \"TRANSFERS TO #376 L'VILLE\"]\n",
    "df0 = df0.dropna(how=\"all\")\n",
    "Gross = df0.Qty * df0.Price\n",
    "df0['Gross'] = Gross.where(df0.Price == 'Qty', other=Gross)\n",
    "\n",
    "Net = df0.Qty * df0.Cost \n",
    "df0['Net'] = Net.where(df0.Cost == 'Qty', other=Net)\n",
    "\n",
    "Net = df0.Gross - df0.Net \n",
    "df0['Net'] = Net.where(df0.Gross == \"Net\", other=Net)\n",
    "\n",
    "# Graph for total time span imported\n",
    "\n",
    "Net_Gross270 = {\n",
    "    'Gross' : df0['Gross'].sum(),\n",
    "    'Net' : df0['Net'].sum()\n",
    "}"
   ]
  },
  {
   "cell_type": "code",
   "execution_count": 3,
   "metadata": {},
   "outputs": [],
   "source": [
    "by_cust =(df0['Customer']).value_counts().sort_index()\n",
    "df0_customer = by_cust.rename_axis('Customer').reset_index(name='counts')\n",
    "df0_customer.sort_values(by=['counts'], ascending=False, inplace=True)\n",
    "df0_customer = df0_customer.reset_index(drop=True)\n",
    "# df0_customer\n",
    "df0_customer.to_csv(r'output/370_customers.csv', index=False)"
   ]
  },
  {
   "cell_type": "code",
   "execution_count": 4,
   "metadata": {},
   "outputs": [],
   "source": [
    "df0['Date'] = pd.to_datetime(df0['Date'])\n",
    "df0['Date'] = df0['Date'].dt.strftime('%Y-%m')\n",
    "\n",
    "# #define how to aggregate various fields\n",
    "agg_functions = {'Date': 'first', 'Gross': 'sum', 'Net': 'sum'}\n",
    "\n",
    "# #create new DataFrame by combining rows with same id values\n",
    "df0 = df0.groupby(df0['Date']).aggregate(agg_functions)\n",
    "\n",
    "# print(df0)\n",
    "\n",
    "# df_new.to_csv(r'df5.csv', index=False)"
   ]
  },
  {
   "cell_type": "code",
   "execution_count": 5,
   "metadata": {},
   "outputs": [
    {
     "data": {
      "image/png": "[encoded data removed]",
      "text/plain": [
       "<Figure size 432x288 with 1 Axes>"
      ]
     },
     "metadata": {
      "needs_background": "light"
     },
     "output_type": "display_data"
    }
   ],
   "source": [
    "# x-coordinates of left sides of bars \n",
    "left = df0['Date']\n",
    "  \n",
    "# heights of bars\n",
    "Gross = df0['Gross']\n",
    "Net = df0['Net']\n",
    "  \n",
    "# labels for bars\n",
    "tick_label = df0['Date']\n",
    "  \n",
    "# plotting a bar chart\n",
    "plt.bar(left, Gross, tick_label = tick_label, width = 0.8, color = ['blue'], label = 'Gross')\n",
    "plt.bar(left, Net, tick_label = tick_label, width = 0.8, color = ['green'], label = 'Net' )\n",
    "plt.xticks(rotation='vertical')\n",
    "  \n",
    "# naming the x-axis\n",
    "plt.xlabel('Month')\n",
    "# naming the y-axis\n",
    "plt.ylabel('Profit')\n",
    "# plot title\n",
    "plt.title('370 Nets and Gross Profit')\n",
    "plt.legend(loc=\"best\")\n",
    "# function to show the plot\n",
    "plt.savefig('output/370_gnp.jpg', dpi=100, bbox_inches = 'tight')\n",
    "# plt.show()"
   ]
  },
  {
   "cell_type": "markdown",
   "metadata": {},
   "source": [
    "Store 372 Import and Clean "
   ]
  },
  {
   "cell_type": "code",
   "execution_count": 6,
   "metadata": {},
   "outputs": [],
   "source": [
    "df1 = pd.read_excel (r'input/372.xlsx',header=[3])\n",
    "df1.drop(columns=['Transaction Type', 'Reference Number', 'Customer Vendor #','Inventory Balance', 'Transaction Date.1','Reference Number.1', 'Created By', 'Created Date', 'Inventory Quantity','Transaction Type.1', 'Created Time', 'Last Changed By', 'Last Changed Date','Receiving PO Number', 'Last Changed Time' ], inplace=True)\n",
    "df1.rename(columns={'Customer/Vendor Name' : 'Customer','Non-Inventory Quantity': 'Qty', 'Transaction Date' : 'Date'}, inplace=True)\n",
    "df1 = df1[df1.Customer != \"TRANSFERS TO #372 J'VILLE\"]\n",
    "df1 = df1[df1.Customer != \"TRANSFERS TO #374 SEYMOUR\"]\n",
    "df1 = df1[df1.Customer != \"TRANSFERS TO #373 E-TOWN\"]\n",
    "df1 = df1[df1.Customer != \"TRANSFERS TO #375 S'VILLE\"]\n",
    "df1 = df1[df1.Customer != \"*** STORE TRANSFERS ***\"]\n",
    "df1 = df1[df1.Customer != \"Beginning Balance\"]\n",
    "df1 = df1[df1.Customer != 'Net Activity']\n",
    "df1 = df1[df1.Customer != 'Ending Balance']\n",
    "df1 = df1[df1.Customer != 'VOID']\n",
    "df1 = df1[df1.Customer != \"TRANSFERS TO #376 L'VILLE\"]\n",
    "df1 = df1.dropna(how=\"all\")\n",
    "\n",
    "Gross = df1.Qty * df1.Price\n",
    "df1['Gross'] = Gross.where(df1.Price == 'Qty', other=Gross)\n",
    "\n",
    "Net = df1.Qty * df1.Cost \n",
    "df1['Net'] = Net.where(df1.Cost == 'Qty', other=Net)\n",
    "\n",
    "Net = df1.Gross - df1.Net \n",
    "df1['Net'] = Net.where(df1.Gross == \"Net\", other=Net)\n",
    "\n",
    "# Graph for total time span imported\n",
    "\n",
    "Net_Gross272 = {\n",
    "    'Gross' : df1['Gross'].sum(),\n",
    "    'Net' : df1['Net'].sum()\n",
    "}"
   ]
  },
  {
   "cell_type": "code",
   "execution_count": 7,
   "metadata": {},
   "outputs": [],
   "source": [
    "by_cust =(df1['Customer']).value_counts().sort_index()\n",
    "df1_customer = by_cust.rename_axis('Customer').reset_index(name='counts')\n",
    "df1_customer.sort_values(by=['counts'], ascending=False, inplace=True)\n",
    "df1_customer = df1_customer.reset_index(drop=True)\n",
    "# df1_customer\n",
    "df1_customer.to_csv(r'output/372_customers.csv', index=False)"
   ]
  },
  {
   "cell_type": "code",
   "execution_count": 8,
   "metadata": {},
   "outputs": [],
   "source": [
    "df1['Date'] = pd.to_datetime(df1['Date'])\n",
    "df1['Date'] = df1['Date'].dt.strftime('%Y-%m')\n",
    "\n",
    "# #define how to aggregate various fields\n",
    "agg_functions = {'Date': 'first', 'Gross': 'sum', 'Net': 'sum'}\n",
    "\n",
    "# #create new DataFrame by combining rows with same id values\n",
    "df1 = df1.groupby(df1['Date']).aggregate(agg_functions)"
   ]
  },
  {
   "cell_type": "code",
   "execution_count": 9,
   "metadata": {},
   "outputs": [
    {
     "data": {
      "image/png": "[encoded data removed]",
      "text/plain": [
       "<Figure size 432x288 with 1 Axes>"
      ]
     },
     "metadata": {
      "needs_background": "light"
     },
     "output_type": "display_data"
    }
   ],
   "source": [
    "# x-coordinates of left sides of bars \n",
    "left = df1['Date']\n",
    "  \n",
    "# heights of bars\n",
    "Gross = df1['Gross']\n",
    "Net = df1['Net']\n",
    "  \n",
    "# labels for bars\n",
    "tick_label = df1['Date']\n",
    "  \n",
    "# plotting a bar chart\n",
    "plt.bar(left, Gross, tick_label = tick_label, width = 0.8, color = ['blue'], label = 'Gross')\n",
    "plt.bar(left, Net, tick_label = tick_label, width = 0.8, color = ['green'], label = 'Net' )\n",
    "plt.xticks(rotation='vertical')\n",
    "  \n",
    "# naming the x-axis\n",
    "plt.xlabel('Month')\n",
    "# naming the y-axis\n",
    "plt.ylabel('Profit')\n",
    "# plot title\n",
    "plt.title('372 Nets and Gross Profit')\n",
    "plt.legend(loc=\"best\")\n",
    "# function to show the plot\n",
    "plt.savefig('output/372_gnp.jpg', dpi=100, bbox_inches = 'tight')\n",
    "# plt.show()"
   ]
  },
  {
   "cell_type": "markdown",
   "metadata": {},
   "source": [
    "Store 373 Import and Clean "
   ]
  },
  {
   "cell_type": "code",
   "execution_count": 10,
   "metadata": {},
   "outputs": [],
   "source": [
    "df2 = pd.read_excel (r'input/373.xlsx',header=[3])\n",
    "df2.drop(columns=['Transaction Type', 'Reference Number', 'Customer Vendor #','Inventory Balance', 'Transaction Date.1','Reference Number.1', 'Created By', 'Created Date', 'Inventory Quantity','Transaction Type.1', 'Created Time', 'Last Changed By', 'Last Changed Date','Receiving PO Number', 'Last Changed Time' ], inplace=True)\n",
    "df2.rename(columns={'Customer/Vendor Name' : 'Customer', \"Transaction Date\" : 'Date', 'Non-Inventory Quantity' : 'Qty','Transaction Date' : 'Date'}, inplace=True)\n",
    "df2 = df2[df2.Customer != \"TRANSFERS TO #372 J'VILLE\"]\n",
    "df2 = df2[df2.Customer != \"TRANSFERS TO #374 SEYMOUR\"]\n",
    "df2 = df2[df2.Customer != \"TRANSFERS TO #373 E-TOWN\"]\n",
    "df2 = df2[df2.Customer != \"TRANSFERS TO #375 S'VILLE\"]\n",
    "df2 = df2[df2.Customer != \"*** STORE TRANSFERS ***\"]\n",
    "df2 = df2[df2.Customer != \"Beginning Balance\"]\n",
    "df2 = df2[df2.Customer != 'Net Activity']\n",
    "df2 = df2[df2.Customer != 'Ending Balance']\n",
    "df2 = df2[df2.Customer != 'VOID']\n",
    "df2 = df2[df2.Customer != \"TRANSFERS TO #376 L'VILLE\"]\n",
    "df2 = df2.dropna(how=\"all\")\n",
    "\n",
    "Gross = df2.Qty * df2.Price\n",
    "df2['Gross'] = Gross.where(df2.Price == 'Qty', other=Gross)\n",
    "\n",
    "Net = df2.Qty * df2.Cost \n",
    "df2['Net'] = Net.where(df2.Cost == 'Qty', other=Net)\n",
    "\n",
    "Net = df2.Gross - df2.Net \n",
    "df2['Net'] = Net.where(df2.Gross == \"Net\", other=Net)\n",
    "\n",
    "# Graph for total time span imported\n",
    "\n",
    "Net_Gross273 = {\n",
    "    'Gross' : df2['Gross'].sum(),\n",
    "    'Net' : df2['Net'].sum()\n",
    "}"
   ]
  },
  {
   "cell_type": "code",
   "execution_count": 11,
   "metadata": {},
   "outputs": [],
   "source": [
    "by_cust =(df2['Customer']).value_counts().sort_index()\n",
    "df2_customer = by_cust.rename_axis('Customer').reset_index(name='counts')\n",
    "df2_customer.sort_values(by=['counts'], ascending=False, inplace=True)\n",
    "df2_customer = df2_customer.reset_index(drop=True)\n",
    "# df2_customer\n",
    "df2_customer.to_csv(r'output/373_customers.csv', index=False)"
   ]
  },
  {
   "cell_type": "code",
   "execution_count": 12,
   "metadata": {},
   "outputs": [],
   "source": [
    "df2['Date'] = pd.to_datetime(df2['Date'])\n",
    "df2['Date'] = df2['Date'].dt.strftime('%Y-%m')\n",
    "\n",
    "# #define how to aggregate various fields\n",
    "agg_functions = {'Date': 'first', 'Gross': 'sum', 'Net': 'sum'}\n",
    "\n",
    "# #create new DataFrame by combining rows with same id values\n",
    "df2 = df2.groupby(df2['Date']).aggregate(agg_functions)\n",
    "\n",
    "# print(df2)\n"
   ]
  },
  {
   "cell_type": "code",
   "execution_count": 13,
   "metadata": {},
   "outputs": [
    {
     "data": {
      "image/png": "[encoded data removed]",
      "text/plain": [
       "<Figure size 432x288 with 1 Axes>"
      ]
     },
     "metadata": {
      "needs_background": "light"
     },
     "output_type": "display_data"
    }
   ],
   "source": [
    "# x-coordinates of left sides of bars \n",
    "left = df2['Date']\n",
    "  \n",
    "# heights of bars\n",
    "Gross = df2['Gross']\n",
    "Net = df2['Net']\n",
    "  \n",
    "# labels for bars\n",
    "tick_label = df2['Date']\n",
    "  \n",
    "# plotting a bar chart\n",
    "plt.bar(left, Gross, tick_label = tick_label, width = 0.8, color = ['blue'], label = 'Gross')\n",
    "plt.bar(left, Net, tick_label = tick_label, width = 0.8, color = ['green'], label = 'Net' )\n",
    "plt.xticks(rotation='vertical')\n",
    "  \n",
    "# naming the x-axis\n",
    "plt.xlabel('Month')\n",
    "# naming the y-axis\n",
    "plt.ylabel('Profit')\n",
    "# plot title\n",
    "plt.title('373 Nets and Gross Profit')\n",
    "plt.legend(loc=\"best\")\n",
    "# function to show the plot\n",
    "plt.savefig('output/373_gnp.jpg', dpi=100, bbox_inches = 'tight')\n",
    "# plt.show()"
   ]
  },
  {
   "cell_type": "markdown",
   "metadata": {},
   "source": [
    "Store 374 Import and Clean "
   ]
  },
  {
   "cell_type": "code",
   "execution_count": 14,
   "metadata": {},
   "outputs": [],
   "source": [
    "df3 = pd.read_excel (r'input/374.xlsx',header=[3])\n",
    "df3.drop(columns=['Transaction Type', 'Reference Number', 'Customer Vendor #','Inventory Balance', 'Transaction Date.1','Reference Number.1', 'Created By', 'Created Date', 'Inventory Quantity','Transaction Type.1', 'Created Time', 'Last Changed By', 'Last Changed Date','Receiving PO Number', 'Last Changed Time' ], inplace=True)\n",
    "df3.rename(columns={'Customer/Vendor Name' : 'Customer','Non-Inventory Quantity': 'Qty', 'Transaction Date' : 'Date'}, inplace=True)\n",
    "df3 = df3[df3.Customer != \"TRANSFERS TO #372 J'VILLE\"]\n",
    "df3 = df3[df3.Customer != \"TRANSFERS TO #374 SEYMOUR\"]\n",
    "df3 = df3[df3.Customer != \"TRANSFERS TO #373 E-TOWN\"]\n",
    "df3 = df3[df3.Customer != \"TRANSFERS TO #375 S'VILLE\"]\n",
    "df3 = df3[df3.Customer != \"*** STORE TRANSFERS ***\"]\n",
    "df3 = df3[df3.Customer != \"Beginning Balance\"]\n",
    "df3 = df3[df3.Customer != 'Net Activity']\n",
    "df3 = df3[df3.Customer != 'Ending Balance']\n",
    "df3 = df3[df3.Customer != 'VOID']\n",
    "df3 = df3[df3.Customer != \"TRANSFERS TO #376 L'VILLE\"]\n",
    "df3 = df3.dropna(how=\"all\")\n",
    "\n",
    "Gross = df3.Qty * df3.Price\n",
    "df3['Gross'] = Gross.where(df3.Price == 'Qty', other=Gross)\n",
    "\n",
    "Net = df3.Qty * df3.Cost \n",
    "df3['Net'] = Net.where(df3.Cost == 'Qty', other=Net)\n",
    "\n",
    "Net = df3.Gross - df3.Net \n",
    "df3['Net'] = Net.where(df3.Gross == \"Net\", other=Net)\n",
    "\n",
    "# Graph for total time span imported\n",
    "\n",
    "Net_Gross274 = {\n",
    "    'Gross' : df3['Gross'].sum(),\n",
    "    'Net' : df3['Net'].sum()\n",
    "}"
   ]
  },
  {
   "cell_type": "code",
   "execution_count": 15,
   "metadata": {},
   "outputs": [],
   "source": [
    "by_cust =(df3['Customer']).value_counts().sort_index()\n",
    "df3_customer = by_cust.rename_axis('Customer').reset_index(name='counts')\n",
    "df3_customer.sort_values(by=['counts'], ascending=False, inplace=True)\n",
    "df3_customer = df3_customer.reset_index(drop=True)\n",
    "# df3_customer\n",
    "df3_customer.to_csv(r'output/374_customers.csv', index=False)"
   ]
  },
  {
   "cell_type": "code",
   "execution_count": 16,
   "metadata": {},
   "outputs": [],
   "source": [
    "df3['Date'] = pd.to_datetime(df3['Date'])\n",
    "df3['Date'] = df3['Date'].dt.strftime('%Y-%m')\n",
    "\n",
    "# #define how to aggregate various fields\n",
    "agg_functions = {'Date': 'first', 'Gross': 'sum', 'Net': 'sum'}\n",
    "\n",
    "# #create new DataFrame by combining rows with same id values\n",
    "df3 = df3.groupby(df3['Date']).aggregate(agg_functions)\n",
    "\n",
    "# print(df3)"
   ]
  },
  {
   "cell_type": "code",
   "execution_count": 17,
   "metadata": {},
   "outputs": [
    {
     "data": {
      "image/png": "[encoded data removed]",
      "text/plain": [
       "<Figure size 432x288 with 1 Axes>"
      ]
     },
     "metadata": {
      "needs_background": "light"
     },
     "output_type": "display_data"
    }
   ],
   "source": [
    "# x-coordinates of left sides of bars \n",
    "left = df3['Date']\n",
    "  \n",
    "# heights of bars\n",
    "Gross = df3['Gross']\n",
    "Net = df3['Net']\n",
    "  \n",
    "# labels for bars\n",
    "tick_label = df3['Date']\n",
    "  \n",
    "# plotting a bar chart\n",
    "plt.bar(left, Gross, tick_label = tick_label, width = 0.8, color = ['blue'], label = 'Gross')\n",
    "plt.bar(left, Net, tick_label = tick_label, width = 0.8, color = ['green'], label = 'Net' )\n",
    "plt.xticks(rotation='vertical')\n",
    "  \n",
    "# naming the x-axis\n",
    "plt.xlabel('Month')\n",
    "# naming the y-axis\n",
    "plt.ylabel('Profit')\n",
    "# plot title\n",
    "plt.title('374 Nets and Gross Profit')\n",
    "plt.legend(loc=\"best\")\n",
    "# function to show the plot\n",
    "plt.savefig('output/374_gnp.jpg', dpi=100, bbox_inches = 'tight')\n",
    "# plt.show()"
   ]
  },
  {
   "cell_type": "markdown",
   "metadata": {},
   "source": [
    "Store 375 Import and Clean "
   ]
  },
  {
   "cell_type": "code",
   "execution_count": 18,
   "metadata": {},
   "outputs": [],
   "source": [
    "df4 = pd.read_excel (r'input/375.xlsx',header=[3])\n",
    "df4.drop(columns=['Transaction Type', 'Reference Number', 'Customer Vendor #','Inventory Balance', 'Transaction Date.1','Reference Number.1', 'Created By', 'Created Date', 'Inventory Quantity','Transaction Type.1', 'Created Time', 'Last Changed By', 'Last Changed Date','Receiving PO Number', 'Last Changed Time' ], inplace=True)\n",
    "df4.rename(columns={'Customer/Vendor Name' : 'Customer', 'Non-Inventory Quantity': 'Qty', 'Transaction Date' : 'Date'}, inplace=True)\n",
    "df4 = df4[df4.Customer != \"TRANSFERS TO #372 J'VILLE\"]\n",
    "df4 = df4[df4.Customer != \"TRANSFERS TO #374 SEYMOUR\"]\n",
    "df4 = df4[df4.Customer != \"TRANSFERS TO #373 E-TOWN\"]\n",
    "df4 = df4[df4.Customer != \"TRANSFERS TO #375 S'VILLE\"]\n",
    "df4 = df4[df4.Customer != \"*** STORE TRANSFERS ***\"]\n",
    "df4 = df4[df4.Customer != \"Beginning Balance\"]\n",
    "df4 = df4[df4.Customer != 'Net Activity']\n",
    "df4 = df4[df4.Customer != 'Ending Balance']\n",
    "df4 = df4[df4.Customer != 'VOID']\n",
    "df4 = df4[df4.Customer != \"TRANSFERS TO #376 L'VILLE\"]\n",
    "df4 = df4.dropna(how=\"all\")\n",
    "\n",
    "Gross = df4.Qty * df4.Price\n",
    "df4['Gross'] = Gross.where(df4.Price == 'Qty', other=Gross)\n",
    "\n",
    "Net = df4.Qty * df4.Cost \n",
    "df4['Net'] = Net.where(df4.Cost == 'Qty', other=Net)\n",
    "\n",
    "Net = df4.Gross - df4.Net \n",
    "df4['Net'] = Net.where(df4.Gross == \"Net\", other=Net)\n",
    "\n",
    "# Graph for total time span imported\n",
    "\n",
    "Net_Gross275 = {\n",
    "    'Gross' : df4['Gross'].sum(),\n",
    "    'Net' : df4['Net'].sum()\n",
    "}"
   ]
  },
  {
   "cell_type": "code",
   "execution_count": 19,
   "metadata": {},
   "outputs": [],
   "source": [
    "by_cust =(df4['Customer']).value_counts().sort_index()\n",
    "df4_customer = by_cust.rename_axis('Customer').reset_index(name='counts')\n",
    "df4_customer.sort_values(by=['counts'], ascending=False, inplace=True)\n",
    "df4_customer = df4_customer.reset_index(drop=True)\n",
    "df4_customer\n",
    "df4_customer.to_csv(r'output/375_customers.csv', index=False)"
   ]
  },
  {
   "cell_type": "code",
   "execution_count": 20,
   "metadata": {},
   "outputs": [],
   "source": [
    "df4['Date'] = pd.to_datetime(df4['Date'])\n",
    "df4['Date'] = df4['Date'].dt.strftime('%Y-%m')\n",
    "\n",
    "# #define how to aggregate various fields\n",
    "agg_functions = {'Date': 'first', 'Gross': 'sum', 'Net': 'sum'}\n",
    "\n",
    "# #create new DataFrame by combining rows with same id values\n",
    "df4 = df4.groupby(df4['Date']).aggregate(agg_functions)\n",
    "\n",
    "# print(df4)"
   ]
  },
  {
   "cell_type": "code",
   "execution_count": 21,
   "metadata": {},
   "outputs": [
    {
     "data": {
      "image/png": "[encoded data removed]",
      "text/plain": [
       "<Figure size 432x288 with 1 Axes>"
      ]
     },
     "metadata": {
      "needs_background": "light"
     },
     "output_type": "display_data"
    }
   ],
   "source": [
    "# x-coordinates of left sides of bars \n",
    "left = df4['Date']\n",
    "  \n",
    "# heights of bars\n",
    "Gross = df4['Gross']\n",
    "Net = df4['Net']\n",
    "  \n",
    "# labels for bars\n",
    "tick_label = df4['Date']\n",
    "  \n",
    "# plotting a bar chart\n",
    "plt.bar(left, Gross, tick_label = tick_label, width = 0.8, color = ['blue'], label = 'Gross')\n",
    "plt.bar(left, Net, tick_label = tick_label, width = 0.8, color = ['green'], label = 'Net' )\n",
    "plt.xticks(rotation='vertical')\n",
    "  \n",
    "# naming the x-axis\n",
    "plt.xlabel('Month')\n",
    "# naming the y-axis\n",
    "plt.ylabel('Profit')\n",
    "# plot title\n",
    "plt.title('375 Nets and Gross Profit')\n",
    "plt.legend(loc=\"best\")\n",
    "# function to show the plot\n",
    "plt.savefig('output/375_gnp.jpg', dpi=100, bbox_inches = 'tight')\n",
    "# plt.show()"
   ]
  },
  {
   "cell_type": "markdown",
   "metadata": {},
   "source": []
  },
  {
   "cell_type": "code",
   "execution_count": 22,
   "metadata": {},
   "outputs": [],
   "source": [
    "# df5 = pd.read_excel (r'376.xlsx',header=[3])\n",
    "df5 = pd.read_excel (r'input/376.xlsx',header=[3])\n",
    "# ../data_folder/data.csv\n",
    "\n",
    "df5.drop(columns=['Transaction Type', 'Reference Number', 'Customer Vendor #','Inventory Balance', 'Transaction Date.1','Reference Number.1', 'Created By', 'Created Date', 'Inventory Quantity','Transaction Type.1', 'Created Time', 'Last Changed By', 'Last Changed Date','Receiving PO Number', 'Last Changed Time' ], inplace=True)\n",
    "\n",
    "df5.rename(columns={'Customer/Vendor Name' : 'Customer', 'Non-Inventory Quantity': 'Qty', 'Transaction Date' : 'Date'}, inplace=True)\n",
    "\n",
    "df5 = df5[df5.Customer != \"TRANSFERS TO #372 J'VILLE\"]\n",
    "df5 = df5[df5.Customer != \"TRANSFERS TO #374 SEYMOUR\"]\n",
    "df5 = df5[df5.Customer != \"TRANSFERS TO #373 E-TOWN\"]\n",
    "df5 = df5[df5.Customer != \"TRANSFERS TO #375 S'VILLE\"]\n",
    "df5 = df5[df5.Customer != \"*** STORE TRANSFERS ***\"]\n",
    "df5 = df5[df5.Customer != \"Beginning Balance\"]\n",
    "df5 = df5[df5.Customer != 'Net Activity']\n",
    "df5 = df5[df5.Customer != 'Ending Balance']\n",
    "df5 = df5[df5.Customer != 'VOID']\n",
    "df5 = df5[df5.Customer != \"TRANSFERS TO #376 L'VILLE\"]\n",
    "df5 = df5.dropna(how=\"all\")\n",
    "\n",
    "Gross = df5.Qty * df5.Price\n",
    "df5['Gross'] = Gross.where(df5.Price == 'Qty', other=Gross)\n",
    "\n",
    "Net = df5.Qty * df5.Cost \n",
    "df5['Net'] = Net.where(df5.Cost == 'Qty', other=Net)\n",
    "\n",
    "Net = df5.Gross - df5.Net \n",
    "df5['Net'] = Net.where(df5.Gross == \"Net\", other=Net)\n",
    "\n",
    "# Graph for total time span imported\n",
    "\n",
    "Net_Gross276 = {\n",
    "    'Gross' : df5['Gross'].sum(),\n",
    "    'Net' : df5['Net'].sum()\n",
    "}"
   ]
  },
  {
   "cell_type": "code",
   "execution_count": 23,
   "metadata": {},
   "outputs": [],
   "source": [
    "by_cust =(df5['Customer']).value_counts().sort_index()\n",
    "df5_customer = by_cust.rename_axis('Customer').reset_index(name='counts')\n",
    "df5_customer.sort_values(by=['counts'], ascending=False, inplace=True)\n",
    "df5_customer = df5_customer.reset_index(drop=True)\n",
    "df5_customer\n",
    "df5_customer.to_csv(r'output/376_customers.csv', index=False)"
   ]
  },
  {
   "cell_type": "code",
   "execution_count": 24,
   "metadata": {},
   "outputs": [],
   "source": [
    "df5['Date'] = pd.to_datetime(df5['Date'])\n",
    "df5['Date'] = df5['Date'].dt.strftime('%Y-%m')\n",
    "\n",
    "# #define how to aggregate various fields\n",
    "agg_functions = {'Date': 'first', 'Gross': 'sum', 'Net': 'sum'}\n",
    "\n",
    "# #create new DataFrame by combining rows with same id values\n",
    "df5 = df5.groupby(df5['Date']).aggregate(agg_functions)\n",
    "\n",
    "# print(df5)"
   ]
  },
  {
   "cell_type": "code",
   "execution_count": 25,
   "metadata": {},
   "outputs": [
    {
     "data": {
      "image/png": "[encoded data removed]",
      "text/plain": [
       "<Figure size 432x288 with 1 Axes>"
      ]
     },
     "metadata": {
      "needs_background": "light"
     },
     "output_type": "display_data"
    }
   ],
   "source": [
    "# x-coordinates of left sides of bars \n",
    "left = df5['Date']\n",
    "  \n",
    "# heights of bars\n",
    "Gross = df5['Gross']\n",
    "Net = df5['Net']\n",
    "  \n",
    "# labels for bars\n",
    "tick_label = df5['Date']\n",
    "  \n",
    "# plotting a bar chart\n",
    "plt.bar(left, Gross, tick_label = tick_label, width = 0.8, color = ['blue'], label = 'Gross')\n",
    "plt.bar(left, Net, tick_label = tick_label, width = 0.8, color = ['green'], label = 'Net' )\n",
    "plt.xticks(rotation='vertical')\n",
    "  \n",
    "# naming the x-axis\n",
    "plt.xlabel('Month')\n",
    "# naming the y-axis\n",
    "plt.ylabel('Profit')\n",
    "# plot title\n",
    "plt.title('376 Nets and Gross Profit')\n",
    "plt.legend(loc=\"best\")\n",
    "# function to show the plot\n",
    "plt.savefig('output/376_gnp.jpg', dpi=100, bbox_inches = 'tight')\n",
    "# plt.show()"
   ]
  },
  {
   "cell_type": "code",
   "execution_count": 26,
   "metadata": {},
   "outputs": [],
   "source": [
    "frames = [df0, df1, df2, df3, df4, df5]\n",
    "\n",
    "df99 = pd.concat(frames)\n",
    "# df99.drop(columns=['Date'], inplace=True)\n",
    "# df99.head(30)\n",
    "\n",
    "# print(df99['Net'].sum())\n",
    "# print(df99['Gross'].sum())"
   ]
  },
  {
   "cell_type": "code",
   "execution_count": 27,
   "metadata": {},
   "outputs": [],
   "source": [
    "frames = [df0, df1, df2, df3, df4, df5]\n",
    "\n",
    "df99 = pd.concat(frames)\n",
    "df99.head()\n",
    "\n",
    "# print(df99['Net'].sum())\n",
    "# print(df99['Gross'].sum())\n",
    "\n",
    "\n",
    "Net_Gross = {\n",
    "    '370_Gross' : df0['Gross'].sum(),\n",
    "    '370_net' : df0['Net'].sum(),\n",
    "    '372_Gross' : df1['Gross'].sum(),\n",
    "    '372_net' : df1['Net'].sum(),\n",
    "    '373_Gross' : df2['Gross'].sum(),\n",
    "    '373_net' : df2['Net'].sum(),\n",
    "    '374_Gross' : df3['Gross'].sum(),\n",
    "    '374_net' : df3['Net'].sum(),\n",
    "    '375_Gross' : df4['Gross'].sum(),\n",
    "    '375_net' : df4['Net'].sum(),\n",
    "    '376_Gross' : df5['Gross'].sum(),\n",
    "    '376_net' : df5['Net'].sum(),\n",
    "}\n",
    "\n",
    "data = Net_Gross\n",
    "names = list(data.keys())\n",
    "values = list(data.values())\n",
    "\n",
    "\n",
    "# print('Total Gross:',(Total_Gross))\n",
    "# print('Total Net:',(Total_net))\n"
   ]
  },
  {
   "cell_type": "code",
   "execution_count": 28,
   "metadata": {},
   "outputs": [],
   "source": [
    "df99['Date'] = pd.to_datetime(df99['Date'])\n",
    "df99['Date'] = df99['Date'].dt.strftime('%Y-%m')\n",
    "\n",
    "# #define how to aggregate various fields\n",
    "agg_functions = {'Date': 'first', 'Gross': 'sum', 'Net': 'sum'}\n",
    "\n",
    "# #create new DataFrame by combining rows with same id values\n",
    "df99 = df99.groupby(df99['Date']).aggregate(agg_functions)\n",
    "\n",
    "# print(df99)"
   ]
  },
  {
   "cell_type": "code",
   "execution_count": 29,
   "metadata": {},
   "outputs": [
    {
     "data": {
      "image/png": "[encoded data removed]",
      "text/plain": [
       "<Figure size 432x288 with 1 Axes>"
      ]
     },
     "metadata": {
      "needs_background": "light"
     },
     "output_type": "display_data"
    }
   ],
   "source": [
    "# x-coordinates of left sides of bars \n",
    "left = df99['Date']\n",
    "  \n",
    "# heights of bars\n",
    "Gross = df99['Gross']\n",
    "Net = df99['Net']\n",
    "  \n",
    "# labels for bars\n",
    "tick_label = df99['Date']\n",
    "  \n",
    "# plotting a bar chart\n",
    "plt.bar(left, Gross, tick_label = tick_label, width = 0.8, color = ['blue'], label = 'Gross')\n",
    "plt.bar(left, Net, tick_label = tick_label, width = 0.8, color = ['green'], label = 'Net' )\n",
    "plt.xticks(rotation='vertical')\n",
    "  \n",
    "# naming the x-axis\n",
    "plt.xlabel('Month')\n",
    "# naming the y-axis\n",
    "plt.ylabel('Profit')\n",
    "# plot title\n",
    "plt.title('All Stores Nets and Gross Profit')\n",
    "plt.legend(loc=\"best\")\n",
    "# function to show the plot\n",
    "plt.savefig('output/all_stores_gnp.jpg', dpi=100, bbox_inches = 'tight')\n",
    "# plt.show()\n"
   ]
  }
 ],
 "metadata": {
  "kernelspec": {
   "display_name": "Python 3.9.7 ('base')",
   "language": "python",
   "name": "python3"
  },
  "language_info": {
   "codemirror_mode": {
    "name": "ipython",
    "version": 3
   },
   "file_extension": ".py",
   "mimetype": "text/x-python",
   "name": "python",
   "nbconvert_exporter": "python",
   "pygments_lexer": "ipython3",
   "version": "3.9.7"
  },
  "orig_nbformat": 4,
  "vscode": {
   "interpreter": {
    "hash": "40d3a090f54c6569ab1632332b64b2c03c39dcf918b08424e98f38b5ae0af88f"
   }
  }
 },
 "nbformat": 4,
 "nbformat_minor": 2
}
