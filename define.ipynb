{
 "cells": [
  {
   "cell_type": "code",
   "execution_count": 1204,
   "metadata": {},
   "outputs": [],
   "source": [
    "import pandas as pd\n",
    "import matplotlib.pyplot as plt\n",
    "import matplotlib.dates as mdates\n",
    "import datetime\n",
    "import csv\n",
    "import numpy as np\n",
    "import seaborn as sns\n",
    "import matplotlib.ticker as ticker"
   ]
  },
  {
   "cell_type": "code",
   "execution_count": 1205,
   "metadata": {},
   "outputs": [],
   "source": [
    "def process_data(df):\n",
    "    df.drop(columns=['Transaction Type', 'Reference Number', 'Customer Vendor #','Inventory Balance', 'Transaction Date.1','Reference Number.1', 'Created By', 'Created Date', 'Inventory Quantity','Transaction Type.1', 'Created Time', 'Last Changed By', 'Last Changed Date','Receiving PO Number', 'Last Changed Time' ], inplace=True)\n",
    "    df.rename(columns={'Customer/Vendor Name' : 'Customer','Non-Inventory Quantity': 'Qty', 'Transaction Date' : 'Date'}, inplace=True)\n",
    "    df = df[df.Customer != \"TRANSFERS TO #372 J'VILLE\"]\n",
    "    df = df[df.Customer != \"TRANSFERS TO #374 SEYMOUR\"]\n",
    "    df = df[df.Customer != \"TRANSFERS TO #373 E-TOWN\"]\n",
    "    df = df[df.Customer != \"TRANSFERS TO #375 S'VILLE\"]\n",
    "    df = df[df.Customer != \"*** STORE TRANSFERS ***\"]\n",
    "    df = df[df.Customer != \"Beginning Balance\"]\n",
    "    df = df[df.Customer != 'Net Activity']\n",
    "    df = df[df.Customer != 'Ending Balance']\n",
    "    df = df[df.Customer != 'VOID']\n",
    "    df = df[df.Customer != \"TRANSFERS TO #376 L'VILLE\"]\n",
    "    df = df.dropna(how=\"all\")\n",
    "    Gross = df.Qty * df.Price\n",
    "    df['Gross'] = Gross.where(df.Price == 'Qty', other=Gross)\n",
    "    Net = df.Qty * df.Cost \n",
    "    df['Net'] = Net.where(df.Cost == 'Qty', other=Net)\n",
    "    Net = df.Gross - df.Net \n",
    "    df['Net'] = Net.where(df.Gross == \"Net\", other=Net)\n",
    "    return df\n"
   ]
  },
  {
   "cell_type": "code",
   "execution_count": 1206,
   "metadata": {},
   "outputs": [
    {
     "name": "stderr",
     "output_type": "stream",
     "text": [
      "/opt/anaconda3/lib/python3.9/site-packages/openpyxl/styles/stylesheet.py:226: UserWarning: Workbook contains no default style, apply openpyxl's default\n",
      "  warn(\"Workbook contains no default style, apply openpyxl's default\")\n",
      "/opt/anaconda3/lib/python3.9/site-packages/openpyxl/styles/stylesheet.py:226: UserWarning: Workbook contains no default style, apply openpyxl's default\n",
      "  warn(\"Workbook contains no default style, apply openpyxl's default\")\n",
      "/opt/anaconda3/lib/python3.9/site-packages/openpyxl/styles/stylesheet.py:226: UserWarning: Workbook contains no default style, apply openpyxl's default\n",
      "  warn(\"Workbook contains no default style, apply openpyxl's default\")\n",
      "/opt/anaconda3/lib/python3.9/site-packages/openpyxl/styles/stylesheet.py:226: UserWarning: Workbook contains no default style, apply openpyxl's default\n",
      "  warn(\"Workbook contains no default style, apply openpyxl's default\")\n",
      "/opt/anaconda3/lib/python3.9/site-packages/openpyxl/styles/stylesheet.py:226: UserWarning: Workbook contains no default style, apply openpyxl's default\n",
      "  warn(\"Workbook contains no default style, apply openpyxl's default\")\n",
      "/opt/anaconda3/lib/python3.9/site-packages/openpyxl/styles/stylesheet.py:226: UserWarning: Workbook contains no default style, apply openpyxl's default\n",
      "  warn(\"Workbook contains no default style, apply openpyxl's default\")\n"
     ]
    }
   ],
   "source": [
    "df0 = pd.read_excel (r'input/370.xlsx',header=[3])\n",
    "df0 = process_data(df0)\n",
    "\n",
    "df1 = pd.read_excel (r'input/372.xlsx',header=[3])\n",
    "df1 = process_data(df1)\n",
    "\n",
    "df2 = pd.read_excel (r'input/373.xlsx',header=[3])\n",
    "df2 = process_data(df2)\n",
    "\n",
    "df3 = pd.read_excel (r'input/374.xlsx',header=[3])\n",
    "df3 = process_data(df3)\n",
    "\n",
    "df4 = pd.read_excel (r'input/375.xlsx',header=[3])\n",
    "df4 = process_data(df4)\n",
    "\n",
    "df5 = pd.read_excel (r'input/376.xlsx',header=[3])\n",
    "df5 = process_data(df5)\n",
    "\n",
    "# df5"
   ]
  },
  {
   "cell_type": "code",
   "execution_count": 1207,
   "metadata": {},
   "outputs": [],
   "source": [
    "Net_Gross270 = {\n",
    "    'Gross' : df0['Gross'].sum(),\n",
    "    'Net' : df0['Net'].sum()\n",
    "}\n",
    "\n",
    "Net_Gross272 = {\n",
    "    'Gross' : df1['Gross'].sum(),\n",
    "    'Net' : df1['Net'].sum()\n",
    "}\n",
    "Net_Gross273 = {\n",
    "    'Gross' : df2['Gross'].sum(),\n",
    "    'Net' : df2['Net'].sum()\n",
    "}\n",
    "\n",
    "Net_Gross274 = {\n",
    "    'Gross' : df3['Gross'].sum(),\n",
    "    'Net' : df3['Net'].sum()\n",
    "}\n",
    "\n",
    "Net_Gross275 = {\n",
    "    'Gross' : df4['Gross'].sum(),\n",
    "    'Net' : df4['Net'].sum()\n",
    "}\n",
    "\n",
    "Net_Gross276 = {\n",
    "    'Gross' : df5['Gross'].sum(),\n",
    "    'Net' : df5['Net'].sum()\n",
    "}\n"
   ]
  },
  {
   "cell_type": "code",
   "execution_count": 1208,
   "metadata": {},
   "outputs": [],
   "source": [
    "# counts cust no sum of qty\n",
    "# def top_customers(df):\n",
    "#     by_cust =(df['Customer']).value_counts().sort_index()\n",
    "#     df_customer = by_cust.rename_axis('Customer').reset_index(name='counts')\n",
    "#     df_customer.sort_values(by=['counts'], ascending=False, inplace=True)\n",
    "#     df_customer = df_customer.reset_index(drop=True)\n",
    "#     return df_customer"
   ]
  },
  {
   "cell_type": "code",
   "execution_count": 1209,
   "metadata": {},
   "outputs": [],
   "source": [
    "# top_customers(df3)\n",
    "# top_customers(df2)\n"
   ]
  },
  {
   "cell_type": "code",
   "execution_count": 1210,
   "metadata": {},
   "outputs": [],
   "source": [
    "def top_customers(df):\n",
    "    agg_functions = {'Customer': 'first', 'Qty': 'sum'}\n",
    "    df_customer = df.groupby(df['Customer']).aggregate(agg_functions)\n",
    "    df_customer = df_customer.sort_values(['Qty'],ascending=False)\n",
    "    return df_customer"
   ]
  },
  {
   "cell_type": "code",
   "execution_count": 1211,
   "metadata": {},
   "outputs": [],
   "source": [
    "# top_customers(df0)\n",
    "top_customers(df0).to_csv(r'output/370_customers.csv', index=False)\n",
    "# top_customers(df1)\n",
    "top_customers(df1).to_csv(r'output/372_customers.csv', index=False)\n",
    "# top_customers(df2)\n",
    "top_customers(df2).to_csv(r'output/373_customers.csv', index=False)\n",
    "# top_customers(df3)\n",
    "top_customers(df3).to_csv(r'output/374_customers.csv', index=False)\n",
    "# top_customers(df4)\n",
    "top_customers(df4).to_csv(r'output/375_customers.csv', index=False)\n",
    "# top_customers(df5)\n",
    "top_customers(df5).to_csv(r'output/376_customers.csv', index=False)"
   ]
  },
  {
   "cell_type": "code",
   "execution_count": 1212,
   "metadata": {},
   "outputs": [],
   "source": [
    "def graph(df):\n",
    "    df['Date'] = pd.to_datetime(df['Date'])\n",
    "    df['Date'] = df['Date'].dt.strftime('%Y-%m')\n",
    "    # #define how to aggregate various fields\n",
    "    agg_functions = {'Date': 'first', 'Gross': 'sum', 'Net': 'sum'}\n",
    "    # #create new DataFrame by combining rows with same id values\n",
    "    df = df.groupby(df['Date']).aggregate(agg_functions)\n",
    "    return df"
   ]
  },
  {
   "cell_type": "code",
   "execution_count": 1213,
   "metadata": {},
   "outputs": [
    {
     "data": {
      "text/html": [
       "<div>\n",
       "<style scoped>\n",
       "    .dataframe tbody tr th:only-of-type {\n",
       "        vertical-align: middle;\n",
       "    }\n",
       "\n",
       "    .dataframe tbody tr th {\n",
       "        vertical-align: top;\n",
       "    }\n",
       "\n",
       "    .dataframe thead th {\n",
       "        text-align: right;\n",
       "    }\n",
       "</style>\n",
       "<table border=\"1\" class=\"dataframe\">\n",
       "  <thead>\n",
       "    <tr style=\"text-align: right;\">\n",
       "      <th></th>\n",
       "      <th>Date</th>\n",
       "      <th>Gross</th>\n",
       "      <th>Net</th>\n",
       "    </tr>\n",
       "    <tr>\n",
       "      <th>Date</th>\n",
       "      <th></th>\n",
       "      <th></th>\n",
       "      <th></th>\n",
       "    </tr>\n",
       "  </thead>\n",
       "  <tbody>\n",
       "    <tr>\n",
       "      <th>2021-08</th>\n",
       "      <td>2021-08</td>\n",
       "      <td>4351.50</td>\n",
       "      <td>1351.50</td>\n",
       "    </tr>\n",
       "    <tr>\n",
       "      <th>2021-09</th>\n",
       "      <td>2021-09</td>\n",
       "      <td>6835.00</td>\n",
       "      <td>2035.00</td>\n",
       "    </tr>\n",
       "    <tr>\n",
       "      <th>2021-10</th>\n",
       "      <td>2021-10</td>\n",
       "      <td>4828.00</td>\n",
       "      <td>1628.00</td>\n",
       "    </tr>\n",
       "    <tr>\n",
       "      <th>2021-11</th>\n",
       "      <td>2021-11</td>\n",
       "      <td>5258.50</td>\n",
       "      <td>1608.50</td>\n",
       "    </tr>\n",
       "    <tr>\n",
       "      <th>2021-12</th>\n",
       "      <td>2021-12</td>\n",
       "      <td>4618.00</td>\n",
       "      <td>1418.00</td>\n",
       "    </tr>\n",
       "    <tr>\n",
       "      <th>2022-01</th>\n",
       "      <td>2022-01</td>\n",
       "      <td>6515.50</td>\n",
       "      <td>2015.50</td>\n",
       "    </tr>\n",
       "    <tr>\n",
       "      <th>2022-02</th>\n",
       "      <td>2022-02</td>\n",
       "      <td>4092.00</td>\n",
       "      <td>1292.00</td>\n",
       "    </tr>\n",
       "    <tr>\n",
       "      <th>2022-03</th>\n",
       "      <td>2022-03</td>\n",
       "      <td>5690.00</td>\n",
       "      <td>1790.00</td>\n",
       "    </tr>\n",
       "    <tr>\n",
       "      <th>2022-04</th>\n",
       "      <td>2022-04</td>\n",
       "      <td>5220.00</td>\n",
       "      <td>1670.00</td>\n",
       "    </tr>\n",
       "    <tr>\n",
       "      <th>2022-05</th>\n",
       "      <td>2022-05</td>\n",
       "      <td>2765.00</td>\n",
       "      <td>915.00</td>\n",
       "    </tr>\n",
       "    <tr>\n",
       "      <th>2022-06</th>\n",
       "      <td>2022-06</td>\n",
       "      <td>5468.50</td>\n",
       "      <td>1768.50</td>\n",
       "    </tr>\n",
       "    <tr>\n",
       "      <th>2022-07</th>\n",
       "      <td>2022-07</td>\n",
       "      <td>4211.00</td>\n",
       "      <td>961.00</td>\n",
       "    </tr>\n",
       "    <tr>\n",
       "      <th>2022-08</th>\n",
       "      <td>2022-08</td>\n",
       "      <td>5667.00</td>\n",
       "      <td>1817.00</td>\n",
       "    </tr>\n",
       "    <tr>\n",
       "      <th>2022-09</th>\n",
       "      <td>2022-09</td>\n",
       "      <td>6610.00</td>\n",
       "      <td>1610.00</td>\n",
       "    </tr>\n",
       "    <tr>\n",
       "      <th>2022-10</th>\n",
       "      <td>2022-10</td>\n",
       "      <td>6682.49</td>\n",
       "      <td>1882.49</td>\n",
       "    </tr>\n",
       "    <tr>\n",
       "      <th>2022-11</th>\n",
       "      <td>2022-11</td>\n",
       "      <td>4837.87</td>\n",
       "      <td>1687.87</td>\n",
       "    </tr>\n",
       "  </tbody>\n",
       "</table>\n",
       "</div>"
      ],
      "text/plain": [
       "            Date    Gross      Net\n",
       "Date                              \n",
       "2021-08  2021-08  4351.50  1351.50\n",
       "2021-09  2021-09  6835.00  2035.00\n",
       "2021-10  2021-10  4828.00  1628.00\n",
       "2021-11  2021-11  5258.50  1608.50\n",
       "2021-12  2021-12  4618.00  1418.00\n",
       "2022-01  2022-01  6515.50  2015.50\n",
       "2022-02  2022-02  4092.00  1292.00\n",
       "2022-03  2022-03  5690.00  1790.00\n",
       "2022-04  2022-04  5220.00  1670.00\n",
       "2022-05  2022-05  2765.00   915.00\n",
       "2022-06  2022-06  5468.50  1768.50\n",
       "2022-07  2022-07  4211.00   961.00\n",
       "2022-08  2022-08  5667.00  1817.00\n",
       "2022-09  2022-09  6610.00  1610.00\n",
       "2022-10  2022-10  6682.49  1882.49\n",
       "2022-11  2022-11  4837.87  1687.87"
      ]
     },
     "execution_count": 1213,
     "metadata": {},
     "output_type": "execute_result"
    }
   ],
   "source": [
    "g5 = df5\n",
    "g5 = graph(df5)\n",
    "g5"
   ]
  },
  {
   "cell_type": "code",
   "execution_count": 1214,
   "metadata": {},
   "outputs": [],
   "source": [
    "by_cust =(df0['Customer']).value_counts().sort_index()\n",
    "df0_customer = by_cust.rename_axis('Customer').reset_index(name='counts')\n",
    "df0_customer.sort_values(by=['counts'], ascending=False, inplace=True)\n",
    "df0_customer = df0_customer.reset_index(drop=True)\n",
    "# df0_customer\n",
    "df0_customer.to_csv(r'output/370_customers.csv', index=False)"
   ]
  },
  {
   "cell_type": "code",
   "execution_count": 1215,
   "metadata": {},
   "outputs": [],
   "source": [
    "df0['Date'] = pd.to_datetime(df0['Date'])\n",
    "df0['Date'] = df0['Date'].dt.strftime('%Y-%m')\n",
    "\n",
    "# #define how to aggregate various fields\n",
    "agg_functions = {'Date': 'first', 'Gross': 'sum', 'Net': 'sum'}\n",
    "\n",
    "# #create new DataFrame by combining rows with same id values\n",
    "df0 = df0.groupby(df0['Date']).aggregate(agg_functions)\n",
    "\n",
    "# print(df0)\n",
    "\n",
    "# df_new.to_csv(r'df5.csv', index=False)"
   ]
  },
  {
   "cell_type": "code",
   "execution_count": 1216,
   "metadata": {},
   "outputs": [
    {
     "data": {
      "image/png": "[encoded data removed]",
      "text/plain": [
       "<Figure size 432x288 with 1 Axes>"
      ]
     },
     "metadata": {
      "needs_background": "light"
     },
     "output_type": "display_data"
    }
   ],
   "source": [
    "# x-coordinates of left sides of bars \n",
    "left = df0['Date']\n",
    "  \n",
    "# heights of bars\n",
    "Gross = df0['Gross']\n",
    "Net = df0['Net']\n",
    "  \n",
    "# labels for bars\n",
    "tick_label = df0['Date']\n",
    "  \n",
    "# plotting a bar chart\n",
    "plt.bar(left, Gross, tick_label = tick_label, width = 0.8, color = ['blue'], label = 'Gross')\n",
    "plt.bar(left, Net, tick_label = tick_label, width = 0.8, color = ['green'], label = 'Net' )\n",
    "plt.xticks(rotation='vertical')\n",
    "  \n",
    "# naming the x-axis\n",
    "plt.xlabel('Month')\n",
    "# naming the y-axis\n",
    "plt.ylabel('Profit')\n",
    "# plot title\n",
    "plt.title('370 Net and Gross Profit')\n",
    "plt.legend(loc=\"best\")\n",
    "# function to show the plot\n",
    "plt.savefig('output/370_gnp.jpg', dpi=100, bbox_inches = 'tight')\n",
    "# plt.show()"
   ]
  },
  {
   "cell_type": "markdown",
   "metadata": {},
   "source": [
    "Store 372 Import and Clean "
   ]
  },
  {
   "cell_type": "code",
   "execution_count": 1217,
   "metadata": {},
   "outputs": [
    {
     "data": {
      "text/html": [
       "<div>\n",
       "<style scoped>\n",
       "    .dataframe tbody tr th:only-of-type {\n",
       "        vertical-align: middle;\n",
       "    }\n",
       "\n",
       "    .dataframe tbody tr th {\n",
       "        vertical-align: top;\n",
       "    }\n",
       "\n",
       "    .dataframe thead th {\n",
       "        text-align: right;\n",
       "    }\n",
       "</style>\n",
       "<table border=\"1\" class=\"dataframe\">\n",
       "  <thead>\n",
       "    <tr style=\"text-align: right;\">\n",
       "      <th></th>\n",
       "      <th>Customer</th>\n",
       "      <th>counts</th>\n",
       "    </tr>\n",
       "  </thead>\n",
       "  <tbody>\n",
       "    <tr>\n",
       "      <th>0</th>\n",
       "      <td>GOTTA GO, INC.</td>\n",
       "      <td>14</td>\n",
       "    </tr>\n",
       "    <tr>\n",
       "      <th>1</th>\n",
       "      <td>A &amp; R LOGISTICS INC</td>\n",
       "      <td>13</td>\n",
       "    </tr>\n",
       "    <tr>\n",
       "      <th>2</th>\n",
       "      <td>DUBOIS COUNTY TIRE &amp; SUPP</td>\n",
       "      <td>6</td>\n",
       "    </tr>\n",
       "    <tr>\n",
       "      <th>3</th>\n",
       "      <td>GOTTA GO, INC. - TRACKING</td>\n",
       "      <td>5</td>\n",
       "    </tr>\n",
       "    <tr>\n",
       "      <th>4</th>\n",
       "      <td>MISTER P EXPRESS INC.</td>\n",
       "      <td>3</td>\n",
       "    </tr>\n",
       "    <tr>\n",
       "      <th>5</th>\n",
       "      <td>ERNST CONCRETE KENTUCKIAN</td>\n",
       "      <td>2</td>\n",
       "    </tr>\n",
       "    <tr>\n",
       "      <th>6</th>\n",
       "      <td>MILLER TRANSPORTATION/ IN</td>\n",
       "      <td>2</td>\n",
       "    </tr>\n",
       "    <tr>\n",
       "      <th>7</th>\n",
       "      <td>RAY-LEE TRANSPORT</td>\n",
       "      <td>2</td>\n",
       "    </tr>\n",
       "    <tr>\n",
       "      <th>8</th>\n",
       "      <td>A&amp;S TRUCK RD SERVICE LLC</td>\n",
       "      <td>1</td>\n",
       "    </tr>\n",
       "    <tr>\n",
       "      <th>9</th>\n",
       "      <td>C-JAMS</td>\n",
       "      <td>1</td>\n",
       "    </tr>\n",
       "  </tbody>\n",
       "</table>\n",
       "</div>"
      ],
      "text/plain": [
       "                    Customer  counts\n",
       "0             GOTTA GO, INC.      14\n",
       "1        A & R LOGISTICS INC      13\n",
       "2  DUBOIS COUNTY TIRE & SUPP       6\n",
       "3  GOTTA GO, INC. - TRACKING       5\n",
       "4      MISTER P EXPRESS INC.       3\n",
       "5  ERNST CONCRETE KENTUCKIAN       2\n",
       "6  MILLER TRANSPORTATION/ IN       2\n",
       "7          RAY-LEE TRANSPORT       2\n",
       "8   A&S TRUCK RD SERVICE LLC       1\n",
       "9                     C-JAMS       1"
      ]
     },
     "execution_count": 1217,
     "metadata": {},
     "output_type": "execute_result"
    }
   ],
   "source": [
    "by_cust =(df1['Customer']).value_counts().sort_index()\n",
    "df1_customer = by_cust.rename_axis('Customer').reset_index(name='counts')\n",
    "df1_customer.sort_values(by=['counts'], ascending=False, inplace=True)\n",
    "df1_customer = df1_customer.reset_index(drop=True)\n",
    "df1_customer\n",
    "# df1_customer.to_csv(r'output/372_customers.csv', index=False)"
   ]
  },
  {
   "cell_type": "code",
   "execution_count": 1218,
   "metadata": {},
   "outputs": [],
   "source": [
    "df1['Date'] = pd.to_datetime(df1['Date'])\n",
    "df1['Date'] = df1['Date'].dt.strftime('%Y-%m')\n",
    "\n",
    "# #define how to aggregate various fields\n",
    "agg_functions = {'Date': 'first', 'Gross': 'sum', 'Net': 'sum'}\n",
    "\n",
    "# #create new DataFrame by combining rows with same id values\n",
    "df1 = df1.groupby(df1['Date']).aggregate(agg_functions)"
   ]
  },
  {
   "cell_type": "code",
   "execution_count": 1241,
   "metadata": {},
   "outputs": [
    {
     "data": {
      "image/png": "[encoded data removed]",
      "text/plain": [
       "<Figure size 432x288 with 1 Axes>"
      ]
     },
     "metadata": {
      "needs_background": "light"
     },
     "output_type": "display_data"
    }
   ],
   "source": [
    "# x-coordinates of left sides of bars \n",
    "left = df1['Date']\n",
    "  \n",
    "# heights of bars\n",
    "Gross = df1['Gross']\n",
    "Net = df1['Net']\n",
    "  \n",
    "# labels for bars\n",
    "tick_label = df1['Date']\n",
    "  \n",
    "# plotting a bar chart\n",
    "plt.bar(left, Gross, tick_label = tick_label, width = 0.8, color = ['blue'], label = 'Gross')\n",
    "plt.bar(left, Net, tick_label = tick_label, width = 0.8, color = ['green'], label = 'Net' )\n",
    "plt.xticks(rotation='vertical')\n",
    "  \n",
    "# naming the x-axis\n",
    "plt.xlabel('Month')\n",
    "# naming the y-axis\n",
    "plt.ylabel('Profit')\n",
    "# plot title\n",
    "plt.title('372 Net and Gross Profit')\n",
    "plt.legend(loc=\"best\")\n",
    "# function to show the plot\n",
    "plt.savefig('output/372_gnp.jpg', dpi=100, bbox_inches = 'tight')\n",
    "# plt.show()"
   ]
  },
  {
   "cell_type": "markdown",
   "metadata": {},
   "source": [
    "Store 373 Import and Clean "
   ]
  },
  {
   "cell_type": "code",
   "execution_count": 1220,
   "metadata": {},
   "outputs": [
    {
     "data": {
      "text/html": [
       "<div>\n",
       "<style scoped>\n",
       "    .dataframe tbody tr th:only-of-type {\n",
       "        vertical-align: middle;\n",
       "    }\n",
       "\n",
       "    .dataframe tbody tr th {\n",
       "        vertical-align: top;\n",
       "    }\n",
       "\n",
       "    .dataframe thead th {\n",
       "        text-align: right;\n",
       "    }\n",
       "</style>\n",
       "<table border=\"1\" class=\"dataframe\">\n",
       "  <thead>\n",
       "    <tr style=\"text-align: right;\">\n",
       "      <th></th>\n",
       "      <th>Customer</th>\n",
       "      <th>counts</th>\n",
       "    </tr>\n",
       "  </thead>\n",
       "  <tbody>\n",
       "    <tr>\n",
       "      <th>0</th>\n",
       "      <td>BROTHERS FARMS</td>\n",
       "      <td>4</td>\n",
       "    </tr>\n",
       "    <tr>\n",
       "      <th>1</th>\n",
       "      <td>REPUBLIC SERVICES, INC. 3058</td>\n",
       "      <td>2</td>\n",
       "    </tr>\n",
       "    <tr>\n",
       "      <th>2</th>\n",
       "      <td>SMITH GRAIN</td>\n",
       "      <td>1</td>\n",
       "    </tr>\n",
       "  </tbody>\n",
       "</table>\n",
       "</div>"
      ],
      "text/plain": [
       "                       Customer  counts\n",
       "0                BROTHERS FARMS       4\n",
       "1  REPUBLIC SERVICES, INC. 3058       2\n",
       "2                   SMITH GRAIN       1"
      ]
     },
     "execution_count": 1220,
     "metadata": {},
     "output_type": "execute_result"
    }
   ],
   "source": [
    "by_cust =(df2['Customer']).value_counts().sort_index()\n",
    "df2_customer = by_cust.rename_axis('Customer').reset_index(name='counts')\n",
    "df2_customer.sort_values(by=['counts'], ascending=False, inplace=True)\n",
    "df2_customer = df2_customer.reset_index(drop=True)\n",
    "df2_customer\n",
    "# df2_customer.to_csv(r'output/373_customers.csv', index=False)"
   ]
  },
  {
   "cell_type": "code",
   "execution_count": 1221,
   "metadata": {},
   "outputs": [
    {
     "name": "stdout",
     "output_type": "stream",
     "text": [
      "            Date   Gross    Net\n",
      "Date                           \n",
      "2021-09  2021-09   300.0  100.0\n",
      "2021-12  2021-12   320.0  120.0\n",
      "2022-01  2022-01  1125.0  375.0\n",
      "2022-02  2022-02   450.0  150.0\n",
      "2022-04  2022-04   825.0  275.0\n",
      "2022-07  2022-07   240.0   90.0\n"
     ]
    }
   ],
   "source": [
    "df2['Date'] = pd.to_datetime(df2['Date'])\n",
    "df2['Date'] = df2['Date'].dt.strftime('%Y-%m')\n",
    "\n",
    "# #define how to aggregate various fields\n",
    "agg_functions = {'Date': 'first', 'Gross': 'sum', 'Net': 'sum'}\n",
    "\n",
    "# #create new DataFrame by combining rows with same id values\n",
    "df2 = df2.groupby(df2['Date']).aggregate(agg_functions)\n",
    "\n",
    "print(df2)\n"
   ]
  },
  {
   "cell_type": "code",
   "execution_count": 1222,
   "metadata": {},
   "outputs": [
    {
     "data": {
      "image/png": "[encoded data removed]",
      "text/plain": [
       "<Figure size 432x288 with 1 Axes>"
      ]
     },
     "metadata": {
      "needs_background": "light"
     },
     "output_type": "display_data"
    }
   ],
   "source": [
    "# x-coordinates of left sides of bars \n",
    "left = df2['Date']\n",
    "  \n",
    "# heights of bars\n",
    "Gross = df2['Gross']\n",
    "Net = df2['Net']\n",
    "  \n",
    "# labels for bars\n",
    "tick_label = df2['Date']\n",
    "  \n",
    "# plotting a bar chart\n",
    "plt.bar(left, Gross, tick_label = tick_label, width = 0.8, color = ['blue'], label = 'Gross')\n",
    "plt.bar(left, Net, tick_label = tick_label, width = 0.8, color = ['green'], label = 'Net' )\n",
    "plt.xticks(rotation='vertical')\n",
    "  \n",
    "# naming the x-axis\n",
    "plt.xlabel('Month')\n",
    "# naming the y-axis\n",
    "plt.ylabel('Profit')\n",
    "# plot title\n",
    "plt.title('373 Net and Gross Profit')\n",
    "plt.legend(loc=\"best\")\n",
    "# function to show the plot\n",
    "plt.savefig('output/373_gnp.jpg', dpi=100, bbox_inches = 'tight')\n",
    "# plt.show()"
   ]
  },
  {
   "cell_type": "markdown",
   "metadata": {},
   "source": [
    "Store 374 Import and Clean "
   ]
  },
  {
   "cell_type": "code",
   "execution_count": 1223,
   "metadata": {},
   "outputs": [],
   "source": [
    "by_cust =(df3['Customer']).value_counts().sort_index()\n",
    "df3_customer = by_cust.rename_axis('Customer').reset_index(name='counts')\n",
    "df3_customer.sort_values(by=['counts'], ascending=False, inplace=True)\n",
    "df3_customer = df3_customer.reset_index(drop=True)\n",
    "# df3_customer\n",
    "# df3_customer.to_csv(r'output/374_customers.csv', index=False)"
   ]
  },
  {
   "cell_type": "code",
   "execution_count": 1224,
   "metadata": {},
   "outputs": [],
   "source": [
    "df3['Date'] = pd.to_datetime(df3['Date'])\n",
    "df3['Date'] = df3['Date'].dt.strftime('%Y-%m')\n",
    "\n",
    "# #define how to aggregate various fields\n",
    "agg_functions = {'Date': 'first', 'Gross': 'sum', 'Net': 'sum'}\n",
    "\n",
    "# #create new DataFrame by combining rows with same id values\n",
    "df3 = df3.groupby(df3['Date']).aggregate(agg_functions)\n",
    "\n",
    "# print(df3)"
   ]
  },
  {
   "cell_type": "code",
   "execution_count": 1225,
   "metadata": {},
   "outputs": [
    {
     "data": {
      "image/png": "[encoded data removed]",
      "text/plain": [
       "<Figure size 432x288 with 1 Axes>"
      ]
     },
     "metadata": {
      "needs_background": "light"
     },
     "output_type": "display_data"
    }
   ],
   "source": [
    "# x-coordinates of left sides of bars \n",
    "left = df3['Date']\n",
    "  \n",
    "# heights of bars\n",
    "Gross = df3['Gross']\n",
    "Net = df3['Net']\n",
    "  \n",
    "# labels for bars\n",
    "tick_label = df3['Date']\n",
    "  \n",
    "# plotting a bar chart\n",
    "plt.bar(left, Gross, tick_label = tick_label, width = 0.8, color = ['blue'], label = 'Gross')\n",
    "plt.bar(left, Net, tick_label = tick_label, width = 0.8, color = ['green'], label = 'Net' )\n",
    "plt.xticks(rotation='vertical')\n",
    "  \n",
    "# naming the x-axis\n",
    "plt.xlabel('Month')\n",
    "# naming the y-axis\n",
    "plt.ylabel('Profit')\n",
    "# plot title\n",
    "plt.title('374 Net and Gross Profit')\n",
    "plt.legend(loc=\"best\")\n",
    "# function to show the plot\n",
    "plt.savefig('output/374_gnp.jpg', dpi=100, bbox_inches = 'tight')\n",
    "# plt.show()"
   ]
  },
  {
   "cell_type": "markdown",
   "metadata": {},
   "source": [
    "Store 375 Import and Clean "
   ]
  },
  {
   "cell_type": "code",
   "execution_count": 1226,
   "metadata": {},
   "outputs": [],
   "source": [
    "by_cust =(df4['Customer']).value_counts().sort_index()\n",
    "df4_customer = by_cust.rename_axis('Customer').reset_index(name='counts')\n",
    "df4_customer.sort_values(by=['counts'], ascending=False, inplace=True)\n",
    "df4_customer = df4_customer.reset_index(drop=True)\n",
    "df4_customer\n",
    "df4_customer.to_csv(r'output/375_customers.csv', index=False)"
   ]
  },
  {
   "cell_type": "code",
   "execution_count": 1227,
   "metadata": {},
   "outputs": [],
   "source": [
    "df4['Date'] = pd.to_datetime(df4['Date'])\n",
    "df4['Date'] = df4['Date'].dt.strftime('%Y-%m')\n",
    "\n",
    "# #define how to aggregate various fields\n",
    "agg_functions = {'Date': 'first', 'Gross': 'sum', 'Net': 'sum'}\n",
    "\n",
    "# #create new DataFrame by combining rows with same id values\n",
    "df4 = df4.groupby(df4['Date']).aggregate(agg_functions)\n",
    "\n",
    "# print(df4)"
   ]
  },
  {
   "cell_type": "code",
   "execution_count": 1228,
   "metadata": {},
   "outputs": [
    {
     "data": {
      "image/png": "[encoded data removed]",
      "text/plain": [
       "<Figure size 432x288 with 1 Axes>"
      ]
     },
     "metadata": {
      "needs_background": "light"
     },
     "output_type": "display_data"
    }
   ],
   "source": [
    "# x-coordinates of left sides of bars \n",
    "left = df4['Date']\n",
    "  \n",
    "# heights of bars\n",
    "Gross = df4['Gross']\n",
    "Net = df4['Net']\n",
    "  \n",
    "# labels for bars\n",
    "tick_label = df4['Date']\n",
    "  \n",
    "# plotting a bar chart\n",
    "plt.bar(left, Gross, tick_label = tick_label, width = 0.8, color = ['blue'], label = 'Gross')\n",
    "plt.bar(left, Net, tick_label = tick_label, width = 0.8, color = ['green'], label = 'Net' )\n",
    "plt.xticks(rotation='vertical')\n",
    "  \n",
    "# naming the x-axis\n",
    "plt.xlabel('Month')\n",
    "# naming the y-axis\n",
    "plt.ylabel('Profit')\n",
    "# plot title\n",
    "plt.title('375 Net and Gross Profit')\n",
    "plt.legend(loc=\"best\")\n",
    "# function to show the plot\n",
    "plt.savefig('output/375_gnp.jpg', dpi=100, bbox_inches = 'tight')\n",
    "# plt.show()"
   ]
  },
  {
   "cell_type": "markdown",
   "metadata": {},
   "source": []
  },
  {
   "cell_type": "code",
   "execution_count": 1229,
   "metadata": {},
   "outputs": [],
   "source": [
    "by_cust =(df5['Customer']).value_counts().sort_index()\n",
    "df5_customer = by_cust.rename_axis('Customer').reset_index(name='counts')\n",
    "df5_customer.sort_values(by=['counts'], ascending=False, inplace=True)\n",
    "df5_customer = df5_customer.reset_index(drop=True)\n",
    "df5_customer\n",
    "df5_customer.to_csv(r'output/376_customers.csv', index=False)"
   ]
  },
  {
   "cell_type": "code",
   "execution_count": 1230,
   "metadata": {},
   "outputs": [],
   "source": [
    "df5['Date'] = pd.to_datetime(df5['Date'])\n",
    "df5['Date'] = df5['Date'].dt.strftime('%Y-%m')\n",
    "\n",
    "# #define how to aggregate various fields\n",
    "agg_functions = {'Date': 'first', 'Gross': 'sum', 'Net': 'sum'}\n",
    "\n",
    "# #create new DataFrame by combining rows with same id values\n",
    "df5 = df5.groupby(df5['Date']).aggregate(agg_functions)\n",
    "\n",
    "# print(df5)"
   ]
  },
  {
   "cell_type": "code",
   "execution_count": 1231,
   "metadata": {},
   "outputs": [
    {
     "data": {
      "image/png": "[encoded data removed]",
      "text/plain": [
       "<Figure size 432x288 with 1 Axes>"
      ]
     },
     "metadata": {
      "needs_background": "light"
     },
     "output_type": "display_data"
    }
   ],
   "source": [
    "# x-coordinates of left sides of bars \n",
    "left = df5['Date']\n",
    "  \n",
    "# heights of bars\n",
    "Gross = df5['Gross']\n",
    "Net = df5['Net']\n",
    "  \n",
    "# labels for bars\n",
    "tick_label = df5['Date']\n",
    "  \n",
    "# plotting a bar chart\n",
    "plt.bar(left, Gross, tick_label = tick_label, width = 0.8, color = ['blue'], label = 'Gross')\n",
    "plt.bar(left, Net, tick_label = tick_label, width = 0.8, color = ['green'], label = 'Net' )\n",
    "plt.xticks(rotation='vertical')\n",
    "  \n",
    "# naming the x-axis\n",
    "plt.xlabel('Month')\n",
    "# naming the y-axis\n",
    "plt.ylabel('Profit')\n",
    "# plot title\n",
    "plt.title('376 Net and Gross Profit')\n",
    "plt.legend(loc=\"best\")\n",
    "# function to show the plot\n",
    "plt.savefig('output/376_gnp.jpg', dpi=100, bbox_inches = 'tight')\n",
    "# plt.show()"
   ]
  },
  {
   "cell_type": "code",
   "execution_count": 1232,
   "metadata": {},
   "outputs": [],
   "source": [
    "frames = [df0, df1, df2, df3, df4, df5]\n",
    "\n",
    "df99 = pd.concat(frames)\n",
    "# df99.drop(columns=['Date'], inplace=True)\n",
    "# df99.head(30)\n",
    "\n",
    "# print(df99['Net'].sum())\n",
    "# print(df99['Gross'].sum())"
   ]
  },
  {
   "cell_type": "code",
   "execution_count": 1233,
   "metadata": {},
   "outputs": [],
   "source": [
    "frames = [df0, df1, df2, df3, df4, df5]\n",
    "\n",
    "df99 = pd.concat(frames)\n",
    "df99.head()\n",
    "\n",
    "# print(df99['Net'].sum())\n",
    "# print(df99['Gross'].sum())\n",
    "\n",
    "\n",
    "Net_Gross = {\n",
    "    '370_Gross' : df0['Gross'].sum(),\n",
    "    '370_net' : df0['Net'].sum(),\n",
    "    '372_Gross' : df1['Gross'].sum(),\n",
    "    '372_net' : df1['Net'].sum(),\n",
    "    '373_Gross' : df2['Gross'].sum(),\n",
    "    '373_net' : df2['Net'].sum(),\n",
    "    '374_Gross' : df3['Gross'].sum(),\n",
    "    '374_net' : df3['Net'].sum(),\n",
    "    '375_Gross' : df4['Gross'].sum(),\n",
    "    '375_net' : df4['Net'].sum(),\n",
    "    '376_Gross' : df5['Gross'].sum(),\n",
    "    '376_net' : df5['Net'].sum(),\n",
    "}\n",
    "\n",
    "data = Net_Gross\n",
    "names = list(data.keys())\n",
    "values = list(data.values())\n",
    "\n",
    "\n",
    "# print('Total Gross:',(Total_Gross))\n",
    "# print('Total Net:',(Total_net))\n"
   ]
  },
  {
   "cell_type": "code",
   "execution_count": 1234,
   "metadata": {},
   "outputs": [],
   "source": [
    "df99['Date'] = pd.to_datetime(df99['Date'])\n",
    "df99['Date'] = df99['Date'].dt.strftime('%Y-%m')\n",
    "\n",
    "# #define how to aggregate various fields\n",
    "agg_functions = {'Date': 'first', 'Gross': 'sum', 'Net': 'sum'}\n",
    "\n",
    "# #create new DataFrame by combining rows with same id values\n",
    "df99 = df99.groupby(df99['Date']).aggregate(agg_functions)\n",
    "\n",
    "# print(df99)"
   ]
  },
  {
   "cell_type": "code",
   "execution_count": 1235,
   "metadata": {},
   "outputs": [
    {
     "data": {
      "image/png": "[encoded data removed]",
      "text/plain": [
       "<Figure size 432x288 with 1 Axes>"
      ]
     },
     "metadata": {
      "needs_background": "light"
     },
     "output_type": "display_data"
    }
   ],
   "source": [
    "# x-coordinates of left sides of bars \n",
    "left = df99['Date']\n",
    "  \n",
    "# heights of bars\n",
    "Gross = df99['Gross']\n",
    "Net = df99['Net']\n",
    "  \n",
    "# labels for bars\n",
    "tick_label = df99['Date']\n",
    "  \n",
    "# plotting a bar chart\n",
    "plt.bar(left, Gross, tick_label = tick_label, width = 0.8, color = ['blue'], label = 'Gross')\n",
    "plt.bar(left, Net, tick_label = tick_label, width = 0.8, color = ['green'], label = 'Net' )\n",
    "plt.xticks(rotation='vertical')\n",
    "  \n",
    "# naming the x-axis\n",
    "plt.xlabel('Month')\n",
    "# naming the y-axis\n",
    "plt.ylabel('Profit')\n",
    "# plot title\n",
    "plt.title('All Stores Net and Gross Profit')\n",
    "plt.legend(loc=\"best\")\n",
    "# function to show the plot\n",
    "plt.savefig('output/all_stores_gnp.jpg', dpi=100, bbox_inches = 'tight')\n",
    "# plt.show()\n"
   ]
  }
 ],
 "metadata": {
  "kernelspec": {
   "display_name": "Python 3.9.7 ('base')",
   "language": "python",
   "name": "python3"
  },
  "language_info": {
   "codemirror_mode": {
    "name": "ipython",
    "version": 3
   },
   "file_extension": ".py",
   "mimetype": "text/x-python",
   "name": "python",
   "nbconvert_exporter": "python",
   "pygments_lexer": "ipython3",
   "version": "3.9.7"
  },
  "orig_nbformat": 4,
  "vscode": {
   "interpreter": {
    "hash": "40d3a090f54c6569ab1632332b64b2c03c39dcf918b08424e98f38b5ae0af88f"
   }
  }
 },
 "nbformat": 4,
 "nbformat_minor": 2
}
