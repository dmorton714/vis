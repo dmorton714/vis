{
 "cells": [
  {
   "cell_type": "code",
   "execution_count": 62,
   "metadata": {},
   "outputs": [],
   "source": [
    "import pandas as pd\n",
    "import matplotlib.pyplot as plt\n",
    "import matplotlib.dates as mdates\n",
    "import datetime\n",
    "import csv\n",
    "import numpy as np\n",
    "import seaborn as sns\n",
    "import matplotlib.ticker as ticker"
   ]
  },
  {
   "attachments": {},
   "cell_type": "markdown",
   "metadata": {},
   "source": [
    "Defined function to clean all the imported data "
   ]
  },
  {
   "cell_type": "code",
   "execution_count": 63,
   "metadata": {},
   "outputs": [],
   "source": [
    "def process_data(df):\n",
    "    df.drop(columns=['Transaction Type', 'Reference Number', 'Customer Vendor #','Inventory Balance', 'Transaction Date.1','Reference Number.1', 'Created By', 'Created Date', 'Inventory Quantity','Transaction Type.1', 'Created Time', 'Last Changed By', 'Last Changed Date','Receiving PO Number', 'Last Changed Time' ], inplace=True)\n",
    "    df.rename(columns={'Customer/Vendor Name' : 'Customer','Non-Inventory Quantity': 'Qty', 'Transaction Date' : 'Date'}, inplace=True)\n",
    "    df = df[df.Customer != \"TRANSFERS TO #372 J'VILLE\"]\n",
    "    df = df[df.Customer != \"TRANSFERS TO #374 SEYMOUR\"]\n",
    "    df = df[df.Customer != \"TRANSFERS TO #373 E-TOWN\"]\n",
    "    df = df[df.Customer != \"TRANSFERS TO #375 S'VILLE\"]\n",
    "    df = df[df.Customer != \"*** STORE TRANSFERS ***\"]\n",
    "    df = df[df.Customer != \"Beginning Balance\"]\n",
    "    df = df[df.Customer != 'Net Activity']\n",
    "    df = df[df.Customer != 'Ending Balance']\n",
    "    df = df[df.Customer != 'VOID']\n",
    "    df = df[df.Customer != \"TRANSFERS TO #376 L'VILLE\"]\n",
    "    df = df.dropna(how=\"all\")\n",
    "    Gross = df.Qty * df.Price\n",
    "    df['Gross'] = Gross.where(df.Price == 'Qty', other=Gross)\n",
    "    Net = df.Qty * df.Cost \n",
    "    df['Net'] = Net.where(df.Cost == 'Qty', other=Net)\n",
    "    Net = df.Gross - df.Net \n",
    "    df['Net'] = Net.where(df.Gross == \"Net\", other=Net)\n",
    "    return df\n"
   ]
  },
  {
   "attachments": {},
   "cell_type": "markdown",
   "metadata": {},
   "source": [
    "running the function to clean the data"
   ]
  },
  {
   "cell_type": "code",
   "execution_count": 64,
   "metadata": {},
   "outputs": [
    {
     "name": "stderr",
     "output_type": "stream",
     "text": [
      "/home/dannymorton714/.local/lib/python3.9/site-packages/openpyxl/styles/stylesheet.py:226: UserWarning: Workbook contains no default style, apply openpyxl's default\n",
      "  warn(\"Workbook contains no default style, apply openpyxl's default\")\n",
      "/home/dannymorton714/.local/lib/python3.9/site-packages/openpyxl/styles/stylesheet.py:226: UserWarning: Workbook contains no default style, apply openpyxl's default\n",
      "  warn(\"Workbook contains no default style, apply openpyxl's default\")\n",
      "/home/dannymorton714/.local/lib/python3.9/site-packages/openpyxl/styles/stylesheet.py:226: UserWarning: Workbook contains no default style, apply openpyxl's default\n",
      "  warn(\"Workbook contains no default style, apply openpyxl's default\")\n",
      "/home/dannymorton714/.local/lib/python3.9/site-packages/openpyxl/styles/stylesheet.py:226: UserWarning: Workbook contains no default style, apply openpyxl's default\n",
      "  warn(\"Workbook contains no default style, apply openpyxl's default\")\n",
      "/home/dannymorton714/.local/lib/python3.9/site-packages/openpyxl/styles/stylesheet.py:226: UserWarning: Workbook contains no default style, apply openpyxl's default\n",
      "  warn(\"Workbook contains no default style, apply openpyxl's default\")\n",
      "/home/dannymorton714/.local/lib/python3.9/site-packages/openpyxl/styles/stylesheet.py:226: UserWarning: Workbook contains no default style, apply openpyxl's default\n",
      "  warn(\"Workbook contains no default style, apply openpyxl's default\")\n"
     ]
    }
   ],
   "source": [
    "df0 = pd.read_excel (r'input/370.xlsx',header=[3])\n",
    "df0 = process_data(df0)\n",
    "\n",
    "df1 = pd.read_excel (r'input/372.xlsx',header=[3])\n",
    "df1 = process_data(df1)\n",
    "\n",
    "df2 = pd.read_excel (r'input/373.xlsx',header=[3])\n",
    "df2 = process_data(df2)\n",
    "\n",
    "df3 = pd.read_excel (r'input/374.xlsx',header=[3])\n",
    "df3 = process_data(df3)\n",
    "\n",
    "df4 = pd.read_excel (r'input/375.xlsx',header=[3])\n",
    "df4 = process_data(df4)\n",
    "\n",
    "df5 = pd.read_excel (r'input/376.xlsx',header=[3])\n",
    "df5 = process_data(df5)\n",
    "\n",
    "# df5"
   ]
  },
  {
   "attachments": {},
   "cell_type": "markdown",
   "metadata": {},
   "source": [
    "dicts of gross and net profits per store "
   ]
  },
  {
   "cell_type": "code",
   "execution_count": 65,
   "metadata": {},
   "outputs": [],
   "source": [
    "Net_Gross270 = {\n",
    "    'Gross' : df0['Gross'].sum(),\n",
    "    'Net' : df0['Net'].sum()\n",
    "}\n",
    "\n",
    "Net_Gross272 = {\n",
    "    'Gross' : df1['Gross'].sum(),\n",
    "    'Net' : df1['Net'].sum()\n",
    "}\n",
    "Net_Gross273 = {\n",
    "    'Gross' : df2['Gross'].sum(),\n",
    "    'Net' : df2['Net'].sum()\n",
    "}\n",
    "\n",
    "Net_Gross274 = {\n",
    "    'Gross' : df3['Gross'].sum(),\n",
    "    'Net' : df3['Net'].sum()\n",
    "}\n",
    "\n",
    "Net_Gross275 = {\n",
    "    'Gross' : df4['Gross'].sum(),\n",
    "    'Net' : df4['Net'].sum()\n",
    "}\n",
    "\n",
    "Net_Gross276 = {\n",
    "    'Gross' : df5['Gross'].sum(),\n",
    "    'Net' : df5['Net'].sum()\n",
    "}\n"
   ]
  },
  {
   "attachments": {},
   "cell_type": "markdown",
   "metadata": {},
   "source": [
    "function to do qty count to determine top customers by sales"
   ]
  },
  {
   "cell_type": "code",
   "execution_count": 66,
   "metadata": {},
   "outputs": [],
   "source": [
    "def top_customers(df):\n",
    "    agg_functions = {'Customer': 'first', 'Qty': 'sum'}\n",
    "    df_customer = df.groupby(df['Customer']).aggregate(agg_functions)\n",
    "    df_customer = df_customer.sort_values(['Qty'],ascending=False)\n",
    "    return df_customer"
   ]
  },
  {
   "attachments": {},
   "cell_type": "markdown",
   "metadata": {},
   "source": [
    "<h1>Finish calling the function on all stores, then refactor the code below "
   ]
  },
  {
   "cell_type": "code",
   "execution_count": 67,
   "metadata": {},
   "outputs": [
    {
     "data": {
      "text/html": [
       "<div>\n",
       "<style scoped>\n",
       "    .dataframe tbody tr th:only-of-type {\n",
       "        vertical-align: middle;\n",
       "    }\n",
       "\n",
       "    .dataframe tbody tr th {\n",
       "        vertical-align: top;\n",
       "    }\n",
       "\n",
       "    .dataframe thead th {\n",
       "        text-align: right;\n",
       "    }\n",
       "</style>\n",
       "<table border=\"1\" class=\"dataframe\">\n",
       "  <thead>\n",
       "    <tr style=\"text-align: right;\">\n",
       "      <th></th>\n",
       "      <th>Customer</th>\n",
       "      <th>Qty</th>\n",
       "    </tr>\n",
       "    <tr>\n",
       "      <th>Customer</th>\n",
       "      <th></th>\n",
       "      <th></th>\n",
       "    </tr>\n",
       "  </thead>\n",
       "  <tbody>\n",
       "    <tr>\n",
       "      <th>HARROD TRANSPORT</th>\n",
       "      <td>HARROD TRANSPORT</td>\n",
       "      <td>4.0</td>\n",
       "    </tr>\n",
       "  </tbody>\n",
       "</table>\n",
       "</div>"
      ],
      "text/plain": [
       "                          Customer  Qty\n",
       "Customer                               \n",
       "HARROD TRANSPORT  HARROD TRANSPORT  4.0"
      ]
     },
     "execution_count": 67,
     "metadata": {},
     "output_type": "execute_result"
    }
   ],
   "source": [
    "dfc4 = df4\n",
    "dfc4 = top_customers(df4)\n",
    "dfc4\n"
   ]
  },
  {
   "attachments": {},
   "cell_type": "markdown",
   "metadata": {},
   "source": [
    "Function to calculate sales by month. "
   ]
  },
  {
   "cell_type": "code",
   "execution_count": 68,
   "metadata": {},
   "outputs": [],
   "source": [
    "def graph(df):\n",
    "    df['Date'] = pd.to_datetime(df['Date'])\n",
    "    df['Date'] = df['Date'].dt.strftime('%Y-%m')\n",
    "    # #define how to aggregate various fields\n",
    "    agg_functions = {'Date': 'first', 'Gross': 'sum', 'Net': 'sum'}\n",
    "    # #create new DataFrame by combining rows with same id values\n",
    "    df = df.groupby(df['Date']).aggregate(agg_functions)\n",
    "    return df"
   ]
  },
  {
   "attachments": {},
   "cell_type": "markdown",
   "metadata": {},
   "source": [
    "<h1>Finish calling the function on all stores, then refactor the code below "
   ]
  },
  {
   "cell_type": "code",
   "execution_count": 69,
   "metadata": {},
   "outputs": [
    {
     "data": {
      "text/plain": [
       "<Axes: xlabel='Date'>"
      ]
     },
     "execution_count": 69,
     "metadata": {},
     "output_type": "execute_result"
    },
    {
     "data": {
      "image/png": "[encoded data removed]",
      "text/plain": [
       "<Figure size 640x480 with 1 Axes>"
      ]
     },
     "metadata": {},
     "output_type": "display_data"
    }
   ],
   "source": [
    "df4 = graph(df4)\n",
    "df4.plot.bar()\n",
    "\n",
    "# g5 = df5\n",
    "# g5 = graph(df5)\n",
    "# g5"
   ]
  },
  {
   "cell_type": "code",
   "execution_count": 70,
   "metadata": {},
   "outputs": [
    {
     "data": {
      "text/html": [
       "<div>\n",
       "<style scoped>\n",
       "    .dataframe tbody tr th:only-of-type {\n",
       "        vertical-align: middle;\n",
       "    }\n",
       "\n",
       "    .dataframe tbody tr th {\n",
       "        vertical-align: top;\n",
       "    }\n",
       "\n",
       "    .dataframe thead th {\n",
       "        text-align: right;\n",
       "    }\n",
       "</style>\n",
       "<table border=\"1\" class=\"dataframe\">\n",
       "  <thead>\n",
       "    <tr style=\"text-align: right;\">\n",
       "      <th></th>\n",
       "      <th>Customer</th>\n",
       "      <th>counts</th>\n",
       "    </tr>\n",
       "  </thead>\n",
       "  <tbody>\n",
       "  </tbody>\n",
       "</table>\n",
       "</div>"
      ],
      "text/plain": [
       "Empty DataFrame\n",
       "Columns: [Customer, counts]\n",
       "Index: []"
      ]
     },
     "execution_count": 70,
     "metadata": {},
     "output_type": "execute_result"
    }
   ],
   "source": [
    "by_cust =(df0['Customer']).value_counts().sort_index()\n",
    "df0_customer = by_cust.rename_axis('Customer').reset_index(name='counts')\n",
    "df0_customer.sort_values(by=['counts'], ascending=False, inplace=True)\n",
    "df0_customer = df0_customer.reset_index(drop=True)\n",
    "df0_customer\n",
    "# df0_customer.to_csv(r'output/370_customers.csv', index=False)"
   ]
  },
  {
   "cell_type": "code",
   "execution_count": 71,
   "metadata": {},
   "outputs": [],
   "source": [
    "df0['Date'] = pd.to_datetime(df0['Date'])\n",
    "df0['Date'] = df0['Date'].dt.strftime('%Y-%m')\n",
    "\n",
    "# #define how to aggregate various fields\n",
    "agg_functions = {'Date': 'first', 'Gross': 'sum', 'Net': 'sum'}\n",
    "\n",
    "# #create new DataFrame by combining rows with same id values\n",
    "df0 = df0.groupby(df0['Date']).aggregate(agg_functions)\n",
    "\n",
    "# print(df0)\n",
    "\n",
    "# df_new.to_csv(r'df5.csv', index=False)"
   ]
  },
  {
   "cell_type": "code",
   "execution_count": 72,
   "metadata": {},
   "outputs": [
    {
     "ename": "TypeError",
     "evalue": "ufunc 'isfinite' not supported for the input types, and the inputs could not be safely coerced to any supported types according to the casting rule ''safe''",
     "output_type": "error",
     "traceback": [
      "\u001b[0;31m---------------------------------------------------------------------------\u001b[0m",
      "\u001b[0;31mTypeError\u001b[0m                                 Traceback (most recent call last)",
      "Cell \u001b[0;32mIn[72], line 14\u001b[0m\n\u001b[1;32m     12\u001b[0m plt\u001b[39m.\u001b[39mbar(left, Gross, tick_label \u001b[39m=\u001b[39m tick_label, width \u001b[39m=\u001b[39m \u001b[39m0.8\u001b[39m, color \u001b[39m=\u001b[39m [\u001b[39m'\u001b[39m\u001b[39mblue\u001b[39m\u001b[39m'\u001b[39m], label \u001b[39m=\u001b[39m \u001b[39m'\u001b[39m\u001b[39mGross\u001b[39m\u001b[39m'\u001b[39m)\n\u001b[1;32m     13\u001b[0m plt\u001b[39m.\u001b[39mbar(left, Net, tick_label \u001b[39m=\u001b[39m tick_label, width \u001b[39m=\u001b[39m \u001b[39m0.8\u001b[39m, color \u001b[39m=\u001b[39m [\u001b[39m'\u001b[39m\u001b[39mgreen\u001b[39m\u001b[39m'\u001b[39m], label \u001b[39m=\u001b[39m \u001b[39m'\u001b[39m\u001b[39mNet\u001b[39m\u001b[39m'\u001b[39m )\n\u001b[0;32m---> 14\u001b[0m plt\u001b[39m.\u001b[39;49mxticks(rotation\u001b[39m=\u001b[39;49m\u001b[39m'\u001b[39;49m\u001b[39mvertical\u001b[39;49m\u001b[39m'\u001b[39;49m)\n\u001b[1;32m     16\u001b[0m \u001b[39m# naming the x-axis\u001b[39;00m\n\u001b[1;32m     17\u001b[0m plt\u001b[39m.\u001b[39mxlabel(\u001b[39m'\u001b[39m\u001b[39mMonth\u001b[39m\u001b[39m'\u001b[39m)\n",
      "File \u001b[0;32m~/.local/lib/python3.9/site-packages/matplotlib/pyplot.py:1889\u001b[0m, in \u001b[0;36mxticks\u001b[0;34m(ticks, labels, minor, **kwargs)\u001b[0m\n\u001b[1;32m   1886\u001b[0m     locs \u001b[39m=\u001b[39m ax\u001b[39m.\u001b[39mset_xticks(ticks, minor\u001b[39m=\u001b[39mminor)\n\u001b[1;32m   1888\u001b[0m \u001b[39mif\u001b[39;00m labels \u001b[39mis\u001b[39;00m \u001b[39mNone\u001b[39;00m:\n\u001b[0;32m-> 1889\u001b[0m     labels \u001b[39m=\u001b[39m ax\u001b[39m.\u001b[39;49mget_xticklabels(minor\u001b[39m=\u001b[39;49mminor)\n\u001b[1;32m   1890\u001b[0m     \u001b[39mfor\u001b[39;00m l \u001b[39min\u001b[39;00m labels:\n\u001b[1;32m   1891\u001b[0m         l\u001b[39m.\u001b[39m_internal_update(kwargs)\n",
      "File \u001b[0;32m~/.local/lib/python3.9/site-packages/matplotlib/axes/_base.py:74\u001b[0m, in \u001b[0;36m_axis_method_wrapper.__set_name__.<locals>.wrapper\u001b[0;34m(self, *args, **kwargs)\u001b[0m\n\u001b[1;32m     73\u001b[0m \u001b[39mdef\u001b[39;00m \u001b[39mwrapper\u001b[39m(\u001b[39mself\u001b[39m, \u001b[39m*\u001b[39margs, \u001b[39m*\u001b[39m\u001b[39m*\u001b[39mkwargs):\n\u001b[0;32m---> 74\u001b[0m     \u001b[39mreturn\u001b[39;00m get_method(\u001b[39mself\u001b[39;49m)(\u001b[39m*\u001b[39;49margs, \u001b[39m*\u001b[39;49m\u001b[39m*\u001b[39;49mkwargs)\n",
      "File \u001b[0;32m~/.local/lib/python3.9/site-packages/matplotlib/axis.py:1456\u001b[0m, in \u001b[0;36mAxis.get_ticklabels\u001b[0;34m(self, minor, which)\u001b[0m\n\u001b[1;32m   1454\u001b[0m \u001b[39mif\u001b[39;00m minor:\n\u001b[1;32m   1455\u001b[0m     \u001b[39mreturn\u001b[39;00m \u001b[39mself\u001b[39m\u001b[39m.\u001b[39mget_minorticklabels()\n\u001b[0;32m-> 1456\u001b[0m \u001b[39mreturn\u001b[39;00m \u001b[39mself\u001b[39;49m\u001b[39m.\u001b[39;49mget_majorticklabels()\n",
      "File \u001b[0;32m~/.local/lib/python3.9/site-packages/matplotlib/axis.py:1413\u001b[0m, in \u001b[0;36mAxis.get_majorticklabels\u001b[0;34m(self)\u001b[0m\n\u001b[1;32m   1411\u001b[0m \u001b[39mdef\u001b[39;00m \u001b[39mget_majorticklabels\u001b[39m(\u001b[39mself\u001b[39m):\n\u001b[1;32m   1412\u001b[0m \u001b[39m    \u001b[39m\u001b[39m\"\"\"Return this Axis' major tick labels, as a list of `~.text.Text`.\"\"\"\u001b[39;00m\n\u001b[0;32m-> 1413\u001b[0m     \u001b[39mself\u001b[39;49m\u001b[39m.\u001b[39;49m_update_ticks()\n\u001b[1;32m   1414\u001b[0m     ticks \u001b[39m=\u001b[39m \u001b[39mself\u001b[39m\u001b[39m.\u001b[39mget_major_ticks()\n\u001b[1;32m   1415\u001b[0m     labels1 \u001b[39m=\u001b[39m [tick\u001b[39m.\u001b[39mlabel1 \u001b[39mfor\u001b[39;00m tick \u001b[39min\u001b[39;00m ticks \u001b[39mif\u001b[39;00m tick\u001b[39m.\u001b[39mlabel1\u001b[39m.\u001b[39mget_visible()]\n",
      "File \u001b[0;32m~/.local/lib/python3.9/site-packages/matplotlib/axis.py:1270\u001b[0m, in \u001b[0;36mAxis._update_ticks\u001b[0;34m(self)\u001b[0m\n\u001b[1;32m   1268\u001b[0m     tick\u001b[39m.\u001b[39mset_label1(label)\n\u001b[1;32m   1269\u001b[0m     tick\u001b[39m.\u001b[39mset_label2(label)\n\u001b[0;32m-> 1270\u001b[0m minor_locs \u001b[39m=\u001b[39m \u001b[39mself\u001b[39;49m\u001b[39m.\u001b[39;49mget_minorticklocs()\n\u001b[1;32m   1271\u001b[0m minor_labels \u001b[39m=\u001b[39m \u001b[39mself\u001b[39m\u001b[39m.\u001b[39mminor\u001b[39m.\u001b[39mformatter\u001b[39m.\u001b[39mformat_ticks(minor_locs)\n\u001b[1;32m   1272\u001b[0m minor_ticks \u001b[39m=\u001b[39m \u001b[39mself\u001b[39m\u001b[39m.\u001b[39mget_minor_ticks(\u001b[39mlen\u001b[39m(minor_locs))\n",
      "File \u001b[0;32m~/.local/lib/python3.9/site-packages/matplotlib/axis.py:1499\u001b[0m, in \u001b[0;36mAxis.get_minorticklocs\u001b[0;34m(self)\u001b[0m\n\u001b[1;32m   1496\u001b[0m     \u001b[39m# Use the transformed view limits as scale.  1e-5 is the default\u001b[39;00m\n\u001b[1;32m   1497\u001b[0m     \u001b[39m# rtol for np.isclose.\u001b[39;00m\n\u001b[1;32m   1498\u001b[0m     tol \u001b[39m=\u001b[39m (hi \u001b[39m-\u001b[39m lo) \u001b[39m*\u001b[39m \u001b[39m1e-5\u001b[39m\n\u001b[0;32m-> 1499\u001b[0m     mask \u001b[39m=\u001b[39m np\u001b[39m.\u001b[39;49misclose(tr_minor_locs[:, \u001b[39mNone\u001b[39;49;00m], tr_major_locs[\u001b[39mNone\u001b[39;49;00m, :],\n\u001b[1;32m   1500\u001b[0m                       atol\u001b[39m=\u001b[39;49mtol, rtol\u001b[39m=\u001b[39;49m\u001b[39m0\u001b[39;49m)\u001b[39m.\u001b[39many(axis\u001b[39m=\u001b[39m\u001b[39m1\u001b[39m)\n\u001b[1;32m   1501\u001b[0m     minor_locs \u001b[39m=\u001b[39m minor_locs[\u001b[39m~\u001b[39mmask]\n\u001b[1;32m   1502\u001b[0m \u001b[39mreturn\u001b[39;00m minor_locs\n",
      "File \u001b[0;32m<__array_function__ internals>:200\u001b[0m, in \u001b[0;36misclose\u001b[0;34m(*args, **kwargs)\u001b[0m\n",
      "File \u001b[0;32m~/.local/lib/python3.9/site-packages/numpy/core/numeric.py:2378\u001b[0m, in \u001b[0;36misclose\u001b[0;34m(a, b, rtol, atol, equal_nan)\u001b[0m\n\u001b[1;32m   2375\u001b[0m     y \u001b[39m=\u001b[39m asanyarray(y, dtype\u001b[39m=\u001b[39mdt)\n\u001b[1;32m   2377\u001b[0m xfin \u001b[39m=\u001b[39m isfinite(x)\n\u001b[0;32m-> 2378\u001b[0m yfin \u001b[39m=\u001b[39m isfinite(y)\n\u001b[1;32m   2379\u001b[0m \u001b[39mif\u001b[39;00m \u001b[39mall\u001b[39m(xfin) \u001b[39mand\u001b[39;00m \u001b[39mall\u001b[39m(yfin):\n\u001b[1;32m   2380\u001b[0m     \u001b[39mreturn\u001b[39;00m within_tol(x, y, atol, rtol)\n",
      "\u001b[0;31mTypeError\u001b[0m: ufunc 'isfinite' not supported for the input types, and the inputs could not be safely coerced to any supported types according to the casting rule ''safe''"
     ]
    },
    {
     "name": "stdout",
     "output_type": "stream",
     "text": [
      "Error in callback <function _draw_all_if_interactive at 0x7b828a1b0670> (for post_execute):\n"
     ]
    },
    {
     "ename": "TypeError",
     "evalue": "ufunc 'isfinite' not supported for the input types, and the inputs could not be safely coerced to any supported types according to the casting rule ''safe''",
     "output_type": "error",
     "traceback": [
      "\u001b[0;31m---------------------------------------------------------------------------\u001b[0m",
      "\u001b[0;31mTypeError\u001b[0m                                 Traceback (most recent call last)",
      "File \u001b[0;32m~/.local/lib/python3.9/site-packages/matplotlib/pyplot.py:120\u001b[0m, in \u001b[0;36m_draw_all_if_interactive\u001b[0;34m()\u001b[0m\n\u001b[1;32m    118\u001b[0m \u001b[39mdef\u001b[39;00m \u001b[39m_draw_all_if_interactive\u001b[39m():\n\u001b[1;32m    119\u001b[0m     \u001b[39mif\u001b[39;00m matplotlib\u001b[39m.\u001b[39mis_interactive():\n\u001b[0;32m--> 120\u001b[0m         draw_all()\n",
      "File \u001b[0;32m~/.local/lib/python3.9/site-packages/matplotlib/_pylab_helpers.py:132\u001b[0m, in \u001b[0;36mGcf.draw_all\u001b[0;34m(cls, force)\u001b[0m\n\u001b[1;32m    130\u001b[0m \u001b[39mfor\u001b[39;00m manager \u001b[39min\u001b[39;00m \u001b[39mcls\u001b[39m\u001b[39m.\u001b[39mget_all_fig_managers():\n\u001b[1;32m    131\u001b[0m     \u001b[39mif\u001b[39;00m force \u001b[39mor\u001b[39;00m manager\u001b[39m.\u001b[39mcanvas\u001b[39m.\u001b[39mfigure\u001b[39m.\u001b[39mstale:\n\u001b[0;32m--> 132\u001b[0m         manager\u001b[39m.\u001b[39;49mcanvas\u001b[39m.\u001b[39;49mdraw_idle()\n",
      "File \u001b[0;32m~/.local/lib/python3.9/site-packages/matplotlib/backend_bases.py:2082\u001b[0m, in \u001b[0;36mFigureCanvasBase.draw_idle\u001b[0;34m(self, *args, **kwargs)\u001b[0m\n\u001b[1;32m   2080\u001b[0m \u001b[39mif\u001b[39;00m \u001b[39mnot\u001b[39;00m \u001b[39mself\u001b[39m\u001b[39m.\u001b[39m_is_idle_drawing:\n\u001b[1;32m   2081\u001b[0m     \u001b[39mwith\u001b[39;00m \u001b[39mself\u001b[39m\u001b[39m.\u001b[39m_idle_draw_cntx():\n\u001b[0;32m-> 2082\u001b[0m         \u001b[39mself\u001b[39;49m\u001b[39m.\u001b[39;49mdraw(\u001b[39m*\u001b[39;49margs, \u001b[39m*\u001b[39;49m\u001b[39m*\u001b[39;49mkwargs)\n",
      "File \u001b[0;32m~/.local/lib/python3.9/site-packages/matplotlib/backends/backend_agg.py:400\u001b[0m, in \u001b[0;36mFigureCanvasAgg.draw\u001b[0;34m(self)\u001b[0m\n\u001b[1;32m    396\u001b[0m \u001b[39m# Acquire a lock on the shared font cache.\u001b[39;00m\n\u001b[1;32m    397\u001b[0m \u001b[39mwith\u001b[39;00m RendererAgg\u001b[39m.\u001b[39mlock, \\\n\u001b[1;32m    398\u001b[0m      (\u001b[39mself\u001b[39m\u001b[39m.\u001b[39mtoolbar\u001b[39m.\u001b[39m_wait_cursor_for_draw_cm() \u001b[39mif\u001b[39;00m \u001b[39mself\u001b[39m\u001b[39m.\u001b[39mtoolbar\n\u001b[1;32m    399\u001b[0m       \u001b[39melse\u001b[39;00m nullcontext()):\n\u001b[0;32m--> 400\u001b[0m     \u001b[39mself\u001b[39;49m\u001b[39m.\u001b[39;49mfigure\u001b[39m.\u001b[39;49mdraw(\u001b[39mself\u001b[39;49m\u001b[39m.\u001b[39;49mrenderer)\n\u001b[1;32m    401\u001b[0m     \u001b[39m# A GUI class may be need to update a window using this draw, so\u001b[39;00m\n\u001b[1;32m    402\u001b[0m     \u001b[39m# don't forget to call the superclass.\u001b[39;00m\n\u001b[1;32m    403\u001b[0m     \u001b[39msuper\u001b[39m()\u001b[39m.\u001b[39mdraw()\n",
      "File \u001b[0;32m~/.local/lib/python3.9/site-packages/matplotlib/artist.py:95\u001b[0m, in \u001b[0;36m_finalize_rasterization.<locals>.draw_wrapper\u001b[0;34m(artist, renderer, *args, **kwargs)\u001b[0m\n\u001b[1;32m     93\u001b[0m \u001b[39m@wraps\u001b[39m(draw)\n\u001b[1;32m     94\u001b[0m \u001b[39mdef\u001b[39;00m \u001b[39mdraw_wrapper\u001b[39m(artist, renderer, \u001b[39m*\u001b[39margs, \u001b[39m*\u001b[39m\u001b[39m*\u001b[39mkwargs):\n\u001b[0;32m---> 95\u001b[0m     result \u001b[39m=\u001b[39m draw(artist, renderer, \u001b[39m*\u001b[39;49margs, \u001b[39m*\u001b[39;49m\u001b[39m*\u001b[39;49mkwargs)\n\u001b[1;32m     96\u001b[0m     \u001b[39mif\u001b[39;00m renderer\u001b[39m.\u001b[39m_rasterizing:\n\u001b[1;32m     97\u001b[0m         renderer\u001b[39m.\u001b[39mstop_rasterizing()\n",
      "File \u001b[0;32m~/.local/lib/python3.9/site-packages/matplotlib/artist.py:72\u001b[0m, in \u001b[0;36mallow_rasterization.<locals>.draw_wrapper\u001b[0;34m(artist, renderer)\u001b[0m\n\u001b[1;32m     69\u001b[0m     \u001b[39mif\u001b[39;00m artist\u001b[39m.\u001b[39mget_agg_filter() \u001b[39mis\u001b[39;00m \u001b[39mnot\u001b[39;00m \u001b[39mNone\u001b[39;00m:\n\u001b[1;32m     70\u001b[0m         renderer\u001b[39m.\u001b[39mstart_filter()\n\u001b[0;32m---> 72\u001b[0m     \u001b[39mreturn\u001b[39;00m draw(artist, renderer)\n\u001b[1;32m     73\u001b[0m \u001b[39mfinally\u001b[39;00m:\n\u001b[1;32m     74\u001b[0m     \u001b[39mif\u001b[39;00m artist\u001b[39m.\u001b[39mget_agg_filter() \u001b[39mis\u001b[39;00m \u001b[39mnot\u001b[39;00m \u001b[39mNone\u001b[39;00m:\n",
      "File \u001b[0;32m~/.local/lib/python3.9/site-packages/matplotlib/figure.py:3140\u001b[0m, in \u001b[0;36mFigure.draw\u001b[0;34m(self, renderer)\u001b[0m\n\u001b[1;32m   3137\u001b[0m         \u001b[39m# ValueError can occur when resizing a window.\u001b[39;00m\n\u001b[1;32m   3139\u001b[0m \u001b[39mself\u001b[39m\u001b[39m.\u001b[39mpatch\u001b[39m.\u001b[39mdraw(renderer)\n\u001b[0;32m-> 3140\u001b[0m mimage\u001b[39m.\u001b[39;49m_draw_list_compositing_images(\n\u001b[1;32m   3141\u001b[0m     renderer, \u001b[39mself\u001b[39;49m, artists, \u001b[39mself\u001b[39;49m\u001b[39m.\u001b[39;49msuppressComposite)\n\u001b[1;32m   3143\u001b[0m \u001b[39mfor\u001b[39;00m sfig \u001b[39min\u001b[39;00m \u001b[39mself\u001b[39m\u001b[39m.\u001b[39msubfigs:\n\u001b[1;32m   3144\u001b[0m     sfig\u001b[39m.\u001b[39mdraw(renderer)\n",
      "File \u001b[0;32m~/.local/lib/python3.9/site-packages/matplotlib/image.py:131\u001b[0m, in \u001b[0;36m_draw_list_compositing_images\u001b[0;34m(renderer, parent, artists, suppress_composite)\u001b[0m\n\u001b[1;32m    129\u001b[0m \u001b[39mif\u001b[39;00m not_composite \u001b[39mor\u001b[39;00m \u001b[39mnot\u001b[39;00m has_images:\n\u001b[1;32m    130\u001b[0m     \u001b[39mfor\u001b[39;00m a \u001b[39min\u001b[39;00m artists:\n\u001b[0;32m--> 131\u001b[0m         a\u001b[39m.\u001b[39;49mdraw(renderer)\n\u001b[1;32m    132\u001b[0m \u001b[39melse\u001b[39;00m:\n\u001b[1;32m    133\u001b[0m     \u001b[39m# Composite any adjacent images together\u001b[39;00m\n\u001b[1;32m    134\u001b[0m     image_group \u001b[39m=\u001b[39m []\n",
      "File \u001b[0;32m~/.local/lib/python3.9/site-packages/matplotlib/artist.py:72\u001b[0m, in \u001b[0;36mallow_rasterization.<locals>.draw_wrapper\u001b[0;34m(artist, renderer)\u001b[0m\n\u001b[1;32m     69\u001b[0m     \u001b[39mif\u001b[39;00m artist\u001b[39m.\u001b[39mget_agg_filter() \u001b[39mis\u001b[39;00m \u001b[39mnot\u001b[39;00m \u001b[39mNone\u001b[39;00m:\n\u001b[1;32m     70\u001b[0m         renderer\u001b[39m.\u001b[39mstart_filter()\n\u001b[0;32m---> 72\u001b[0m     \u001b[39mreturn\u001b[39;00m draw(artist, renderer)\n\u001b[1;32m     73\u001b[0m \u001b[39mfinally\u001b[39;00m:\n\u001b[1;32m     74\u001b[0m     \u001b[39mif\u001b[39;00m artist\u001b[39m.\u001b[39mget_agg_filter() \u001b[39mis\u001b[39;00m \u001b[39mnot\u001b[39;00m \u001b[39mNone\u001b[39;00m:\n",
      "File \u001b[0;32m~/.local/lib/python3.9/site-packages/matplotlib/axes/_base.py:3064\u001b[0m, in \u001b[0;36m_AxesBase.draw\u001b[0;34m(self, renderer)\u001b[0m\n\u001b[1;32m   3061\u001b[0m \u001b[39mif\u001b[39;00m artists_rasterized:\n\u001b[1;32m   3062\u001b[0m     _draw_rasterized(\u001b[39mself\u001b[39m\u001b[39m.\u001b[39mfigure, artists_rasterized, renderer)\n\u001b[0;32m-> 3064\u001b[0m mimage\u001b[39m.\u001b[39;49m_draw_list_compositing_images(\n\u001b[1;32m   3065\u001b[0m     renderer, \u001b[39mself\u001b[39;49m, artists, \u001b[39mself\u001b[39;49m\u001b[39m.\u001b[39;49mfigure\u001b[39m.\u001b[39;49msuppressComposite)\n\u001b[1;32m   3067\u001b[0m renderer\u001b[39m.\u001b[39mclose_group(\u001b[39m'\u001b[39m\u001b[39maxes\u001b[39m\u001b[39m'\u001b[39m)\n\u001b[1;32m   3068\u001b[0m \u001b[39mself\u001b[39m\u001b[39m.\u001b[39mstale \u001b[39m=\u001b[39m \u001b[39mFalse\u001b[39;00m\n",
      "File \u001b[0;32m~/.local/lib/python3.9/site-packages/matplotlib/image.py:131\u001b[0m, in \u001b[0;36m_draw_list_compositing_images\u001b[0;34m(renderer, parent, artists, suppress_composite)\u001b[0m\n\u001b[1;32m    129\u001b[0m \u001b[39mif\u001b[39;00m not_composite \u001b[39mor\u001b[39;00m \u001b[39mnot\u001b[39;00m has_images:\n\u001b[1;32m    130\u001b[0m     \u001b[39mfor\u001b[39;00m a \u001b[39min\u001b[39;00m artists:\n\u001b[0;32m--> 131\u001b[0m         a\u001b[39m.\u001b[39;49mdraw(renderer)\n\u001b[1;32m    132\u001b[0m \u001b[39melse\u001b[39;00m:\n\u001b[1;32m    133\u001b[0m     \u001b[39m# Composite any adjacent images together\u001b[39;00m\n\u001b[1;32m    134\u001b[0m     image_group \u001b[39m=\u001b[39m []\n",
      "File \u001b[0;32m~/.local/lib/python3.9/site-packages/matplotlib/artist.py:72\u001b[0m, in \u001b[0;36mallow_rasterization.<locals>.draw_wrapper\u001b[0;34m(artist, renderer)\u001b[0m\n\u001b[1;32m     69\u001b[0m     \u001b[39mif\u001b[39;00m artist\u001b[39m.\u001b[39mget_agg_filter() \u001b[39mis\u001b[39;00m \u001b[39mnot\u001b[39;00m \u001b[39mNone\u001b[39;00m:\n\u001b[1;32m     70\u001b[0m         renderer\u001b[39m.\u001b[39mstart_filter()\n\u001b[0;32m---> 72\u001b[0m     \u001b[39mreturn\u001b[39;00m draw(artist, renderer)\n\u001b[1;32m     73\u001b[0m \u001b[39mfinally\u001b[39;00m:\n\u001b[1;32m     74\u001b[0m     \u001b[39mif\u001b[39;00m artist\u001b[39m.\u001b[39mget_agg_filter() \u001b[39mis\u001b[39;00m \u001b[39mnot\u001b[39;00m \u001b[39mNone\u001b[39;00m:\n",
      "File \u001b[0;32m~/.local/lib/python3.9/site-packages/matplotlib/axis.py:1376\u001b[0m, in \u001b[0;36mAxis.draw\u001b[0;34m(self, renderer, *args, **kwargs)\u001b[0m\n\u001b[1;32m   1373\u001b[0m     \u001b[39mreturn\u001b[39;00m\n\u001b[1;32m   1374\u001b[0m renderer\u001b[39m.\u001b[39mopen_group(\u001b[39m__name__\u001b[39m, gid\u001b[39m=\u001b[39m\u001b[39mself\u001b[39m\u001b[39m.\u001b[39mget_gid())\n\u001b[0;32m-> 1376\u001b[0m ticks_to_draw \u001b[39m=\u001b[39m \u001b[39mself\u001b[39;49m\u001b[39m.\u001b[39;49m_update_ticks()\n\u001b[1;32m   1377\u001b[0m tlb1, tlb2 \u001b[39m=\u001b[39m \u001b[39mself\u001b[39m\u001b[39m.\u001b[39m_get_ticklabel_bboxes(ticks_to_draw, renderer)\n\u001b[1;32m   1379\u001b[0m \u001b[39mfor\u001b[39;00m tick \u001b[39min\u001b[39;00m ticks_to_draw:\n",
      "File \u001b[0;32m~/.local/lib/python3.9/site-packages/matplotlib/axis.py:1270\u001b[0m, in \u001b[0;36mAxis._update_ticks\u001b[0;34m(self)\u001b[0m\n\u001b[1;32m   1268\u001b[0m     tick\u001b[39m.\u001b[39mset_label1(label)\n\u001b[1;32m   1269\u001b[0m     tick\u001b[39m.\u001b[39mset_label2(label)\n\u001b[0;32m-> 1270\u001b[0m minor_locs \u001b[39m=\u001b[39m \u001b[39mself\u001b[39;49m\u001b[39m.\u001b[39;49mget_minorticklocs()\n\u001b[1;32m   1271\u001b[0m minor_labels \u001b[39m=\u001b[39m \u001b[39mself\u001b[39m\u001b[39m.\u001b[39mminor\u001b[39m.\u001b[39mformatter\u001b[39m.\u001b[39mformat_ticks(minor_locs)\n\u001b[1;32m   1272\u001b[0m minor_ticks \u001b[39m=\u001b[39m \u001b[39mself\u001b[39m\u001b[39m.\u001b[39mget_minor_ticks(\u001b[39mlen\u001b[39m(minor_locs))\n",
      "File \u001b[0;32m~/.local/lib/python3.9/site-packages/matplotlib/axis.py:1499\u001b[0m, in \u001b[0;36mAxis.get_minorticklocs\u001b[0;34m(self)\u001b[0m\n\u001b[1;32m   1496\u001b[0m     \u001b[39m# Use the transformed view limits as scale.  1e-5 is the default\u001b[39;00m\n\u001b[1;32m   1497\u001b[0m     \u001b[39m# rtol for np.isclose.\u001b[39;00m\n\u001b[1;32m   1498\u001b[0m     tol \u001b[39m=\u001b[39m (hi \u001b[39m-\u001b[39m lo) \u001b[39m*\u001b[39m \u001b[39m1e-5\u001b[39m\n\u001b[0;32m-> 1499\u001b[0m     mask \u001b[39m=\u001b[39m np\u001b[39m.\u001b[39;49misclose(tr_minor_locs[:, \u001b[39mNone\u001b[39;49;00m], tr_major_locs[\u001b[39mNone\u001b[39;49;00m, :],\n\u001b[1;32m   1500\u001b[0m                       atol\u001b[39m=\u001b[39;49mtol, rtol\u001b[39m=\u001b[39;49m\u001b[39m0\u001b[39;49m)\u001b[39m.\u001b[39many(axis\u001b[39m=\u001b[39m\u001b[39m1\u001b[39m)\n\u001b[1;32m   1501\u001b[0m     minor_locs \u001b[39m=\u001b[39m minor_locs[\u001b[39m~\u001b[39mmask]\n\u001b[1;32m   1502\u001b[0m \u001b[39mreturn\u001b[39;00m minor_locs\n",
      "File \u001b[0;32m<__array_function__ internals>:200\u001b[0m, in \u001b[0;36misclose\u001b[0;34m(*args, **kwargs)\u001b[0m\n",
      "File \u001b[0;32m~/.local/lib/python3.9/site-packages/numpy/core/numeric.py:2378\u001b[0m, in \u001b[0;36misclose\u001b[0;34m(a, b, rtol, atol, equal_nan)\u001b[0m\n\u001b[1;32m   2375\u001b[0m     y \u001b[39m=\u001b[39m asanyarray(y, dtype\u001b[39m=\u001b[39mdt)\n\u001b[1;32m   2377\u001b[0m xfin \u001b[39m=\u001b[39m isfinite(x)\n\u001b[0;32m-> 2378\u001b[0m yfin \u001b[39m=\u001b[39m isfinite(y)\n\u001b[1;32m   2379\u001b[0m \u001b[39mif\u001b[39;00m \u001b[39mall\u001b[39m(xfin) \u001b[39mand\u001b[39;00m \u001b[39mall\u001b[39m(yfin):\n\u001b[1;32m   2380\u001b[0m     \u001b[39mreturn\u001b[39;00m within_tol(x, y, atol, rtol)\n",
      "\u001b[0;31mTypeError\u001b[0m: ufunc 'isfinite' not supported for the input types, and the inputs could not be safely coerced to any supported types according to the casting rule ''safe''"
     ]
    },
    {
     "ename": "TypeError",
     "evalue": "ufunc 'isfinite' not supported for the input types, and the inputs could not be safely coerced to any supported types according to the casting rule ''safe''",
     "output_type": "error",
     "traceback": [
      "\u001b[0;31m---------------------------------------------------------------------------\u001b[0m",
      "\u001b[0;31mTypeError\u001b[0m                                 Traceback (most recent call last)",
      "File \u001b[0;32m~/.local/lib/python3.9/site-packages/IPython/core/formatters.py:340\u001b[0m, in \u001b[0;36mBaseFormatter.__call__\u001b[0;34m(self, obj)\u001b[0m\n\u001b[1;32m    338\u001b[0m     \u001b[39mpass\u001b[39;00m\n\u001b[1;32m    339\u001b[0m \u001b[39melse\u001b[39;00m:\n\u001b[0;32m--> 340\u001b[0m     \u001b[39mreturn\u001b[39;00m printer(obj)\n\u001b[1;32m    341\u001b[0m \u001b[39m# Finally look for special method names\u001b[39;00m\n\u001b[1;32m    342\u001b[0m method \u001b[39m=\u001b[39m get_real_method(obj, \u001b[39mself\u001b[39m\u001b[39m.\u001b[39mprint_method)\n",
      "File \u001b[0;32m~/.local/lib/python3.9/site-packages/IPython/core/pylabtools.py:152\u001b[0m, in \u001b[0;36mprint_figure\u001b[0;34m(fig, fmt, bbox_inches, base64, **kwargs)\u001b[0m\n\u001b[1;32m    149\u001b[0m     \u001b[39mfrom\u001b[39;00m \u001b[39mmatplotlib\u001b[39;00m\u001b[39m.\u001b[39;00m\u001b[39mbackend_bases\u001b[39;00m \u001b[39mimport\u001b[39;00m FigureCanvasBase\n\u001b[1;32m    150\u001b[0m     FigureCanvasBase(fig)\n\u001b[0;32m--> 152\u001b[0m fig\u001b[39m.\u001b[39;49mcanvas\u001b[39m.\u001b[39;49mprint_figure(bytes_io, \u001b[39m*\u001b[39;49m\u001b[39m*\u001b[39;49mkw)\n\u001b[1;32m    153\u001b[0m data \u001b[39m=\u001b[39m bytes_io\u001b[39m.\u001b[39mgetvalue()\n\u001b[1;32m    154\u001b[0m \u001b[39mif\u001b[39;00m fmt \u001b[39m==\u001b[39m \u001b[39m'\u001b[39m\u001b[39msvg\u001b[39m\u001b[39m'\u001b[39m:\n",
      "File \u001b[0;32m~/.local/lib/python3.9/site-packages/matplotlib/backend_bases.py:2342\u001b[0m, in \u001b[0;36mFigureCanvasBase.print_figure\u001b[0;34m(self, filename, dpi, facecolor, edgecolor, orientation, format, bbox_inches, pad_inches, bbox_extra_artists, backend, **kwargs)\u001b[0m\n\u001b[1;32m   2336\u001b[0m     renderer \u001b[39m=\u001b[39m _get_renderer(\n\u001b[1;32m   2337\u001b[0m         \u001b[39mself\u001b[39m\u001b[39m.\u001b[39mfigure,\n\u001b[1;32m   2338\u001b[0m         functools\u001b[39m.\u001b[39mpartial(\n\u001b[1;32m   2339\u001b[0m             print_method, orientation\u001b[39m=\u001b[39morientation)\n\u001b[1;32m   2340\u001b[0m     )\n\u001b[1;32m   2341\u001b[0m     \u001b[39mwith\u001b[39;00m \u001b[39mgetattr\u001b[39m(renderer, \u001b[39m\"\u001b[39m\u001b[39m_draw_disabled\u001b[39m\u001b[39m\"\u001b[39m, nullcontext)():\n\u001b[0;32m-> 2342\u001b[0m         \u001b[39mself\u001b[39;49m\u001b[39m.\u001b[39;49mfigure\u001b[39m.\u001b[39;49mdraw(renderer)\n\u001b[1;32m   2344\u001b[0m \u001b[39mif\u001b[39;00m bbox_inches:\n\u001b[1;32m   2345\u001b[0m     \u001b[39mif\u001b[39;00m bbox_inches \u001b[39m==\u001b[39m \u001b[39m\"\u001b[39m\u001b[39mtight\u001b[39m\u001b[39m\"\u001b[39m:\n",
      "File \u001b[0;32m~/.local/lib/python3.9/site-packages/matplotlib/artist.py:95\u001b[0m, in \u001b[0;36m_finalize_rasterization.<locals>.draw_wrapper\u001b[0;34m(artist, renderer, *args, **kwargs)\u001b[0m\n\u001b[1;32m     93\u001b[0m \u001b[39m@wraps\u001b[39m(draw)\n\u001b[1;32m     94\u001b[0m \u001b[39mdef\u001b[39;00m \u001b[39mdraw_wrapper\u001b[39m(artist, renderer, \u001b[39m*\u001b[39margs, \u001b[39m*\u001b[39m\u001b[39m*\u001b[39mkwargs):\n\u001b[0;32m---> 95\u001b[0m     result \u001b[39m=\u001b[39m draw(artist, renderer, \u001b[39m*\u001b[39;49margs, \u001b[39m*\u001b[39;49m\u001b[39m*\u001b[39;49mkwargs)\n\u001b[1;32m     96\u001b[0m     \u001b[39mif\u001b[39;00m renderer\u001b[39m.\u001b[39m_rasterizing:\n\u001b[1;32m     97\u001b[0m         renderer\u001b[39m.\u001b[39mstop_rasterizing()\n",
      "File \u001b[0;32m~/.local/lib/python3.9/site-packages/matplotlib/artist.py:72\u001b[0m, in \u001b[0;36mallow_rasterization.<locals>.draw_wrapper\u001b[0;34m(artist, renderer)\u001b[0m\n\u001b[1;32m     69\u001b[0m     \u001b[39mif\u001b[39;00m artist\u001b[39m.\u001b[39mget_agg_filter() \u001b[39mis\u001b[39;00m \u001b[39mnot\u001b[39;00m \u001b[39mNone\u001b[39;00m:\n\u001b[1;32m     70\u001b[0m         renderer\u001b[39m.\u001b[39mstart_filter()\n\u001b[0;32m---> 72\u001b[0m     \u001b[39mreturn\u001b[39;00m draw(artist, renderer)\n\u001b[1;32m     73\u001b[0m \u001b[39mfinally\u001b[39;00m:\n\u001b[1;32m     74\u001b[0m     \u001b[39mif\u001b[39;00m artist\u001b[39m.\u001b[39mget_agg_filter() \u001b[39mis\u001b[39;00m \u001b[39mnot\u001b[39;00m \u001b[39mNone\u001b[39;00m:\n",
      "File \u001b[0;32m~/.local/lib/python3.9/site-packages/matplotlib/figure.py:3140\u001b[0m, in \u001b[0;36mFigure.draw\u001b[0;34m(self, renderer)\u001b[0m\n\u001b[1;32m   3137\u001b[0m         \u001b[39m# ValueError can occur when resizing a window.\u001b[39;00m\n\u001b[1;32m   3139\u001b[0m \u001b[39mself\u001b[39m\u001b[39m.\u001b[39mpatch\u001b[39m.\u001b[39mdraw(renderer)\n\u001b[0;32m-> 3140\u001b[0m mimage\u001b[39m.\u001b[39;49m_draw_list_compositing_images(\n\u001b[1;32m   3141\u001b[0m     renderer, \u001b[39mself\u001b[39;49m, artists, \u001b[39mself\u001b[39;49m\u001b[39m.\u001b[39;49msuppressComposite)\n\u001b[1;32m   3143\u001b[0m \u001b[39mfor\u001b[39;00m sfig \u001b[39min\u001b[39;00m \u001b[39mself\u001b[39m\u001b[39m.\u001b[39msubfigs:\n\u001b[1;32m   3144\u001b[0m     sfig\u001b[39m.\u001b[39mdraw(renderer)\n",
      "File \u001b[0;32m~/.local/lib/python3.9/site-packages/matplotlib/image.py:131\u001b[0m, in \u001b[0;36m_draw_list_compositing_images\u001b[0;34m(renderer, parent, artists, suppress_composite)\u001b[0m\n\u001b[1;32m    129\u001b[0m \u001b[39mif\u001b[39;00m not_composite \u001b[39mor\u001b[39;00m \u001b[39mnot\u001b[39;00m has_images:\n\u001b[1;32m    130\u001b[0m     \u001b[39mfor\u001b[39;00m a \u001b[39min\u001b[39;00m artists:\n\u001b[0;32m--> 131\u001b[0m         a\u001b[39m.\u001b[39;49mdraw(renderer)\n\u001b[1;32m    132\u001b[0m \u001b[39melse\u001b[39;00m:\n\u001b[1;32m    133\u001b[0m     \u001b[39m# Composite any adjacent images together\u001b[39;00m\n\u001b[1;32m    134\u001b[0m     image_group \u001b[39m=\u001b[39m []\n",
      "File \u001b[0;32m~/.local/lib/python3.9/site-packages/matplotlib/artist.py:72\u001b[0m, in \u001b[0;36mallow_rasterization.<locals>.draw_wrapper\u001b[0;34m(artist, renderer)\u001b[0m\n\u001b[1;32m     69\u001b[0m     \u001b[39mif\u001b[39;00m artist\u001b[39m.\u001b[39mget_agg_filter() \u001b[39mis\u001b[39;00m \u001b[39mnot\u001b[39;00m \u001b[39mNone\u001b[39;00m:\n\u001b[1;32m     70\u001b[0m         renderer\u001b[39m.\u001b[39mstart_filter()\n\u001b[0;32m---> 72\u001b[0m     \u001b[39mreturn\u001b[39;00m draw(artist, renderer)\n\u001b[1;32m     73\u001b[0m \u001b[39mfinally\u001b[39;00m:\n\u001b[1;32m     74\u001b[0m     \u001b[39mif\u001b[39;00m artist\u001b[39m.\u001b[39mget_agg_filter() \u001b[39mis\u001b[39;00m \u001b[39mnot\u001b[39;00m \u001b[39mNone\u001b[39;00m:\n",
      "File \u001b[0;32m~/.local/lib/python3.9/site-packages/matplotlib/axes/_base.py:3064\u001b[0m, in \u001b[0;36m_AxesBase.draw\u001b[0;34m(self, renderer)\u001b[0m\n\u001b[1;32m   3061\u001b[0m \u001b[39mif\u001b[39;00m artists_rasterized:\n\u001b[1;32m   3062\u001b[0m     _draw_rasterized(\u001b[39mself\u001b[39m\u001b[39m.\u001b[39mfigure, artists_rasterized, renderer)\n\u001b[0;32m-> 3064\u001b[0m mimage\u001b[39m.\u001b[39;49m_draw_list_compositing_images(\n\u001b[1;32m   3065\u001b[0m     renderer, \u001b[39mself\u001b[39;49m, artists, \u001b[39mself\u001b[39;49m\u001b[39m.\u001b[39;49mfigure\u001b[39m.\u001b[39;49msuppressComposite)\n\u001b[1;32m   3067\u001b[0m renderer\u001b[39m.\u001b[39mclose_group(\u001b[39m'\u001b[39m\u001b[39maxes\u001b[39m\u001b[39m'\u001b[39m)\n\u001b[1;32m   3068\u001b[0m \u001b[39mself\u001b[39m\u001b[39m.\u001b[39mstale \u001b[39m=\u001b[39m \u001b[39mFalse\u001b[39;00m\n",
      "File \u001b[0;32m~/.local/lib/python3.9/site-packages/matplotlib/image.py:131\u001b[0m, in \u001b[0;36m_draw_list_compositing_images\u001b[0;34m(renderer, parent, artists, suppress_composite)\u001b[0m\n\u001b[1;32m    129\u001b[0m \u001b[39mif\u001b[39;00m not_composite \u001b[39mor\u001b[39;00m \u001b[39mnot\u001b[39;00m has_images:\n\u001b[1;32m    130\u001b[0m     \u001b[39mfor\u001b[39;00m a \u001b[39min\u001b[39;00m artists:\n\u001b[0;32m--> 131\u001b[0m         a\u001b[39m.\u001b[39;49mdraw(renderer)\n\u001b[1;32m    132\u001b[0m \u001b[39melse\u001b[39;00m:\n\u001b[1;32m    133\u001b[0m     \u001b[39m# Composite any adjacent images together\u001b[39;00m\n\u001b[1;32m    134\u001b[0m     image_group \u001b[39m=\u001b[39m []\n",
      "File \u001b[0;32m~/.local/lib/python3.9/site-packages/matplotlib/artist.py:72\u001b[0m, in \u001b[0;36mallow_rasterization.<locals>.draw_wrapper\u001b[0;34m(artist, renderer)\u001b[0m\n\u001b[1;32m     69\u001b[0m     \u001b[39mif\u001b[39;00m artist\u001b[39m.\u001b[39mget_agg_filter() \u001b[39mis\u001b[39;00m \u001b[39mnot\u001b[39;00m \u001b[39mNone\u001b[39;00m:\n\u001b[1;32m     70\u001b[0m         renderer\u001b[39m.\u001b[39mstart_filter()\n\u001b[0;32m---> 72\u001b[0m     \u001b[39mreturn\u001b[39;00m draw(artist, renderer)\n\u001b[1;32m     73\u001b[0m \u001b[39mfinally\u001b[39;00m:\n\u001b[1;32m     74\u001b[0m     \u001b[39mif\u001b[39;00m artist\u001b[39m.\u001b[39mget_agg_filter() \u001b[39mis\u001b[39;00m \u001b[39mnot\u001b[39;00m \u001b[39mNone\u001b[39;00m:\n",
      "File \u001b[0;32m~/.local/lib/python3.9/site-packages/matplotlib/axis.py:1376\u001b[0m, in \u001b[0;36mAxis.draw\u001b[0;34m(self, renderer, *args, **kwargs)\u001b[0m\n\u001b[1;32m   1373\u001b[0m     \u001b[39mreturn\u001b[39;00m\n\u001b[1;32m   1374\u001b[0m renderer\u001b[39m.\u001b[39mopen_group(\u001b[39m__name__\u001b[39m, gid\u001b[39m=\u001b[39m\u001b[39mself\u001b[39m\u001b[39m.\u001b[39mget_gid())\n\u001b[0;32m-> 1376\u001b[0m ticks_to_draw \u001b[39m=\u001b[39m \u001b[39mself\u001b[39;49m\u001b[39m.\u001b[39;49m_update_ticks()\n\u001b[1;32m   1377\u001b[0m tlb1, tlb2 \u001b[39m=\u001b[39m \u001b[39mself\u001b[39m\u001b[39m.\u001b[39m_get_ticklabel_bboxes(ticks_to_draw, renderer)\n\u001b[1;32m   1379\u001b[0m \u001b[39mfor\u001b[39;00m tick \u001b[39min\u001b[39;00m ticks_to_draw:\n",
      "File \u001b[0;32m~/.local/lib/python3.9/site-packages/matplotlib/axis.py:1270\u001b[0m, in \u001b[0;36mAxis._update_ticks\u001b[0;34m(self)\u001b[0m\n\u001b[1;32m   1268\u001b[0m     tick\u001b[39m.\u001b[39mset_label1(label)\n\u001b[1;32m   1269\u001b[0m     tick\u001b[39m.\u001b[39mset_label2(label)\n\u001b[0;32m-> 1270\u001b[0m minor_locs \u001b[39m=\u001b[39m \u001b[39mself\u001b[39;49m\u001b[39m.\u001b[39;49mget_minorticklocs()\n\u001b[1;32m   1271\u001b[0m minor_labels \u001b[39m=\u001b[39m \u001b[39mself\u001b[39m\u001b[39m.\u001b[39mminor\u001b[39m.\u001b[39mformatter\u001b[39m.\u001b[39mformat_ticks(minor_locs)\n\u001b[1;32m   1272\u001b[0m minor_ticks \u001b[39m=\u001b[39m \u001b[39mself\u001b[39m\u001b[39m.\u001b[39mget_minor_ticks(\u001b[39mlen\u001b[39m(minor_locs))\n",
      "File \u001b[0;32m~/.local/lib/python3.9/site-packages/matplotlib/axis.py:1499\u001b[0m, in \u001b[0;36mAxis.get_minorticklocs\u001b[0;34m(self)\u001b[0m\n\u001b[1;32m   1496\u001b[0m     \u001b[39m# Use the transformed view limits as scale.  1e-5 is the default\u001b[39;00m\n\u001b[1;32m   1497\u001b[0m     \u001b[39m# rtol for np.isclose.\u001b[39;00m\n\u001b[1;32m   1498\u001b[0m     tol \u001b[39m=\u001b[39m (hi \u001b[39m-\u001b[39m lo) \u001b[39m*\u001b[39m \u001b[39m1e-5\u001b[39m\n\u001b[0;32m-> 1499\u001b[0m     mask \u001b[39m=\u001b[39m np\u001b[39m.\u001b[39;49misclose(tr_minor_locs[:, \u001b[39mNone\u001b[39;49;00m], tr_major_locs[\u001b[39mNone\u001b[39;49;00m, :],\n\u001b[1;32m   1500\u001b[0m                       atol\u001b[39m=\u001b[39;49mtol, rtol\u001b[39m=\u001b[39;49m\u001b[39m0\u001b[39;49m)\u001b[39m.\u001b[39many(axis\u001b[39m=\u001b[39m\u001b[39m1\u001b[39m)\n\u001b[1;32m   1501\u001b[0m     minor_locs \u001b[39m=\u001b[39m minor_locs[\u001b[39m~\u001b[39mmask]\n\u001b[1;32m   1502\u001b[0m \u001b[39mreturn\u001b[39;00m minor_locs\n",
      "File \u001b[0;32m<__array_function__ internals>:200\u001b[0m, in \u001b[0;36misclose\u001b[0;34m(*args, **kwargs)\u001b[0m\n",
      "File \u001b[0;32m~/.local/lib/python3.9/site-packages/numpy/core/numeric.py:2378\u001b[0m, in \u001b[0;36misclose\u001b[0;34m(a, b, rtol, atol, equal_nan)\u001b[0m\n\u001b[1;32m   2375\u001b[0m     y \u001b[39m=\u001b[39m asanyarray(y, dtype\u001b[39m=\u001b[39mdt)\n\u001b[1;32m   2377\u001b[0m xfin \u001b[39m=\u001b[39m isfinite(x)\n\u001b[0;32m-> 2378\u001b[0m yfin \u001b[39m=\u001b[39m isfinite(y)\n\u001b[1;32m   2379\u001b[0m \u001b[39mif\u001b[39;00m \u001b[39mall\u001b[39m(xfin) \u001b[39mand\u001b[39;00m \u001b[39mall\u001b[39m(yfin):\n\u001b[1;32m   2380\u001b[0m     \u001b[39mreturn\u001b[39;00m within_tol(x, y, atol, rtol)\n",
      "\u001b[0;31mTypeError\u001b[0m: ufunc 'isfinite' not supported for the input types, and the inputs could not be safely coerced to any supported types according to the casting rule ''safe''"
     ]
    },
    {
     "data": {
      "text/plain": [
       "<Figure size 640x480 with 1 Axes>"
      ]
     },
     "metadata": {},
     "output_type": "display_data"
    }
   ],
   "source": [
    "# x-coordinates of left sides of bars \n",
    "left = df0['Date']\n",
    "  \n",
    "# heights of bars\n",
    "Gross = df0['Gross']\n",
    "Net = df0['Net']\n",
    "  \n",
    "# labels for bars\n",
    "tick_label = df0['Date']\n",
    "  \n",
    "# plotting a bar chart\n",
    "plt.bar(left, Gross, tick_label = tick_label, width = 0.8, color = ['blue'], label = 'Gross')\n",
    "plt.bar(left, Net, tick_label = tick_label, width = 0.8, color = ['green'], label = 'Net' )\n",
    "plt.xticks(rotation='vertical')\n",
    "  \n",
    "# naming the x-axis\n",
    "plt.xlabel('Month')\n",
    "# naming the y-axis\n",
    "plt.ylabel('Profit')\n",
    "# plot title\n",
    "plt.title('370 Net and Gross Profit')\n",
    "plt.legend(loc=\"best\")\n",
    "# function to show the plot\n",
    "plt.savefig('output/370_gnp.jpg', dpi=100, bbox_inches = 'tight')\n",
    "# plt.show()"
   ]
  },
  {
   "cell_type": "markdown",
   "metadata": {},
   "source": [
    "Store 372 Import and Clean "
   ]
  },
  {
   "cell_type": "code",
   "execution_count": null,
   "metadata": {},
   "outputs": [
    {
     "data": {
      "text/html": [
       "<div>\n",
       "<style scoped>\n",
       "    .dataframe tbody tr th:only-of-type {\n",
       "        vertical-align: middle;\n",
       "    }\n",
       "\n",
       "    .dataframe tbody tr th {\n",
       "        vertical-align: top;\n",
       "    }\n",
       "\n",
       "    .dataframe thead th {\n",
       "        text-align: right;\n",
       "    }\n",
       "</style>\n",
       "<table border=\"1\" class=\"dataframe\">\n",
       "  <thead>\n",
       "    <tr style=\"text-align: right;\">\n",
       "      <th></th>\n",
       "      <th>Customer</th>\n",
       "      <th>counts</th>\n",
       "    </tr>\n",
       "  </thead>\n",
       "  <tbody>\n",
       "    <tr>\n",
       "      <th>0</th>\n",
       "      <td>GOTTA GO, INC.</td>\n",
       "      <td>14</td>\n",
       "    </tr>\n",
       "    <tr>\n",
       "      <th>1</th>\n",
       "      <td>A &amp; R LOGISTICS INC</td>\n",
       "      <td>13</td>\n",
       "    </tr>\n",
       "    <tr>\n",
       "      <th>2</th>\n",
       "      <td>DUBOIS COUNTY TIRE &amp; SUPP</td>\n",
       "      <td>6</td>\n",
       "    </tr>\n",
       "    <tr>\n",
       "      <th>3</th>\n",
       "      <td>GOTTA GO, INC. - TRACKING</td>\n",
       "      <td>5</td>\n",
       "    </tr>\n",
       "    <tr>\n",
       "      <th>4</th>\n",
       "      <td>MISTER P EXPRESS INC.</td>\n",
       "      <td>3</td>\n",
       "    </tr>\n",
       "    <tr>\n",
       "      <th>5</th>\n",
       "      <td>ERNST CONCRETE KENTUCKIAN</td>\n",
       "      <td>2</td>\n",
       "    </tr>\n",
       "    <tr>\n",
       "      <th>6</th>\n",
       "      <td>MILLER TRANSPORTATION/ IN</td>\n",
       "      <td>2</td>\n",
       "    </tr>\n",
       "    <tr>\n",
       "      <th>7</th>\n",
       "      <td>RAY-LEE TRANSPORT</td>\n",
       "      <td>2</td>\n",
       "    </tr>\n",
       "    <tr>\n",
       "      <th>8</th>\n",
       "      <td>A&amp;S TRUCK RD SERVICE LLC</td>\n",
       "      <td>1</td>\n",
       "    </tr>\n",
       "    <tr>\n",
       "      <th>9</th>\n",
       "      <td>C-JAMS</td>\n",
       "      <td>1</td>\n",
       "    </tr>\n",
       "  </tbody>\n",
       "</table>\n",
       "</div>"
      ],
      "text/plain": [
       "                    Customer  counts\n",
       "0             GOTTA GO, INC.      14\n",
       "1        A & R LOGISTICS INC      13\n",
       "2  DUBOIS COUNTY TIRE & SUPP       6\n",
       "3  GOTTA GO, INC. - TRACKING       5\n",
       "4      MISTER P EXPRESS INC.       3\n",
       "5  ERNST CONCRETE KENTUCKIAN       2\n",
       "6  MILLER TRANSPORTATION/ IN       2\n",
       "7          RAY-LEE TRANSPORT       2\n",
       "8   A&S TRUCK RD SERVICE LLC       1\n",
       "9                     C-JAMS       1"
      ]
     },
     "execution_count": 1217,
     "metadata": {},
     "output_type": "execute_result"
    }
   ],
   "source": [
    "by_cust =(df1['Customer']).value_counts().sort_index()\n",
    "df1_customer = by_cust.rename_axis('Customer').reset_index(name='counts')\n",
    "df1_customer.sort_values(by=['counts'], ascending=False, inplace=True)\n",
    "df1_customer = df1_customer.reset_index(drop=True)\n",
    "df1_customer\n",
    "# df1_customer.to_csv(r'output/372_customers.csv', index=False)"
   ]
  },
  {
   "cell_type": "code",
   "execution_count": null,
   "metadata": {},
   "outputs": [],
   "source": [
    "df1['Date'] = pd.to_datetime(df1['Date'])\n",
    "df1['Date'] = df1['Date'].dt.strftime('%Y-%m')\n",
    "\n",
    "# #define how to aggregate various fields\n",
    "agg_functions = {'Date': 'first', 'Gross': 'sum', 'Net': 'sum'}\n",
    "\n",
    "# #create new DataFrame by combining rows with same id values\n",
    "df1 = df1.groupby(df1['Date']).aggregate(agg_functions)"
   ]
  },
  {
   "cell_type": "code",
   "execution_count": null,
   "metadata": {},
   "outputs": [
    {
     "data": {
      "image/png": "[encoded data removed]",
      "text/plain": [
       "<Figure size 432x288 with 1 Axes>"
      ]
     },
     "metadata": {
      "needs_background": "light"
     },
     "output_type": "display_data"
    }
   ],
   "source": [
    "# x-coordinates of left sides of bars \n",
    "left = df1['Date']\n",
    "  \n",
    "# heights of bars\n",
    "Gross = df1['Gross']\n",
    "Net = df1['Net']\n",
    "  \n",
    "# labels for bars\n",
    "tick_label = df1['Date']\n",
    "  \n",
    "# plotting a bar chart\n",
    "plt.bar(left, Gross, tick_label = tick_label, width = 0.8, color = ['blue'], label = 'Gross')\n",
    "plt.bar(left, Net, tick_label = tick_label, width = 0.8, color = ['green'], label = 'Net' )\n",
    "plt.xticks(rotation='vertical')\n",
    "  \n",
    "# naming the x-axis\n",
    "plt.xlabel('Month')\n",
    "# naming the y-axis\n",
    "plt.ylabel('Profit')\n",
    "# plot title\n",
    "plt.title('372 Net and Gross Profit')\n",
    "plt.legend(loc=\"best\")\n",
    "# function to show the plot\n",
    "plt.savefig('output/372_gnp.jpg', dpi=100, bbox_inches = 'tight')\n",
    "# plt.show()"
   ]
  },
  {
   "cell_type": "markdown",
   "metadata": {},
   "source": [
    "Store 373 Import and Clean "
   ]
  },
  {
   "cell_type": "code",
   "execution_count": null,
   "metadata": {},
   "outputs": [
    {
     "data": {
      "text/html": [
       "<div>\n",
       "<style scoped>\n",
       "    .dataframe tbody tr th:only-of-type {\n",
       "        vertical-align: middle;\n",
       "    }\n",
       "\n",
       "    .dataframe tbody tr th {\n",
       "        vertical-align: top;\n",
       "    }\n",
       "\n",
       "    .dataframe thead th {\n",
       "        text-align: right;\n",
       "    }\n",
       "</style>\n",
       "<table border=\"1\" class=\"dataframe\">\n",
       "  <thead>\n",
       "    <tr style=\"text-align: right;\">\n",
       "      <th></th>\n",
       "      <th>Customer</th>\n",
       "      <th>counts</th>\n",
       "    </tr>\n",
       "  </thead>\n",
       "  <tbody>\n",
       "    <tr>\n",
       "      <th>0</th>\n",
       "      <td>BROTHERS FARMS</td>\n",
       "      <td>4</td>\n",
       "    </tr>\n",
       "    <tr>\n",
       "      <th>1</th>\n",
       "      <td>REPUBLIC SERVICES, INC. 3058</td>\n",
       "      <td>2</td>\n",
       "    </tr>\n",
       "    <tr>\n",
       "      <th>2</th>\n",
       "      <td>SMITH GRAIN</td>\n",
       "      <td>1</td>\n",
       "    </tr>\n",
       "  </tbody>\n",
       "</table>\n",
       "</div>"
      ],
      "text/plain": [
       "                       Customer  counts\n",
       "0                BROTHERS FARMS       4\n",
       "1  REPUBLIC SERVICES, INC. 3058       2\n",
       "2                   SMITH GRAIN       1"
      ]
     },
     "execution_count": 1220,
     "metadata": {},
     "output_type": "execute_result"
    }
   ],
   "source": [
    "by_cust =(df2['Customer']).value_counts().sort_index()\n",
    "df2_customer = by_cust.rename_axis('Customer').reset_index(name='counts')\n",
    "df2_customer.sort_values(by=['counts'], ascending=False, inplace=True)\n",
    "df2_customer = df2_customer.reset_index(drop=True)\n",
    "df2_customer\n",
    "# df2_customer.to_csv(r'output/373_customers.csv', index=False)"
   ]
  },
  {
   "cell_type": "code",
   "execution_count": null,
   "metadata": {},
   "outputs": [],
   "source": [
    "df2['Date'] = pd.to_datetime(df2['Date'])\n",
    "df2['Date'] = df2['Date'].dt.strftime('%Y-%m')\n",
    "\n",
    "# #define how to aggregate various fields\n",
    "agg_functions = {'Date': 'first', 'Gross': 'sum', 'Net': 'sum'}\n",
    "\n",
    "# #create new DataFrame by combining rows with same id values\n",
    "df2 = df2.groupby(df2['Date']).aggregate(agg_functions)\n",
    "\n",
    "# print(df2)\n"
   ]
  },
  {
   "cell_type": "code",
   "execution_count": null,
   "metadata": {},
   "outputs": [
    {
     "data": {
      "image/png": "[encoded data removed]",
      "text/plain": [
       "<Figure size 432x288 with 1 Axes>"
      ]
     },
     "metadata": {
      "needs_background": "light"
     },
     "output_type": "display_data"
    }
   ],
   "source": [
    "# x-coordinates of left sides of bars \n",
    "left = df2['Date']\n",
    "  \n",
    "# heights of bars\n",
    "Gross = df2['Gross']\n",
    "Net = df2['Net']\n",
    "  \n",
    "# labels for bars\n",
    "tick_label = df2['Date']\n",
    "  \n",
    "# plotting a bar chart\n",
    "plt.bar(left, Gross, tick_label = tick_label, width = 0.8, color = ['blue'], label = 'Gross')\n",
    "plt.bar(left, Net, tick_label = tick_label, width = 0.8, color = ['green'], label = 'Net' )\n",
    "plt.xticks(rotation='vertical')\n",
    "  \n",
    "# naming the x-axis\n",
    "plt.xlabel('Month')\n",
    "# naming the y-axis\n",
    "plt.ylabel('Profit')\n",
    "# plot title\n",
    "plt.title('373 Net and Gross Profit')\n",
    "plt.legend(loc=\"best\")\n",
    "# function to show the plot\n",
    "plt.savefig('output/373_gnp.jpg', dpi=100, bbox_inches = 'tight')\n",
    "# plt.show()"
   ]
  },
  {
   "cell_type": "markdown",
   "metadata": {},
   "source": [
    "Store 374 Import and Clean "
   ]
  },
  {
   "cell_type": "code",
   "execution_count": null,
   "metadata": {},
   "outputs": [
    {
     "data": {
      "text/html": [
       "<div>\n",
       "<style scoped>\n",
       "    .dataframe tbody tr th:only-of-type {\n",
       "        vertical-align: middle;\n",
       "    }\n",
       "\n",
       "    .dataframe tbody tr th {\n",
       "        vertical-align: top;\n",
       "    }\n",
       "\n",
       "    .dataframe thead th {\n",
       "        text-align: right;\n",
       "    }\n",
       "</style>\n",
       "<table border=\"1\" class=\"dataframe\">\n",
       "  <thead>\n",
       "    <tr style=\"text-align: right;\">\n",
       "      <th></th>\n",
       "      <th>Customer</th>\n",
       "      <th>counts</th>\n",
       "    </tr>\n",
       "  </thead>\n",
       "  <tbody>\n",
       "    <tr>\n",
       "      <th>0</th>\n",
       "      <td>UHL IDEALEASE - AUSTIN</td>\n",
       "      <td>3</td>\n",
       "    </tr>\n",
       "    <tr>\n",
       "      <th>1</th>\n",
       "      <td>MIDNIGHT FLYER &amp; CO. INC.</td>\n",
       "      <td>2</td>\n",
       "    </tr>\n",
       "    <tr>\n",
       "      <th>2</th>\n",
       "      <td>R W TRANSPORT, INC</td>\n",
       "      <td>2</td>\n",
       "    </tr>\n",
       "    <tr>\n",
       "      <th>3</th>\n",
       "      <td>FOX FARMS</td>\n",
       "      <td>1</td>\n",
       "    </tr>\n",
       "    <tr>\n",
       "      <th>4</th>\n",
       "      <td>NEW WAY TRANSPORTATION</td>\n",
       "      <td>1</td>\n",
       "    </tr>\n",
       "    <tr>\n",
       "      <th>5</th>\n",
       "      <td>NORTH VERNON BEVERAGE</td>\n",
       "      <td>1</td>\n",
       "    </tr>\n",
       "    <tr>\n",
       "      <th>6</th>\n",
       "      <td>PADGETT TRUCKING INC/OMARA</td>\n",
       "      <td>1</td>\n",
       "    </tr>\n",
       "    <tr>\n",
       "      <th>7</th>\n",
       "      <td>SCHROER TRUCKING</td>\n",
       "      <td>1</td>\n",
       "    </tr>\n",
       "  </tbody>\n",
       "</table>\n",
       "</div>"
      ],
      "text/plain": [
       "                     Customer  counts\n",
       "0      UHL IDEALEASE - AUSTIN       3\n",
       "1   MIDNIGHT FLYER & CO. INC.       2\n",
       "2          R W TRANSPORT, INC       2\n",
       "3                   FOX FARMS       1\n",
       "4      NEW WAY TRANSPORTATION       1\n",
       "5       NORTH VERNON BEVERAGE       1\n",
       "6  PADGETT TRUCKING INC/OMARA       1\n",
       "7            SCHROER TRUCKING       1"
      ]
     },
     "execution_count": 16,
     "metadata": {},
     "output_type": "execute_result"
    }
   ],
   "source": [
    "by_cust =(df3['Customer']).value_counts().sort_index()\n",
    "df3_customer = by_cust.rename_axis('Customer').reset_index(name='counts')\n",
    "df3_customer.sort_values(by=['counts'], ascending=False, inplace=True)\n",
    "df3_customer = df3_customer.reset_index(drop=True)\n",
    "df3_customer\n",
    "# df3_customer.to_csv(r'output/374_customers.csv', index=False)"
   ]
  },
  {
   "cell_type": "code",
   "execution_count": null,
   "metadata": {},
   "outputs": [],
   "source": [
    "df3['Date'] = pd.to_datetime(df3['Date'])\n",
    "df3['Date'] = df3['Date'].dt.strftime('%Y-%m')\n",
    "\n",
    "# #define how to aggregate various fields\n",
    "agg_functions = {'Date': 'first', 'Gross': 'sum', 'Net': 'sum'}\n",
    "\n",
    "# #create new DataFrame by combining rows with same id values\n",
    "df3 = df3.groupby(df3['Date']).aggregate(agg_functions)\n",
    "\n",
    "# print(df3)"
   ]
  },
  {
   "cell_type": "code",
   "execution_count": null,
   "metadata": {},
   "outputs": [
    {
     "data": {
      "image/png": "[encoded data removed]",
      "text/plain": [
       "<Figure size 432x288 with 1 Axes>"
      ]
     },
     "metadata": {
      "needs_background": "light"
     },
     "output_type": "display_data"
    }
   ],
   "source": [
    "# x-coordinates of left sides of bars \n",
    "left = df3['Date']\n",
    "  \n",
    "# heights of bars\n",
    "Gross = df3['Gross']\n",
    "Net = df3['Net']\n",
    "  \n",
    "# labels for bars\n",
    "tick_label = df3['Date']\n",
    "  \n",
    "# plotting a bar chart\n",
    "plt.bar(left, Gross, tick_label = tick_label, width = 0.8, color = ['blue'], label = 'Gross')\n",
    "plt.bar(left, Net, tick_label = tick_label, width = 0.8, color = ['green'], label = 'Net' )\n",
    "plt.xticks(rotation='vertical')\n",
    "  \n",
    "# naming the x-axis\n",
    "plt.xlabel('Month')\n",
    "# naming the y-axis\n",
    "plt.ylabel('Profit')\n",
    "# plot title\n",
    "plt.title('374 Net and Gross Profit')\n",
    "plt.legend(loc=\"best\")\n",
    "# function to show the plot\n",
    "plt.savefig('output/374_gnp.jpg', dpi=100, bbox_inches = 'tight')\n",
    "# plt.show()"
   ]
  },
  {
   "cell_type": "markdown",
   "metadata": {},
   "source": [
    "Store 375 Import and Clean "
   ]
  },
  {
   "cell_type": "code",
   "execution_count": null,
   "metadata": {},
   "outputs": [
    {
     "data": {
      "text/html": [
       "<div>\n",
       "<style scoped>\n",
       "    .dataframe tbody tr th:only-of-type {\n",
       "        vertical-align: middle;\n",
       "    }\n",
       "\n",
       "    .dataframe tbody tr th {\n",
       "        vertical-align: top;\n",
       "    }\n",
       "\n",
       "    .dataframe thead th {\n",
       "        text-align: right;\n",
       "    }\n",
       "</style>\n",
       "<table border=\"1\" class=\"dataframe\">\n",
       "  <thead>\n",
       "    <tr style=\"text-align: right;\">\n",
       "      <th></th>\n",
       "      <th>Customer</th>\n",
       "      <th>counts</th>\n",
       "    </tr>\n",
       "  </thead>\n",
       "  <tbody>\n",
       "    <tr>\n",
       "      <th>0</th>\n",
       "      <td>HARROD TRANSPORT</td>\n",
       "      <td>1</td>\n",
       "    </tr>\n",
       "  </tbody>\n",
       "</table>\n",
       "</div>"
      ],
      "text/plain": [
       "           Customer  counts\n",
       "0  HARROD TRANSPORT       1"
      ]
     },
     "execution_count": 45,
     "metadata": {},
     "output_type": "execute_result"
    }
   ],
   "source": [
    "by_cust =(df4['Customer']).value_counts().sort_index()\n",
    "df4_customer = by_cust.rename_axis('Customer').reset_index(name='counts')\n",
    "df4_customer.sort_values(by=['counts'], ascending=False, inplace=True)\n",
    "df4_customer = df4_customer.reset_index(drop=True)\n",
    "df4_customer\n",
    "# df4_customer.to_csv(r'output/375_customers.csv', index=False)\n"
   ]
  },
  {
   "cell_type": "code",
   "execution_count": null,
   "metadata": {},
   "outputs": [],
   "source": [
    "df4['Date'] = pd.to_datetime(df4['Date'])\n",
    "df4['Date'] = df4['Date'].dt.strftime('%Y-%m')\n",
    "\n",
    "# #define how to aggregate various fields\n",
    "agg_functions = {'Date': 'first', 'Gross': 'sum', 'Net': 'sum'}\n",
    "\n",
    "# #create new DataFrame by combining rows with same id values\n",
    "df4 = df4.groupby(df4['Date']).aggregate(agg_functions)\n",
    "\n",
    "# print(df4)"
   ]
  },
  {
   "cell_type": "code",
   "execution_count": null,
   "metadata": {},
   "outputs": [
    {
     "data": {
      "image/png": "[encoded data removed]",
      "text/plain": [
       "<Figure size 432x288 with 1 Axes>"
      ]
     },
     "metadata": {
      "needs_background": "light"
     },
     "output_type": "display_data"
    }
   ],
   "source": [
    "# x-coordinates of left sides of bars \n",
    "left = df4['Date']\n",
    "  \n",
    "# heights of bars\n",
    "Gross = df4['Gross']\n",
    "Net = df4['Net']\n",
    "  \n",
    "# labels for bars\n",
    "tick_label = df4['Date']\n",
    "  \n",
    "# plotting a bar chart\n",
    "plt.bar(left, Gross, tick_label = tick_label, width = 0.8, color = ['blue'], label = 'Gross')\n",
    "plt.bar(left, Net, tick_label = tick_label, width = 0.8, color = ['green'], label = 'Net' )\n",
    "plt.xticks(rotation='vertical')\n",
    "  \n",
    "# naming the x-axis\n",
    "plt.xlabel('Month')\n",
    "# naming the y-axis\n",
    "plt.ylabel('Profit')\n",
    "# plot title\n",
    "plt.title('375 Net and Gross Profit')\n",
    "plt.legend(loc=\"best\")\n",
    "# function to show the plot\n",
    "plt.savefig('output/375_gnp.jpg', dpi=100, bbox_inches = 'tight')\n",
    "# plt.show()"
   ]
  },
  {
   "cell_type": "markdown",
   "metadata": {},
   "source": []
  },
  {
   "cell_type": "code",
   "execution_count": null,
   "metadata": {},
   "outputs": [],
   "source": [
    "by_cust =(df5['Customer']).value_counts().sort_index()\n",
    "df5_customer = by_cust.rename_axis('Customer').reset_index(name='counts')\n",
    "df5_customer.sort_values(by=['counts'], ascending=False, inplace=True)\n",
    "df5_customer = df5_customer.reset_index(drop=True)\n",
    "df5_customer\n",
    "df5_customer.to_csv(r'output/376_customers.csv', index=False)"
   ]
  },
  {
   "cell_type": "code",
   "execution_count": null,
   "metadata": {},
   "outputs": [],
   "source": [
    "df5['Date'] = pd.to_datetime(df5['Date'])\n",
    "df5['Date'] = df5['Date'].dt.strftime('%Y-%m')\n",
    "\n",
    "# #define how to aggregate various fields\n",
    "agg_functions = {'Date': 'first', 'Gross': 'sum', 'Net': 'sum'}\n",
    "\n",
    "# #create new DataFrame by combining rows with same id values\n",
    "df5 = df5.groupby(df5['Date']).aggregate(agg_functions)\n",
    "\n",
    "# print(df5)"
   ]
  },
  {
   "cell_type": "code",
   "execution_count": null,
   "metadata": {},
   "outputs": [
    {
     "data": {
      "image/png": "[encoded data removed]",
      "text/plain": [
       "<Figure size 432x288 with 1 Axes>"
      ]
     },
     "metadata": {
      "needs_background": "light"
     },
     "output_type": "display_data"
    }
   ],
   "source": [
    "# x-coordinates of left sides of bars \n",
    "left = df5['Date']\n",
    "  \n",
    "# heights of bars\n",
    "Gross = df5['Gross']\n",
    "Net = df5['Net']\n",
    "  \n",
    "# labels for bars\n",
    "tick_label = df5['Date']\n",
    "  \n",
    "# plotting a bar chart\n",
    "plt.bar(left, Gross, tick_label = tick_label, width = 0.8, color = ['blue'], label = 'Gross')\n",
    "plt.bar(left, Net, tick_label = tick_label, width = 0.8, color = ['green'], label = 'Net' )\n",
    "plt.xticks(rotation='vertical')\n",
    "  \n",
    "# naming the x-axis\n",
    "plt.xlabel('Month')\n",
    "# naming the y-axis\n",
    "plt.ylabel('Profit')\n",
    "# plot title\n",
    "plt.title('376 Net and Gross Profit')\n",
    "plt.legend(loc=\"best\")\n",
    "# function to show the plot\n",
    "plt.savefig('output/376_gnp.jpg', dpi=100, bbox_inches = 'tight')\n",
    "# plt.show()"
   ]
  },
  {
   "cell_type": "code",
   "execution_count": null,
   "metadata": {},
   "outputs": [],
   "source": [
    "frames = [df0, df1, df2, df3, df4, df5]\n",
    "\n",
    "df99 = pd.concat(frames)\n",
    "# df99.drop(columns=['Date'], inplace=True)\n",
    "# df99.head(30)\n",
    "\n",
    "# print(df99['Net'].sum())\n",
    "# print(df99['Gross'].sum())"
   ]
  },
  {
   "cell_type": "code",
   "execution_count": null,
   "metadata": {},
   "outputs": [],
   "source": [
    "frames = [df0, df1, df2, df3, df4, df5]\n",
    "\n",
    "df99 = pd.concat(frames)\n",
    "df99.head()\n",
    "\n",
    "# print(df99['Net'].sum())\n",
    "# print(df99['Gross'].sum())\n",
    "\n",
    "\n",
    "Net_Gross = {\n",
    "    '370_Gross' : df0['Gross'].sum(),\n",
    "    '370_net' : df0['Net'].sum(),\n",
    "    '372_Gross' : df1['Gross'].sum(),\n",
    "    '372_net' : df1['Net'].sum(),\n",
    "    '373_Gross' : df2['Gross'].sum(),\n",
    "    '373_net' : df2['Net'].sum(),\n",
    "    '374_Gross' : df3['Gross'].sum(),\n",
    "    '374_net' : df3['Net'].sum(),\n",
    "    '375_Gross' : df4['Gross'].sum(),\n",
    "    '375_net' : df4['Net'].sum(),\n",
    "    '376_Gross' : df5['Gross'].sum(),\n",
    "    '376_net' : df5['Net'].sum(),\n",
    "}\n",
    "\n",
    "data = Net_Gross\n",
    "names = list(data.keys())\n",
    "values = list(data.values())\n",
    "\n",
    "\n",
    "# print('Total Gross:',(Total_Gross))\n",
    "# print('Total Net:',(Total_net))\n"
   ]
  },
  {
   "cell_type": "code",
   "execution_count": null,
   "metadata": {},
   "outputs": [],
   "source": [
    "df99['Date'] = pd.to_datetime(df99['Date'])\n",
    "df99['Date'] = df99['Date'].dt.strftime('%Y-%m')\n",
    "\n",
    "# #define how to aggregate various fields\n",
    "agg_functions = {'Date': 'first', 'Gross': 'sum', 'Net': 'sum'}\n",
    "\n",
    "# #create new DataFrame by combining rows with same id values\n",
    "df99 = df99.groupby(df99['Date']).aggregate(agg_functions)\n",
    "\n",
    "# print(df99)"
   ]
  },
  {
   "cell_type": "code",
   "execution_count": null,
   "metadata": {},
   "outputs": [
    {
     "data": {
      "image/png": "[encoded data removed]",
      "text/plain": [
       "<Figure size 432x288 with 1 Axes>"
      ]
     },
     "metadata": {
      "needs_background": "light"
     },
     "output_type": "display_data"
    }
   ],
   "source": [
    "# x-coordinates of left sides of bars \n",
    "left = df99['Date']\n",
    "  \n",
    "# heights of bars\n",
    "Gross = df99['Gross']\n",
    "Net = df99['Net']\n",
    "  \n",
    "# labels for bars\n",
    "tick_label = df99['Date']\n",
    "  \n",
    "# plotting a bar chart\n",
    "plt.bar(left, Gross, tick_label = tick_label, width = 0.8, color = ['blue'], label = 'Gross')\n",
    "plt.bar(left, Net, tick_label = tick_label, width = 0.8, color = ['green'], label = 'Net' )\n",
    "plt.xticks(rotation='vertical')\n",
    "  \n",
    "# naming the x-axis\n",
    "plt.xlabel('Month')\n",
    "# naming the y-axis\n",
    "plt.ylabel('Profit')\n",
    "# plot title\n",
    "plt.title('All Stores Net and Gross Profit')\n",
    "plt.legend(loc=\"best\")\n",
    "# function to show the plot\n",
    "plt.savefig('output/all_stores_gnp.jpg', dpi=100, bbox_inches = 'tight')\n",
    "# plt.show()\n"
   ]
  }
 ],
 "metadata": {
  "kernelspec": {
   "display_name": "Python 3.9.7 ('base')",
   "language": "python",
   "name": "python3"
  },
  "language_info": {
   "codemirror_mode": {
    "name": "ipython",
    "version": 3
   },
   "file_extension": ".py",
   "mimetype": "text/x-python",
   "name": "python",
   "nbconvert_exporter": "python",
   "pygments_lexer": "ipython3",
   "version": "3.9.2"
  },
  "orig_nbformat": 4,
  "vscode": {
   "interpreter": {
    "hash": "40d3a090f54c6569ab1632332b64b2c03c39dcf918b08424e98f38b5ae0af88f"
   }
  }
 },
 "nbformat": 4,
 "nbformat_minor": 2
}
