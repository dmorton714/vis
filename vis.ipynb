{
 "cells": [
  {
   "cell_type": "code",
   "execution_count": 415,
   "metadata": {},
   "outputs": [],
   "source": [
    "import pandas as pd\n",
    "import matplotlib.pyplot as plt\n",
    "import matplotlib.dates as mdates\n",
    "import datetime\n",
    "import csv\n",
    "import numpy as np\n",
    "import seaborn as sns\n",
    "import matplotlib.ticker as ticker"
   ]
  },
  {
   "cell_type": "markdown",
   "metadata": {},
   "source": [
    "key: \n",
    "df0 - 370\n",
    "df1 - 372\n",
    "df2 - 373\n",
    "df3 - 374\n",
    "df4 - 375\n",
    "df5 - 376\n",
    "df99 - All stores "
   ]
  },
  {
   "cell_type": "markdown",
   "metadata": {},
   "source": [
    "working ideas to run all the cleaning at once for scalability "
   ]
  },
  {
   "cell_type": "code",
   "execution_count": 416,
   "metadata": {},
   "outputs": [],
   "source": [
    "# 370 = pd.read_excel (r'370.xlsx',header=[3])\n",
    "# 272 = pd.read_excel (r'372.xlsx',header=[3])\n",
    "# 373 = pd.read_excel (r'373.xlsx',header=[3])\n",
    "# 374 = pd.read_excel (r'374.xlsx',header=[3])\n",
    "# 375 = pd.read_excel (r'375.xlsx',header=[3])\n",
    "# 376 = pd.read_excel (r'376.xlsx',header=[3])\n",
    "\n",
    "\n",
    "# stores = [370, 372, 373, 374, 375, 376]\n",
    "\n",
    "\n",
    "# ys = {\n",
    "# df0.drop(columns=['Transaction Type', 'Reference Number', 'Customer Vendor #','Inventory Balance', 'Transaction Date.1','Reference Number.1', 'Created By', 'Created Date', 'Inventory Quantity','Transaction Type.1', 'Created Time', 'Last Changed By', 'Last Changed Date','Receiving PO Number', 'Last Changed Time' ], inplace=True)\n",
    "# df0.rename(columns={'Customer/Vendor Name' : 'Customer','Non-Inventory Quantity': 'Qty'}, inplace=True)\n",
    "# df0 = df0[df0.Customer != \"TRANSFERS TO #372 J'VILLE\"]\n",
    "# df0 = df0[df0.Customer != \"TRANSFERS TO #374 SEYMOUR\"]\n",
    "# df0 = df0[df0.Customer != \"TRANSFERS TO #373 E-TOWN\"]\n",
    "# df0 = df0[df0.Customer != \"TRANSFERS TO #375 S'VILLE\"]\n",
    "# df0 = df0[df0.Customer != \"*** STORE TRANSFERS ***\"]\n",
    "# df0 = df0[df0.Customer != \"Beginning Balance\"]\n",
    "# df0 = df0[df0.Customer != 'Net Activity']\n",
    "# df0 = df0[df0.Customer != 'Ending Balance']\n",
    "# df0 = df0[df0.Customer != 'VOID']\n",
    "# df0 = df0.dropna(how=\"all\")\n",
    "# Gross = df0.Qty * df0.Price\n",
    "# df0['Gross'] = Gross.where(df0.Price == 'Qty', other=Gross)\n",
    "# Net = df0.Qty * df0.Cost \n",
    "# df0['Net'] = Net.where(df0.Cost == 'Qty', other=Net)\n",
    "# Net = df0.Gross - df0.Net \n",
    "# df0['Net'] = Net.where(df0.Gross == \"Net\", other=Net)\n",
    "#     }\n",
    "\n",
    "# for store in stores:\n",
    "#     for df0 in ys:\n",
    "        "
   ]
  },
  {
   "cell_type": "code",
   "execution_count": 417,
   "metadata": {},
   "outputs": [
    {
     "name": "stderr",
     "output_type": "stream",
     "text": [
      "/opt/anaconda3/lib/python3.9/site-packages/openpyxl/styles/stylesheet.py:226: UserWarning: Workbook contains no default style, apply openpyxl's default\n",
      "  warn(\"Workbook contains no default style, apply openpyxl's default\")\n"
     ]
    }
   ],
   "source": [
    "df0 = pd.read_excel (r'370.xlsx',header=[3])\n",
    "df0.drop(columns=['Transaction Type', 'Reference Number', 'Customer Vendor #','Inventory Balance', 'Transaction Date.1','Reference Number.1', 'Created By', 'Created Date', 'Inventory Quantity','Transaction Type.1', 'Created Time', 'Last Changed By', 'Last Changed Date','Receiving PO Number', 'Last Changed Time' ], inplace=True)\n",
    "df0.rename(columns={'Customer/Vendor Name' : 'Customer','Non-Inventory Quantity': 'Qty'}, inplace=True)\n",
    "df0 = df0[df0.Customer != \"TRANSFERS TO #372 J'VILLE\"]\n",
    "df0 = df0[df0.Customer != \"TRANSFERS TO #374 SEYMOUR\"]\n",
    "df0 = df0[df0.Customer != \"TRANSFERS TO #373 E-TOWN\"]\n",
    "df0 = df0[df0.Customer != \"TRANSFERS TO #375 S'VILLE\"]\n",
    "df0 = df0[df0.Customer != \"*** STORE TRANSFERS ***\"]\n",
    "df0 = df0[df0.Customer != \"Beginning Balance\"]\n",
    "df0 = df0[df0.Customer != 'Net Activity']\n",
    "df0 = df0[df0.Customer != 'Ending Balance']\n",
    "df0 = df0[df0.Customer != 'VOID']\n",
    "df0 = df0.dropna(how=\"all\")\n",
    "\n",
    "Gross = df0.Qty * df0.Price\n",
    "df0['Gross'] = Gross.where(df0.Price == 'Qty', other=Gross)\n",
    "\n",
    "Net = df0.Qty * df0.Cost \n",
    "df0['Net'] = Net.where(df0.Cost == 'Qty', other=Net)\n",
    "\n",
    "Net = df0.Gross - df0.Net \n",
    "df0['Net'] = Net.where(df0.Gross == \"Net\", other=Net)"
   ]
  },
  {
   "cell_type": "code",
   "execution_count": 418,
   "metadata": {},
   "outputs": [
    {
     "data": {
      "text/html": [
       "<div>\n",
       "<style scoped>\n",
       "    .dataframe tbody tr th:only-of-type {\n",
       "        vertical-align: middle;\n",
       "    }\n",
       "\n",
       "    .dataframe tbody tr th {\n",
       "        vertical-align: top;\n",
       "    }\n",
       "\n",
       "    .dataframe thead th {\n",
       "        text-align: right;\n",
       "    }\n",
       "</style>\n",
       "<table border=\"1\" class=\"dataframe\">\n",
       "  <thead>\n",
       "    <tr style=\"text-align: right;\">\n",
       "      <th></th>\n",
       "      <th>Transaction Date</th>\n",
       "      <th>Customer</th>\n",
       "      <th>Qty</th>\n",
       "      <th>Price</th>\n",
       "      <th>Cost</th>\n",
       "      <th>Gross</th>\n",
       "      <th>Net</th>\n",
       "    </tr>\n",
       "  </thead>\n",
       "  <tbody>\n",
       "  </tbody>\n",
       "</table>\n",
       "</div>"
      ],
      "text/plain": [
       "Empty DataFrame\n",
       "Columns: [Transaction Date, Customer, Qty, Price, Cost, Gross, Net]\n",
       "Index: []"
      ]
     },
     "execution_count": 418,
     "metadata": {},
     "output_type": "execute_result"
    }
   ],
   "source": [
    "df0.head()"
   ]
  },
  {
   "cell_type": "code",
   "execution_count": 419,
   "metadata": {},
   "outputs": [
    {
     "data": {
      "image/png": "[encoded data removed]",
      "text/plain": [
       "<Figure size 432x288 with 1 Axes>"
      ]
     },
     "metadata": {
      "needs_background": "light"
     },
     "output_type": "display_data"
    },
    {
     "name": "stdout",
     "output_type": "stream",
     "text": [
      "Total Gross: 0.0\n",
      "Total Net: 0.0\n"
     ]
    }
   ],
   "source": [
    "Net_Gross270 = {\n",
    "    'Gross' : df0['Gross'].sum(),\n",
    "    'Net' : df0['Net'].sum()\n",
    "}\n",
    "\n",
    "\n",
    "data = Net_Gross270\n",
    "names = list(data.keys())\n",
    "values = list(data.values())\n",
    "\n",
    "plt.bar(range(len(data)), values, tick_label=names)\n",
    "plt.xticks(range(len(names)), names, rotation='vertical')\n",
    "plt.show()\n",
    "\n",
    "Total_Gross = df0['Gross'].sum()\n",
    "Total_net = df0['Net'].sum() \n",
    "\n",
    "print('Total Gross:',(Total_Gross))\n",
    "print('Total Net:',(Total_net))"
   ]
  },
  {
   "cell_type": "code",
   "execution_count": 420,
   "metadata": {},
   "outputs": [
    {
     "name": "stderr",
     "output_type": "stream",
     "text": [
      "/opt/anaconda3/lib/python3.9/site-packages/openpyxl/styles/stylesheet.py:226: UserWarning: Workbook contains no default style, apply openpyxl's default\n",
      "  warn(\"Workbook contains no default style, apply openpyxl's default\")\n"
     ]
    }
   ],
   "source": [
    "df1 = pd.read_excel (r'372.xlsx',header=[3])\n",
    "df1.drop(columns=['Transaction Type', 'Reference Number', 'Customer Vendor #','Inventory Balance', 'Transaction Date.1','Reference Number.1', 'Created By', 'Created Date', 'Inventory Quantity','Transaction Type.1', 'Created Time', 'Last Changed By', 'Last Changed Date','Receiving PO Number', 'Last Changed Time' ], inplace=True)\n",
    "df1.rename(columns={'Customer/Vendor Name' : 'Customer','Non-Inventory Quantity': 'Qty'}, inplace=True)\n",
    "df1 = df1[df1.Customer != \"TRANSFERS TO #372 J'VILLE\"]\n",
    "df1 = df1[df1.Customer != \"TRANSFERS TO #374 SEYMOUR\"]\n",
    "df1 = df1[df1.Customer != \"TRANSFERS TO #373 E-TOWN\"]\n",
    "df1 = df1[df1.Customer != \"TRANSFERS TO #375 S'VILLE\"]\n",
    "df1 = df1[df1.Customer != \"*** STORE TRANSFERS ***\"]\n",
    "df1 = df1[df1.Customer != \"Beginning Balance\"]\n",
    "df1 = df1[df1.Customer != 'Net Activity']\n",
    "df1 = df1[df1.Customer != 'Ending Balance']\n",
    "df1 = df1[df1.Customer != 'VOID']\n",
    "df1 = df1.dropna(how=\"all\")\n",
    "\n",
    "Gross = df1.Qty * df1.Price\n",
    "df1['Gross'] = Gross.where(df1.Price == 'Qty', other=Gross)\n",
    "\n",
    "Net = df1.Qty * df1.Cost \n",
    "df1['Net'] = Net.where(df1.Cost == 'Qty', other=Net)\n",
    "\n",
    "Net = df1.Gross - df1.Net \n",
    "df1['Net'] = Net.where(df1.Gross == \"Net\", other=Net)\n"
   ]
  },
  {
   "cell_type": "code",
   "execution_count": 421,
   "metadata": {},
   "outputs": [
    {
     "data": {
      "text/html": [
       "<div>\n",
       "<style scoped>\n",
       "    .dataframe tbody tr th:only-of-type {\n",
       "        vertical-align: middle;\n",
       "    }\n",
       "\n",
       "    .dataframe tbody tr th {\n",
       "        vertical-align: top;\n",
       "    }\n",
       "\n",
       "    .dataframe thead th {\n",
       "        text-align: right;\n",
       "    }\n",
       "</style>\n",
       "<table border=\"1\" class=\"dataframe\">\n",
       "  <thead>\n",
       "    <tr style=\"text-align: right;\">\n",
       "      <th></th>\n",
       "      <th>Transaction Date</th>\n",
       "      <th>Customer</th>\n",
       "      <th>Qty</th>\n",
       "      <th>Price</th>\n",
       "      <th>Cost</th>\n",
       "      <th>Gross</th>\n",
       "      <th>Net</th>\n",
       "    </tr>\n",
       "  </thead>\n",
       "  <tbody>\n",
       "    <tr>\n",
       "      <th>1</th>\n",
       "      <td>2022-10-31</td>\n",
       "      <td>GOTTA GO, INC. - TRACKING</td>\n",
       "      <td>1.0</td>\n",
       "      <td>75.0</td>\n",
       "      <td>50.0</td>\n",
       "      <td>75.0</td>\n",
       "      <td>25.0</td>\n",
       "    </tr>\n",
       "    <tr>\n",
       "      <th>8</th>\n",
       "      <td>2022-10-12</td>\n",
       "      <td>ERNST CONCRETE KENTUCKIAN</td>\n",
       "      <td>8.0</td>\n",
       "      <td>80.0</td>\n",
       "      <td>50.0</td>\n",
       "      <td>640.0</td>\n",
       "      <td>240.0</td>\n",
       "    </tr>\n",
       "    <tr>\n",
       "      <th>10</th>\n",
       "      <td>2022-10-06</td>\n",
       "      <td>GOTTA GO, INC.</td>\n",
       "      <td>2.0</td>\n",
       "      <td>75.0</td>\n",
       "      <td>50.0</td>\n",
       "      <td>150.0</td>\n",
       "      <td>50.0</td>\n",
       "    </tr>\n",
       "    <tr>\n",
       "      <th>18</th>\n",
       "      <td>2022-09-22</td>\n",
       "      <td>GOTTA GO, INC.</td>\n",
       "      <td>2.0</td>\n",
       "      <td>75.0</td>\n",
       "      <td>50.0</td>\n",
       "      <td>150.0</td>\n",
       "      <td>50.0</td>\n",
       "    </tr>\n",
       "    <tr>\n",
       "      <th>19</th>\n",
       "      <td>2022-09-20</td>\n",
       "      <td>GOTTA GO, INC. - TRACKING</td>\n",
       "      <td>1.0</td>\n",
       "      <td>75.0</td>\n",
       "      <td>50.0</td>\n",
       "      <td>75.0</td>\n",
       "      <td>25.0</td>\n",
       "    </tr>\n",
       "  </tbody>\n",
       "</table>\n",
       "</div>"
      ],
      "text/plain": [
       "   Transaction Date                   Customer  Qty  Price  Cost  Gross    Net\n",
       "1        2022-10-31  GOTTA GO, INC. - TRACKING  1.0   75.0  50.0   75.0   25.0\n",
       "8        2022-10-12  ERNST CONCRETE KENTUCKIAN  8.0   80.0  50.0  640.0  240.0\n",
       "10       2022-10-06             GOTTA GO, INC.  2.0   75.0  50.0  150.0   50.0\n",
       "18       2022-09-22             GOTTA GO, INC.  2.0   75.0  50.0  150.0   50.0\n",
       "19       2022-09-20  GOTTA GO, INC. - TRACKING  1.0   75.0  50.0   75.0   25.0"
      ]
     },
     "execution_count": 421,
     "metadata": {},
     "output_type": "execute_result"
    }
   ],
   "source": [
    "df1.head()"
   ]
  },
  {
   "cell_type": "code",
   "execution_count": 422,
   "metadata": {},
   "outputs": [
    {
     "data": {
      "image/png": "[encoded data removed]",
      "text/plain": [
       "<Figure size 432x288 with 1 Axes>"
      ]
     },
     "metadata": {
      "needs_background": "light"
     },
     "output_type": "display_data"
    },
    {
     "name": "stdout",
     "output_type": "stream",
     "text": [
      "Total Gross: 14745.0\n",
      "Total Net: 4845.0\n"
     ]
    }
   ],
   "source": [
    "Net_Gross272 = {\n",
    "    'Gross' : df1['Gross'].sum(),\n",
    "    'Net' : df1['Net'].sum()\n",
    "}\n",
    "\n",
    "\n",
    "data = Net_Gross272\n",
    "names = list(data.keys())\n",
    "values = list(data.values())\n",
    "\n",
    "plt.bar(range(len(data)), values, tick_label=names)\n",
    "plt.xticks(range(len(names)), names, rotation='vertical')\n",
    "plt.show()\n",
    "\n",
    "Total_Gross = df1['Gross'].sum()\n",
    "Total_net = df1['Net'].sum() \n",
    "\n",
    "print('Total Gross:',(Total_Gross))\n",
    "print('Total Net:',(Total_net))"
   ]
  },
  {
   "cell_type": "code",
   "execution_count": 423,
   "metadata": {},
   "outputs": [
    {
     "name": "stderr",
     "output_type": "stream",
     "text": [
      "/opt/anaconda3/lib/python3.9/site-packages/openpyxl/styles/stylesheet.py:226: UserWarning: Workbook contains no default style, apply openpyxl's default\n",
      "  warn(\"Workbook contains no default style, apply openpyxl's default\")\n"
     ]
    }
   ],
   "source": [
    "df2 = pd.read_excel (r'373.xlsx',header=[3])\n",
    "df2.drop(columns=['Transaction Type', 'Reference Number', 'Customer Vendor #','Inventory Balance', 'Transaction Date.1','Reference Number.1', 'Created By', 'Created Date', 'Inventory Quantity','Transaction Type.1', 'Created Time', 'Last Changed By', 'Last Changed Date','Receiving PO Number', 'Last Changed Time' ], inplace=True)\n",
    "df2.rename(columns={'Customer/Vendor Name' : 'Customer', \"Transaction Date\" : 'Date', 'Non-Inventory Quantity' : 'Qty'}, inplace=True)\n",
    "df2 = df2[df2.Customer != \"TRANSFERS TO #372 J'VILLE\"]\n",
    "df2 = df2[df2.Customer != \"TRANSFERS TO #374 SEYMOUR\"]\n",
    "df2 = df2[df2.Customer != \"TRANSFERS TO #373 E-TOWN\"]\n",
    "df2 = df2[df2.Customer != \"TRANSFERS TO #375 S'VILLE\"]\n",
    "df2 = df2[df2.Customer != \"*** STORE TRANSFERS ***\"]\n",
    "df2 = df2[df2.Customer != \"Beginning Balance\"]\n",
    "df2 = df2[df2.Customer != 'Net Activity']\n",
    "df2 = df2[df2.Customer != 'Ending Balance']\n",
    "df2 = df2[df2.Customer != 'VOID']\n",
    "df2 = df2.dropna(how=\"all\")\n",
    "\n",
    "Gross = df2.Qty * df2.Price\n",
    "df2['Gross'] = Gross.where(df2.Price == 'Qty', other=Gross)\n",
    "\n",
    "Net = df2.Qty * df2.Cost \n",
    "df2['Net'] = Net.where(df2.Cost == 'Qty', other=Net)\n",
    "\n",
    "Net = df2.Gross - df2.Net \n",
    "df2['Net'] = Net.where(df2.Gross == \"Net\", other=Net)\n",
    "\n"
   ]
  },
  {
   "cell_type": "code",
   "execution_count": 424,
   "metadata": {},
   "outputs": [
    {
     "data": {
      "text/html": [
       "<div>\n",
       "<style scoped>\n",
       "    .dataframe tbody tr th:only-of-type {\n",
       "        vertical-align: middle;\n",
       "    }\n",
       "\n",
       "    .dataframe tbody tr th {\n",
       "        vertical-align: top;\n",
       "    }\n",
       "\n",
       "    .dataframe thead th {\n",
       "        text-align: right;\n",
       "    }\n",
       "</style>\n",
       "<table border=\"1\" class=\"dataframe\">\n",
       "  <thead>\n",
       "    <tr style=\"text-align: right;\">\n",
       "      <th></th>\n",
       "      <th>Date</th>\n",
       "      <th>Customer</th>\n",
       "      <th>Qty</th>\n",
       "      <th>Price</th>\n",
       "      <th>Cost</th>\n",
       "      <th>Gross</th>\n",
       "      <th>Net</th>\n",
       "    </tr>\n",
       "  </thead>\n",
       "  <tbody>\n",
       "    <tr>\n",
       "      <th>1</th>\n",
       "      <td>2022-07-20</td>\n",
       "      <td>BROTHERS FARMS</td>\n",
       "      <td>3.0</td>\n",
       "      <td>80.0</td>\n",
       "      <td>50.0</td>\n",
       "      <td>240.0</td>\n",
       "      <td>90.0</td>\n",
       "    </tr>\n",
       "    <tr>\n",
       "      <th>3</th>\n",
       "      <td>2022-04-20</td>\n",
       "      <td>REPUBLIC SERVICES, INC. 3058</td>\n",
       "      <td>8.0</td>\n",
       "      <td>75.0</td>\n",
       "      <td>50.0</td>\n",
       "      <td>600.0</td>\n",
       "      <td>200.0</td>\n",
       "    </tr>\n",
       "    <tr>\n",
       "      <th>4</th>\n",
       "      <td>2022-04-06</td>\n",
       "      <td>BROTHERS FARMS</td>\n",
       "      <td>3.0</td>\n",
       "      <td>75.0</td>\n",
       "      <td>50.0</td>\n",
       "      <td>225.0</td>\n",
       "      <td>75.0</td>\n",
       "    </tr>\n",
       "    <tr>\n",
       "      <th>7</th>\n",
       "      <td>2022-02-22</td>\n",
       "      <td>BROTHERS FARMS</td>\n",
       "      <td>6.0</td>\n",
       "      <td>75.0</td>\n",
       "      <td>50.0</td>\n",
       "      <td>450.0</td>\n",
       "      <td>150.0</td>\n",
       "    </tr>\n",
       "    <tr>\n",
       "      <th>8</th>\n",
       "      <td>2022-01-27</td>\n",
       "      <td>REPUBLIC SERVICES, INC. 3058</td>\n",
       "      <td>15.0</td>\n",
       "      <td>75.0</td>\n",
       "      <td>50.0</td>\n",
       "      <td>1125.0</td>\n",
       "      <td>375.0</td>\n",
       "    </tr>\n",
       "  </tbody>\n",
       "</table>\n",
       "</div>"
      ],
      "text/plain": [
       "        Date                      Customer   Qty  Price  Cost   Gross    Net\n",
       "1 2022-07-20                BROTHERS FARMS   3.0   80.0  50.0   240.0   90.0\n",
       "3 2022-04-20  REPUBLIC SERVICES, INC. 3058   8.0   75.0  50.0   600.0  200.0\n",
       "4 2022-04-06                BROTHERS FARMS   3.0   75.0  50.0   225.0   75.0\n",
       "7 2022-02-22                BROTHERS FARMS   6.0   75.0  50.0   450.0  150.0\n",
       "8 2022-01-27  REPUBLIC SERVICES, INC. 3058  15.0   75.0  50.0  1125.0  375.0"
      ]
     },
     "execution_count": 424,
     "metadata": {},
     "output_type": "execute_result"
    }
   ],
   "source": [
    "df2.head()"
   ]
  },
  {
   "cell_type": "code",
   "execution_count": 425,
   "metadata": {},
   "outputs": [
    {
     "data": {
      "image/png": "[encoded data removed]",
      "text/plain": [
       "<Figure size 432x288 with 1 Axes>"
      ]
     },
     "metadata": {
      "needs_background": "light"
     },
     "output_type": "display_data"
    },
    {
     "name": "stdout",
     "output_type": "stream",
     "text": [
      "Total Gross: 3260.0\n",
      "Total Net: 1110.0\n"
     ]
    }
   ],
   "source": [
    "Net_Gross273 = {\n",
    "    'Gross' : df2['Gross'].sum(),\n",
    "    'Net' : df2['Net'].sum()\n",
    "}\n",
    "\n",
    "\n",
    "data = Net_Gross273\n",
    "names = list(data.keys())\n",
    "values = list(data.values())\n",
    "\n",
    "plt.bar(range(len(data)), values, tick_label=names)\n",
    "plt.xticks(range(len(names)), names, rotation='vertical')\n",
    "plt.show()\n",
    "\n",
    "Total_Gross = df2['Gross'].sum()\n",
    "Total_net = df2['Net'].sum() \n",
    "\n",
    "print('Total Gross:',(Total_Gross))\n",
    "print('Total Net:',(Total_net))"
   ]
  },
  {
   "cell_type": "code",
   "execution_count": 426,
   "metadata": {},
   "outputs": [
    {
     "name": "stderr",
     "output_type": "stream",
     "text": [
      "/opt/anaconda3/lib/python3.9/site-packages/openpyxl/styles/stylesheet.py:226: UserWarning: Workbook contains no default style, apply openpyxl's default\n",
      "  warn(\"Workbook contains no default style, apply openpyxl's default\")\n"
     ]
    }
   ],
   "source": [
    "df3 = pd.read_excel (r'374.xlsx',header=[3])\n",
    "df3.drop(columns=['Transaction Type', 'Reference Number', 'Customer Vendor #','Inventory Balance', 'Transaction Date.1','Reference Number.1', 'Created By', 'Created Date', 'Inventory Quantity','Transaction Type.1', 'Created Time', 'Last Changed By', 'Last Changed Date','Receiving PO Number', 'Last Changed Time' ], inplace=True)\n",
    "df3.rename(columns={'Customer/Vendor Name' : 'Customer','Non-Inventory Quantity': 'Qty'}, inplace=True)\n",
    "df3 = df3[df3.Customer != \"TRANSFERS TO #372 J'VILLE\"]\n",
    "df3 = df3[df3.Customer != \"TRANSFERS TO #374 SEYMOUR\"]\n",
    "df3 = df3[df3.Customer != \"TRANSFERS TO #373 E-TOWN\"]\n",
    "df3 = df3[df3.Customer != \"TRANSFERS TO #375 S'VILLE\"]\n",
    "df3 = df3[df3.Customer != \"*** STORE TRANSFERS ***\"]\n",
    "df3 = df3[df3.Customer != \"Beginning Balance\"]\n",
    "df3 = df3[df3.Customer != 'Net Activity']\n",
    "df3 = df3[df3.Customer != 'Ending Balance']\n",
    "df3 = df3[df3.Customer != 'VOID']\n",
    "df3 = df3.dropna(how=\"all\")\n",
    "\n",
    "Gross = df3.Qty * df3.Price\n",
    "df3['Gross'] = Gross.where(df3.Price == 'Qty', other=Gross)\n",
    "\n",
    "Net = df3.Qty * df3.Cost \n",
    "df3['Net'] = Net.where(df3.Cost == 'Qty', other=Net)\n",
    "\n",
    "Net = df3.Gross - df3.Net \n",
    "df3['Net'] = Net.where(df3.Gross == \"Net\", other=Net)"
   ]
  },
  {
   "cell_type": "code",
   "execution_count": 427,
   "metadata": {},
   "outputs": [
    {
     "data": {
      "text/html": [
       "<div>\n",
       "<style scoped>\n",
       "    .dataframe tbody tr th:only-of-type {\n",
       "        vertical-align: middle;\n",
       "    }\n",
       "\n",
       "    .dataframe tbody tr th {\n",
       "        vertical-align: top;\n",
       "    }\n",
       "\n",
       "    .dataframe thead th {\n",
       "        text-align: right;\n",
       "    }\n",
       "</style>\n",
       "<table border=\"1\" class=\"dataframe\">\n",
       "  <thead>\n",
       "    <tr style=\"text-align: right;\">\n",
       "      <th></th>\n",
       "      <th>Transaction Date</th>\n",
       "      <th>Customer</th>\n",
       "      <th>Qty</th>\n",
       "      <th>Price</th>\n",
       "      <th>Cost</th>\n",
       "      <th>Gross</th>\n",
       "      <th>Net</th>\n",
       "    </tr>\n",
       "  </thead>\n",
       "  <tbody>\n",
       "    <tr>\n",
       "      <th>2</th>\n",
       "      <td>2022-09-21</td>\n",
       "      <td>NORTH VERNON BEVERAGE</td>\n",
       "      <td>3.0</td>\n",
       "      <td>75.0</td>\n",
       "      <td>50.0</td>\n",
       "      <td>225.0</td>\n",
       "      <td>75.0</td>\n",
       "    </tr>\n",
       "    <tr>\n",
       "      <th>10</th>\n",
       "      <td>2022-05-26</td>\n",
       "      <td>R W TRANSPORT, INC</td>\n",
       "      <td>1.0</td>\n",
       "      <td>75.0</td>\n",
       "      <td>50.0</td>\n",
       "      <td>75.0</td>\n",
       "      <td>25.0</td>\n",
       "    </tr>\n",
       "    <tr>\n",
       "      <th>12</th>\n",
       "      <td>2022-05-12</td>\n",
       "      <td>R W TRANSPORT, INC</td>\n",
       "      <td>4.0</td>\n",
       "      <td>75.0</td>\n",
       "      <td>50.0</td>\n",
       "      <td>300.0</td>\n",
       "      <td>100.0</td>\n",
       "    </tr>\n",
       "    <tr>\n",
       "      <th>15</th>\n",
       "      <td>2022-04-30</td>\n",
       "      <td>NEW WAY TRANSPORTATION</td>\n",
       "      <td>2.0</td>\n",
       "      <td>65.0</td>\n",
       "      <td>50.0</td>\n",
       "      <td>130.0</td>\n",
       "      <td>30.0</td>\n",
       "    </tr>\n",
       "    <tr>\n",
       "      <th>16</th>\n",
       "      <td>2022-04-20</td>\n",
       "      <td>FOX FARMS</td>\n",
       "      <td>4.0</td>\n",
       "      <td>75.0</td>\n",
       "      <td>50.0</td>\n",
       "      <td>300.0</td>\n",
       "      <td>100.0</td>\n",
       "    </tr>\n",
       "  </tbody>\n",
       "</table>\n",
       "</div>"
      ],
      "text/plain": [
       "   Transaction Date                Customer  Qty  Price  Cost  Gross    Net\n",
       "2        2022-09-21   NORTH VERNON BEVERAGE  3.0   75.0  50.0  225.0   75.0\n",
       "10       2022-05-26      R W TRANSPORT, INC  1.0   75.0  50.0   75.0   25.0\n",
       "12       2022-05-12      R W TRANSPORT, INC  4.0   75.0  50.0  300.0  100.0\n",
       "15       2022-04-30  NEW WAY TRANSPORTATION  2.0   65.0  50.0  130.0   30.0\n",
       "16       2022-04-20               FOX FARMS  4.0   75.0  50.0  300.0  100.0"
      ]
     },
     "execution_count": 427,
     "metadata": {},
     "output_type": "execute_result"
    }
   ],
   "source": [
    "df3.head()"
   ]
  },
  {
   "cell_type": "code",
   "execution_count": 428,
   "metadata": {},
   "outputs": [
    {
     "data": {
      "image/png": "[encoded data removed]",
      "text/plain": [
       "<Figure size 432x288 with 1 Axes>"
      ]
     },
     "metadata": {
      "needs_background": "light"
     },
     "output_type": "display_data"
    },
    {
     "name": "stdout",
     "output_type": "stream",
     "text": [
      "Total Gross: 3765.0\n",
      "Total Net: 1415.0\n"
     ]
    }
   ],
   "source": [
    "Net_Gross274 = {\n",
    "    'Gross' : df3['Gross'].sum(),\n",
    "    'Net' : df3['Net'].sum()\n",
    "}\n",
    "\n",
    "\n",
    "data = Net_Gross274\n",
    "names = list(data.keys())\n",
    "values = list(data.values())\n",
    "\n",
    "plt.bar(range(len(data)), values, tick_label=names)\n",
    "plt.xticks(range(len(names)), names, rotation='vertical')\n",
    "plt.show()\n",
    "\n",
    "Total_Gross = df3['Gross'].sum()\n",
    "Total_net = df3['Net'].sum() \n",
    "\n",
    "print('Total Gross:',(Total_Gross))\n",
    "print('Total Net:',(Total_net))"
   ]
  },
  {
   "cell_type": "code",
   "execution_count": 429,
   "metadata": {},
   "outputs": [
    {
     "name": "stderr",
     "output_type": "stream",
     "text": [
      "/opt/anaconda3/lib/python3.9/site-packages/openpyxl/styles/stylesheet.py:226: UserWarning: Workbook contains no default style, apply openpyxl's default\n",
      "  warn(\"Workbook contains no default style, apply openpyxl's default\")\n"
     ]
    }
   ],
   "source": [
    "df4 = pd.read_excel (r'375.xlsx',header=[3])\n",
    "df4.drop(columns=['Transaction Type', 'Reference Number', 'Customer Vendor #','Inventory Balance', 'Transaction Date.1','Reference Number.1', 'Created By', 'Created Date', 'Inventory Quantity','Transaction Type.1', 'Created Time', 'Last Changed By', 'Last Changed Date','Receiving PO Number', 'Last Changed Time' ], inplace=True)\n",
    "df4.rename(columns={'Customer/Vendor Name' : 'Customer', 'Non-Inventory Quantity': 'Qty'}, inplace=True)\n",
    "df4 = df4[df4.Customer != \"TRANSFERS TO #372 J'VILLE\"]\n",
    "df4 = df4[df4.Customer != \"TRANSFERS TO #374 SEYMOUR\"]\n",
    "df4 = df4[df4.Customer != \"TRANSFERS TO #373 E-TOWN\"]\n",
    "df4 = df4[df4.Customer != \"TRANSFERS TO #375 S'VILLE\"]\n",
    "df4 = df4[df4.Customer != \"*** STORE TRANSFERS ***\"]\n",
    "df4 = df4[df4.Customer != \"Beginning Balance\"]\n",
    "df4 = df4[df4.Customer != 'Net Activity']\n",
    "df4 = df4[df4.Customer != 'Ending Balance']\n",
    "df4 = df4[df4.Customer != 'VOID']\n",
    "df4 = df4.dropna(how=\"all\")\n",
    "\n",
    "Gross = df4.Qty * df4.Price\n",
    "df4['Gross'] = Gross.where(df4.Price == 'Qty', other=Gross)\n",
    "\n",
    "Net = df4.Qty * df4.Cost \n",
    "df4['Net'] = Net.where(df4.Cost == 'Qty', other=Net)\n",
    "\n",
    "Net = df4.Gross - df4.Net \n",
    "df4['Net'] = Net.where(df4.Gross == \"Net\", other=Net)\n"
   ]
  },
  {
   "cell_type": "code",
   "execution_count": 430,
   "metadata": {},
   "outputs": [
    {
     "data": {
      "text/html": [
       "<div>\n",
       "<style scoped>\n",
       "    .dataframe tbody tr th:only-of-type {\n",
       "        vertical-align: middle;\n",
       "    }\n",
       "\n",
       "    .dataframe tbody tr th {\n",
       "        vertical-align: top;\n",
       "    }\n",
       "\n",
       "    .dataframe thead th {\n",
       "        text-align: right;\n",
       "    }\n",
       "</style>\n",
       "<table border=\"1\" class=\"dataframe\">\n",
       "  <thead>\n",
       "    <tr style=\"text-align: right;\">\n",
       "      <th></th>\n",
       "      <th>Transaction Date</th>\n",
       "      <th>Customer</th>\n",
       "      <th>Qty</th>\n",
       "      <th>Price</th>\n",
       "      <th>Cost</th>\n",
       "      <th>Gross</th>\n",
       "      <th>Net</th>\n",
       "    </tr>\n",
       "  </thead>\n",
       "  <tbody>\n",
       "    <tr>\n",
       "      <th>0</th>\n",
       "      <td>2022-11-17</td>\n",
       "      <td>HARROD TRANSPORT</td>\n",
       "      <td>4.0</td>\n",
       "      <td>75.0</td>\n",
       "      <td>50.0</td>\n",
       "      <td>300.0</td>\n",
       "      <td>100.0</td>\n",
       "    </tr>\n",
       "  </tbody>\n",
       "</table>\n",
       "</div>"
      ],
      "text/plain": [
       "  Transaction Date          Customer  Qty  Price  Cost  Gross    Net\n",
       "0       2022-11-17  HARROD TRANSPORT  4.0   75.0  50.0  300.0  100.0"
      ]
     },
     "execution_count": 430,
     "metadata": {},
     "output_type": "execute_result"
    }
   ],
   "source": [
    "df4.head()"
   ]
  },
  {
   "cell_type": "code",
   "execution_count": 431,
   "metadata": {},
   "outputs": [
    {
     "data": {
      "image/png": "[encoded data removed]",
      "text/plain": [
       "<Figure size 432x288 with 1 Axes>"
      ]
     },
     "metadata": {
      "needs_background": "light"
     },
     "output_type": "display_data"
    },
    {
     "name": "stdout",
     "output_type": "stream",
     "text": [
      "Total Gross: 300.0\n",
      "Total Net: 100.0\n"
     ]
    }
   ],
   "source": [
    "Net_Gross275 = {\n",
    "    'Gross' : df4['Gross'].sum(),\n",
    "    'Net' : df4['Net'].sum()\n",
    "}\n",
    "\n",
    "\n",
    "data = Net_Gross275\n",
    "names = list(data.keys())\n",
    "values = list(data.values())\n",
    "\n",
    "plt.bar(range(len(data)), values, tick_label=names)\n",
    "plt.xticks(range(len(names)), names, rotation='vertical')\n",
    "plt.show()\n",
    "\n",
    "Total_Gross = df4['Gross'].sum()\n",
    "Total_net = df4['Net'].sum() \n",
    "\n",
    "print('Total Gross:',(Total_Gross))\n",
    "print('Total Net:',(Total_net))"
   ]
  },
  {
   "cell_type": "code",
   "execution_count": 432,
   "metadata": {},
   "outputs": [
    {
     "name": "stderr",
     "output_type": "stream",
     "text": [
      "/opt/anaconda3/lib/python3.9/site-packages/openpyxl/styles/stylesheet.py:226: UserWarning: Workbook contains no default style, apply openpyxl's default\n",
      "  warn(\"Workbook contains no default style, apply openpyxl's default\")\n"
     ]
    }
   ],
   "source": [
    "\n",
    "df5 = pd.read_excel (r'376.xlsx',header=[3])\n",
    "\n",
    "df5.drop(columns=['Transaction Type', 'Reference Number', 'Customer Vendor #','Inventory Balance', 'Transaction Date.1','Reference Number.1', 'Created By', 'Created Date', 'Inventory Quantity','Transaction Type.1', 'Created Time', 'Last Changed By', 'Last Changed Date','Receiving PO Number', 'Last Changed Time' ], inplace=True)\n",
    "\n",
    "df5.rename(columns={'Customer/Vendor Name' : 'Customer', 'Non-Inventory Quantity': 'Qty', 'Transaction Date' : 'Date'}, inplace=True)\n",
    "\n",
    "df5 = df5[df5.Customer != \"TRANSFERS TO #372 J'VILLE\"]\n",
    "df5 = df5[df5.Customer != \"TRANSFERS TO #374 SEYMOUR\"]\n",
    "df5 = df5[df5.Customer != \"TRANSFERS TO #373 E-TOWN\"]\n",
    "df5 = df5[df5.Customer != \"TRANSFERS TO #375 S'VILLE\"]\n",
    "df5 = df5[df5.Customer != \"*** STORE TRANSFERS ***\"]\n",
    "df5 = df5[df5.Customer != \"Beginning Balance\"]\n",
    "df5 = df5[df5.Customer != 'Net Activity']\n",
    "df5 = df5[df5.Customer != 'Ending Balance']\n",
    "df5 = df5[df5.Customer != 'VOID']\n",
    "df5 = df5.dropna(how=\"all\")\n",
    "\n",
    "Gross = df5.Qty * df5.Price\n",
    "df5['Gross'] = Gross.where(df5.Price == 'Qty', other=Gross)\n",
    "\n",
    "Net = df5.Qty * df5.Cost \n",
    "df5['Net'] = Net.where(df5.Cost == 'Qty', other=Net)\n",
    "\n",
    "Net = df5.Gross - df5.Net \n",
    "df5['Net'] = Net.where(df5.Gross == \"Net\", other=Net)"
   ]
  },
  {
   "cell_type": "code",
   "execution_count": 433,
   "metadata": {},
   "outputs": [
    {
     "data": {
      "text/html": [
       "<div>\n",
       "<style scoped>\n",
       "    .dataframe tbody tr th:only-of-type {\n",
       "        vertical-align: middle;\n",
       "    }\n",
       "\n",
       "    .dataframe tbody tr th {\n",
       "        vertical-align: top;\n",
       "    }\n",
       "\n",
       "    .dataframe thead th {\n",
       "        text-align: right;\n",
       "    }\n",
       "</style>\n",
       "<table border=\"1\" class=\"dataframe\">\n",
       "  <thead>\n",
       "    <tr style=\"text-align: right;\">\n",
       "      <th></th>\n",
       "      <th>Date</th>\n",
       "      <th>Customer</th>\n",
       "      <th>Qty</th>\n",
       "      <th>Price</th>\n",
       "      <th>Cost</th>\n",
       "      <th>Gross</th>\n",
       "      <th>Net</th>\n",
       "    </tr>\n",
       "  </thead>\n",
       "  <tbody>\n",
       "    <tr>\n",
       "      <th>3</th>\n",
       "      <td>2022-11-16</td>\n",
       "      <td>PENSKE #5471 - JEFFVILLE</td>\n",
       "      <td>2.0</td>\n",
       "      <td>75.0</td>\n",
       "      <td>50.0</td>\n",
       "      <td>150.0</td>\n",
       "      <td>50.0</td>\n",
       "    </tr>\n",
       "    <tr>\n",
       "      <th>4</th>\n",
       "      <td>2022-11-16</td>\n",
       "      <td>PENSKE #0456 - LOUISVILLE</td>\n",
       "      <td>3.0</td>\n",
       "      <td>75.0</td>\n",
       "      <td>50.0</td>\n",
       "      <td>225.0</td>\n",
       "      <td>75.0</td>\n",
       "    </tr>\n",
       "    <tr>\n",
       "      <th>5</th>\n",
       "      <td>2022-11-16</td>\n",
       "      <td>PENSKE #6409-10 - DERBY CITY</td>\n",
       "      <td>1.0</td>\n",
       "      <td>75.0</td>\n",
       "      <td>50.0</td>\n",
       "      <td>75.0</td>\n",
       "      <td>25.0</td>\n",
       "    </tr>\n",
       "    <tr>\n",
       "      <th>6</th>\n",
       "      <td>2022-11-16</td>\n",
       "      <td>WASTE MANAGEMENT,INC</td>\n",
       "      <td>6.0</td>\n",
       "      <td>75.0</td>\n",
       "      <td>50.0</td>\n",
       "      <td>450.0</td>\n",
       "      <td>150.0</td>\n",
       "    </tr>\n",
       "    <tr>\n",
       "      <th>7</th>\n",
       "      <td>2022-11-16</td>\n",
       "      <td>PENSKE #5471 - JEFFVILLE</td>\n",
       "      <td>1.0</td>\n",
       "      <td>75.0</td>\n",
       "      <td>50.0</td>\n",
       "      <td>75.0</td>\n",
       "      <td>25.0</td>\n",
       "    </tr>\n",
       "  </tbody>\n",
       "</table>\n",
       "</div>"
      ],
      "text/plain": [
       "        Date                      Customer  Qty  Price  Cost  Gross    Net\n",
       "3 2022-11-16      PENSKE #5471 - JEFFVILLE  2.0   75.0  50.0  150.0   50.0\n",
       "4 2022-11-16     PENSKE #0456 - LOUISVILLE  3.0   75.0  50.0  225.0   75.0\n",
       "5 2022-11-16  PENSKE #6409-10 - DERBY CITY  1.0   75.0  50.0   75.0   25.0\n",
       "6 2022-11-16          WASTE MANAGEMENT,INC  6.0   75.0  50.0  450.0  150.0\n",
       "7 2022-11-16      PENSKE #5471 - JEFFVILLE  1.0   75.0  50.0   75.0   25.0"
      ]
     },
     "execution_count": 433,
     "metadata": {},
     "output_type": "execute_result"
    }
   ],
   "source": [
    "df5.head(5)"
   ]
  },
  {
   "cell_type": "code",
   "execution_count": 434,
   "metadata": {},
   "outputs": [],
   "source": [
    "# df5['Date'] = pd.to_datetime(df5['Date'])\n",
    "# df5 = df5['Date'].dt.year\n",
    "# df5.head()"
   ]
  },
  {
   "cell_type": "code",
   "execution_count": 435,
   "metadata": {},
   "outputs": [],
   "source": [
    "# first_date = datetime.strptime('2022-11-16', '%Y-%m-%d')\n",
    "# print(first_date)\n"
   ]
  },
  {
   "cell_type": "code",
   "execution_count": 436,
   "metadata": {},
   "outputs": [],
   "source": [
    "# gross_grouped_by_date = df5.groupby('Date').agg(sum_gross = ('Gross', 'sum'))\n",
    "# print(gross_grouped_by_date )"
   ]
  },
  {
   "cell_type": "code",
   "execution_count": 437,
   "metadata": {},
   "outputs": [
    {
     "name": "stdout",
     "output_type": "stream",
     "text": [
      "           Qty    Price    Cost    Gross      Net\n",
      "Date                                             \n",
      "2021-08   60.0   957.00   650.0  4351.50  1351.50\n",
      "2021-09   96.0  1550.00  1050.0  6835.00  2035.00\n",
      "2021-10   64.0  1215.50   800.0  4828.00  1628.00\n",
      "2021-11   73.0  1461.50  1000.0  5258.50  1608.50\n",
      "2021-12   64.0  1181.50   800.0  4618.00  1418.00\n",
      "2022-01   90.0  1037.00   700.0  6515.50  2015.50\n",
      "2022-02   56.0  1336.50   900.0  4092.00  1292.00\n",
      "2022-03   78.0  1480.00  1000.0  5690.00  1790.00\n",
      "2022-04   71.0  1700.50  1150.0  5220.00  1670.00\n",
      "2022-05   37.0  1195.00   800.0  2765.00   915.00\n",
      "2022-06   74.0  1187.00   800.0  5468.50  1768.50\n",
      "2022-07   65.0   896.50   650.0  4211.00   961.00\n",
      "2022-08   77.0  1482.00  1000.0  5667.00  1817.00\n",
      "2022-09  100.0  1441.00  1000.0  6610.00  1610.00\n",
      "2022-10   96.0  1961.74  1350.0  6682.49  1882.49\n",
      "2022-11   63.0  1219.37   800.0  4837.87  1687.87\n",
      "83650.36\n"
     ]
    }
   ],
   "source": [
    "df5['Date'] = pd.to_datetime(df5['Date'], format='%y%m%d')\n",
    "df5 = df5.groupby(df5['Date'].dt.to_period('m')).sum()\n",
    "print(df5)"
   ]
  },
  {
   "cell_type": "code",
   "execution_count": 438,
   "metadata": {},
   "outputs": [
    {
     "data": {
      "image/png": "[encoded data removed]",
      "text/plain": [
       "<Figure size 432x288 with 1 Axes>"
      ]
     },
     "metadata": {
      "needs_background": "light"
     },
     "output_type": "display_data"
    },
    {
     "name": "stdout",
     "output_type": "stream",
     "text": [
      "Total Gross: 83650.36\n",
      "Total Net: 25450.36\n"
     ]
    }
   ],
   "source": [
    "Net_Gross276 = {\n",
    "    'Gross' : df5['Gross'].sum(),\n",
    "    'Net' : df5['Net'].sum()\n",
    "}\n",
    "\n",
    "\n",
    "data = Net_Gross275\n",
    "names = list(data.keys())\n",
    "values = list(data.values())\n",
    "\n",
    "plt.bar(range(len(data)), values, tick_label=names)\n",
    "plt.xticks(range(len(names)), names, rotation='vertical')\n",
    "plt.show()\n",
    "\n",
    "Total_Gross = df5['Gross'].sum()\n",
    "Total_net = df5['Net'].sum() \n",
    "\n",
    "print('Total Gross:',(Total_Gross))\n",
    "print('Total Net:',(Total_net))"
   ]
  },
  {
   "cell_type": "code",
   "execution_count": 439,
   "metadata": {},
   "outputs": [
    {
     "name": "stdout",
     "output_type": "stream",
     "text": [
      "32920.36\n",
      "105720.36\n"
     ]
    }
   ],
   "source": [
    "frames = [df1, df2, df3, df4, df5]\n",
    "\n",
    "df99 = pd.concat(frames)\n",
    "df99.head()\n",
    "\n",
    "print(df99['Net'].sum())\n",
    "print(df99['Gross'].sum())"
   ]
  },
  {
   "cell_type": "code",
   "execution_count": 440,
   "metadata": {},
   "outputs": [],
   "source": [
    "Net_Gross = {\n",
    "    '370_Gross' : df0['Gross'].sum(),\n",
    "    '370_net' : df0['Net'].sum(),\n",
    "    '372_Gross' : df1['Gross'].sum(),\n",
    "    '372_net' : df1['Net'].sum(),\n",
    "    '373_Gross' : df2['Gross'].sum(),\n",
    "    '373_net' : df2['Net'].sum(),\n",
    "    '374_Gross' : df3['Gross'].sum(),\n",
    "    '374_net' : df3['Net'].sum(),\n",
    "    '375_Gross' : df4['Gross'].sum(),\n",
    "    '375_net' : df4['Net'].sum(),\n",
    "    '376_Gross' : df5['Gross'].sum(),\n",
    "    '376_net' : df5['Net'].sum(),\n",
    "}\n",
    "\n",
    "# print(Net_Gross)"
   ]
  },
  {
   "cell_type": "code",
   "execution_count": 441,
   "metadata": {},
   "outputs": [
    {
     "data": {
      "image/png": "[encoded data removed]",
      "text/plain": [
       "<Figure size 432x288 with 1 Axes>"
      ]
     },
     "metadata": {
      "needs_background": "light"
     },
     "output_type": "display_data"
    },
    {
     "name": "stdout",
     "output_type": "stream",
     "text": [
      "Total Gross: 105720.36\n",
      "Total Net: 32920.36\n"
     ]
    }
   ],
   "source": [
    "data = Net_Gross\n",
    "names = list(data.keys())\n",
    "values = list(data.values())\n",
    "\n",
    "plt.bar(range(len(data)), values, tick_label=names)\n",
    "plt.xticks(range(len(names)), names, rotation='vertical')\n",
    "plt.show()\n",
    "\n",
    "Total_Gross = df0['Gross'].sum() + df1['Gross'].sum() + df2['Gross'].sum() + df3['Gross'].sum() + df4['Gross'].sum() + df5['Gross'].sum()\n",
    "Total_net = df0['Net'].sum() + df1['Net'].sum() + df2['Net'].sum() + df3['Net'].sum() + df4['Net'].sum() + df5['Net'].sum()\n",
    "\n",
    "print('Total Gross:',(Total_Gross))\n",
    "print('Total Net:',(Total_net))\n"
   ]
  },
  {
   "cell_type": "code",
   "execution_count": 442,
   "metadata": {},
   "outputs": [
    {
     "ename": "KeyError",
     "evalue": "'Customer'",
     "output_type": "error",
     "traceback": [
      "\u001b[0;31m---------------------------------------------------------------------------\u001b[0m",
      "\u001b[0;31mKeyError\u001b[0m                                  Traceback (most recent call last)",
      "\u001b[0;32m/opt/anaconda3/lib/python3.9/site-packages/pandas/core/indexes/base.py\u001b[0m in \u001b[0;36mget_loc\u001b[0;34m(self, key, method, tolerance)\u001b[0m\n\u001b[1;32m   3360\u001b[0m             \u001b[0;32mtry\u001b[0m\u001b[0;34m:\u001b[0m\u001b[0;34m\u001b[0m\u001b[0;34m\u001b[0m\u001b[0m\n\u001b[0;32m-> 3361\u001b[0;31m                 \u001b[0;32mreturn\u001b[0m \u001b[0mself\u001b[0m\u001b[0;34m.\u001b[0m\u001b[0m_engine\u001b[0m\u001b[0;34m.\u001b[0m\u001b[0mget_loc\u001b[0m\u001b[0;34m(\u001b[0m\u001b[0mcasted_key\u001b[0m\u001b[0;34m)\u001b[0m\u001b[0;34m\u001b[0m\u001b[0;34m\u001b[0m\u001b[0m\n\u001b[0m\u001b[1;32m   3362\u001b[0m             \u001b[0;32mexcept\u001b[0m \u001b[0mKeyError\u001b[0m \u001b[0;32mas\u001b[0m \u001b[0merr\u001b[0m\u001b[0;34m:\u001b[0m\u001b[0;34m\u001b[0m\u001b[0;34m\u001b[0m\u001b[0m\n",
      "\u001b[0;32m/opt/anaconda3/lib/python3.9/site-packages/pandas/_libs/index.pyx\u001b[0m in \u001b[0;36mpandas._libs.index.IndexEngine.get_loc\u001b[0;34m()\u001b[0m\n",
      "\u001b[0;32m/opt/anaconda3/lib/python3.9/site-packages/pandas/_libs/index.pyx\u001b[0m in \u001b[0;36mpandas._libs.index.IndexEngine.get_loc\u001b[0;34m()\u001b[0m\n",
      "\u001b[0;32mpandas/_libs/hashtable_class_helper.pxi\u001b[0m in \u001b[0;36mpandas._libs.hashtable.PyObjectHashTable.get_item\u001b[0;34m()\u001b[0m\n",
      "\u001b[0;32mpandas/_libs/hashtable_class_helper.pxi\u001b[0m in \u001b[0;36mpandas._libs.hashtable.PyObjectHashTable.get_item\u001b[0;34m()\u001b[0m\n",
      "\u001b[0;31mKeyError\u001b[0m: 'Customer'",
      "\nThe above exception was the direct cause of the following exception:\n",
      "\u001b[0;31mKeyError\u001b[0m                                  Traceback (most recent call last)",
      "\u001b[0;32m/var/folders/t5/sxblnh9s6r744cwj7y86ts1r0000gn/T/ipykernel_95778/1206673516.py\u001b[0m in \u001b[0;36m<module>\u001b[0;34m\u001b[0m\n\u001b[0;32m----> 1\u001b[0;31m \u001b[0mby_cust\u001b[0m \u001b[0;34m=\u001b[0m\u001b[0;34m(\u001b[0m\u001b[0mdf5\u001b[0m\u001b[0;34m[\u001b[0m\u001b[0;34m'Customer'\u001b[0m\u001b[0;34m]\u001b[0m\u001b[0;34m)\u001b[0m\u001b[0;34m.\u001b[0m\u001b[0mvalue_counts\u001b[0m\u001b[0;34m(\u001b[0m\u001b[0;34m)\u001b[0m\u001b[0;34m.\u001b[0m\u001b[0msort_index\u001b[0m\u001b[0;34m(\u001b[0m\u001b[0;34m)\u001b[0m\u001b[0;34m\u001b[0m\u001b[0;34m\u001b[0m\u001b[0m\n\u001b[0m\u001b[1;32m      2\u001b[0m \u001b[0mdf5_customer\u001b[0m \u001b[0;34m=\u001b[0m \u001b[0mby_cust\u001b[0m\u001b[0;34m.\u001b[0m\u001b[0mrename_axis\u001b[0m\u001b[0;34m(\u001b[0m\u001b[0;34m'Customer'\u001b[0m\u001b[0;34m)\u001b[0m\u001b[0;34m.\u001b[0m\u001b[0mreset_index\u001b[0m\u001b[0;34m(\u001b[0m\u001b[0mname\u001b[0m\u001b[0;34m=\u001b[0m\u001b[0;34m'counts'\u001b[0m\u001b[0;34m)\u001b[0m\u001b[0;34m\u001b[0m\u001b[0;34m\u001b[0m\u001b[0m\n\u001b[1;32m      3\u001b[0m \u001b[0;31m# df5_customer.sort_values(by=['counts'], reverse=True)\u001b[0m\u001b[0;34m\u001b[0m\u001b[0;34m\u001b[0m\u001b[0m\n\u001b[1;32m      4\u001b[0m \u001b[0mdf5_customer\u001b[0m\u001b[0;34m.\u001b[0m\u001b[0msort_values\u001b[0m\u001b[0;34m(\u001b[0m\u001b[0mby\u001b[0m\u001b[0;34m=\u001b[0m\u001b[0;34m[\u001b[0m\u001b[0;34m'counts'\u001b[0m\u001b[0;34m]\u001b[0m\u001b[0;34m,\u001b[0m \u001b[0mascending\u001b[0m\u001b[0;34m=\u001b[0m\u001b[0;32mFalse\u001b[0m\u001b[0;34m,\u001b[0m \u001b[0minplace\u001b[0m\u001b[0;34m=\u001b[0m\u001b[0;32mTrue\u001b[0m\u001b[0;34m)\u001b[0m\u001b[0;34m\u001b[0m\u001b[0;34m\u001b[0m\u001b[0m\n\u001b[1;32m      5\u001b[0m \u001b[0mdf5_customer\u001b[0m\u001b[0;34m\u001b[0m\u001b[0;34m\u001b[0m\u001b[0m\n",
      "\u001b[0;32m/opt/anaconda3/lib/python3.9/site-packages/pandas/core/frame.py\u001b[0m in \u001b[0;36m__getitem__\u001b[0;34m(self, key)\u001b[0m\n\u001b[1;32m   3456\u001b[0m             \u001b[0;32mif\u001b[0m \u001b[0mself\u001b[0m\u001b[0;34m.\u001b[0m\u001b[0mcolumns\u001b[0m\u001b[0;34m.\u001b[0m\u001b[0mnlevels\u001b[0m \u001b[0;34m>\u001b[0m \u001b[0;36m1\u001b[0m\u001b[0;34m:\u001b[0m\u001b[0;34m\u001b[0m\u001b[0;34m\u001b[0m\u001b[0m\n\u001b[1;32m   3457\u001b[0m                 \u001b[0;32mreturn\u001b[0m \u001b[0mself\u001b[0m\u001b[0;34m.\u001b[0m\u001b[0m_getitem_multilevel\u001b[0m\u001b[0;34m(\u001b[0m\u001b[0mkey\u001b[0m\u001b[0;34m)\u001b[0m\u001b[0;34m\u001b[0m\u001b[0;34m\u001b[0m\u001b[0m\n\u001b[0;32m-> 3458\u001b[0;31m             \u001b[0mindexer\u001b[0m \u001b[0;34m=\u001b[0m \u001b[0mself\u001b[0m\u001b[0;34m.\u001b[0m\u001b[0mcolumns\u001b[0m\u001b[0;34m.\u001b[0m\u001b[0mget_loc\u001b[0m\u001b[0;34m(\u001b[0m\u001b[0mkey\u001b[0m\u001b[0;34m)\u001b[0m\u001b[0;34m\u001b[0m\u001b[0;34m\u001b[0m\u001b[0m\n\u001b[0m\u001b[1;32m   3459\u001b[0m             \u001b[0;32mif\u001b[0m \u001b[0mis_integer\u001b[0m\u001b[0;34m(\u001b[0m\u001b[0mindexer\u001b[0m\u001b[0;34m)\u001b[0m\u001b[0;34m:\u001b[0m\u001b[0;34m\u001b[0m\u001b[0;34m\u001b[0m\u001b[0m\n\u001b[1;32m   3460\u001b[0m                 \u001b[0mindexer\u001b[0m \u001b[0;34m=\u001b[0m \u001b[0;34m[\u001b[0m\u001b[0mindexer\u001b[0m\u001b[0;34m]\u001b[0m\u001b[0;34m\u001b[0m\u001b[0;34m\u001b[0m\u001b[0m\n",
      "\u001b[0;32m/opt/anaconda3/lib/python3.9/site-packages/pandas/core/indexes/base.py\u001b[0m in \u001b[0;36mget_loc\u001b[0;34m(self, key, method, tolerance)\u001b[0m\n\u001b[1;32m   3361\u001b[0m                 \u001b[0;32mreturn\u001b[0m \u001b[0mself\u001b[0m\u001b[0;34m.\u001b[0m\u001b[0m_engine\u001b[0m\u001b[0;34m.\u001b[0m\u001b[0mget_loc\u001b[0m\u001b[0;34m(\u001b[0m\u001b[0mcasted_key\u001b[0m\u001b[0;34m)\u001b[0m\u001b[0;34m\u001b[0m\u001b[0;34m\u001b[0m\u001b[0m\n\u001b[1;32m   3362\u001b[0m             \u001b[0;32mexcept\u001b[0m \u001b[0mKeyError\u001b[0m \u001b[0;32mas\u001b[0m \u001b[0merr\u001b[0m\u001b[0;34m:\u001b[0m\u001b[0;34m\u001b[0m\u001b[0;34m\u001b[0m\u001b[0m\n\u001b[0;32m-> 3363\u001b[0;31m                 \u001b[0;32mraise\u001b[0m \u001b[0mKeyError\u001b[0m\u001b[0;34m(\u001b[0m\u001b[0mkey\u001b[0m\u001b[0;34m)\u001b[0m \u001b[0;32mfrom\u001b[0m \u001b[0merr\u001b[0m\u001b[0;34m\u001b[0m\u001b[0;34m\u001b[0m\u001b[0m\n\u001b[0m\u001b[1;32m   3364\u001b[0m \u001b[0;34m\u001b[0m\u001b[0m\n\u001b[1;32m   3365\u001b[0m         \u001b[0;32mif\u001b[0m \u001b[0mis_scalar\u001b[0m\u001b[0;34m(\u001b[0m\u001b[0mkey\u001b[0m\u001b[0;34m)\u001b[0m \u001b[0;32mand\u001b[0m \u001b[0misna\u001b[0m\u001b[0;34m(\u001b[0m\u001b[0mkey\u001b[0m\u001b[0;34m)\u001b[0m \u001b[0;32mand\u001b[0m \u001b[0;32mnot\u001b[0m \u001b[0mself\u001b[0m\u001b[0;34m.\u001b[0m\u001b[0mhasnans\u001b[0m\u001b[0;34m:\u001b[0m\u001b[0;34m\u001b[0m\u001b[0;34m\u001b[0m\u001b[0m\n",
      "\u001b[0;31mKeyError\u001b[0m: 'Customer'"
     ]
    }
   ],
   "source": [
    "by_cust =(df5['Customer']).value_counts().sort_index()\n",
    "df5_customer = by_cust.rename_axis('Customer').reset_index(name='counts')\n",
    "# df5_customer.sort_values(by=['counts'], reverse=True)\n",
    "df5_customer.sort_values(by=['counts'], ascending=False, inplace=True)\n",
    "df5_customer"
   ]
  },
  {
   "cell_type": "code",
   "execution_count": null,
   "metadata": {},
   "outputs": [],
   "source": [
    "# list_YM = [i.split(\" \")[0][:-2] for i in  list(df5['Transaction Date'])]\n",
    "# list_Year = [i.split(\" \")[0][0:4] for i in  list(df5['Transaction Date'])]\n",
    "# list_Month = [i.split(\" \")[0][5:7] for i in  list(df5['Transaction Date'])]\n",
    "\n",
    "# df5['YM'] = list_YM\n",
    "# df5['Year'] = list_Year\n",
    "# df5['Month'] = list_Month\n",
    "\n",
    "# df5.head(5)"
   ]
  },
  {
   "cell_type": "code",
   "execution_count": null,
   "metadata": {},
   "outputs": [],
   "source": [
    "#  # convert to date\n",
    "# df5 = pd.to_datetime(df5['Date'])\n",
    " \n",
    "# # verify datatype\n",
    "# print(df5)"
   ]
  },
  {
   "cell_type": "code",
   "execution_count": null,
   "metadata": {},
   "outputs": [],
   "source": [
    "# print(df5.groupby([df5['Date'].dt.year.rename('y'), df5['Date'].dt.month.rename('m')]).sum())"
   ]
  },
  {
   "cell_type": "code",
   "execution_count": null,
   "metadata": {},
   "outputs": [],
   "source": [
    "# df5.groupby(df5['Date'].dt.to_period('m')).sum()\n",
    "# print(df5)"
   ]
  },
  {
   "cell_type": "code",
   "execution_count": null,
   "metadata": {},
   "outputs": [],
   "source": [
    "# df5.assign(yr = df5['Date'].dt.year, mnth = df5['Date'].dt.month).groupby(['yr', 'mnth']).sum()\n",
    "# df5\n"
   ]
  },
  {
   "cell_type": "code",
   "execution_count": null,
   "metadata": {},
   "outputs": [],
   "source": [
    "# df5.assign(yr = df5['Date'].dt.year, mnth = df5['Date'].dt.month).groupby(['yr', 'mnth']).sum()"
   ]
  },
  {
   "cell_type": "code",
   "execution_count": null,
   "metadata": {},
   "outputs": [
    {
     "data": {
      "text/html": [
       "<div>\n",
       "<style scoped>\n",
       "    .dataframe tbody tr th:only-of-type {\n",
       "        vertical-align: middle;\n",
       "    }\n",
       "\n",
       "    .dataframe tbody tr th {\n",
       "        vertical-align: top;\n",
       "    }\n",
       "\n",
       "    .dataframe thead th {\n",
       "        text-align: right;\n",
       "    }\n",
       "</style>\n",
       "<table border=\"1\" class=\"dataframe\">\n",
       "  <thead>\n",
       "    <tr style=\"text-align: right;\">\n",
       "      <th></th>\n",
       "      <th>Gross</th>\n",
       "      <th>Net</th>\n",
       "    </tr>\n",
       "    <tr>\n",
       "      <th>Date</th>\n",
       "      <th></th>\n",
       "      <th></th>\n",
       "    </tr>\n",
       "  </thead>\n",
       "  <tbody>\n",
       "    <tr>\n",
       "      <th>2021-08</th>\n",
       "      <td>4351.50</td>\n",
       "      <td>1351.50</td>\n",
       "    </tr>\n",
       "    <tr>\n",
       "      <th>2021-09</th>\n",
       "      <td>6835.00</td>\n",
       "      <td>2035.00</td>\n",
       "    </tr>\n",
       "    <tr>\n",
       "      <th>2021-10</th>\n",
       "      <td>4828.00</td>\n",
       "      <td>1628.00</td>\n",
       "    </tr>\n",
       "    <tr>\n",
       "      <th>2021-11</th>\n",
       "      <td>5258.50</td>\n",
       "      <td>1608.50</td>\n",
       "    </tr>\n",
       "    <tr>\n",
       "      <th>2021-12</th>\n",
       "      <td>4618.00</td>\n",
       "      <td>1418.00</td>\n",
       "    </tr>\n",
       "    <tr>\n",
       "      <th>2022-01</th>\n",
       "      <td>6515.50</td>\n",
       "      <td>2015.50</td>\n",
       "    </tr>\n",
       "    <tr>\n",
       "      <th>2022-02</th>\n",
       "      <td>4092.00</td>\n",
       "      <td>1292.00</td>\n",
       "    </tr>\n",
       "    <tr>\n",
       "      <th>2022-03</th>\n",
       "      <td>5690.00</td>\n",
       "      <td>1790.00</td>\n",
       "    </tr>\n",
       "    <tr>\n",
       "      <th>2022-04</th>\n",
       "      <td>5220.00</td>\n",
       "      <td>1670.00</td>\n",
       "    </tr>\n",
       "    <tr>\n",
       "      <th>2022-05</th>\n",
       "      <td>2765.00</td>\n",
       "      <td>915.00</td>\n",
       "    </tr>\n",
       "    <tr>\n",
       "      <th>2022-06</th>\n",
       "      <td>5468.50</td>\n",
       "      <td>1768.50</td>\n",
       "    </tr>\n",
       "    <tr>\n",
       "      <th>2022-07</th>\n",
       "      <td>4211.00</td>\n",
       "      <td>961.00</td>\n",
       "    </tr>\n",
       "    <tr>\n",
       "      <th>2022-08</th>\n",
       "      <td>5667.00</td>\n",
       "      <td>1817.00</td>\n",
       "    </tr>\n",
       "    <tr>\n",
       "      <th>2022-09</th>\n",
       "      <td>6610.00</td>\n",
       "      <td>1610.00</td>\n",
       "    </tr>\n",
       "    <tr>\n",
       "      <th>2022-10</th>\n",
       "      <td>6682.49</td>\n",
       "      <td>1882.49</td>\n",
       "    </tr>\n",
       "    <tr>\n",
       "      <th>2022-11</th>\n",
       "      <td>4837.87</td>\n",
       "      <td>1687.87</td>\n",
       "    </tr>\n",
       "  </tbody>\n",
       "</table>\n",
       "</div>"
      ],
      "text/plain": [
       "           Gross      Net\n",
       "Date                     \n",
       "2021-08  4351.50  1351.50\n",
       "2021-09  6835.00  2035.00\n",
       "2021-10  4828.00  1628.00\n",
       "2021-11  5258.50  1608.50\n",
       "2021-12  4618.00  1418.00\n",
       "2022-01  6515.50  2015.50\n",
       "2022-02  4092.00  1292.00\n",
       "2022-03  5690.00  1790.00\n",
       "2022-04  5220.00  1670.00\n",
       "2022-05  2765.00   915.00\n",
       "2022-06  5468.50  1768.50\n",
       "2022-07  4211.00   961.00\n",
       "2022-08  5667.00  1817.00\n",
       "2022-09  6610.00  1610.00\n",
       "2022-10  6682.49  1882.49\n",
       "2022-11  4837.87  1687.87"
      ]
     },
     "execution_count": 372,
     "metadata": {},
     "output_type": "execute_result"
    }
   ],
   "source": [
    "per = df5.Date.dt.to_period(\"M\")\n",
    "g = df5.groupby(per)\n",
    "df51 = g.sum() \n",
    "df51.drop(columns=['Qty', 'Price', 'Cost' ], inplace=True)\n",
    "df51.head(30)\n",
    "# df51.columns\n"
   ]
  },
  {
   "cell_type": "code",
   "execution_count": null,
   "metadata": {},
   "outputs": [],
   "source": []
  },
  {
   "cell_type": "code",
   "execution_count": null,
   "metadata": {},
   "outputs": [
    {
     "data": {
      "text/html": [
       "<div>\n",
       "<style scoped>\n",
       "    .dataframe tbody tr th:only-of-type {\n",
       "        vertical-align: middle;\n",
       "    }\n",
       "\n",
       "    .dataframe tbody tr th {\n",
       "        vertical-align: top;\n",
       "    }\n",
       "\n",
       "    .dataframe thead th {\n",
       "        text-align: right;\n",
       "    }\n",
       "</style>\n",
       "<table border=\"1\" class=\"dataframe\">\n",
       "  <thead>\n",
       "    <tr style=\"text-align: right;\">\n",
       "      <th></th>\n",
       "      <th>Date</th>\n",
       "      <th>Gross</th>\n",
       "      <th>Net</th>\n",
       "    </tr>\n",
       "    <tr>\n",
       "      <th>Date</th>\n",
       "      <th></th>\n",
       "      <th></th>\n",
       "      <th></th>\n",
       "    </tr>\n",
       "  </thead>\n",
       "  <tbody>\n",
       "    <tr>\n",
       "      <th>2021-08</th>\n",
       "      <td>True</td>\n",
       "      <td>4351.5</td>\n",
       "      <td>1351.5</td>\n",
       "    </tr>\n",
       "    <tr>\n",
       "      <th>2021-09</th>\n",
       "      <td>True</td>\n",
       "      <td>6835.0</td>\n",
       "      <td>2035.0</td>\n",
       "    </tr>\n",
       "    <tr>\n",
       "      <th>2021-10</th>\n",
       "      <td>True</td>\n",
       "      <td>4828.0</td>\n",
       "      <td>1628.0</td>\n",
       "    </tr>\n",
       "    <tr>\n",
       "      <th>2021-11</th>\n",
       "      <td>True</td>\n",
       "      <td>5258.5</td>\n",
       "      <td>1608.5</td>\n",
       "    </tr>\n",
       "    <tr>\n",
       "      <th>2021-12</th>\n",
       "      <td>True</td>\n",
       "      <td>4618.0</td>\n",
       "      <td>1418.0</td>\n",
       "    </tr>\n",
       "  </tbody>\n",
       "</table>\n",
       "</div>"
      ],
      "text/plain": [
       "         Date   Gross     Net\n",
       "Date                         \n",
       "2021-08  True  4351.5  1351.5\n",
       "2021-09  True  6835.0  2035.0\n",
       "2021-10  True  4828.0  1628.0\n",
       "2021-11  True  5258.5  1608.5\n",
       "2021-12  True  4618.0  1418.0"
      ]
     },
     "execution_count": 373,
     "metadata": {},
     "output_type": "execute_result"
    }
   ],
   "source": [
    "df51.insert(0, \"Date\", True)\n",
    "# df51.set_axis([\"Date\", \"Gross\", \"Net\"], axis=1, inplace=True)\n",
    "df51.head()"
   ]
  },
  {
   "cell_type": "code",
   "execution_count": null,
   "metadata": {},
   "outputs": [
    {
     "data": {
      "image/png": "[encoded data removed]",
      "text/plain": [
       "<Figure size 432x288 with 1 Axes>"
      ]
     },
     "metadata": {
      "needs_background": "light"
     },
     "output_type": "display_data"
    }
   ],
   "source": [
    "df51.plot(x='Date', y='Gross', kind = 'bar')\n",
    "plt.show()"
   ]
  },
  {
   "cell_type": "code",
   "execution_count": null,
   "metadata": {},
   "outputs": [
    {
     "data": {
      "image/png": "[encoded data removed]",
      "text/plain": [
       "<Figure size 432x288 with 1 Axes>"
      ]
     },
     "metadata": {
      "needs_background": "light"
     },
     "output_type": "display_data"
    },
    {
     "name": "stdout",
     "output_type": "stream",
     "text": [
      "Total Gross: 83650.36\n",
      "Total Net: 25450.36\n"
     ]
    }
   ],
   "source": [
    "Net_Gross276 = {\n",
    "    'Gross' : df5['Gross'],\n",
    "    'Net' : df5['Net']\n",
    "}\n",
    "\n",
    "\n",
    "data = Net_Gross275\n",
    "names = list(data.keys())\n",
    "values = list(data.values())\n",
    "\n",
    "plt.bar(range(len(data)), values, tick_label=names)\n",
    "plt.xticks(range(len(names)), names, rotation='vertical')\n",
    "plt.show()\n",
    "\n",
    "Total_Gross = df5['Gross'].sum()\n",
    "Total_net = df5['Net'].sum() \n",
    "\n",
    "print('Total Gross:',(Total_Gross))\n",
    "print('Total Net:',(Total_net))"
   ]
  },
  {
   "cell_type": "code",
   "execution_count": null,
   "metadata": {},
   "outputs": [],
   "source": [
    "# df5['Date'].dtypes"
   ]
  }
 ],
 "metadata": {
  "kernelspec": {
   "display_name": "Python 3.9.7 ('base')",
   "language": "python",
   "name": "python3"
  },
  "language_info": {
   "codemirror_mode": {
    "name": "ipython",
    "version": 3
   },
   "file_extension": ".py",
   "mimetype": "text/x-python",
   "name": "python",
   "nbconvert_exporter": "python",
   "pygments_lexer": "ipython3",
   "version": "3.9.7"
  },
  "orig_nbformat": 4,
  "vscode": {
   "interpreter": {
    "hash": "40d3a090f54c6569ab1632332b64b2c03c39dcf918b08424e98f38b5ae0af88f"
   }
  }
 },
 "nbformat": 4,
 "nbformat_minor": 2
}
