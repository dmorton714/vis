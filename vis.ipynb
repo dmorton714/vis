{
 "cells": [
  {
   "cell_type": "code",
   "execution_count": 213,
   "metadata": {},
   "outputs": [],
   "source": [
    "import pandas as pd\n",
    "import matplotlib.pyplot as plt\n",
    "import matplotlib.dates as mdates\n",
    "import datetime\n",
    "import csv\n",
    "import numpy as np"
   ]
  },
  {
   "cell_type": "code",
   "execution_count": 226,
   "metadata": {},
   "outputs": [
    {
     "name": "stderr",
     "output_type": "stream",
     "text": [
      "/opt/anaconda3/lib/python3.9/site-packages/openpyxl/styles/stylesheet.py:226: UserWarning: Workbook contains no default style, apply openpyxl's default\n",
      "  warn(\"Workbook contains no default style, apply openpyxl's default\")\n"
     ]
    }
   ],
   "source": [
    "df1 = pd.read_excel (r'372.xlsx',header=[3])\n",
    "df1.drop(columns=['Transaction Type', 'Reference Number', 'Customer Vendor #','Inventory Balance', 'Transaction Date.1','Reference Number.1', 'Created By', 'Created Date', 'Inventory Quantity','Transaction Type.1', 'Created Time', 'Last Changed By', 'Last Changed Date','Receiving PO Number', 'Last Changed Time' ], inplace=True)\n",
    "df1.rename(columns={'Customer/Vendor Name' : 'Customer','Non-Inventory Quantity': 'Qty'}, inplace=True)\n",
    "df1 = df1[df1.Customer != \"TRANSFERS TO #372 J'VILLE\"]\n",
    "df1 = df1[df1.Customer != \"TRANSFERS TO #374 SEYMOUR\"]\n",
    "df1 = df1[df1.Customer != \"TRANSFERS TO #373 E-TOWN\"]\n",
    "df1 = df1[df1.Customer != \"TRANSFERS TO #375 S'VILLE\"]\n",
    "df1 = df1[df1.Customer != \"*** STORE TRANSFERS ***\"]\n",
    "df1 = df1[df1.Customer != \"Beginning Balance\"]\n",
    "df1 = df1[df1.Customer != 'Net Activity']\n",
    "df1 = df1[df1.Customer != 'Ending Balance']\n",
    "df1 = df1[df1.Customer != 'VOID']\n",
    "df1 = df1.dropna(how=\"all\")\n",
    "\n",
    "Gross = df1.Qty * df1.Price\n",
    "df1['Gross'] = Gross.where(df1.Price == 'Qty', other=Gross)\n",
    "\n",
    "Net = df1.Qty * df1.Cost \n",
    "df1['Net'] = Net.where(df1.Cost == 'Qty', other=Net)\n",
    "\n",
    "Net = df1.Gross - df1.Net \n",
    "df1['Net'] = Net.where(df1.Gross == \"Net\", other=Net)\n"
   ]
  },
  {
   "cell_type": "code",
   "execution_count": 227,
   "metadata": {},
   "outputs": [
    {
     "data": {
      "text/html": [
       "<div>\n",
       "<style scoped>\n",
       "    .dataframe tbody tr th:only-of-type {\n",
       "        vertical-align: middle;\n",
       "    }\n",
       "\n",
       "    .dataframe tbody tr th {\n",
       "        vertical-align: top;\n",
       "    }\n",
       "\n",
       "    .dataframe thead th {\n",
       "        text-align: right;\n",
       "    }\n",
       "</style>\n",
       "<table border=\"1\" class=\"dataframe\">\n",
       "  <thead>\n",
       "    <tr style=\"text-align: right;\">\n",
       "      <th></th>\n",
       "      <th>Transaction Date</th>\n",
       "      <th>Customer</th>\n",
       "      <th>Qty</th>\n",
       "      <th>Price</th>\n",
       "      <th>Cost</th>\n",
       "      <th>Gross</th>\n",
       "      <th>Net</th>\n",
       "    </tr>\n",
       "  </thead>\n",
       "  <tbody>\n",
       "    <tr>\n",
       "      <th>1</th>\n",
       "      <td>2022-10-31</td>\n",
       "      <td>GOTTA GO, INC. - TRACKING</td>\n",
       "      <td>1.0</td>\n",
       "      <td>75.0</td>\n",
       "      <td>50.0</td>\n",
       "      <td>75.0</td>\n",
       "      <td>25.0</td>\n",
       "    </tr>\n",
       "    <tr>\n",
       "      <th>8</th>\n",
       "      <td>2022-10-12</td>\n",
       "      <td>ERNST CONCRETE KENTUCKIAN</td>\n",
       "      <td>8.0</td>\n",
       "      <td>80.0</td>\n",
       "      <td>50.0</td>\n",
       "      <td>640.0</td>\n",
       "      <td>240.0</td>\n",
       "    </tr>\n",
       "    <tr>\n",
       "      <th>10</th>\n",
       "      <td>2022-10-06</td>\n",
       "      <td>GOTTA GO, INC.</td>\n",
       "      <td>2.0</td>\n",
       "      <td>75.0</td>\n",
       "      <td>50.0</td>\n",
       "      <td>150.0</td>\n",
       "      <td>50.0</td>\n",
       "    </tr>\n",
       "    <tr>\n",
       "      <th>18</th>\n",
       "      <td>2022-09-22</td>\n",
       "      <td>GOTTA GO, INC.</td>\n",
       "      <td>2.0</td>\n",
       "      <td>75.0</td>\n",
       "      <td>50.0</td>\n",
       "      <td>150.0</td>\n",
       "      <td>50.0</td>\n",
       "    </tr>\n",
       "    <tr>\n",
       "      <th>19</th>\n",
       "      <td>2022-09-20</td>\n",
       "      <td>GOTTA GO, INC. - TRACKING</td>\n",
       "      <td>1.0</td>\n",
       "      <td>75.0</td>\n",
       "      <td>50.0</td>\n",
       "      <td>75.0</td>\n",
       "      <td>25.0</td>\n",
       "    </tr>\n",
       "  </tbody>\n",
       "</table>\n",
       "</div>"
      ],
      "text/plain": [
       "   Transaction Date                   Customer  Qty  Price  Cost  Gross    Net\n",
       "1        2022-10-31  GOTTA GO, INC. - TRACKING  1.0   75.0  50.0   75.0   25.0\n",
       "8        2022-10-12  ERNST CONCRETE KENTUCKIAN  8.0   80.0  50.0  640.0  240.0\n",
       "10       2022-10-06             GOTTA GO, INC.  2.0   75.0  50.0  150.0   50.0\n",
       "18       2022-09-22             GOTTA GO, INC.  2.0   75.0  50.0  150.0   50.0\n",
       "19       2022-09-20  GOTTA GO, INC. - TRACKING  1.0   75.0  50.0   75.0   25.0"
      ]
     },
     "execution_count": 227,
     "metadata": {},
     "output_type": "execute_result"
    }
   ],
   "source": [
    "df1.head()"
   ]
  },
  {
   "cell_type": "code",
   "execution_count": 228,
   "metadata": {},
   "outputs": [
    {
     "name": "stderr",
     "output_type": "stream",
     "text": [
      "/opt/anaconda3/lib/python3.9/site-packages/openpyxl/styles/stylesheet.py:226: UserWarning: Workbook contains no default style, apply openpyxl's default\n",
      "  warn(\"Workbook contains no default style, apply openpyxl's default\")\n"
     ]
    }
   ],
   "source": [
    "df2 = pd.read_excel (r'373.xlsx',header=[3])\n",
    "df2.drop(columns=['Transaction Type', 'Reference Number', 'Customer Vendor #','Inventory Balance', 'Transaction Date.1','Reference Number.1', 'Created By', 'Created Date', 'Inventory Quantity','Transaction Type.1', 'Created Time', 'Last Changed By', 'Last Changed Date','Receiving PO Number', 'Last Changed Time' ], inplace=True)\n",
    "df2.rename(columns={'Customer/Vendor Name' : 'Customer', \"Transaction Date\" : 'Date', 'Non-Inventory Quantity' : 'Qty'}, inplace=True)\n",
    "df2 = df2[df2.Customer != \"TRANSFERS TO #372 J'VILLE\"]\n",
    "df2 = df2[df2.Customer != \"TRANSFERS TO #374 SEYMOUR\"]\n",
    "df2 = df2[df2.Customer != \"TRANSFERS TO #373 E-TOWN\"]\n",
    "df2 = df2[df2.Customer != \"TRANSFERS TO #375 S'VILLE\"]\n",
    "df2 = df2[df2.Customer != \"*** STORE TRANSFERS ***\"]\n",
    "df2 = df2[df2.Customer != \"Beginning Balance\"]\n",
    "df2 = df2[df2.Customer != 'Net Activity']\n",
    "df2 = df2[df2.Customer != 'Ending Balance']\n",
    "df2 = df2[df2.Customer != 'VOID']\n",
    "df2 = df2.dropna(how=\"all\")\n",
    "\n",
    "Gross = df2.Qty * df2.Price\n",
    "df2['Gross'] = Gross.where(df2.Price == 'Qty', other=Gross)\n",
    "\n",
    "Net = df2.Qty * df2.Cost \n",
    "df2['Net'] = Net.where(df2.Cost == 'Qty', other=Net)\n",
    "\n",
    "Net = df2.Gross - df2.Net \n",
    "df2['Net'] = Net.where(df2.Gross == \"Net\", other=Net)\n",
    "\n"
   ]
  },
  {
   "cell_type": "code",
   "execution_count": 229,
   "metadata": {},
   "outputs": [
    {
     "data": {
      "text/html": [
       "<div>\n",
       "<style scoped>\n",
       "    .dataframe tbody tr th:only-of-type {\n",
       "        vertical-align: middle;\n",
       "    }\n",
       "\n",
       "    .dataframe tbody tr th {\n",
       "        vertical-align: top;\n",
       "    }\n",
       "\n",
       "    .dataframe thead th {\n",
       "        text-align: right;\n",
       "    }\n",
       "</style>\n",
       "<table border=\"1\" class=\"dataframe\">\n",
       "  <thead>\n",
       "    <tr style=\"text-align: right;\">\n",
       "      <th></th>\n",
       "      <th>Date</th>\n",
       "      <th>Customer</th>\n",
       "      <th>Qty</th>\n",
       "      <th>Price</th>\n",
       "      <th>Cost</th>\n",
       "      <th>Gross</th>\n",
       "      <th>Net</th>\n",
       "    </tr>\n",
       "  </thead>\n",
       "  <tbody>\n",
       "    <tr>\n",
       "      <th>1</th>\n",
       "      <td>2022-07-20</td>\n",
       "      <td>BROTHERS FARMS</td>\n",
       "      <td>3.0</td>\n",
       "      <td>80.0</td>\n",
       "      <td>50.0</td>\n",
       "      <td>240.0</td>\n",
       "      <td>90.0</td>\n",
       "    </tr>\n",
       "    <tr>\n",
       "      <th>3</th>\n",
       "      <td>2022-04-20</td>\n",
       "      <td>REPUBLIC SERVICES, INC. 3058</td>\n",
       "      <td>8.0</td>\n",
       "      <td>75.0</td>\n",
       "      <td>50.0</td>\n",
       "      <td>600.0</td>\n",
       "      <td>200.0</td>\n",
       "    </tr>\n",
       "    <tr>\n",
       "      <th>4</th>\n",
       "      <td>2022-04-06</td>\n",
       "      <td>BROTHERS FARMS</td>\n",
       "      <td>3.0</td>\n",
       "      <td>75.0</td>\n",
       "      <td>50.0</td>\n",
       "      <td>225.0</td>\n",
       "      <td>75.0</td>\n",
       "    </tr>\n",
       "    <tr>\n",
       "      <th>7</th>\n",
       "      <td>2022-02-22</td>\n",
       "      <td>BROTHERS FARMS</td>\n",
       "      <td>6.0</td>\n",
       "      <td>75.0</td>\n",
       "      <td>50.0</td>\n",
       "      <td>450.0</td>\n",
       "      <td>150.0</td>\n",
       "    </tr>\n",
       "    <tr>\n",
       "      <th>8</th>\n",
       "      <td>2022-01-27</td>\n",
       "      <td>REPUBLIC SERVICES, INC. 3058</td>\n",
       "      <td>15.0</td>\n",
       "      <td>75.0</td>\n",
       "      <td>50.0</td>\n",
       "      <td>1125.0</td>\n",
       "      <td>375.0</td>\n",
       "    </tr>\n",
       "  </tbody>\n",
       "</table>\n",
       "</div>"
      ],
      "text/plain": [
       "        Date                      Customer   Qty  Price  Cost   Gross    Net\n",
       "1 2022-07-20                BROTHERS FARMS   3.0   80.0  50.0   240.0   90.0\n",
       "3 2022-04-20  REPUBLIC SERVICES, INC. 3058   8.0   75.0  50.0   600.0  200.0\n",
       "4 2022-04-06                BROTHERS FARMS   3.0   75.0  50.0   225.0   75.0\n",
       "7 2022-02-22                BROTHERS FARMS   6.0   75.0  50.0   450.0  150.0\n",
       "8 2022-01-27  REPUBLIC SERVICES, INC. 3058  15.0   75.0  50.0  1125.0  375.0"
      ]
     },
     "execution_count": 229,
     "metadata": {},
     "output_type": "execute_result"
    }
   ],
   "source": [
    "df2.head()"
   ]
  },
  {
   "cell_type": "code",
   "execution_count": 230,
   "metadata": {},
   "outputs": [
    {
     "name": "stderr",
     "output_type": "stream",
     "text": [
      "/opt/anaconda3/lib/python3.9/site-packages/openpyxl/styles/stylesheet.py:226: UserWarning: Workbook contains no default style, apply openpyxl's default\n",
      "  warn(\"Workbook contains no default style, apply openpyxl's default\")\n"
     ]
    }
   ],
   "source": [
    "df3 = pd.read_excel (r'374.xlsx',header=[3])\n",
    "df3.drop(columns=['Transaction Type', 'Reference Number', 'Customer Vendor #','Inventory Balance', 'Transaction Date.1','Reference Number.1', 'Created By', 'Created Date', 'Inventory Quantity','Transaction Type.1', 'Created Time', 'Last Changed By', 'Last Changed Date','Receiving PO Number', 'Last Changed Time' ], inplace=True)\n",
    "df3.rename(columns={'Customer/Vendor Name' : 'Customer','Non-Inventory Quantity': 'Qty'}, inplace=True)\n",
    "df3 = df3[df3.Customer != \"TRANSFERS TO #372 J'VILLE\"]\n",
    "df3 = df3[df3.Customer != \"TRANSFERS TO #374 SEYMOUR\"]\n",
    "df3 = df3[df3.Customer != \"TRANSFERS TO #373 E-TOWN\"]\n",
    "df3 = df3[df3.Customer != \"TRANSFERS TO #375 S'VILLE\"]\n",
    "df3 = df3[df3.Customer != \"*** STORE TRANSFERS ***\"]\n",
    "df3 = df3[df3.Customer != \"Beginning Balance\"]\n",
    "df3 = df3[df3.Customer != 'Net Activity']\n",
    "df3 = df3[df3.Customer != 'Ending Balance']\n",
    "df3 = df3[df3.Customer != 'VOID']\n",
    "df3 = df3.dropna(how=\"all\")\n",
    "\n",
    "Gross = df3.Qty * df3.Price\n",
    "df3['Gross'] = Gross.where(df3.Price == 'Qty', other=Gross)\n",
    "\n",
    "Net = df3.Qty * df3.Cost \n",
    "df3['Net'] = Net.where(df3.Cost == 'Qty', other=Net)\n",
    "\n",
    "Net = df3.Gross - df3.Net \n",
    "df3['Net'] = Net.where(df3.Gross == \"Net\", other=Net)"
   ]
  },
  {
   "cell_type": "code",
   "execution_count": 231,
   "metadata": {},
   "outputs": [
    {
     "data": {
      "text/html": [
       "<div>\n",
       "<style scoped>\n",
       "    .dataframe tbody tr th:only-of-type {\n",
       "        vertical-align: middle;\n",
       "    }\n",
       "\n",
       "    .dataframe tbody tr th {\n",
       "        vertical-align: top;\n",
       "    }\n",
       "\n",
       "    .dataframe thead th {\n",
       "        text-align: right;\n",
       "    }\n",
       "</style>\n",
       "<table border=\"1\" class=\"dataframe\">\n",
       "  <thead>\n",
       "    <tr style=\"text-align: right;\">\n",
       "      <th></th>\n",
       "      <th>Transaction Date</th>\n",
       "      <th>Customer</th>\n",
       "      <th>Qty</th>\n",
       "      <th>Price</th>\n",
       "      <th>Cost</th>\n",
       "      <th>Gross</th>\n",
       "      <th>Net</th>\n",
       "    </tr>\n",
       "  </thead>\n",
       "  <tbody>\n",
       "    <tr>\n",
       "      <th>2</th>\n",
       "      <td>2022-09-21</td>\n",
       "      <td>NORTH VERNON BEVERAGE</td>\n",
       "      <td>3.0</td>\n",
       "      <td>75.0</td>\n",
       "      <td>50.0</td>\n",
       "      <td>225.0</td>\n",
       "      <td>75.0</td>\n",
       "    </tr>\n",
       "    <tr>\n",
       "      <th>10</th>\n",
       "      <td>2022-05-26</td>\n",
       "      <td>R W TRANSPORT, INC</td>\n",
       "      <td>1.0</td>\n",
       "      <td>75.0</td>\n",
       "      <td>50.0</td>\n",
       "      <td>75.0</td>\n",
       "      <td>25.0</td>\n",
       "    </tr>\n",
       "    <tr>\n",
       "      <th>12</th>\n",
       "      <td>2022-05-12</td>\n",
       "      <td>R W TRANSPORT, INC</td>\n",
       "      <td>4.0</td>\n",
       "      <td>75.0</td>\n",
       "      <td>50.0</td>\n",
       "      <td>300.0</td>\n",
       "      <td>100.0</td>\n",
       "    </tr>\n",
       "    <tr>\n",
       "      <th>15</th>\n",
       "      <td>2022-04-30</td>\n",
       "      <td>NEW WAY TRANSPORTATION</td>\n",
       "      <td>2.0</td>\n",
       "      <td>65.0</td>\n",
       "      <td>50.0</td>\n",
       "      <td>130.0</td>\n",
       "      <td>30.0</td>\n",
       "    </tr>\n",
       "    <tr>\n",
       "      <th>16</th>\n",
       "      <td>2022-04-20</td>\n",
       "      <td>FOX FARMS</td>\n",
       "      <td>4.0</td>\n",
       "      <td>75.0</td>\n",
       "      <td>50.0</td>\n",
       "      <td>300.0</td>\n",
       "      <td>100.0</td>\n",
       "    </tr>\n",
       "  </tbody>\n",
       "</table>\n",
       "</div>"
      ],
      "text/plain": [
       "   Transaction Date                Customer  Qty  Price  Cost  Gross    Net\n",
       "2        2022-09-21   NORTH VERNON BEVERAGE  3.0   75.0  50.0  225.0   75.0\n",
       "10       2022-05-26      R W TRANSPORT, INC  1.0   75.0  50.0   75.0   25.0\n",
       "12       2022-05-12      R W TRANSPORT, INC  4.0   75.0  50.0  300.0  100.0\n",
       "15       2022-04-30  NEW WAY TRANSPORTATION  2.0   65.0  50.0  130.0   30.0\n",
       "16       2022-04-20               FOX FARMS  4.0   75.0  50.0  300.0  100.0"
      ]
     },
     "execution_count": 231,
     "metadata": {},
     "output_type": "execute_result"
    }
   ],
   "source": [
    "df3.head()"
   ]
  },
  {
   "cell_type": "code",
   "execution_count": 232,
   "metadata": {},
   "outputs": [
    {
     "name": "stderr",
     "output_type": "stream",
     "text": [
      "/opt/anaconda3/lib/python3.9/site-packages/openpyxl/styles/stylesheet.py:226: UserWarning: Workbook contains no default style, apply openpyxl's default\n",
      "  warn(\"Workbook contains no default style, apply openpyxl's default\")\n"
     ]
    }
   ],
   "source": [
    "df4 = pd.read_excel (r'375.xlsx',header=[3])\n",
    "df4.drop(columns=['Transaction Type', 'Reference Number', 'Customer Vendor #','Inventory Balance', 'Transaction Date.1','Reference Number.1', 'Created By', 'Created Date', 'Inventory Quantity','Transaction Type.1', 'Created Time', 'Last Changed By', 'Last Changed Date','Receiving PO Number', 'Last Changed Time' ], inplace=True)\n",
    "df4.rename(columns={'Customer/Vendor Name' : 'Customer', 'Non-Inventory Quantity': 'Qty'}, inplace=True)\n",
    "df4 = df4[df4.Customer != \"TRANSFERS TO #372 J'VILLE\"]\n",
    "df4 = df4[df4.Customer != \"TRANSFERS TO #374 SEYMOUR\"]\n",
    "df4 = df4[df4.Customer != \"TRANSFERS TO #373 E-TOWN\"]\n",
    "df4 = df4[df4.Customer != \"TRANSFERS TO #375 S'VILLE\"]\n",
    "df4 = df4[df4.Customer != \"*** STORE TRANSFERS ***\"]\n",
    "df4 = df4[df4.Customer != \"Beginning Balance\"]\n",
    "df4 = df4[df4.Customer != 'Net Activity']\n",
    "df4 = df4[df4.Customer != 'Ending Balance']\n",
    "df4 = df4[df4.Customer != 'VOID']\n",
    "df4 = df4.dropna(how=\"all\")\n",
    "\n",
    "Gross = df4.Qty * df4.Price\n",
    "df4['Gross'] = Gross.where(df4.Price == 'Qty', other=Gross)\n",
    "\n",
    "Net = df4.Qty * df4.Cost \n",
    "df4['Net'] = Net.where(df4.Cost == 'Qty', other=Net)\n",
    "\n",
    "Net = df4.Gross - df4.Net \n",
    "df4['Net'] = Net.where(df4.Gross == \"Net\", other=Net)\n"
   ]
  },
  {
   "cell_type": "code",
   "execution_count": 233,
   "metadata": {},
   "outputs": [
    {
     "data": {
      "text/html": [
       "<div>\n",
       "<style scoped>\n",
       "    .dataframe tbody tr th:only-of-type {\n",
       "        vertical-align: middle;\n",
       "    }\n",
       "\n",
       "    .dataframe tbody tr th {\n",
       "        vertical-align: top;\n",
       "    }\n",
       "\n",
       "    .dataframe thead th {\n",
       "        text-align: right;\n",
       "    }\n",
       "</style>\n",
       "<table border=\"1\" class=\"dataframe\">\n",
       "  <thead>\n",
       "    <tr style=\"text-align: right;\">\n",
       "      <th></th>\n",
       "      <th>Transaction Date</th>\n",
       "      <th>Customer</th>\n",
       "      <th>Qty</th>\n",
       "      <th>Price</th>\n",
       "      <th>Cost</th>\n",
       "      <th>Gross</th>\n",
       "      <th>Net</th>\n",
       "    </tr>\n",
       "  </thead>\n",
       "  <tbody>\n",
       "    <tr>\n",
       "      <th>0</th>\n",
       "      <td>2022-11-17</td>\n",
       "      <td>HARROD TRANSPORT</td>\n",
       "      <td>4.0</td>\n",
       "      <td>75.0</td>\n",
       "      <td>50.0</td>\n",
       "      <td>300.0</td>\n",
       "      <td>100.0</td>\n",
       "    </tr>\n",
       "  </tbody>\n",
       "</table>\n",
       "</div>"
      ],
      "text/plain": [
       "  Transaction Date          Customer  Qty  Price  Cost  Gross    Net\n",
       "0       2022-11-17  HARROD TRANSPORT  4.0   75.0  50.0  300.0  100.0"
      ]
     },
     "execution_count": 233,
     "metadata": {},
     "output_type": "execute_result"
    }
   ],
   "source": [
    "df4.head()"
   ]
  },
  {
   "cell_type": "code",
   "execution_count": 222,
   "metadata": {},
   "outputs": [
    {
     "name": "stderr",
     "output_type": "stream",
     "text": [
      "/opt/anaconda3/lib/python3.9/site-packages/openpyxl/styles/stylesheet.py:226: UserWarning: Workbook contains no default style, apply openpyxl's default\n",
      "  warn(\"Workbook contains no default style, apply openpyxl's default\")\n"
     ]
    }
   ],
   "source": [
    "\n",
    "df5 = pd.read_excel (r'376.xlsx',header=[3])\n",
    "\n",
    "df5.drop(columns=['Transaction Type', 'Reference Number', 'Customer Vendor #','Inventory Balance', 'Transaction Date.1','Reference Number.1', 'Created By', 'Created Date', 'Inventory Quantity','Transaction Type.1', 'Created Time', 'Last Changed By', 'Last Changed Date','Receiving PO Number', 'Last Changed Time' ], inplace=True)\n",
    "\n",
    "df5.rename(columns={'Customer/Vendor Name' : 'Customer', 'Non-Inventory Quantity': 'Qty'}, inplace=True)\n",
    "\n",
    "df5 = df5[df5.Customer != \"TRANSFERS TO #372 J'VILLE\"]\n",
    "df5 = df5[df5.Customer != \"TRANSFERS TO #374 SEYMOUR\"]\n",
    "df5 = df5[df5.Customer != \"TRANSFERS TO #373 E-TOWN\"]\n",
    "df5 = df5[df5.Customer != \"TRANSFERS TO #375 S'VILLE\"]\n",
    "df5 = df5[df5.Customer != \"*** STORE TRANSFERS ***\"]\n",
    "df5 = df5[df5.Customer != \"Beginning Balance\"]\n",
    "df5 = df5[df5.Customer != 'Net Activity']\n",
    "df5 = df5[df5.Customer != 'Ending Balance']\n",
    "df5 = df5[df5.Customer != 'VOID']\n",
    "df5 = df5.dropna(how=\"all\")\n",
    "\n",
    "Gross = df5.Qty * df5.Price\n",
    "df5['Gross'] = Gross.where(df5.Price == 'Qty', other=Gross)\n",
    "\n",
    "Net = df5.Qty * df5.Cost \n",
    "df5['Net'] = Net.where(df5.Cost == 'Qty', other=Net)\n",
    "\n",
    "Net = df5.Gross - df5.Net \n",
    "df5['Net'] = Net.where(df5.Gross == \"Net\", other=Net)"
   ]
  },
  {
   "cell_type": "code",
   "execution_count": 223,
   "metadata": {},
   "outputs": [
    {
     "data": {
      "text/html": [
       "<div>\n",
       "<style scoped>\n",
       "    .dataframe tbody tr th:only-of-type {\n",
       "        vertical-align: middle;\n",
       "    }\n",
       "\n",
       "    .dataframe tbody tr th {\n",
       "        vertical-align: top;\n",
       "    }\n",
       "\n",
       "    .dataframe thead th {\n",
       "        text-align: right;\n",
       "    }\n",
       "</style>\n",
       "<table border=\"1\" class=\"dataframe\">\n",
       "  <thead>\n",
       "    <tr style=\"text-align: right;\">\n",
       "      <th></th>\n",
       "      <th>Transaction Date</th>\n",
       "      <th>Customer</th>\n",
       "      <th>Qty</th>\n",
       "      <th>Price</th>\n",
       "      <th>Cost</th>\n",
       "      <th>Gross</th>\n",
       "      <th>Net</th>\n",
       "    </tr>\n",
       "  </thead>\n",
       "  <tbody>\n",
       "    <tr>\n",
       "      <th>3</th>\n",
       "      <td>2022-11-16</td>\n",
       "      <td>PENSKE #5471 - JEFFVILLE</td>\n",
       "      <td>2.0</td>\n",
       "      <td>75.0</td>\n",
       "      <td>50.0</td>\n",
       "      <td>150.0</td>\n",
       "      <td>50.0</td>\n",
       "    </tr>\n",
       "    <tr>\n",
       "      <th>4</th>\n",
       "      <td>2022-11-16</td>\n",
       "      <td>PENSKE #0456 - LOUISVILLE</td>\n",
       "      <td>3.0</td>\n",
       "      <td>75.0</td>\n",
       "      <td>50.0</td>\n",
       "      <td>225.0</td>\n",
       "      <td>75.0</td>\n",
       "    </tr>\n",
       "    <tr>\n",
       "      <th>5</th>\n",
       "      <td>2022-11-16</td>\n",
       "      <td>PENSKE #6409-10 - DERBY CITY</td>\n",
       "      <td>1.0</td>\n",
       "      <td>75.0</td>\n",
       "      <td>50.0</td>\n",
       "      <td>75.0</td>\n",
       "      <td>25.0</td>\n",
       "    </tr>\n",
       "    <tr>\n",
       "      <th>6</th>\n",
       "      <td>2022-11-16</td>\n",
       "      <td>WASTE MANAGEMENT,INC</td>\n",
       "      <td>6.0</td>\n",
       "      <td>75.0</td>\n",
       "      <td>50.0</td>\n",
       "      <td>450.0</td>\n",
       "      <td>150.0</td>\n",
       "    </tr>\n",
       "    <tr>\n",
       "      <th>7</th>\n",
       "      <td>2022-11-16</td>\n",
       "      <td>PENSKE #5471 - JEFFVILLE</td>\n",
       "      <td>1.0</td>\n",
       "      <td>75.0</td>\n",
       "      <td>50.0</td>\n",
       "      <td>75.0</td>\n",
       "      <td>25.0</td>\n",
       "    </tr>\n",
       "  </tbody>\n",
       "</table>\n",
       "</div>"
      ],
      "text/plain": [
       "  Transaction Date                      Customer  Qty  Price  Cost  Gross  \\\n",
       "3       2022-11-16      PENSKE #5471 - JEFFVILLE  2.0   75.0  50.0  150.0   \n",
       "4       2022-11-16     PENSKE #0456 - LOUISVILLE  3.0   75.0  50.0  225.0   \n",
       "5       2022-11-16  PENSKE #6409-10 - DERBY CITY  1.0   75.0  50.0   75.0   \n",
       "6       2022-11-16          WASTE MANAGEMENT,INC  6.0   75.0  50.0  450.0   \n",
       "7       2022-11-16      PENSKE #5471 - JEFFVILLE  1.0   75.0  50.0   75.0   \n",
       "\n",
       "     Net  \n",
       "3   50.0  \n",
       "4   75.0  \n",
       "5   25.0  \n",
       "6  150.0  \n",
       "7   25.0  "
      ]
     },
     "execution_count": 223,
     "metadata": {},
     "output_type": "execute_result"
    }
   ],
   "source": [
    "df5.head(5)"
   ]
  },
  {
   "cell_type": "code",
   "execution_count": 234,
   "metadata": {},
   "outputs": [
    {
     "name": "stdout",
     "output_type": "stream",
     "text": [
      "{'372_Gross': 14745.0, '372_net': 4845.0, '373_Gross': 3260.0, '373_net': 1110.0, '374_Gross': 3765.0, '374_net': 1415.0, '375_Gross': 300.0, '375_net': 100.0, '376_Gross': 83650.36, '376_net': 25450.36}\n"
     ]
    }
   ],
   "source": [
    "Net_Gross = {\n",
    "    '372_Gross' : df1['Gross'].sum(),\n",
    "    '372_net' : df1['Net'].sum(),\n",
    "    '373_Gross' : df2['Gross'].sum(),\n",
    "    '373_net' : df2['Net'].sum(),\n",
    "    '374_Gross' : df3['Gross'].sum(),\n",
    "    '374_net' : df3['Net'].sum(),\n",
    "    '375_Gross' : df4['Gross'].sum(),\n",
    "    '375_net' : df4['Net'].sum(),\n",
    "    '376_Gross' : df5['Gross'].sum(),\n",
    "    '376_net' : df5['Net'].sum(),\n",
    "}\n",
    "\n",
    "print(Net_Gross)"
   ]
  },
  {
   "cell_type": "code",
   "execution_count": null,
   "metadata": {},
   "outputs": [],
   "source": []
  },
  {
   "cell_type": "code",
   "execution_count": null,
   "metadata": {},
   "outputs": [
    {
     "data": {
      "text/plain": [
       "Customer\n",
       "A&S TRUCK RD SERVICE LLC         3\n",
       "BEST-ONE BOWLING GREEN           7\n",
       "CUNDIFF STEEL ERECTORS IN        1\n",
       "ELLIS LLC                        1\n",
       "ERNST CONCRETE KENTUCKIAN        6\n",
       "EXIE MAY FARMS                   1\n",
       "FOUR SOLUTIONS LLC               3\n",
       "GARY JOHNSON TRUCKING, IN        1\n",
       "GENTRY COACH                     1\n",
       "HILL TRANSPORTATION INC.         3\n",
       "LEWIS TRANSPORT                  1\n",
       "M & M CARTAGE CO., INC.         37\n",
       "PENSKE #0456 - LOUISVILLE       78\n",
       "PENSKE #0470 - E. LVILLE        88\n",
       "PENSKE #5471 - JEFFVILLE        29\n",
       "PENSKE #6409-10 - DERBY CITY     2\n",
       "REPUBLIC SERVICES, INC. 3077     7\n",
       "SMITH CREEK LOGISTICS            1\n",
       "US LINE                          1\n",
       "VITCO INC                        1\n",
       "WASTE MANAGEMENT,INC            17\n",
       "Name: Qty, dtype: int64"
      ]
     },
     "execution_count": 211,
     "metadata": {},
     "output_type": "execute_result"
    }
   ],
   "source": [
    "df5.groupby([\"Customer\"])[\"Qty\"].agg('count')\n"
   ]
  }
 ],
 "metadata": {
  "kernelspec": {
   "display_name": "Python 3.9.7 ('base')",
   "language": "python",
   "name": "python3"
  },
  "language_info": {
   "codemirror_mode": {
    "name": "ipython",
    "version": 3
   },
   "file_extension": ".py",
   "mimetype": "text/x-python",
   "name": "python",
   "nbconvert_exporter": "python",
   "pygments_lexer": "ipython3",
   "version": "3.9.7"
  },
  "orig_nbformat": 4,
  "vscode": {
   "interpreter": {
    "hash": "40d3a090f54c6569ab1632332b64b2c03c39dcf918b08424e98f38b5ae0af88f"
   }
  }
 },
 "nbformat": 4,
 "nbformat_minor": 2
}
